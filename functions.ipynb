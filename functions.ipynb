{
 "cells": [
  {
   "cell_type": "code",
   "execution_count": null,
   "metadata": {},
   "outputs": [],
   "source": [
    "import statsmodels.stats.proportion as stm \n",
    "import scipy.stats as st"
   ]
  },
  {
   "cell_type": "code",
   "execution_count": 6,
   "metadata": {},
   "outputs": [
    {
     "ename": "AttributeError",
     "evalue": "module 'statsmodels.stats.proportion' has no attribute '_zconfint_generic'",
     "output_type": "error",
     "traceback": [
      "\u001b[1;31m---------------------------------------------------------------------------\u001b[0m",
      "\u001b[1;31mAttributeError\u001b[0m                            Traceback (most recent call last)",
      "Cell \u001b[1;32mIn [6], line 1\u001b[0m\n\u001b[1;32m----> 1\u001b[0m stm\u001b[39m.\u001b[39;49m_zconfint_generic(\n\u001b[0;32m      2\u001b[0m     \u001b[39m# summary statistic\u001b[39;00m\n\u001b[0;32m      3\u001b[0m     \u001b[39m# std_error\u001b[39;00m\n\u001b[0;32m      4\u001b[0m     \u001b[39m# alpha\u001b[39;00m\n\u001b[0;32m      5\u001b[0m     \u001b[39m# alternative hypothesis\u001b[39;00m\n\u001b[0;32m      6\u001b[0m         \u001b[39m# two-sided\u001b[39;00m\n\u001b[0;32m      7\u001b[0m         \u001b[39m# larger \u001b[39;00m\n\u001b[0;32m      8\u001b[0m         \u001b[39m# smaller\u001b[39;00m\n\u001b[0;32m      9\u001b[0m )\n\u001b[0;32m     12\u001b[0m stm\u001b[39m.\u001b[39mproportion_confint(    \u001b[39m# -> ci_low, ci_upp\u001b[39;00m\n\u001b[0;32m     13\u001b[0m     \u001b[39m# count\u001b[39;00m\n\u001b[0;32m     14\u001b[0m     \u001b[39m# number of observations (nobs)\u001b[39;00m\n\u001b[1;32m   (...)\u001b[0m\n\u001b[0;32m     21\u001b[0m         \u001b[39m# binom_test (numerical inversion of binom_test)\u001b[39;00m\n\u001b[0;32m     22\u001b[0m )\n",
      "\u001b[1;31mAttributeError\u001b[0m: module 'statsmodels.stats.proportion' has no attribute '_zconfint_generic'"
     ]
    }
   ],
   "source": [
    "stm._zconfint_generic(\n",
    "    # summary statistic\n",
    "    # std_error\n",
    "    # alpha\n",
    "    # alternative hypothesis\n",
    "        # two-sided\n",
    "        # larger \n",
    "        # smaller\n",
    ")\n",
    "\n",
    "\n",
    "stm.proportion_confint(    # -> ci_low, ci_upp\n",
    "    # count\n",
    "    # number of observations (nobs)\n",
    "    # alpha\n",
    "    # method\n",
    "        # normal (asymptotic normal approximation)\n",
    "        # beta (Clopper-Perason interval based on beta distribution)\n",
    "        # wilson (Wilson Score interval)\n",
    "        # jeffreys (Jeffreys Bayesian interval)\n",
    "        # binom_test (numerical inversion of binom_test)\n",
    ")"
   ]
  },
  {
   "cell_type": "code",
   "execution_count": null,
   "metadata": {},
   "outputs": [],
   "source": [
    "\n",
    "\n",
    "sample = 1\n",
    "x_bar = st.tmean(sample)\n",
    "s = st.tstd(sample)\n",
    "\n",
    "# one sample t-test\n",
    "t_stats, p_val = st.ttest_1samp(sample, 88, alternative='greater')\n",
    "\n",
    "# two sample t-test\n",
    "t_stats, p_val = st.ttest_ind_from_stats(\n",
    "    x_bar1, s1, n1, \n",
    "    x_bar2, s2, n2, \n",
    "    equal_var=False, \n",
    "    alternative='two-sided'\n",
    ")\n",
    "\n",
    "# z-score (assuming 95% Confidence Level)\n",
    "z_score = st.norm.ppf(q = 0.975)\n",
    "\n",
    "# confidence interval of a mean\n",
    "ci_low_stm, ci_upp_stm = stm._zconfint_generic(\n",
    "    x_bar,std_err,\n",
    "    alpha=0.05, \n",
    "    alternative=\"two-sided\"\n",
    ")\n",
    "\n",
    "# confidence interval of a proportion\n",
    "ci_low, ci_upp = stm.proportion_confint(\n",
    "    prop,   # number of successes\n",
    "    total,  # number of trials  \n",
    "    alpha=sig_lvl, \n",
    "    method=\"normal\"\n",
    ")"
   ]
  }
 ],
 "metadata": {
  "language_info": {
   "name": "python"
  },
  "orig_nbformat": 4
 },
 "nbformat": 4,
 "nbformat_minor": 2
}
