{
 "cells": [
  {
   "attachments": {},
   "cell_type": "markdown",
   "metadata": {},
   "source": [
    "## Basic Testing Paradigm\n",
    "\n",
    "Functional tests follow the format:\n",
    "\n",
    "1. **Arrange**, or set up, the conditions of the test\n",
    "2. **Act** by calling some function or method\n",
    "3. **Assert** that some end condition is true"
   ]
  },
  {
   "attachments": {},
   "cell_type": "markdown",
   "metadata": {},
   "source": [
    "## Python's unittest module\n",
    "\n",
    "``` mermaid\n",
    "classDiagram\n",
    "  class TestCase\n",
    "  class TestLoader\n",
    "  class TestRunner\n",
    "  class TextTestRunner\n",
    "  TestCase <.. TestLoader: retrieves 'test_' methods and TestCase class\n",
    "  TestCase <.. TestRunner: runs test methods\n",
    "  TestLoader <-- TestRunner: uses TestSuite output \n",
    "  TestRunner <|-- TextTestRunner\n",
    "```\n",
    "\n",
    "``` python\n",
    "class MyTestCase(TestCase):\n",
    "  def test_first(self):\n",
    "    ...\n",
    "\n",
    "test_loader = TestLoader()\n",
    "\n",
    "# TestLoader discovers all test methods of TestCase\n",
    "test_methods = test_loader.getTestCaseNames(MyTestCase)\n",
    "\n",
    "# TestLoader loads all test methods into a test suite.\n",
    "tests = test_loader.loadTestsFromNames(test_methods, MyTestCase)\n",
    "\n",
    "# TestRunner processes the TestSuite output of TestLoader (running the tests)\n",
    "test_runner = TextTestRunner()\n",
    "test_runner.run(tests)\n",
    "```"
   ]
  },
  {
   "attachments": {},
   "cell_type": "markdown",
   "metadata": {},
   "source": [
    "## Test Filtering options\n",
    "\n",
    "1. name-based filtering \n",
    "\n",
    "        -k (keyword)\n",
    "\n",
    "2. directory scoping\n",
    "\n",
    "        -p (path)\n",
    "\n",
    "3. category filtering \n",
    "\n",
    "        -m (mark)\n",
    "        @pytest.mark.category1"
   ]
  },
  {
   "attachments": {},
   "cell_type": "markdown",
   "metadata": {},
   "source": [
    "## Test Parameterization\n",
    "\n",
    "### Introduction\n",
    "- **what?** run test multiple times with different input\n",
    "- **how?** uses `pytest.mark.paramaterize` decorator\n",
    "- **why?** makes test more comprehensive and less repetitive\n",
    "\n",
    "### Basic Usage\n",
    "- import\n",
    "- decorate test function\n",
    "- supply arguments\n",
    "    - comma-separated string: name of arguments\n",
    "    - iterable: values to be passed to arguments\n",
    "\n",
    "``` python\n",
    "@pytest.mark.parametrize(\"test_input,expected\", [(\"3+5\", 8), (\"2+4\", 6), (\"6*9\", 54)])\n",
    "def test_eval(test_input, expected):\n",
    "    assert eval(test_input) == expected\n",
    "```\n",
    "\n",
    "### Advanced Usage\n",
    "\n",
    "### Common Pitfalls\n",
    "- not including correct number of arguments in test function (must be an argument for each item in the iterable)\n",
    "\n",
    "- forgetting to use `indirect=True` when parameterizing fixtures, which causes the test function to receive the fixture itself instead of the result\n",
    "\n",
    "- not including `ids` parameter and making test output less readable"
   ]
  },
  {
   "attachments": {},
   "cell_type": "markdown",
   "metadata": {},
   "source": [
    "## Plugin-based Architecture"
   ]
  },
  {
   "attachments": {},
   "cell_type": "markdown",
   "metadata": {},
   "source": [
    "## Fixtures: Managing State and Dependencies\n",
    "\n",
    "**GREAT FOR** extracting data or objects used across multiple objects.\n",
    "\n",
    "**NOT GREAT FOR** tests run with slight variations in data."
   ]
  },
  {
   "cell_type": "code",
   "execution_count": 1,
   "metadata": {},
   "outputs": [],
   "source": [
    "import pytest\n",
    "\n",
    "@pytest.fixture\n",
    "def people_data():\n",
    "        return []\n",
    "\n",
    "def test_format_data_excel(people_data):\n",
    "        assert format_data_excel(people_data) == ''\n",
    "\n",
    "def test_format_data_pdf(people_data):\n",
    "        assert format_data_pdf(people_data) == ''\n"
   ]
  },
  {
   "attachments": {},
   "cell_type": "markdown",
   "metadata": {},
   "source": [
    "## Marks: Categorising Tests\n",
    "\n",
    "Marks are used to tag functions or methods with custom metadata. The metadata can be used to selectively run subsets of tests.\n",
    "\n",
    "` @pytest.mark.name_of_the_mark`\n",
    "\n",
    "### Pre-defined marks\n",
    "| Mark       | Explanation  | Common Uses |\n",
    "| -----------|:-------------|:------------|\n",
    "| `skip`     | Indicates that a test should be skipped. | Test not yet implemented, necessary dependencies are not present. |\n",
    "| `skipif`   | Indicates that a test should be skipped if a certain condition is met. | Test functionality that is only available on certain platforms or with certain configurations. |\n",
    "| `xfail`    | Indicates that a test is expected to fail. | Testing an unimplemented or broken feature.|\n",
    "| `parametrize`| Runs a test multiple times with different input arguments. | Test different cases by running same test function with different inputs.|\n",
    "| `usefixtures`| Indicates that a test should use one or more fixtures. | Reusing setup and cleanup methods across tests.|\n",
    "\n",
    "\n"
   ]
  },
  {
   "cell_type": "code",
   "execution_count": null,
   "metadata": {},
   "outputs": [],
   "source": []
  },
  {
   "cell_type": "code",
   "execution_count": null,
   "metadata": {},
   "outputs": [],
   "source": []
  }
 ],
 "metadata": {
  "kernelspec": {
   "display_name": "venv",
   "language": "python",
   "name": "python3"
  },
  "language_info": {
   "codemirror_mode": {
    "name": "ipython",
    "version": 3
   },
   "file_extension": ".py",
   "mimetype": "text/x-python",
   "name": "python",
   "nbconvert_exporter": "python",
   "pygments_lexer": "ipython3",
   "version": "3.10.5"
  },
  "orig_nbformat": 4,
  "vscode": {
   "interpreter": {
    "hash": "ee785f25c6376abf7d4e5e31850afcc7eccb0488cbfeae6ff61c32a52666a61c"
   }
  }
 },
 "nbformat": 4,
 "nbformat_minor": 2
}
