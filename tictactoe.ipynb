{
 "cells": [
  {
   "cell_type": "code",
   "execution_count": 1,
   "metadata": {},
   "outputs": [],
   "source": [
    "import numpy as np\n",
    "from random import randrange\n",
    "\n",
    "BOARD = [\n",
    "    ['1','2','3',],\n",
    "    ['4','5','6',],\n",
    "    ['7','8','9',],\n",
    "]\n",
    "\n",
    "horizontal_rule = (\n",
    "     f\"+{'':-^7}\" * 3 \n",
    "    + \"+\"\n",
    ") \n",
    "\n",
    "column = (\n",
    "    f\"|{'': ^7}\" * 3\n",
    "    + \"|\"\n",
    ")\n",
    "\n",
    "empty_line = ' ' * len(horizontal_rule)\n",
    "\n",
    "def display_board(board):\n",
    "    \n",
    "    HORIZONTAL_RULE = (\n",
    "        f\"+{'':-^7}\" * 3 \n",
    "        + \"+\"\n",
    "    ) \n",
    "    \n",
    "    column_third = list(\n",
    "        f\"|{'': ^7}\"\n",
    "    )\n",
    "\n",
    "    columns = (\n",
    "        f\"|{'': ^7}\" * 3\n",
    "        + \"|\"\n",
    "    )        \n",
    "\n",
    "    for row in board:\n",
    "        print(HORIZONTAL_RULE, end='\\n')\n",
    "        print(columns)\n",
    "        row_of_markers = ''\n",
    "        for marker in row:\n",
    "            column_third[4] = marker\n",
    "            print(''.join(column_third), end='')\n",
    "        print('|\\n' + columns)\n",
    "  \n",
    "    print(HORIZONTAL_RULE)\n",
    "\n",
    "\n",
    "def draw_move(board):\n",
    "    while True:\n",
    "        move = randrange(0,9)\n",
    "        if board[move//3][move%3].isnumeric():\n",
    "            board[move][move] = 'X'\n",
    "            break\n",
    "\n",
    "    display_board(board)\n",
    "\n",
    "def enter_move(board):\n",
    "    while True:\n",
    "        try:\n",
    "            ...\n",
    "        except:\n",
    "            ...\n",
    "    display_board(board)"
   ]
  },
  {
   "cell_type": "code",
   "execution_count": 54,
   "metadata": {},
   "outputs": [
    {
     "name": "stdout",
     "output_type": "stream",
     "text": [
      "[1, 2, 3]\n",
      "[2, 3]\n",
      "[2, 3]\n"
     ]
    }
   ],
   "source": [
    "list_ = [1,2,3]\n",
    "\n",
    "def delete_first_item(list_):\n",
    "    del list_[0]\n",
    "    print(list_)\n",
    "\n",
    "print(list_)\n",
    "delete_first_item(list_)\n",
    "print(list_)"
   ]
  },
  {
   "cell_type": "code",
   "execution_count": 80,
   "metadata": {},
   "outputs": [
    {
     "name": "stdout",
     "output_type": "stream",
     "text": [
      "2"
     ]
    }
   ],
   "source": [
    "def any():\n",
    "    print(var + 1, end='')\n",
    "var = 1\n",
    "any()\n",
    "print(var)"
   ]
  },
  {
   "cell_type": "code",
   "execution_count": 84,
   "metadata": {},
   "outputs": [
    {
     "data": {
      "text/plain": [
       "['Mary', 'had', 'a', 'ram']"
      ]
     },
     "execution_count": 84,
     "metadata": {},
     "output_type": "execute_result"
    }
   ],
   "source": [
    "rhyme = 'Mary had a little lamb'.split()\n",
    "del rhyme[3]\n",
    "rhyme[3] = 'ram'\n",
    "rhyme"
   ]
  },
  {
   "cell_type": "code",
   "execution_count": 4,
   "metadata": {},
   "outputs": [
    {
     "name": "stdout",
     "output_type": "stream",
     "text": [
      "+-------+-------+-------+\n",
      "|       |       |       |\n",
      "|   1   |   2   |   3   |\n",
      "|       |       |       |\n",
      "+-------+-------+-------+\n",
      "|       |       |       |\n",
      "|   4   |   5   |   6   |\n",
      "|       |       |       |\n",
      "+-------+-------+-------+\n",
      "|       |       |       |\n",
      "|   7   |   8   |   9   |\n",
      "|       |       |       |\n",
      "+-------+-------+-------+\n"
     ]
    }
   ],
   "source": [
    "from tictactoe import display_board, BOARD\n",
    "\n",
    "display_board(BOARD)"
   ]
  },
  {
   "cell_type": "code",
   "execution_count": 1,
   "metadata": {},
   "outputs": [
    {
     "name": "stdout",
     "output_type": "stream",
     "text": [
      "+-------+-------+-------+\n",
      "|       |       |       |\n",
      "|   1   |   2   |   3   |\n",
      "|       |       |       |\n",
      "+-------+-------+-------+\n",
      "|       |       |       |\n",
      "|   4   |   5   |   6   |\n",
      "|       |       |       |\n",
      "+-------+-------+-------+\n",
      "|       |       |       |\n",
      "|   7   |   8   |   9   |\n",
      "|       |       |       |\n",
      "+-------+-------+-------+\n",
      "+-------+-------+-------+\n",
      "|       |       |       |\n",
      "|   1   |   2   |   3   |\n",
      "|       |       |       |\n",
      "+-------+-------+-------+\n",
      "|       |       |       |\n",
      "|   X   |   5   |   6   |\n",
      "|       |       |       |\n",
      "+-------+-------+-------+\n",
      "|       |       |       |\n",
      "|   7   |   8   |   9   |\n",
      "|       |       |       |\n",
      "+-------+-------+-------+\n",
      "Enter your move: \n",
      "That move is not legal. Play on an unoccupied square: \n",
      "\n",
      "+-------+-------+-------+\n",
      "|       |       |       |\n",
      "|   O   |   2   |   3   |\n",
      "|       |       |       |\n",
      "+-------+-------+-------+\n",
      "|       |       |       |\n",
      "|   X   |   5   |   6   |\n",
      "|       |       |       |\n",
      "+-------+-------+-------+\n",
      "|       |       |       |\n",
      "|   7   |   8   |   9   |\n",
      "|       |       |       |\n",
      "+-------+-------+-------+\n",
      "+-------+-------+-------+\n",
      "|       |       |       |\n",
      "|   O   |   2   |   3   |\n",
      "|       |       |       |\n",
      "+-------+-------+-------+\n",
      "|       |       |       |\n",
      "|   X   |   5   |   6   |\n",
      "|       |       |       |\n",
      "+-------+-------+-------+\n",
      "|       |       |       |\n",
      "|   X   |   8   |   9   |\n",
      "|       |       |       |\n",
      "+-------+-------+-------+\n",
      "Enter your move: \n",
      "+-------+-------+-------+\n",
      "|       |       |       |\n",
      "|   O   |   O   |   3   |\n",
      "|       |       |       |\n",
      "+-------+-------+-------+\n",
      "|       |       |       |\n",
      "|   X   |   5   |   6   |\n",
      "|       |       |       |\n",
      "+-------+-------+-------+\n",
      "|       |       |       |\n",
      "|   X   |   8   |   9   |\n",
      "|       |       |       |\n",
      "+-------+-------+-------+\n",
      "+-------+-------+-------+\n",
      "|       |       |       |\n",
      "|   O   |   O   |   3   |\n",
      "|       |       |       |\n",
      "+-------+-------+-------+\n",
      "|       |       |       |\n",
      "|   X   |   5   |   6   |\n",
      "|       |       |       |\n",
      "+-------+-------+-------+\n",
      "|       |       |       |\n",
      "|   X   |   8   |   9   |\n",
      "|       |       |       |\n",
      "+-------+-------+-------+\n",
      "Enter your move: \n",
      "That move is invalid. Enter an integer from 1 to 9: \n",
      "\n",
      "That move is invalid. Enter an integer from 1 to 9: \n"
     ]
    },
    {
     "ename": "KeyboardInterrupt",
     "evalue": "Interrupted by user",
     "output_type": "error",
     "traceback": [
      "\u001b[1;31m---------------------------------------------------------------------------\u001b[0m",
      "\u001b[1;31mKeyboardInterrupt\u001b[0m                         Traceback (most recent call last)",
      "Cell \u001b[1;32mIn [1], line 19\u001b[0m\n\u001b[0;32m     13\u001b[0m     \u001b[39m# if victory_for(board, marker):\u001b[39;00m\n\u001b[0;32m     14\u001b[0m     \u001b[39m#     print(\"Computer wins.\")\u001b[39;00m\n\u001b[0;32m     15\u001b[0m     \u001b[39m#     break\u001b[39;00m\n\u001b[0;32m     16\u001b[0m \n\u001b[0;32m     17\u001b[0m     \u001b[39m# Player move.\u001b[39;00m\n\u001b[0;32m     18\u001b[0m     marker \u001b[39m=\u001b[39m \u001b[39m'\u001b[39m\u001b[39mO\u001b[39m\u001b[39m'\u001b[39m\n\u001b[1;32m---> 19\u001b[0m     enter_move(board)\n\u001b[0;32m     21\u001b[0m     \u001b[39m# if victory_for(board, marker):\u001b[39;00m\n\u001b[0;32m     22\u001b[0m     \u001b[39m#     print(\"Player wins.\")\u001b[39;00m\n\u001b[0;32m     23\u001b[0m     \u001b[39m#     break\u001b[39;00m\n\u001b[0;32m     24\u001b[0m \n\u001b[0;32m     25\u001b[0m \u001b[39melse\u001b[39;00m:\n\u001b[0;32m     26\u001b[0m     \u001b[39mprint\u001b[39m(\u001b[39m\"\u001b[39m\u001b[39mThe game is a draw.\u001b[39m\u001b[39m\"\u001b[39m)\n",
      "File \u001b[1;32mc:\\Users\\Miranda and Warren\\Documents\\Programming\\Practice\\Python\\tictactoe.py:83\u001b[0m, in \u001b[0;36menter_move\u001b[1;34m(board)\u001b[0m\n\u001b[0;32m     81\u001b[0m \u001b[39mwhile\u001b[39;00m \u001b[39mTrue\u001b[39;00m:\n\u001b[0;32m     82\u001b[0m     \u001b[39mtry\u001b[39;00m:\n\u001b[1;32m---> 83\u001b[0m         square \u001b[39m=\u001b[39m \u001b[39mint\u001b[39m(\u001b[39minput\u001b[39;49m()) \u001b[39m-\u001b[39m \u001b[39m1\u001b[39m\n\u001b[0;32m     84\u001b[0m         \u001b[39mif\u001b[39;00m is_unoccupied(square, board):\n\u001b[0;32m     85\u001b[0m             place_marker(square, \u001b[39m'\u001b[39m\u001b[39mO\u001b[39m\u001b[39m'\u001b[39m, board)\n",
      "File \u001b[1;32m~\\AppData\\Roaming\\Python\\Python310\\site-packages\\ipykernel\\kernelbase.py:1177\u001b[0m, in \u001b[0;36mKernel.raw_input\u001b[1;34m(self, prompt)\u001b[0m\n\u001b[0;32m   1173\u001b[0m \u001b[39mif\u001b[39;00m \u001b[39mnot\u001b[39;00m \u001b[39mself\u001b[39m\u001b[39m.\u001b[39m_allow_stdin:\n\u001b[0;32m   1174\u001b[0m     \u001b[39mraise\u001b[39;00m StdinNotImplementedError(\n\u001b[0;32m   1175\u001b[0m         \u001b[39m\"\u001b[39m\u001b[39mraw_input was called, but this frontend does not support input requests.\u001b[39m\u001b[39m\"\u001b[39m\n\u001b[0;32m   1176\u001b[0m     )\n\u001b[1;32m-> 1177\u001b[0m \u001b[39mreturn\u001b[39;00m \u001b[39mself\u001b[39;49m\u001b[39m.\u001b[39;49m_input_request(\n\u001b[0;32m   1178\u001b[0m     \u001b[39mstr\u001b[39;49m(prompt),\n\u001b[0;32m   1179\u001b[0m     \u001b[39mself\u001b[39;49m\u001b[39m.\u001b[39;49m_parent_ident[\u001b[39m\"\u001b[39;49m\u001b[39mshell\u001b[39;49m\u001b[39m\"\u001b[39;49m],\n\u001b[0;32m   1180\u001b[0m     \u001b[39mself\u001b[39;49m\u001b[39m.\u001b[39;49mget_parent(\u001b[39m\"\u001b[39;49m\u001b[39mshell\u001b[39;49m\u001b[39m\"\u001b[39;49m),\n\u001b[0;32m   1181\u001b[0m     password\u001b[39m=\u001b[39;49m\u001b[39mFalse\u001b[39;49;00m,\n\u001b[0;32m   1182\u001b[0m )\n",
      "File \u001b[1;32m~\\AppData\\Roaming\\Python\\Python310\\site-packages\\ipykernel\\kernelbase.py:1219\u001b[0m, in \u001b[0;36mKernel._input_request\u001b[1;34m(self, prompt, ident, parent, password)\u001b[0m\n\u001b[0;32m   1216\u001b[0m             \u001b[39mbreak\u001b[39;00m\n\u001b[0;32m   1217\u001b[0m \u001b[39mexcept\u001b[39;00m \u001b[39mKeyboardInterrupt\u001b[39;00m:\n\u001b[0;32m   1218\u001b[0m     \u001b[39m# re-raise KeyboardInterrupt, to truncate traceback\u001b[39;00m\n\u001b[1;32m-> 1219\u001b[0m     \u001b[39mraise\u001b[39;00m \u001b[39mKeyboardInterrupt\u001b[39;00m(\u001b[39m\"\u001b[39m\u001b[39mInterrupted by user\u001b[39m\u001b[39m\"\u001b[39m) \u001b[39mfrom\u001b[39;00m \u001b[39mNone\u001b[39m\n\u001b[0;32m   1220\u001b[0m \u001b[39mexcept\u001b[39;00m \u001b[39mException\u001b[39;00m:\n\u001b[0;32m   1221\u001b[0m     \u001b[39mself\u001b[39m\u001b[39m.\u001b[39mlog\u001b[39m.\u001b[39mwarning(\u001b[39m\"\u001b[39m\u001b[39mInvalid Message:\u001b[39m\u001b[39m\"\u001b[39m, exc_info\u001b[39m=\u001b[39m\u001b[39mTrue\u001b[39;00m)\n",
      "\u001b[1;31mKeyboardInterrupt\u001b[0m: Interrupted by user"
     ]
    }
   ],
   "source": [
    "from copy import deepcopy\n",
    "from tictactoe import display_board, draw_move, enter_move, BOARD\n",
    "\n",
    "board = deepcopy(BOARD)\n",
    "\n",
    "display_board(board)\n",
    "\n",
    "for i in range(9):\n",
    "    # Computer move.\n",
    "    marker = 'X'\n",
    "    draw_move(board)\n",
    " \n",
    "    # if victory_for(board, marker):\n",
    "    #     print(\"Computer wins.\")\n",
    "    #     break\n",
    "\n",
    "    # Player move.\n",
    "    marker = 'O'\n",
    "    enter_move(board)\n",
    "\n",
    "    # if victory_for(board, marker):\n",
    "    #     print(\"Player wins.\")\n",
    "    #     break\n",
    "\n",
    "else:\n",
    "    print(\"The game is a draw.\")\n",
    "   "
   ]
  },
  {
   "cell_type": "code",
   "execution_count": 7,
   "metadata": {},
   "outputs": [
    {
     "name": "stdout",
     "output_type": "stream",
     "text": [
      "XOO\n"
     ]
    },
    {
     "data": {
      "text/plain": [
       "True"
      ]
     },
     "execution_count": 7,
     "metadata": {},
     "output_type": "execute_result"
    }
   ],
   "source": [
    "from tictactoe import is_row_victory, is_column_victory, NAUGHT, CROSS\n",
    "\n",
    "# board = [[' ', ' ', ' '] for _ in range(3)]\n",
    "board = [\n",
    "    [CROSS, ' ', ' '],\n",
    "    [CROSS, NAUGHT, ' '],\n",
    "    [CROSS, ' ', NAUGHT]\n",
    "]\n",
    "marker = CROSS\n",
    "is_diagonal_victory(board, CROSS)\n",
    "is_column_victory(board, marker)"
   ]
  },
  {
   "cell_type": "markdown",
   "metadata": {},
   "source": [
    "0 1 2                   [0][0]         [0][2]      \n",
    "3 4 5                   [1][1]         [1][1]\n",
    "6 7 8                   [2][2]         [2][0]\n",
    "\n",
    "\n",
    "def is_diagonal_victory(board, marker):`\n"
   ]
  },
  {
   "cell_type": "code",
   "execution_count": 50,
   "metadata": {},
   "outputs": [
    {
     "name": "stdout",
     "output_type": "stream",
     "text": [
      "2\n",
      "\n",
      "1\n"
     ]
    }
   ],
   "source": [
    "board = [ [3 * j + i + 1 for i in range(3)] for j in range(3) ] # make an empty board\n",
    "arr = np.array(board)\n",
    "\n",
    "# print(arr.diagonal())\n",
    "print(arr.ndim)\n",
    "print()\n",
    "print(np.flip(arr, axis=1).diagonal().ndim)"
   ]
  },
  {
   "cell_type": "code",
   "execution_count": 34,
   "metadata": {},
   "outputs": [],
   "source": [
    "board = [ \n",
    "    [(3 * row_index) + (1 + column_index)  for column_index in range(3)] \n",
    "    for row_index in range(3)\n",
    "]"
   ]
  },
  {
   "cell_type": "code",
   "execution_count": 19,
   "metadata": {},
   "outputs": [],
   "source": [
    "import numpy as np\n",
    "\n",
    "def victory(board, mark):\n",
    "    \"\"\"Return the player's mark if the tic-tac-toe board is in a winning state\n",
    "    for that player; otherwise, return None.\"\"\"\n",
    "\n",
    "    # Start with the assumption that there is a victory along both diagaonals;\n",
    "    # in the course of iterating the rows and columns of the tic-tac-toe\n",
    "    # board, these assumptions will be checked.\n",
    "    main_diagonal_victory = True\n",
    "    minor_diagonal_victory = True\n",
    "\n",
    "    for index in range(3):\n",
    "        # If there are three of `mark` along the ith row, then the player\n",
    "        # won and their mark is returned.\n",
    "        row = index\n",
    "        if (    board[row][0] == mark\n",
    "            and board[row][1] == mark\n",
    "            and board[row][2] == mark\n",
    "        ):  \n",
    "            print(f\"Player {mark} won along the \")\n",
    "            return mark\n",
    "\n",
    "        # If there are three of `mark` along the ith column, then the player\n",
    "        # won and their mark is returned.\n",
    "        column = index\n",
    "        if (    board[0][column] == mark\n",
    "            and board[1][column] == mark\n",
    "            and board[2][column] == mark\n",
    "        ):\n",
    "            return mark\n",
    "        \n",
    "        # If a victory along the main diagonal is impossible because one of \n",
    "        # its cells does not contain the mark, update the assumption.\n",
    "        if board[index][index] != mark:\n",
    "            main_diagonal_victory = False\n",
    "\n",
    "        # If a victory along the minor diagonal is impossible because one of \n",
    "        # its cells does not contain the mark, update the assumption.\n",
    "        if board[index][2-index] != mark:\n",
    "            minor_diagonal_victory = False\n",
    "\n",
    "    # If the assumption that there is a diagonal victory remains true after \n",
    "    # checking all cells in the diagonals, then the player won and their mark \n",
    "    # is returned.\n",
    "    if main_diagonal_victory or minor_diagonal_victory:\n",
    "        return mark\n",
    "    \n",
    "    # If no victory condition was satisfied, then the player did not win and \n",
    "    # `None` is returned.\n",
    "    return None"
   ]
  },
  {
   "cell_type": "code",
   "execution_count": null,
   "metadata": {},
   "outputs": [],
   "source": []
  },
  {
   "cell_type": "code",
   "execution_count": null,
   "metadata": {},
   "outputs": [],
   "source": [
    "def victory_for(board,sgn):\n",
    "\tif sgn == \"X\":\t# are we looking for X?\n",
    "\t\twho = 'me'\t# yes - it's computer's side\n",
    "\telif sgn == \"O\": # ... or for O?\n",
    "\t\twho = 'you'\t# yes - it's our side\n",
    "\telse:\n",
    "\t\twho = None\t# we should not fall here!\n",
    "\tcross1 = cross2 = True  # for diagonals\n",
    "\tfor rc in range(3):\n",
    "\t\tif board[rc][0] == sgn and board[rc][1] == sgn and board[rc][2] == sgn:\t# check row rc\n",
    "\t\t\treturn who\n",
    "\t\tif board[0][rc] == sgn and board[1][rc] == sgn and board[2][rc] == sgn: # check column rc\n",
    "\t\t\treturn who\n",
    "\t\tif board[rc][rc] != sgn: # check 1st diagonal\n",
    "\t\t\tcross1 = False\n",
    "\t\tif board[2 - rc][2 - rc] != sgn: # check 2nd diagonal\n",
    "\t\t\tcross2 = False\n",
    "\tif cross1 or cross2:\n",
    "\t\treturn who\n",
    "\treturn None"
   ]
  },
  {
   "cell_type": "code",
   "execution_count": 11,
   "metadata": {},
   "outputs": [],
   "source": [
    "def is_diagonal_victory(board, marker):\n",
    "    major_diagonal = [board[i][i] for i in range(3)]\n",
    "    if ''.join(major_diagonal) == marker * 3:\n",
    "        return True\n",
    "    \n",
    "    minor_diagonal = [board[-i][-i] for i in range(1,4)]\n",
    "    if ''.join(minor_diagonal) == marker * 3:\n",
    "        return True\n",
    "\n",
    "    return False\n",
    "\n"
   ]
  },
  {
   "cell_type": "code",
   "execution_count": 28,
   "metadata": {},
   "outputs": [
    {
     "name": "stdout",
     "output_type": "stream",
     "text": [
      "X\n"
     ]
    }
   ],
   "source": [
    "NAUGHT, CROSS = 'O', 'X'\n",
    "\n",
    "board = [\n",
    "    [CROSS, ' ', NAUGHT],\n",
    "    [CROSS, CROSS, ' '],\n",
    "    [NAUGHT, ' ', CROSS]\n",
    "]\n",
    "\n",
    "print(victory(board, CROSS))"
   ]
  },
  {
   "cell_type": "code",
   "execution_count": 14,
   "metadata": {},
   "outputs": [
    {
     "data": {
      "text/plain": [
       "'X'"
      ]
     },
     "execution_count": 14,
     "metadata": {},
     "output_type": "execute_result"
    }
   ],
   "source": [
    "board = [\n",
    "    [CROSS, ' ', 'target'],\n",
    "    [CROSS, NAUGHT, ' '],\n",
    "    [NAUGHT, ' ', NAUGHT]\n",
    "]\n",
    "\n",
    "board[-3][-3]"
   ]
  },
  {
   "cell_type": "code",
   "execution_count": 13,
   "metadata": {},
   "outputs": [
    {
     "data": {
      "text/plain": [
       "[(0, 2), (1, 1), (2, 0)]"
      ]
     },
     "execution_count": 13,
     "metadata": {},
     "output_type": "execute_result"
    }
   ],
   "source": [
    "[(i,j) for i,j in zip(range(3), range(2,-1, -1))]"
   ]
  },
  {
   "cell_type": "code",
   "execution_count": 1,
   "metadata": {},
   "outputs": [
    {
     "name": "stdout",
     "output_type": "stream",
     "text": [
      "7\n",
      "+-------+-------+-------+\n",
      "|       |       |       |\n",
      "|   1   |   2   |   3   |\n",
      "|       |       |       |\n",
      "+-------+-------+-------+\n",
      "|       |       |       |\n",
      "|   4   |   5   |   6   |\n",
      "|       |       |       |\n",
      "+-------+-------+-------+\n",
      "|       |       |       |\n",
      "|   X   |   8   |   9   |\n",
      "|       |       |       |\n",
      "+-------+-------+-------+\n",
      "Enter your move: \n",
      "+-------+-------+-------+\n",
      "|       |       |       |\n",
      "|   1   |   2   |   3   |\n",
      "|       |       |       |\n",
      "+-------+-------+-------+\n",
      "|       |       |       |\n",
      "|   4   |   5   |   6   |\n",
      "|       |       |       |\n",
      "+-------+-------+-------+\n",
      "|       |       |       |\n",
      "|   X   |   O   |   9   |\n",
      "|       |       |       |\n",
      "+-------+-------+-------+\n",
      "4\n",
      "+-------+-------+-------+\n",
      "|       |       |       |\n",
      "|   1   |   2   |   3   |\n",
      "|       |       |       |\n",
      "+-------+-------+-------+\n",
      "|       |       |       |\n",
      "|   X   |   5   |   6   |\n",
      "|       |       |       |\n",
      "+-------+-------+-------+\n",
      "|       |       |       |\n",
      "|   X   |   O   |   9   |\n",
      "|       |       |       |\n",
      "+-------+-------+-------+\n",
      "Enter your move: \n",
      "That move is invalid. Enter an integer from 1 to 9: \n",
      "+-------+-------+-------+\n",
      "|       |       |       |\n",
      "|   1   |   O   |   3   |\n",
      "|       |       |       |\n",
      "+-------+-------+-------+\n",
      "|       |       |       |\n",
      "|   X   |   5   |   6   |\n",
      "|       |       |       |\n",
      "+-------+-------+-------+\n",
      "|       |       |       |\n",
      "|   X   |   O   |   9   |\n",
      "|       |       |       |\n",
      "+-------+-------+-------+\n",
      "2\n",
      "8\n",
      "4\n",
      "4\n",
      "9\n",
      "+-------+-------+-------+\n",
      "|       |       |       |\n",
      "|   1   |   O   |   3   |\n",
      "|       |       |       |\n",
      "+-------+-------+-------+\n",
      "|       |       |       |\n",
      "|   X   |   5   |   6   |\n",
      "|       |       |       |\n",
      "+-------+-------+-------+\n",
      "|       |       |       |\n",
      "|   X   |   O   |   X   |\n",
      "|       |       |       |\n",
      "+-------+-------+-------+\n",
      "Enter your move: \n",
      "+-------+-------+-------+\n",
      "|       |       |       |\n",
      "|   1   |   O   |   3   |\n",
      "|       |       |       |\n",
      "+-------+-------+-------+\n",
      "|       |       |       |\n",
      "|   X   |   O   |   6   |\n",
      "|       |       |       |\n",
      "+-------+-------+-------+\n",
      "|       |       |       |\n",
      "|   X   |   O   |   X   |\n",
      "|       |       |       |\n",
      "+-------+-------+-------+\n",
      "Player wins.\n"
     ]
    }
   ],
   "source": [
    "from tictactoe import play_game\n",
    "\n",
    "play_game()"
   ]
  },
  {
   "cell_type": "code",
   "execution_count": 130,
   "metadata": {},
   "outputs": [
    {
     "name": "stdout",
     "output_type": "stream",
     "text": [
      "+-------+-------+-------+\n",
      "|       |       |       |\n",
      "|   1   |   2   |   3   |\n",
      "|       |       |       |\n",
      "+-------+-------+-------+\n",
      "|       |       |       |\n",
      "|   4   |   5   |   6   |\n",
      "|       |       |       |\n",
      "+-------+-------+-------+\n",
      "|       |       |       |\n",
      "|   7   |   8   |   9   |\n",
      "|       |       |       |\n",
      "+-------+-------+-------+\n",
      "game\n",
      "+-------+-------+-------+\n",
      "|       |       |       |\n",
      "|   1   |   O   |   3   |\n",
      "|       |       |       |\n",
      "+-------+-------+-------+\n",
      "|       |       |       |\n",
      "|   4   |   5   |   6   |\n",
      "|       |       |       |\n",
      "+-------+-------+-------+\n",
      "|       |       |       |\n",
      "|   7   |   8   |   9   |\n",
      "|       |       |       |\n",
      "+-------+-------+-------+\n",
      "+-------+-------+-------+\n",
      "|       |       |       |\n",
      "|   1   |   O   |   3   |\n",
      "|       |       |       |\n",
      "+-------+-------+-------+\n",
      "|       |       |       |\n",
      "|   4   |   O   |   6   |\n",
      "|       |       |       |\n",
      "+-------+-------+-------+\n",
      "|       |       |       |\n",
      "|   7   |   8   |   9   |\n",
      "|       |       |       |\n",
      "+-------+-------+-------+\n",
      "+-------+-------+-------+\n",
      "|       |       |       |\n",
      "|   1   |   O   |   3   |\n",
      "|       |       |       |\n",
      "+-------+-------+-------+\n",
      "|       |       |       |\n",
      "|   4   |   O   |   6   |\n",
      "|       |       |       |\n",
      "+-------+-------+-------+\n",
      "|       |       |       |\n",
      "|   7   |   8   |   O   |\n",
      "|       |       |       |\n",
      "+-------+-------+-------+\n"
     ]
    }
   ],
   "source": [
    "from copy import deepcopy\n",
    "board = deepcopy(BOARD)\n",
    "display_board(BOARD)\n",
    "print('game')\n",
    "move = 2\n",
    "board[(move - 1)//3][(move-1)%3] = 'O'\n",
    "display_board(board)\n",
    "move = 5\n",
    "board[(move - 1)//3][(move-1)%3] = 'O'\n",
    "display_board(board)\n",
    "move = 9\n",
    "board[(move - 1)//3][(move-1)%3] = 'O'\n",
    "display_board(board)"
   ]
  }
 ],
 "metadata": {
  "kernelspec": {
   "display_name": "Python 3.10.5 64-bit",
   "language": "python",
   "name": "python3"
  },
  "language_info": {
   "codemirror_mode": {
    "name": "ipython",
    "version": 3
   },
   "file_extension": ".py",
   "mimetype": "text/x-python",
   "name": "python",
   "nbconvert_exporter": "python",
   "pygments_lexer": "ipython3",
   "version": "3.10.5"
  },
  "orig_nbformat": 4,
  "vscode": {
   "interpreter": {
    "hash": "369f2c481f4da34e4445cda3fffd2e751bd1c4d706f27375911949ba6bb62e1c"
   }
  }
 },
 "nbformat": 4,
 "nbformat_minor": 2
}
