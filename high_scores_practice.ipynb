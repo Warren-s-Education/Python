{
 "cells": [
  {
   "cell_type": "markdown",
   "metadata": {},
   "source": [
    "A scoreboard that stores high scores for a game."
   ]
  },
  {
   "cell_type": "code",
   "execution_count": 22,
   "metadata": {},
   "outputs": [],
   "source": [
    "class GameEntry:\n",
    "    \"\"\"Represents one entry of a list of high scores.\"\"\"\n",
    "\n",
    "    def __init__(self, name, score):\n",
    "        self._name = name\n",
    "        self._score = score\n",
    "    \n",
    "    def get_score(self):\n",
    "        return self._score\n",
    "\n",
    "    def get_name(self):\n",
    "        return self._name\n",
    "\n",
    "    def __str__(self):\n",
    "        return f\"{self._name} with a score of {self._score}.\""
   ]
  },
  {
   "cell_type": "code",
   "execution_count": 23,
   "metadata": {},
   "outputs": [],
   "source": [
    "class Scoreboard:\n",
    "    \"\"\"Fixed-length sequence of high scores in nondecreasing order.\"\"\"\n",
    "\n",
    "    def __init__(self, capacity=10):\n",
    "        self._board = [None] * capacity\n",
    "        self._n = 0\n",
    "\n",
    "    def __getitem__(self, index):\n",
    "        return self._board[index]\n",
    "\n",
    "    def add(self, entry: GameEntry):\n",
    "\n",
    "        score = entry.get_score()\n",
    "        \n",
    "        scoreboard_not_full = self._n < len(self._board)\n",
    "        score_qualifies = (scoreboard_not_full\n",
    "                        or score > self._board[-1].get_score())\n",
    "\n",
    "        if score_qualifies:\n",
    "            self._n += 1 if scoreboard_not_full else 0\n",
    "\n",
    "            j = self._n - 1\n",
    "            while j > 0 and score > self._board[j-1].get_score():\n",
    "                self._board[j] = self._board[j-1]\n",
    "                j -= 1\n",
    "            self._board[j] = entry\n",
    "\n",
    "    def __str__(self):\n",
    "        return \"\\n\".join(str(self._board[j]) for j in range(self._n))"
   ]
  },
  {
   "cell_type": "code",
   "execution_count": 25,
   "metadata": {},
   "outputs": [
    {
     "name": "stdout",
     "output_type": "stream",
     "text": [
      "Wubby with a score of 20000.\n",
      "Kahya with a score of 1000.\n",
      "Miranda with a score of 900.\n",
      "Warren with a score of 700.\n"
     ]
    }
   ],
   "source": [
    "scoreboard = Scoreboard()\n",
    "scoreboard.add(GameEntry('Kahya', 1000))\n",
    "scoreboard.add(GameEntry('Miranda', 900))\n",
    "scoreboard.add(GameEntry('Warren', 700))\n",
    "scoreboard.add(GameEntry('Wubby', 20000))\n",
    "print(str(scoreboard))\n",
    "\n",
    "\n"
   ]
  },
  {
   "cell_type": "code",
   "execution_count": null,
   "metadata": {},
   "outputs": [],
   "source": [
    "class GameEntry:\n",
    "\n",
    "    def __init__(self, name, score):\n",
    "        self.name = name\n",
    "        self.score = score\n",
    "\n",
    "    def __str__(self):\n",
    "        return f\"{self.name} with a score of {self.score}\"\n",
    "\n",
    "class Scoreboard:\n",
    "    \"\"\"A fixed-length sequence of high scores.\"\"\"\n",
    "\n",
    "    def __init__(self, capacity = 10):\n",
    "        self._board = [None] * capacity\n",
    "        self._n = 0\n",
    "\n",
    "    def _get_lowest_entry(self):\n",
    "        return self._board[self._n - 1]\n",
    "\n",
    "\n",
    "    def __str__(self):\n",
    "        return \"\\n\".join(str(self._board[j]) for j in range(self._n)\n",
    "\n",
    "    def add(self, entry:GameEntry):\n",
    "        new_score = entry.score\n",
    "\n",
    "        scoreboard_has_space_left = self._n < len(self._board)\n",
    "\n",
    "        new_score_is_a_highscore = (scoreboard_has_space_left\n",
    "                                or candidate_score > self._get_lowest_entry().score)\n",
    "\n",
    "        if new_score_is_a_highscore:\n",
    "\n",
    "            if scoreboard_has_space_left:\n",
    "                self._n += 1\n",
    "\n",
    "            position = self._n - 1\n",
    "\n",
    "            while position > 0 and score > self._board[position-1].score:\n",
    "                self._board[position] = self._board[position - 1]\n",
    "                position -= 1\n",
    "            \n",
    "            self._board[position] = entry\n",
    "            \n",
    "\n"
   ]
  }
 ],
 "metadata": {
  "kernelspec": {
   "display_name": "Python 3.10.5 ('lumen': venv)",
   "language": "python",
   "name": "python3"
  },
  "language_info": {
   "codemirror_mode": {
    "name": "ipython",
    "version": 3
   },
   "file_extension": ".py",
   "mimetype": "text/x-python",
   "name": "python",
   "nbconvert_exporter": "python",
   "pygments_lexer": "ipython3",
   "version": "3.10.5"
  },
  "orig_nbformat": 4,
  "vscode": {
   "interpreter": {
    "hash": "558d3ae53c2989f92537fb60ff69fae09d4b361a8a5f6719dc1bd2672a63ef26"
   }
  }
 },
 "nbformat": 4,
 "nbformat_minor": 2
}
