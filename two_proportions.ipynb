{
 "cells": [
  {
   "cell_type": "markdown",
   "metadata": {},
   "source": [
    "### Distribution of Differences in Sample Proportions (3 of 5)"
   ]
  },
  {
   "cell_type": "markdown",
   "metadata": {},
   "source": [
    "Example - Abecedarian Early Intervention Project"
   ]
  },
  {
   "cell_type": "markdown",
   "metadata": {},
   "source": [
    "$p_1 = .45$ # treatment group\n",
    "\n",
    "$p_2 = .2$  # control group\n",
    "\n",
    "$ p_f = .25 $"
   ]
  },
  {
   "cell_type": "markdown",
   "metadata": {},
   "source": [
    "$n_t = 70$\n",
    "\n",
    "$n_c = 100$\n",
    "\n",
    "$p_t - p_c = .15$"
   ]
  },
  {
   "cell_type": "markdown",
   "metadata": {},
   "source": [
    "Example - HPV Vaccine"
   ]
  },
  {
   "cell_type": "markdown",
   "metadata": {},
   "source": [
    "$p_m = .55$\n",
    "\n",
    "$p_f = .55$"
   ]
  },
  {
   "cell_type": "markdown",
   "metadata": {},
   "source": [
    "Try It: HPV infection article"
   ]
  },
  {
   "cell_type": "markdown",
   "metadata": {},
   "source": [
    "$p_m - p_f = 0.25$\n",
    "\n",
    "$\\hat{p}_m = \\frac{62}{110}$\n",
    "\n",
    "$\\hat{p}_f = \\frac{50}{140}$\n"
   ]
  },
  {
   "cell_type": "code",
   "execution_count": 6,
   "metadata": {},
   "outputs": [
    {
     "data": {
      "text/plain": [
       "0.20649350649350645"
      ]
     },
     "execution_count": 6,
     "metadata": {},
     "output_type": "execute_result"
    }
   ],
   "source": [
    "p_hat_m = 62/110\n",
    "p_hat_f = 50/140\n",
    "\n",
    "p_hat_m - p_hat_f"
   ]
  },
  {
   "cell_type": "markdown",
   "metadata": {},
   "source": [
    "### Distribution of Differences in Sample Proportions (4 of 5)"
   ]
  },
  {
   "cell_type": "markdown",
   "metadata": {},
   "source": [
    "#### Summarising the sampling distribution of differences in sample proportions.\n",
    " \n",
    "**Shape**\n",
    "appear normal. what are the conditions for normal?\n",
    "\n",
    "**Center**\n",
    "The mean of the distribution is the difference between the population proportions in the long-run.\n",
    "\n",
    "**Spread**\n",
    "Large samples have less variability.\n",
    "\n",
    "$\\large{\\sqrt{\\frac{p_1(1-p_1)}{n_1}+\\frac{p_2(1-p_2)}{n_2}}}$"
   ]
  },
  {
   "cell_type": "markdown",
   "metadata": {},
   "source": [
    "<img src=\"https://s3-us-west-2.amazonaws.com/courses-images/wp-content/uploads/sites/1729/2017/04/15032425/m9_inference_two_proportion_topic_9_1_m9_dist_diff_sample_proportion_4_image5.png\">"
   ]
  },
  {
   "cell_type": "markdown",
   "metadata": {},
   "source": [
    "Example - Controversy about HPV. Calculating (not simulating) probability of variance in two sample proportions. "
   ]
  },
  {
   "cell_type": "markdown",
   "metadata": {},
   "source": [
    "Question: How much of a difference in these sample proportions is unusual if the vaccine has no effect on the occurrence of serious health problems?\n",
    "\n",
    "$p_{vaccine} = .00003$\n",
    "\n",
    "$p_{control} = .00003$"
   ]
  },
  {
   "cell_type": "code",
   "execution_count": 12,
   "metadata": {},
   "outputs": [
    {
     "data": {
      "text/plain": [
       "'Differences of 0.00004 are unusual.'"
      ]
     },
     "execution_count": 12,
     "metadata": {},
     "output_type": "execute_result"
    }
   ],
   "source": [
    "import math\n",
    "\n",
    "treatment = .00003\n",
    "control = treatment\n",
    "treatment_n = 100_000\n",
    "control_n = 200_000\n",
    "\n",
    "variance_treatment = (treatment*(1-treatment)/treatment_n)\n",
    "variance_control = (control*(1-control)/control_n)\n",
    "\n",
    "std_error = math.sqrt(variance_treatment + variance_control)\n",
    "f'Differences of {2 * std_error:.5f} are unusual.' "
   ]
  },
  {
   "cell_type": "markdown",
   "metadata": {},
   "source": [
    "Try It: AFL-CIO\n",
    "\n",
    "$p_{\\text{union}} = .78$\n",
    "\n",
    "$p_{\\text{nonunion}} = .51$\n",
    "\n",
    "$\\hat{p}_{\\text{union}} = .8$\n",
    "\n",
    "$\\hat{p}_{\\text{nonunion}}= .56$\n",
    "\n"
   ]
  },
  {
   "cell_type": "code",
   "execution_count": 19,
   "metadata": {},
   "outputs": [
    {
     "name": "stdout",
     "output_type": "stream",
     "text": [
      "There is a difference of 0.27 in the populations. \n",
      "There is a difference of 0.24 between the samples.\n",
      "The standard error is 0.010352777405121777.\n",
      "A difference of 0.020705554810243554 would be unlikey.\n"
     ]
    }
   ],
   "source": [
    "n_union = 3000\n",
    "n_nonunion = 5000\n",
    "\n",
    "p_hat_union = .8\n",
    "p_hat_nonunion = .56\n",
    "\n",
    "p_union = .78\n",
    "p_nonunion = .51\n",
    "\n",
    "p_hat_difference = p_hat_union - p_hat_nonunion\n",
    "p_difference = p_union - p_nonunion\n",
    "\n",
    "var_union = (p_union*(1-p_union))/n_union\n",
    "var_nonunion = (p_nonunion*(1-p_nonunion))/n_nonunion\n",
    "\n",
    "std_error = math.sqrt(var_union + var_nonunion)\n",
    "\n",
    "print(f'''There is a difference of {p_difference} in the populations. \n",
    "There is a difference of {p_hat_difference} between the samples.\n",
    "The standard error is {std_error}.\n",
    "A difference of {2 * std_error} would be unlikey.''')\n"
   ]
  },
  {
   "cell_type": "markdown",
   "metadata": {},
   "source": [
    "Try It: AFL-CIO"
   ]
  },
  {
   "cell_type": "code",
   "execution_count": 23,
   "metadata": {},
   "outputs": [
    {
     "name": "stdout",
     "output_type": "stream",
     "text": [
      "-0.2 0.09724196624914574\n",
      "-0.29999999999999993\n"
     ]
    },
    {
     "data": {
      "text/plain": [
       "(-0.3944839324982915, -0.0055160675017085214)"
      ]
     },
     "execution_count": 23,
     "metadata": {},
     "output_type": "execute_result"
    }
   ],
   "source": [
    "# Walmart\n",
    "p1 = .46\n",
    "\n",
    "# Private firms\n",
    "p2 = .66\n",
    "\n",
    "p1_hat = 20/50\n",
    "n1 = 50\n",
    "\n",
    "p2_hat = 35/50\n",
    "n2 =  50\n",
    "\n",
    "var_p1 = (p1*(1-p1))/n1\n",
    "var_p2 = (p2*(1-p2))/n2\n",
    "\n",
    "std_error = math.sqrt(var_p1 + var_p2)\n",
    "\n",
    "population_difference = p1 - p2\n",
    "sample_difference = p1_hat - p2_hat\n",
    "\n",
    "unlikely_difference = (population_difference - 2*std_error, population_difference + 2*std_error)\n",
    "print(population_difference, std_error)\n",
    "print(sample_difference)\n",
    "unlikely_difference"
   ]
  },
  {
   "cell_type": "markdown",
   "metadata": {},
   "source": [
    "### Distribution of Differences in Sample Proportions (5 of 5)\n",
    "\n",
    "\n",
    "<img src= \"https://s3-us-west-2.amazonaws.com/courses-images/wp-content/uploads/sites/1729/2017/04/15032427/m9_inference_two_proportion_topic_9_1_m9_dist_diff_sample_proportion_5_image2.png\">"
   ]
  },
  {
   "cell_type": "markdown",
   "metadata": {},
   "source": [
    "$ \\huge{Z = \\frac{{\\text{statistic}-\\text{parameter}}}{\\text{standard error}}}$\n",
    "\n",
    "$ \\huge{Z = \\frac{{\\text{difference in sample proportions}-\\text{difference in population proportions}}}{\\text{standard error}}}$\n",
    "\n",
    "$ \\huge{Z = \\frac{(\\hat{p}_1-\\hat{p}_2) - (p_1 - p_2)}{\\sqrt{\\frac{p_1(1-p_1)}{n_1} - \\frac{p_2(1-p_2)}{n_2}}}}$"
   ]
  },
  {
   "cell_type": "markdown",
   "metadata": {},
   "source": [
    "#### Example - Abecedarian Early Intervention Project\n",
    "\n"
   ]
  },
  {
   "cell_type": "code",
   "execution_count": 24,
   "metadata": {},
   "outputs": [],
   "source": [
    "p_treatment = .45\n",
    "p_control = .2\n",
    "\n",
    "p_difference = p_treatment - p_control\n",
    "\n",
    "# p_hat_treatment = \n",
    "n_treatment = 70\n",
    "# p_hat_control = \n",
    "n_control = 100\n",
    "\n",
    "p_hat_difference = .15"
   ]
  },
  {
   "cell_type": "code",
   "execution_count": 27,
   "metadata": {},
   "outputs": [
    {
     "name": "stdout",
     "output_type": "stream",
     "text": [
      "0.07166389806390863 -1.3954027439425878\n"
     ]
    }
   ],
   "source": [
    "var_treatment = (p_treatment * (1 - p_treatment)) / n_treatment\n",
    "var_control = (p_control * (1 - p_control)) / n_control\n",
    "\n",
    "std_error = math.sqrt(var_treatment + var_control)\n",
    "\n",
    "z = (p_hat_difference - p_difference)/std_error\n",
    "\n",
    "print(std_error, z)"
   ]
  },
  {
   "cell_type": "code",
   "execution_count": 31,
   "metadata": {},
   "outputs": [
    {
     "data": {
      "text/plain": [
       "0.08226443867766892"
      ]
     },
     "execution_count": 31,
     "metadata": {},
     "output_type": "execute_result"
    }
   ],
   "source": [
    "import statsmodels.stats.proportion as stm \n",
    "import scipy.stats as st\n",
    "\n",
    "\n",
    "st.norm.cdf(-1.39)\n",
    "\n",
    "# stm._zconfint_generic(\n",
    "#     # summary statistic\n",
    "#     # std_error\n",
    "#     # alpha\n",
    "#     # alternative hypothesis\n",
    "#         # two-sided\n",
    "#         # larger \n",
    "#         # smaller\n",
    "# )\n",
    "\n"
   ]
  },
  {
   "cell_type": "markdown",
   "metadata": {},
   "source": [
    "### Estimate the Difference between Population Proportions (1 of 3)"
   ]
  },
  {
   "cell_type": "markdown",
   "metadata": {},
   "source": [
    "Confidence intervals are used to estimate statistics. Always have the form:\n",
    "\n",
    "$\\large{\\text{statistic} \\pm \\text{margin of error}}$\n",
    "\n",
    "<img src=\"https://s3-us-west-2.amazonaws.com/courses-images/wp-content/uploads/sites/1729/2017/04/15032437/m9_inference_two_proportion_topic_9_2_m9_est_diff_two_pop_prop_2_image1.png\">"
   ]
  },
  {
   "cell_type": "code",
   "execution_count": 36,
   "metadata": {},
   "outputs": [
    {
     "data": {
      "text/plain": [
       "(0.0408, 0.1192)"
      ]
     },
     "execution_count": 36,
     "metadata": {},
     "output_type": "execute_result"
    }
   ],
   "source": [
    "std_error = 0.02\n",
    "margin_error = .02 * 1.96\n",
    ".08 - margin_error, .08 + margin_error"
   ]
  },
  {
   "cell_type": "markdown",
   "metadata": {},
   "source": []
  }
 ],
 "metadata": {
  "kernelspec": {
   "display_name": "Python 3.10.5 ('lumen': venv)",
   "language": "python",
   "name": "python3"
  },
  "language_info": {
   "codemirror_mode": {
    "name": "ipython",
    "version": 3
   },
   "file_extension": ".py",
   "mimetype": "text/x-python",
   "name": "python",
   "nbconvert_exporter": "python",
   "pygments_lexer": "ipython3",
   "version": "3.10.5"
  },
  "orig_nbformat": 4,
  "vscode": {
   "interpreter": {
    "hash": "558d3ae53c2989f92537fb60ff69fae09d4b361a8a5f6719dc1bd2672a63ef26"
   }
  }
 },
 "nbformat": 4,
 "nbformat_minor": 2
}
