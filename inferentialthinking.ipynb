{
 "cells": [
  {
   "cell_type": "code",
   "execution_count": 55,
   "metadata": {},
   "outputs": [],
   "source": [
    "import numpy as np\n",
    "import pandas as pd\n",
    "import matplotlib.pyplot as plt"
   ]
  },
  {
   "cell_type": "markdown",
   "metadata": {},
   "source": [
    "Simulating a fair coin"
   ]
  },
  {
   "cell_type": "code",
   "execution_count": 10,
   "metadata": {},
   "outputs": [
    {
     "data": {
      "text/plain": [
       "array(['Tail', 'Head', 'Tail', 'Head', 'Tail', 'Tail', 'Head', 'Tail',\n",
       "       'Tail', 'Head'], dtype='<U4')"
      ]
     },
     "execution_count": 10,
     "metadata": {},
     "output_type": "execute_result"
    }
   ],
   "source": [
    "coin = ['tail', 'head']\n",
    "ten_tosses = np.random.choice(coin, 10)\n",
    "ten_tosses = np.array([ coin.title() for coin in ten_tosses])\n",
    "ten_tosses"
   ]
  },
  {
   "cell_type": "code",
   "execution_count": 13,
   "metadata": {},
   "outputs": [
    {
     "data": {
      "text/plain": [
       "0"
      ]
     },
     "execution_count": 13,
     "metadata": {},
     "output_type": "execute_result"
    }
   ],
   "source": [
    "np.count_nonzero(ten_tosses == '0')"
   ]
  },
  {
   "cell_type": "code",
   "execution_count": 14,
   "metadata": {},
   "outputs": [
    {
     "data": {
      "text/plain": [
       "48"
      ]
     },
     "execution_count": 14,
     "metadata": {},
     "output_type": "execute_result"
    }
   ],
   "source": [
    "outcomes = np.random.choice(coin, 100)\n",
    "num_heads = np.count_nonzero(outcomes == 'head')\n",
    "num_heads"
   ]
  },
  {
   "cell_type": "code",
   "execution_count": 22,
   "metadata": {},
   "outputs": [],
   "source": [
    "def one_simulated_value():\n",
    "    outcomes = np.random.choice(coin, 100)\n",
    "    return np.count_nonzero(outcomes == 'head')"
   ]
  },
  {
   "cell_type": "code",
   "execution_count": 53,
   "metadata": {},
   "outputs": [
    {
     "data": {
      "text/html": [
       "<div>\n",
       "<style scoped>\n",
       "    .dataframe tbody tr th:only-of-type {\n",
       "        vertical-align: middle;\n",
       "    }\n",
       "\n",
       "    .dataframe tbody tr th {\n",
       "        vertical-align: top;\n",
       "    }\n",
       "\n",
       "    .dataframe thead th {\n",
       "        text-align: right;\n",
       "    }\n",
       "</style>\n",
       "<table border=\"1\" class=\"dataframe\">\n",
       "  <thead>\n",
       "    <tr style=\"text-align: right;\">\n",
       "      <th></th>\n",
       "      <th>Repetition</th>\n",
       "      <th>Number of heads</th>\n",
       "    </tr>\n",
       "  </thead>\n",
       "  <tbody>\n",
       "    <tr>\n",
       "      <th>0</th>\n",
       "      <td>1</td>\n",
       "      <td>40</td>\n",
       "    </tr>\n",
       "    <tr>\n",
       "      <th>1</th>\n",
       "      <td>2</td>\n",
       "      <td>47</td>\n",
       "    </tr>\n",
       "    <tr>\n",
       "      <th>2</th>\n",
       "      <td>3</td>\n",
       "      <td>44</td>\n",
       "    </tr>\n",
       "    <tr>\n",
       "      <th>3</th>\n",
       "      <td>4</td>\n",
       "      <td>55</td>\n",
       "    </tr>\n",
       "    <tr>\n",
       "      <th>4</th>\n",
       "      <td>5</td>\n",
       "      <td>43</td>\n",
       "    </tr>\n",
       "    <tr>\n",
       "      <th>...</th>\n",
       "      <td>...</td>\n",
       "      <td>...</td>\n",
       "    </tr>\n",
       "    <tr>\n",
       "      <th>19995</th>\n",
       "      <td>19996</td>\n",
       "      <td>49</td>\n",
       "    </tr>\n",
       "    <tr>\n",
       "      <th>19996</th>\n",
       "      <td>19997</td>\n",
       "      <td>48</td>\n",
       "    </tr>\n",
       "    <tr>\n",
       "      <th>19997</th>\n",
       "      <td>19998</td>\n",
       "      <td>59</td>\n",
       "    </tr>\n",
       "    <tr>\n",
       "      <th>19998</th>\n",
       "      <td>19999</td>\n",
       "      <td>48</td>\n",
       "    </tr>\n",
       "    <tr>\n",
       "      <th>19999</th>\n",
       "      <td>20000</td>\n",
       "      <td>50</td>\n",
       "    </tr>\n",
       "  </tbody>\n",
       "</table>\n",
       "<p>20000 rows × 2 columns</p>\n",
       "</div>"
      ],
      "text/plain": [
       "       Repetition  Number of heads\n",
       "0               1               40\n",
       "1               2               47\n",
       "2               3               44\n",
       "3               4               55\n",
       "4               5               43\n",
       "...           ...              ...\n",
       "19995       19996               49\n",
       "19996       19997               48\n",
       "19997       19998               59\n",
       "19998       19999               48\n",
       "19999       20000               50\n",
       "\n",
       "[20000 rows x 2 columns]"
      ]
     },
     "execution_count": 53,
     "metadata": {},
     "output_type": "execute_result"
    }
   ],
   "source": [
    "num_repetitions = 20_000\n",
    "\n",
    "heads = []\n",
    "\n",
    "for i in range(num_repetitions):\n",
    "    new_value = one_simulated_value()\n",
    "    heads.append(new_value)\n",
    "\n",
    "simulation_results = pd.DataFrame(\n",
    "    data =  {\n",
    "        'Repetition': np.arange(1, num_repetitions + 1),\n",
    "        'Number of heads': heads\n",
    "    }\n",
    ")\n",
    "    \n",
    "simulation_results"
   ]
  },
  {
   "cell_type": "code",
   "execution_count": 76,
   "metadata": {},
   "outputs": [
    {
     "data": {
      "text/plain": [
       "0    50\n",
       "Name: Number of heads, dtype: int64"
      ]
     },
     "execution_count": 76,
     "metadata": {},
     "output_type": "execute_result"
    },
    {
     "data": {
      "image/png": "[encoded data removed]",
      "text/plain": [
       "<Figure size 640x480 with 1 Axes>"
      ]
     },
     "metadata": {},
     "output_type": "display_data"
    }
   ],
   "source": [
    "head_results = simulation_results.loc[:,'Number of heads']\n",
    "minimum = head_results.min()\n",
    "maximum = head_results.max()\n",
    "\n",
    "simulation_results.hist(\n",
    "    'Number of heads',\n",
    "    rwidth = .95, \n",
    "    bins = np.arange(minimum, maximum, 1),\n",
    "    density = True\n",
    ")\n",
    "\n",
    "head_results.mode()"
   ]
  },
  {
   "cell_type": "markdown",
   "metadata": {},
   "source": [
    "### 9.3.3 Example: Moves in Monopoly"
   ]
  },
  {
   "cell_type": "code",
   "execution_count": 77,
   "metadata": {},
   "outputs": [
    {
     "data": {
      "text/plain": [
       "3"
      ]
     },
     "execution_count": 77,
     "metadata": {},
     "output_type": "execute_result"
    }
   ],
   "source": [
    "die = np.arange(1, 7)\n",
    "sum(np.random.choice(die, 2))"
   ]
  },
  {
   "cell_type": "code",
   "execution_count": 78,
   "metadata": {},
   "outputs": [],
   "source": [
    "def one_simulated_move():\n",
    "    return sum(np.random.choice(die, 2))"
   ]
  },
  {
   "cell_type": "code",
   "execution_count": 83,
   "metadata": {},
   "outputs": [],
   "source": [
    "num_repetitions = 10_000\n",
    "\n",
    "moves = []\n",
    "for _ in range(num_repetitions):\n",
    "    new_move = one_simulated_move()\n",
    "    moves.append(new_move)\n",
    "\n",
    "result = pd.Series(moves)\n"
   ]
  },
  {
   "cell_type": "code",
   "execution_count": 89,
   "metadata": {},
   "outputs": [
    {
     "data": {
      "text/plain": [
       "<AxesSubplot: >"
      ]
     },
     "execution_count": 89,
     "metadata": {},
     "output_type": "execute_result"
    },
    {
     "data": {
      "image/png": "[encoded data removed]",
      "text/plain": [
       "<Figure size 640x480 with 1 Axes>"
      ]
     },
     "metadata": {},
     "output_type": "display_data"
    }
   ],
   "source": [
    "minimum = result.min()\n",
    "maximum = result.max()\n",
    "\n",
    "result.hist(\n",
    "    density=True, \n",
    "    bins = np.arange(1.5, 12.6, 1),\n",
    "    rwidth = .95\n",
    ")"
   ]
  },
  {
   "cell_type": "markdown",
   "metadata": {},
   "source": [
    "### 9.4.2 Monty Hall Problem simulation"
   ]
  },
  {
   "cell_type": "code",
   "execution_count": 93,
   "metadata": {},
   "outputs": [
    {
     "data": {
      "text/plain": [
       "('second goat', 'first goat', None)"
      ]
     },
     "execution_count": 93,
     "metadata": {},
     "output_type": "execute_result"
    }
   ],
   "source": [
    "goats = ['first goat', 'second goat']\n",
    "\n",
    "def other_goat(x):\n",
    "    if x == 'first goat':\n",
    "        return 'second goat'\n",
    "    elif x == 'second goat':\n",
    "        return 'first goat'\n",
    "\n",
    "other_goat('first goat'), other_goat('second goat'), other_goat('watermelon')"
   ]
  },
  {
   "cell_type": "code",
   "execution_count": 96,
   "metadata": {},
   "outputs": [],
   "source": [
    "hidden_behind_doors = np.append(goats, 'car')\n",
    "\n"
   ]
  },
  {
   "cell_type": "code",
   "execution_count": 165,
   "metadata": {},
   "outputs": [],
   "source": [
    "outcome = []\n",
    "\n",
    "def monty_hall_game():\n",
    "    contestant_guess = np.random.choice(hidden_behind_doors)\n",
    "    if contestant_guess == 'first goat':\n",
    "        return [contestant_guess, 'second goat', 'car']\n",
    "    \n",
    "    if contestant_guess == 'second goat':\n",
    "        return [contestant_guess, 'first goat', 'car']\n",
    "\n",
    "    if contestant_guess == 'car':\n",
    "        revealed = np.random.choice(goats)\n",
    "        return [contestant_guess, revealed, other_goat(revealed)]\n"
   ]
  },
  {
   "cell_type": "code",
   "execution_count": 148,
   "metadata": {},
   "outputs": [
    {
     "ename": "AttributeError",
     "evalue": "'NoneType' object has no attribute 'to_frame'",
     "output_type": "error",
     "traceback": [
      "\u001b[1;31m---------------------------------------------------------------------------\u001b[0m",
      "\u001b[1;31mAttributeError\u001b[0m                            Traceback (most recent call last)",
      "Cell \u001b[1;32mIn [148], line 1\u001b[0m\n\u001b[1;32m----> 1\u001b[0m monty_hall_game()\u001b[39m.\u001b[39;49mto_frame()\n",
      "\u001b[1;31mAttributeError\u001b[0m: 'NoneType' object has no attribute 'to_frame'"
     ]
    }
   ],
   "source": [
    "monty_hall_game().to_frame()"
   ]
  },
  {
   "cell_type": "code",
   "execution_count": 201,
   "metadata": {},
   "outputs": [
    {
     "data": {
      "text/plain": [
       "car            4\n",
       "second goat    3\n",
       "first goat     3\n",
       "Name: Guess, dtype: int64"
      ]
     },
     "metadata": {},
     "output_type": "display_data"
    },
    {
     "data": {
      "text/plain": [
       "car            6\n",
       "second goat    3\n",
       "first goat     1\n",
       "Name: Remaining, dtype: int64"
      ]
     },
     "metadata": {},
     "output_type": "display_data"
    }
   ],
   "source": [
    "outcome = pd.DataFrame(columns = ['Guess', 'Revealed', 'Remaining'])\n",
    "\n",
    "for i in range(10):\n",
    "    outcome.loc[len(outcome)] = monty_hall_game()\n",
    "    \n",
    "original_choice = outcome['Guess'].value_counts()\n",
    "\n",
    "\n",
    "remaining_door = outcome['Remaining'].value_counts()\n",
    "\n",
    "display(original_choice)\n",
    "display(remaining_door)\n",
    "\n"
   ]
  }
 ],
 "metadata": {
  "kernelspec": {
   "display_name": "Python 3.10.5 ('numpy_practice': venv)",
   "language": "python",
   "name": "python3"
  },
  "language_info": {
   "codemirror_mode": {
    "name": "ipython",
    "version": 3
   },
   "file_extension": ".py",
   "mimetype": "text/x-python",
   "name": "python",
   "nbconvert_exporter": "python",
   "pygments_lexer": "ipython3",
   "version": "3.10.5"
  },
  "orig_nbformat": 4,
  "vscode": {
   "interpreter": {
    "hash": "506e1314e50230895a36f7e997360677417938187e89a86875e6b8661373709a"
   }
  }
 },
 "nbformat": 4,
 "nbformat_minor": 2
}
