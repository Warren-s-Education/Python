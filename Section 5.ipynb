{
 "cells": [
  {
   "cell_type": "markdown",
   "metadata": {},
   "source": [
    "# Section 5: Data Structures & Algorithms in Python"
   ]
  },
  {
   "cell_type": "markdown",
   "metadata": {},
   "source": [
    "## Dynamic Arrays and Amortization"
   ]
  },
  {
   "cell_type": "markdown",
   "metadata": {},
   "source": [
    "The list data structure probably maintains state information with:\n",
    "\n",
    "        _n: The number of actual elements currently stored in the list.\n",
    "        \n",
    "        _capacity: The maximum number of elements that could be stored in\n",
    "        the currently allocated array.\n",
    "\n",
    "        _A: The reference to the currently allocated array (initially None)"
   ]
  },
  {
   "cell_type": "markdown",
   "metadata": {},
   "source": [
    "Empirical evidence that `lists` are dynamic:"
   ]
  },
  {
   "cell_type": "code",
   "execution_count": null,
   "metadata": {},
   "outputs": [],
   "source": [
    "import sys\n",
    "from pandas import DataFrame\n",
    "\n",
    "information = DataFrame(columns=['_n', 'size'])\n",
    "\n",
    "data = []\n",
    "length = []\n",
    "size = []\n",
    "\n",
    "for k in range(20):\n",
    "    length += [len(data)]\n",
    "    size += [sys.getsizeof(data)]\n",
    "    data += [None]\n",
    "\n",
    "rows = [{\"_n\": length, \"size\": size} for length, size in zip(length, size)]\n",
    "information = DataFrame(rows)\n",
    "information.set_index(\"_n\", inplace=True)\n",
    "\n",
    "display(information.head())"
   ]
  },
  {
   "cell_type": "markdown",
   "metadata": {},
   "source": [
    "### Concept a Dynamic Array\n",
    "\n",
    "The `list` data structure must be able to grow.\n",
    "\n",
    "1. Allocate a new array B with larger capacity.\n",
    "\n",
    "2. Set $B[i] = A[i]$, for $i=0,...,n-1$, where n denotes current number of items.\n",
    "\n",
    "3. Set $A = B$; now $B$ is the array that supports the list.\n",
    "\n",
    "4. Insert the new element in the new array $B$"
   ]
  },
  {
   "cell_type": "markdown",
   "metadata": {},
   "source": [
    "### How large to make the new array $B$?\n",
    "\n",
    "Twice the size of $A$."
   ]
  },
  {
   "cell_type": "markdown",
   "metadata": {},
   "source": [
    "### Implementing a Dynamic Array"
   ]
  },
  {
   "cell_type": "code",
   "execution_count": null,
   "metadata": {},
   "outputs": [],
   "source": [
    "import ctypes                                   # Provides low-level arrays.\n",
    "\n",
    "class DynamicArray:\n",
    "    \"\"\"A dynamic array class akin to a simplified Python list.\"\"\"\n",
    "\n",
    "    def __init__(self):\n",
    "        \"\"\"Create an empty array.\"\"\"\n",
    "\n",
    "        self._n = 0                             # Count of actual elements.\n",
    "        self._capacity = 1                      # Default array capacity.\n",
    "        self._A = (self\n",
    "            ._make_array(self._capacity))        # Low-level array.\n",
    "\n",
    "    def __len__(self):\n",
    "        \"\"\"Return number of elements stored in the array.\"\"\"\n",
    "        return self._n\n",
    "\n",
    "    def __getitem__(self, k):\n",
    "        if not 0 <= k < self._n:\n",
    "            raise IndexError('invalid index')\n",
    "        return self._A[k]\n",
    "\n",
    "    def append(self, obj):\n",
    "        \"\"\"Add an object to end of array.\"\"\"\n",
    "        if self._n == self._capacity:          # Not enough room.\n",
    "            self._resize(2 * self._capacity)   # So double capacity.\n",
    "        self._A[self._n] = obj\n",
    "        self._n += 1\n",
    "\n",
    "    def _resize(self, c):\n",
    "        \"\"\"Resize internal array to capacity c.\"\"\"\n",
    "        B = self._make_array(c)                # New (bigger) array.\n",
    "        for k in range(self._n):\n",
    "            B[k] = self._A[k]\n",
    "        self._A = B                            # Use the bigger array.\n",
    "        self._capacity = c\n",
    "\n",
    "    def _make_array(self, c):\n",
    "        \"\"\"Return new array with capacity c.\"\"\"\n",
    "        return (c * ctypes.py_object)()"
   ]
  },
  {
   "cell_type": "markdown",
   "metadata": {},
   "source": [
    "### Practice implementing a dynamic array"
   ]
  },
  {
   "cell_type": "code",
   "execution_count": null,
   "metadata": {},
   "outputs": [],
   "source": [
    "class DynamicArray:\n",
    "    \"\"\"A dynamic array akin to a Python list.append\n",
    "    \n",
    "    -----\n",
    "    Attributes\n",
    "\n",
    "    _n:\n",
    "        The number of stored elements.\n",
    "    _capacity:\n",
    "        The total capacity of the array.\n",
    "    _A:\n",
    "        The low-level array.\n",
    "\n",
    "    -----\n",
    "    Functions:\n",
    "\n",
    "    __init__():\n",
    "        Constructor.\n",
    "\n",
    "    __len__():\n",
    "        Return the number of elements stored in the array.\n",
    "\n",
    "    __getitem__(k):\n",
    "        Return the elment at index k.\n",
    "    \n",
    "    _resize(c):\n",
    "        Resize the internal array to capacity c.\n",
    "\n",
    "    _make_array(c):\n",
    "        Make an array of capacity c.\n",
    "\n",
    "    append(element):\n",
    "        Add an element to the end of the dynamic array.\n",
    "    \"\"\""
   ]
  },
  {
   "cell_type": "code",
   "execution_count": null,
   "metadata": {},
   "outputs": [],
   "source": [
    "class DynamicArray1:\n",
    "    \"\"\"A basic array akin to Python's list.\n",
    "\n",
    "    -----\n",
    "    Attributes\n",
    "\n",
    "        _n\n",
    "            Count of actual number of stored elements.\n",
    "        \n",
    "        _capacity\n",
    "            Count of capacity of array.\n",
    "        \n",
    "        _A \n",
    "            low-level array\n",
    "\n",
    "    __getitem__(k)\n",
    "        Returns the element at index k\n",
    "\n",
    "    append(element):\n",
    "        Add an element to the end of the dynamic array.\n",
    "    \"\"\"\n",
    "\n",
    "    def __init__(self):\n",
    "        self._n = 0\n",
    "        self._capacity = 1\n",
    "        self._A = self._make_array(self._capacity) \n",
    "\n",
    "    def _make_array(self, capacity: int):\n",
    "        \"\"\"Return new array with the given capacity.\"\"\"\n",
    "        return (capacity * ctypes.py_object)() \n",
    "\n",
    "    def __getitem__(self, k:int):\n",
    "        \"\"\"Return elemtn stored at index k\"\"\"\n",
    "        if not (0 <= k < self._n):\n",
    "            raise IndexError('invalid index')\n",
    "            return self._A[k]\n",
    "\n",
    "    def append(self, element):\n",
    "        if self._n == self._capacity:\n",
    "            self._resize(2 * self._capacity)\n",
    "        self._A[self._n] = element\n",
    "        self._n += 1\n",
    "\n",
    "    def _resize(self, size):\n",
    "        B = self._make_array(size)\n",
    "        for i in range(self._n):\n",
    "            B[i] = self._A[i]\n",
    "        self._A = B\n",
    "        self._capacity = size\n",
    "\n",
    "    def __len__(self):\n",
    "        return self._n"
   ]
  },
  {
   "cell_type": "code",
   "execution_count": null,
   "metadata": {},
   "outputs": [],
   "source": [
    "    \"\"\"Return new array with capacity c.\"\"\"\n",
    "        return (c * ctypes.py_object)()\n",
    "\n",
    "list_ = [1,2,3]\n",
    "\n",
    "overloaded_addition_assignment = \"list_ += [4]\"\n",
    "append_list_method = \"list_.append(4)\"\n",
    "\n",
    "case_1 = f\"{ overloaded_addition_assignment = }\"\n",
    "case_2 = f\"{ append_list_method = }\"\n",
    "\n",
    "print(f\"{case_1:#^79}\")\n",
    "dis(overloaded_addition_assignment)\n",
    "\n",
    "print(f\"{case_2:#^79}\")\n",
    "dis(append_list_method)\n",
    "\n"
   ]
  },
  {
   "cell_type": "markdown",
   "metadata": {},
   "source": [
    "# Amortised Analysis of Dynamic Arrays"
   ]
  },
  {
   "cell_type": "code",
   "execution_count": null,
   "metadata": {},
   "outputs": [],
   "source": [
    "from array import array\n",
    "import numpy as np\n",
    "from sys import getsizeof"
   ]
  },
  {
   "cell_type": "markdown",
   "metadata": {},
   "source": [
    "## Rule of Geometric Increase\n",
    "\n",
    "\n",
    "\n",
    "## Beware of Arithmetic Progression\n",
    "\n",
    "Performing a series of append operations on an initially empty dynamic array with a fixed increment of each resize takes \n",
    "$\\Omega(n^2)$ time."
   ]
  },
  {
   "cell_type": "code",
   "execution_count": null,
   "metadata": {},
   "outputs": [],
   "source": []
  },
  {
   "cell_type": "markdown",
   "metadata": {},
   "source": [
    "# Memory Usage and Shrinking an Array\n",
    "\n",
    "Using geometric increase of capacity in a dynamic array guarantees that the final array size is proportional to the overall number of elements; that is, the data structure uses $O(n)$ memory.\n",
    "\n",
    "## Guaranteeing proportionality when the container provides removal operations\n",
    "\n",
    "The risk is that repeated insertions may cause the underlying array to grow arbitrarily large, and that there will no longer be a proprtional relationship between the actual number of elements and the array capacity after many elements are removed.\n",
    "\n",
    "        Excercise C-5.16 explores a halving strategy when actual elements fall below one fourth the capacity.\n",
    "\n",
    "        Exercises C-5.17 and C-5.18 explore the amortized analysis of such a strategy."
   ]
  },
  {
   "cell_type": "markdown",
   "metadata": {},
   "source": [
    "# 5.3.3 Python's List Class"
   ]
  },
  {
   "cell_type": "markdown",
   "metadata": {},
   "source": [
    "### Fragment 5.1 and 5.2\n"
   ]
  },
  {
   "cell_type": "code",
   "execution_count": null,
   "metadata": {},
   "outputs": [],
   "source": [
    "import sys\n",
    "from pandas import DataFrame\n",
    "\n",
    "data = []\n",
    "length = []\n",
    "bytes_ = []\n",
    "\n",
    "for k in range(40):\n",
    "    length.append(len(data))\n",
    "    bytes_.append(sys.getsizeof(data))\n",
    "    data.append(None)\n",
    "\n",
    "\n",
    "\n",
    "first_20 = (\n",
    "    DataFrame(\n",
    "    {'length': length[:20], \n",
    "    'bytes':bytes_[:20]}).T\n",
    "    .style.background_gradient(axis = 1)\n",
    ")\n",
    "\n",
    "second_20 = (\n",
    "    DataFrame(\n",
    "    {'length': length[20:], \n",
    "    'bytes':bytes_[20:]}).T\n",
    "    .style.background_gradient(axis = 1)\n",
    ")\n",
    "\n",
    "display('first 20', first_20, 'second 20', second_20)"
   ]
  },
  {
   "cell_type": "markdown",
   "metadata": {},
   "source": [
    "### Fragment 5.4: Measuring Amortized Cost of $List().append$"
   ]
  },
  {
   "cell_type": "code",
   "execution_count": null,
   "metadata": {},
   "outputs": [],
   "source": [
    "from time import time\n",
    "from pandas import DataFrame\n",
    "\n",
    "def compute_average(n):\n",
    "    \"\"\"Perform n appends to an empty list and return average time elapsed.\"\"\"\n",
    "    data = []\n",
    "    start = time()\n",
    "    for k in range(n):\n",
    "        data.append(None)\n",
    "    end = time()\n",
    "    return (end - start)/n\n",
    "\n",
    "n = [10**i for i in range(2, 10)]\n",
    "\n",
    "def add_1(n):\n",
    "    return n + 1\n",
    "\n",
    "append_time = DataFrame(\n",
    "    {'n': n,\n",
    "    'microseconds': [compute_average(operations) for operations in n]}\n",
    ").T\n",
    "\n",
    "display(append_time.multiply(10**9))\n"
   ]
  },
  {
   "cell_type": "markdown",
   "metadata": {},
   "source": [
    "# 5.4 Efficiency in Python's Sequence Types\n",
    "\n",
    "## 5.4.1 Python's List and Tuple classes\n",
    "\n",
    "**Non-mutating behaviours**\n",
    "Asymptotic performance of nonmutating behaviours of the $list$ and $tuple$ class.\n",
    "| Operation | Running Time| Reason |\n",
    "| --- | --- | --- | \n",
    "|len(data)|O(1)||\n",
    "|data[j] | O(1)||\n",
    "|data.count(value)|O(n)||\n",
    "|data.index(value)|O(k+1)||\n",
    "|value in data|O(k+1)||\n",
    "|data1 == data2|O(k+1)||\n",
    "|data[j:k]|O(k-j+1)||\n",
    "|data1 + data2|O(n_1 + n_2)||\n",
    "|c*data|O(cn)||\n",
    "\n",
    "Identifiers $data, data1$ and $data2$ designate instances of the $list$ or $tuple$ class, and $n, n_1$ and $n_2$ their respective lengths.\n",
    "\n",
    "In the containment check and index method, $k$ represents the index of the leftmost occurence (with $k = n$ if there is no occurence).\n",
    "\n",
    "For comparisons between sequences, $k$ denotes the leftmost index at which they disagree or else $k = min(n_1, n_2)$."
   ]
  },
  {
   "cell_type": "markdown",
   "metadata": {},
   "source": [
    "**Mutating behaviours**\n",
    "| Operation | Running Time| Reason |\n",
    "| --- | --- | --- | \n",
    "|data[j] = value|$O(1)$||\n",
    "|data.append(value) |$O(1)$*||\n",
    "|data.insert(k, value)|$O(n-k+1)$*||\n",
    "|data.pop()|$O(1)$*||\n",
    "|del data[k]|$O(n-k)$*||\n",
    "|data.pop(k)|$O(n-k)$*||\n",
    "|data.remove(value)|$O(n)$*||\n",
    "|data1.extend(data2)|$O(n_2)$*||\n",
    "|data.reverse()|$O(n)$||\n",
    "|data.sort()|$O(n \\log n)$||\n",
    "\n",
    "*: amortized"
   ]
  },
  {
   "cell_type": "markdown",
   "metadata": {},
   "source": [
    "## Adding Insert behaviour to DynamicArray class"
   ]
  },
  {
   "cell_type": "code",
   "execution_count": null,
   "metadata": {},
   "outputs": [],
   "source": [
    "import ctypes\n",
    "\n",
    "class DynamicArray:\n",
    "    \"\"\"A data structure akin to Python's List.\n",
    "\n",
    "    ----\n",
    "    Public Interface\n",
    "\n",
    "    append(element)\n",
    "        Adds the given element to the end of the array.\n",
    "\n",
    "    insert(k, element)\n",
    "        Inserts the given element at position k of the array.\n",
    "\n",
    "    __getitem__(index)\n",
    "        Returns the element stored at the given index in the underlying array.\n",
    "\n",
    "    ----\n",
    "    Private methods\n",
    "\n",
    "    _make_array(capacity)\n",
    "        Returns an array of the given capacity.\n",
    "\n",
    "    _resize(current_capacity)\n",
    "        Returns an array that is twice the current given capacity \n",
    "    \"\"\"\n",
    "\n",
    "    def __init__(self):\n",
    "        self._n = 0\n",
    "        self._capacity = 1\n",
    "        self._A = self._make_array(self._capacity)\n",
    "    \n",
    "    def _make_array(self, capacity):\n",
    "        return (capacity * ctypes.py_object)()\n",
    "\n",
    "    def _resize(self, new_size):\n",
    "        B = self._make_array(new_size)\n",
    "        for i in range(self._n):\n",
    "            B[i] = self._A[i]\n",
    "        self._A = B\n",
    "        self._capacity = new_size\n",
    "\n",
    "    def __getitem__(self, index):\n",
    "        if not (0 <= k < self._n):\n",
    "            raise IndexError('Index not within range.')\n",
    "        return _A[k]\n",
    "\n",
    "    def append(self, element):\n",
    "        if (self._n == self._capacity):\n",
    "            self._resize(2 * capacity)\n",
    "        self._A[self._n] = element\n",
    "\n",
    "    def __len__(self):\n",
    "        return self._n\n",
    "\n",
    "    def insert(self, index, element):\n",
    "        \"\"\"Insert value at index, shifting subsequent elements rightward.\"\"\"\n",
    "        if self._n == self._capacity:\n",
    "            self._resize(self._capacity * 2)\n",
    "        for j in range(self._n, index, -1):\n",
    "            self._A[j] = self._A[j-1]\n",
    "        self._A[index] = element\n",
    "        self._n += 1\n"
   ]
  },
  {
   "cell_type": "markdown",
   "metadata": {},
   "source": [
    "### Exploring DynamicArray.insert() runtime costs empirically"
   ]
  },
  {
   "cell_type": "code",
   "execution_count": null,
   "metadata": {},
   "outputs": [],
   "source": [
    "%%timeit\n",
    "\n",
    "data = DynamicArray()\n",
    "\n",
    "for n in range(1000):\n",
    "    data.insert(0, None)"
   ]
  },
  {
   "cell_type": "code",
   "execution_count": null,
   "metadata": {},
   "outputs": [],
   "source": [
    "%%timeit\n",
    "\n",
    "data = DynamicArray()\n",
    "\n",
    "for n in range(1000):\n",
    "    data.insert(n//2, None)"
   ]
  },
  {
   "cell_type": "code",
   "execution_count": null,
   "metadata": {},
   "outputs": [],
   "source": [
    "%%timeit\n",
    "\n",
    "data = DynamicArray()\n",
    "\n",
    "for n in range(1000):\n",
    "    data.insert(n, None)"
   ]
  },
  {
   "cell_type": "markdown",
   "metadata": {},
   "source": [
    "# Removing Elements from a List"
   ]
  },
  {
   "cell_type": "code",
   "execution_count": null,
   "metadata": {},
   "outputs": [],
   "source": [
    "import ctypes\n",
    "\n",
    "class DynamicArray:\n",
    "    \"\"\"A data structure akin to Python's List.\n",
    "\n",
    "    ----\n",
    "    Public Interface\n",
    "\n",
    "    append(element)\n",
    "        Adds the given element to the end of the array.\n",
    "\n",
    "    insert(k, element)\n",
    "        Inserts the given element at position k of the array.\n",
    "\n",
    "    __getitem__(index)\n",
    "        Returns the element stored at the given index in the underlying array.\n",
    "\n",
    "    ----\n",
    "    Private methods\n",
    "\n",
    "    _make_array(capacity)\n",
    "        Returns an array of the given capacity.\n",
    "\n",
    "    _resize(current_capacity)\n",
    "        Returns an array that is twice the current given capacity \n",
    "    \"\"\"\n",
    "\n",
    "    def __init__(self):\n",
    "        self._n = 0\n",
    "        self._capacity = 1\n",
    "        self._A = self._make_array(self._capacity)\n",
    "    \n",
    "    def _make_array(self, capacity):\n",
    "        return (capacity * ctypes.py_object)()\n",
    "\n",
    "    def _resize(self, new_size):\n",
    "        B = self._make_array(new_size)\n",
    "        for i in range(self._n):\n",
    "            B[i] = self._A[i]\n",
    "        self._A = B\n",
    "        self._capacity = new_size\n",
    "\n",
    "    def __getitem__(self, index):\n",
    "        if not (0 <= k < self._n):\n",
    "            raise IndexError('Index not within range.')\n",
    "        return _A[k]\n",
    "\n",
    "    def append(self, element):\n",
    "        if (self._n == self._capacity):\n",
    "            self._resize(2 * capacity)\n",
    "        self._A[self._n] = element\n",
    "\n",
    "    def __len__(self):\n",
    "        return self._n\n",
    "\n",
    "    def remove(self, element):\n",
    "        \"\"\"Remove first occurence of a value (or raise ValueError\"\"\"\n",
    "        index = 0\n",
    "        for i in range(self._n):\n",
    "            if self._A[i] == element:               # found a match.\n",
    "                for j in range(i, self._n - 1):     # shifts others to fill gap.\n",
    "                    self._A[j] = self._A[j+1]\n",
    "                self._A[self._n - 1] = None         # help garbage collection\n",
    "                self._n -= 1                        # there is now one less item\n",
    "                return                              # exit immediately\n",
    "        else:\n",
    "            raise ValueError(f\"Value ({value} not found.\")  # only reached if no match\n",
    "\n",
    "\n",
    "    def insert(self, index, element):\n",
    "        \"\"\"Insert value at index, shifting subsequent elements rightward.\"\"\"\n",
    "        if self._n == self._capacity:\n",
    "            self._resize(self._capacity * 2)\n",
    "        for j in range(self._n, index, -1):\n",
    "            self._A[j] = self._A[j-1]\n",
    "        self._A[index] = element\n",
    "        self._n += 1\n"
   ]
  },
  {
   "cell_type": "markdown",
   "metadata": {},
   "source": [
    "# Extending a List\n",
    "\n",
    "List.extend() is preferred to repeated calls to List.append() for three specific reasons. In general terms, the constant factors hidden inside the asymptotic analysis are significantly smaller.\n",
    "\n",
    "        - usually better to use an appropriate Python method because these methods are often\n",
    "        implemented natively in a compiled language (rather than interpreted in Python code)\n",
    "\n",
    "        - there is less overhead to a single function call that accomplishes all the work versus\n",
    "        many individual function calls\n",
    "\n",
    "        - increased efficiency of extend comes from the fact that the resulting size of the updated\n",
    "        list can be calculated in advance.\n",
    "\n",
    "**Exercise C-5.22** explores the relative efficiency of the two approcahes: one extend() call vs multiple append() calls "
   ]
  },
  {
   "cell_type": "markdown",
   "metadata": {},
   "source": [
    "# Constructing New Lists\n",
    "\n",
    "Asymptotically, the efficiency of the constructor options are linear to the length. But there are significant difference in practical efficiency.\n",
    "\n",
    "Thus, it is more efficient to use:\n",
    "\n",
    "        list comprehensions\n",
    "\n",
    "        the multiplication operator: [0] * n"
   ]
  },
  {
   "cell_type": "markdown",
   "metadata": {},
   "source": [
    "# 5.4.2 Python's String Class\n",
    "\n",
    "Many string methods require time that is linear in the length of the string that is produced. \n",
    "\n",
    "**Methods that produce a new string are $O(n)$**: linear in the length of the new string created.\n",
    "\n",
    "        capitalize\n",
    "        center\n",
    "        strip\n",
    "\n",
    "**Many methods that test Boolean conditions of a string**: $O(n)$ in the worst case but has short-circuiting\n",
    "\n",
    "        islower\n",
    "        isupper\n",
    "\n",
    "### Pattern Matching\n",
    "\n",
    "**Methods that depend on finding a string pattern within a larger string are interesting algorithmically**\n",
    "\n",
    "Naive method takes $O(n)$ time because we consider the $n - m + 1$ possible starting\n",
    "positions, and then spend $O(m)$ time at each starting position checking if the pattern\n",
    "matches."
   ]
  },
  {
   "cell_type": "code",
   "execution_count": null,
   "metadata": {},
   "outputs": [],
   "source": [
    "def contains(string, substring):\n",
    "    n = len(string)\n",
    "    m = len(substring)\n",
    "    for i in range(0, n - m + 1):\n",
    "        print(f\"{i = }\")\n",
    "        for j in range(i, i + m):\n",
    "            print(f\"{j = }\")\n",
    "            print(f\"{(j-i) = }\")\n",
    "            print(f\"{string[j] =}, {substring[j-i] = }\")\n",
    "            if string[j] != substring[j-i]:\n",
    "                print(\"Not the same\")\n",
    "                break\n",
    "        else:\n",
    "            print('substring found at', i)\n",
    "            return True\n",
    "    else:\n",
    "        return False"
   ]
  },
  {
   "cell_type": "code",
   "execution_count": null,
   "metadata": {},
   "outputs": [],
   "source": [
    "contains('hil', 'il')"
   ]
  },
  {
   "cell_type": "markdown",
   "metadata": {},
   "source": [
    "# Composing Strings\n",
    "\n",
    "### How to guarantee linear time composition of string composition\n",
    "\n"
   ]
  },
  {
   "cell_type": "code",
   "execution_count": null,
   "metadata": {},
   "outputs": [],
   "source": [
    "letters = ''\n",
    "for c in document:\n",
    "    if c.isalpha():\n",
    "        letters += c        \n",
    "\n",
    "# if other references to the string exist, that string object must be preserved.\n",
    "# Consequently, a new string is created in O(n) time. This makes the process O(n^2). "
   ]
  },
  {
   "cell_type": "code",
   "execution_count": 144,
   "metadata": {},
   "outputs": [
    {
     "ename": "NameError",
     "evalue": "name 'document' is not defined",
     "output_type": "error",
     "traceback": [
      "\u001b[1;31m---------------------------------------------------------------------------\u001b[0m",
      "\u001b[1;31mNameError\u001b[0m                                 Traceback (most recent call last)",
      "Cell \u001b[1;32mIn [144], line 2\u001b[0m\n\u001b[0;32m      1\u001b[0m temp \u001b[39m=\u001b[39m []\n\u001b[1;32m----> 2\u001b[0m \u001b[39mfor\u001b[39;00m c \u001b[39min\u001b[39;00m document:\n\u001b[0;32m      3\u001b[0m     \u001b[39mif\u001b[39;00m c\u001b[39m.\u001b[39misalpha():\n\u001b[0;32m      4\u001b[0m         temp\u001b[39m.\u001b[39mappend(c)\n",
      "\u001b[1;31mNameError\u001b[0m: name 'document' is not defined"
     ]
    }
   ],
   "source": [
    "temp = []\n",
    "for c in document:\n",
    "    if c.isalpha():\n",
    "        temp.append(c)\n",
    "letters = ''.join(temp)\n",
    "\n",
    "# Temp has no other references, so string can be created with a dynamic array."
   ]
  },
  {
   "cell_type": "markdown",
   "metadata": {},
   "source": [
    "Avoiding temporary list with a generator comprehension"
   ]
  },
  {
   "cell_type": "code",
   "execution_count": 149,
   "metadata": {},
   "outputs": [
    {
     "name": "stdout",
     "output_type": "stream",
     "text": [
      "4.56 µs ± 1.29 µs per loop (mean ± std. dev. of 7 runs, 100,000 loops each)\n",
      "4.25 µs ± 1.6 µs per loop (mean ± std. dev. of 7 runs, 100,000 loops each)\n"
     ]
    }
   ],
   "source": [
    "document = \"130948al;kdja ;alkdjf-019384109384 \"\n",
    "\n",
    "%timeit ''.join(c for c in document if c.isalpha())\n",
    "\n",
    "%timeit ''.join([c for c in document if c.isalpha()])\n"
   ]
  },
  {
   "cell_type": "code",
   "execution_count": 155,
   "metadata": {},
   "outputs": [
    {
     "name": "stdout",
     "output_type": "stream",
     "text": [
      "Do I know that variable? 2\n",
      "2\n"
     ]
    }
   ],
   "source": [
    "def my_function():\n",
    "    global var\n",
    "    var = 2\n",
    "    print(\"Do I know that variable?\", var)\n",
    "\n",
    "my_function()\n",
    "print(var)"
   ]
  },
  {
   "cell_type": "code",
   "execution_count": 157,
   "metadata": {},
   "outputs": [],
   "source": [
    "flag_register = 0000000000000000000000000000_000"
   ]
  },
  {
   "cell_type": "code",
   "execution_count": 158,
   "metadata": {},
   "outputs": [],
   "source": [
    "flag = 0x1234"
   ]
  },
  {
   "cell_type": "code",
   "execution_count": 159,
   "metadata": {},
   "outputs": [
    {
     "data": {
      "text/plain": [
       "0"
      ]
     },
     "execution_count": 159,
     "metadata": {},
     "output_type": "execute_result"
    }
   ],
   "source": [
    "flag & 0b00000000000000000000000000001000"
   ]
  },
  {
   "cell_type": "code",
   "execution_count": 160,
   "metadata": {},
   "outputs": [],
   "source": [
    "mask = 8"
   ]
  },
  {
   "cell_type": "code",
   "execution_count": 161,
   "metadata": {},
   "outputs": [
    {
     "name": "stdout",
     "output_type": "stream",
     "text": [
      "my bit is not set\n"
     ]
    }
   ],
   "source": [
    "if flag & mask:\n",
    "    print('my bit is set')\n",
    "else:\n",
    "    print('my bit is not set')"
   ]
  },
  {
   "cell_type": "code",
   "execution_count": 162,
   "metadata": {},
   "outputs": [],
   "source": [
    "flag = flag & ~mask\n"
   ]
  },
  {
   "cell_type": "code",
   "execution_count": 164,
   "metadata": {},
   "outputs": [
    {
     "data": {
      "text/plain": [
       "4668"
      ]
     },
     "execution_count": 164,
     "metadata": {},
     "output_type": "execute_result"
    }
   ],
   "source": [
    "flag | mask"
   ]
  },
  {
   "cell_type": "code",
   "execution_count": 165,
   "metadata": {},
   "outputs": [
    {
     "data": {
      "text/plain": [
       "4660"
      ]
     },
     "execution_count": 165,
     "metadata": {},
     "output_type": "execute_result"
    }
   ],
   "source": [
    "flag"
   ]
  },
  {
   "cell_type": "code",
   "execution_count": 166,
   "metadata": {},
   "outputs": [
    {
     "data": {
      "text/plain": [
       "4668"
      ]
     },
     "execution_count": 166,
     "metadata": {},
     "output_type": "execute_result"
    }
   ],
   "source": [
    "flag | mask"
   ]
  },
  {
   "cell_type": "code",
   "execution_count": 185,
   "metadata": {},
   "outputs": [
    {
     "data": {
      "text/plain": [
       "'0b100'"
      ]
     },
     "execution_count": 185,
     "metadata": {},
     "output_type": "execute_result"
    }
   ],
   "source": [
    "bin(4)"
   ]
  },
  {
   "cell_type": "code",
   "execution_count": 188,
   "metadata": {},
   "outputs": [
    {
     "data": {
      "text/plain": [
       "16"
      ]
     },
     "execution_count": 188,
     "metadata": {},
     "output_type": "execute_result"
    }
   ],
   "source": [
    "4 << 2"
   ]
  },
  {
   "cell_type": "code",
   "execution_count": null,
   "metadata": {},
   "outputs": [],
   "source": [
    "import ctypes\n",
    "\n",
    "class DynamicArray:\n",
    "    \"\"\"Data structure akin to Python's List.\"\"\"\n",
    "\n",
    "    def __init__(self):\n",
    "        self._n = 0\n",
    "        self._capacity = 1\n",
    "        self._A = self._make_array(capacity = 1)\n",
    "\n",
    "    def _make_array(self, capacity):\n",
    "        return (capacity * ctypes.py_object)()\n",
    "\n",
    "    def _resize(self, capacity):\n",
    "        B = self._make_array(capacity)\n",
    "        for index in range(self._n):\n",
    "            B[index] = self._A[index]\n",
    "        self._A = B\n",
    "        self._capacity = capacity\n",
    "\n",
    "    def append(self, element):\n",
    "        if self._n == self._capacity:\n",
    "            self._resize(self._capacity * 2)\n",
    "        self._A[self._n] = element\n",
    "        self._n += 1\n",
    "\n",
    "    def __getitem__(self, index):\n",
    "        if not 0 <= index < self._n:\n",
    "            raise IndexError(f\"Index {index} is not a valid index.\")\n",
    "        return self._A[index]\n",
    "\n",
    "    def insert(self,index, element):\n",
    "        if not 0 <= index <= self._n:\n",
    "            raise IndexError(\"Not valid insertion.\")\n",
    "        self._resize(self._capacity * 2)\n",
    "        for i in range(self._n, index, -1):\n",
    "            self._A[i] = self._A[i-1]\n",
    "        self._A[index] = element\n",
    "        self._n += 1\n",
    "\n",
    "    def remove(self, index):\n",
    "        if not (0 <= index < self._n):\n",
    "            raise IndexError(\"Invalid index.\")\n",
    "        for i in range(index, self._n - 1):\n",
    "            self._A[i] = self._A[i+1]\n",
    "        self._A[self._n - 1] = None\n",
    "        self._n -= 1\n",
    "\n",
    "    # def contains(self, index, substring):\n",
    "    #     if not (0 <= index < self._n):\n",
    "    #         raise IndexError('Not a valid index')\n",
    "    #     element = self._A[index]\n",
    "    #     n = len(element)\n",
    "    #     m = len(substring)\n",
    "\n",
    "    #     for i in range(0, n - m + 1):\n",
    "    #         for j in range(i, i + m):\n",
    "    #             if element[j] != substring[j - i]:\n",
    "    #                 break\n",
    "    #         else:\n",
    "    #             print(\"Element found from index\", i)\n",
    "    #             return True\n",
    "    #     else:\n",
    "    #         return False\n",
    "\n",
    "    \n",
    "\n"
   ]
  },
  {
   "cell_type": "code",
   "execution_count": 238,
   "metadata": {},
   "outputs": [],
   "source": [
    "def contains(T,P):\n",
    "    try:\n",
    "        m, n = len(T), len(P)\n",
    "        if n > m:\n",
    "            raise ValueError(f\"For {T = } to contain {P = }, P cannot be larger than T\")\n",
    "        for i in range(m - n + 1):\n",
    "            for j in range(i, i + n):\n",
    "                print('indices:',j,j-i)\n",
    "                print('values:', T[j], P[j-i])\n",
    "                if T[j] != P[j - i]:\n",
    "                    print(\"Not a match.\")\n",
    "                    break\n",
    "                print(\"A match.\")\n",
    "            else:\n",
    "                print(\"Complete match.\")\n",
    "                return True\n",
    "        else:\n",
    "            return False\n",
    "    except IndexError:\n",
    "        print(f\"{n = }\\n{m = }\\n{i = }\\n{j = }\\n{T[j] = }\\n{T[j-i] = }\")"
   ]
  },
  {
   "cell_type": "code",
   "execution_count": 239,
   "metadata": {},
   "outputs": [
    {
     "name": "stdout",
     "output_type": "stream",
     "text": [
      "indices: 0 0\n",
      "values: 0 h\n",
      "Not a match.\n",
      "indices: 1 0\n",
      "values: 0 h\n",
      "Not a match.\n",
      "indices: 2 0\n",
      "values: 0 h\n",
      "Not a match.\n",
      "indices: 3 0\n",
      "values: h h\n",
      "A match.\n",
      "indices: 4 1\n",
      "values: e e\n",
      "A match.\n",
      "indices: 5 2\n",
      "values: l l\n",
      "A match.\n",
      "Complete match.\n"
     ]
    },
    {
     "data": {
      "text/plain": [
       "True"
      ]
     },
     "execution_count": 239,
     "metadata": {},
     "output_type": "execute_result"
    }
   ],
   "source": [
    "contains(\"000hello\", \"hel\")"
   ]
  },
  {
   "cell_type": "code",
   "execution_count": 243,
   "metadata": {},
   "outputs": [],
   "source": [
    "def find_brute(T,P):\n",
    "    \"\"\"Return the lowest index of T at which a substring P begins (or else -1).\"\"\"\n",
    "    n,m = len(T), len(P)\n",
    "    for i in range(n - m + 1):\n",
    "        k = 0\n",
    "        while k < m and T[i+k]==P[k]:\n",
    "            k += 1\n",
    "        if k == m:\n",
    "            return i\n",
    "    else:\n",
    "        return -1"
   ]
  },
  {
   "cell_type": "code",
   "execution_count": 245,
   "metadata": {},
   "outputs": [
    {
     "data": {
      "text/plain": [
       "-1"
      ]
     },
     "execution_count": 245,
     "metadata": {},
     "output_type": "execute_result"
    }
   ],
   "source": [
    "find_brute(\"this\", \"iss\")"
   ]
  },
  {
   "cell_type": "code",
   "execution_count": null,
   "metadata": {},
   "outputs": [],
   "source": [
    "dynamic = DynamicArray()\n",
    "dynamic.append('Hello')\n",
    "dynamic.append(1)\n",
    "dynamic.append(2)\n",
    "# dynamic.insert(0, -1)\n",
    "# dynamic.remove(2)\n",
    "print(dynamic[0])\n",
    "print(dynamic[1])\n",
    "print(dynamic[2])\n",
    "\n",
    "dynamic.contains(0, 'o')"
   ]
  },
  {
   "cell_type": "markdown",
   "metadata": {},
   "source": [
    "Non-mutating Operations\n",
    "\n",
    "**Scalar operations**\n",
    "\n",
    "$O(1)$data[j]                        \n",
    "\n",
    "        len(data)\n",
    "        data.index(value)\n",
    "\n",
    "**Iteration operations**\n",
    "\n",
    "        data1 == data2          $O()$\n",
    "        value in data\n",
    "        data.count(value)\n",
    "\n",
    "**Creation operations**\n",
    "\n",
    "        data1 + data2\n",
    "        data[j:k]\n",
    "        c * data\n",
    "        "
   ]
  },
  {
   "cell_type": "markdown",
   "metadata": {},
   "source": [
    "len\n",
    "__getitem__\n",
    "\n",
    "value in data\n",
    "data.count(value)\n",
    "data.index(value)\n",
    "\n",
    "data[j:k]\n",
    "data1 + data2\n"
   ]
  },
  {
   "cell_type": "markdown",
   "metadata": {},
   "source": [
    "Asymptotic performance of nonmutating behaviours of the $list$ and $tuple$ class.\n",
    "| Operation | Running Time| Reason |\n",
    "| --- | --- | --- | \n",
    "|len(data)|O(1)||\n",
    "|data[j] | O(1)||\n",
    "|data.count(value)|O(n)||\n",
    "|data.index(value)|O(k+1)||\n",
    "|value in data|O(k+1)||\n",
    "|data1 == data2|O(k+1)||\n",
    "|data[j:k]|O(k-j+1)||\n",
    "|data1 + data2|O(n_1 + n_2)||\n",
    "|c*data|O(cn)||"
   ]
  },
  {
   "cell_type": "markdown",
   "metadata": {},
   "source": [
    "Mutating Operations"
   ]
  }
 ],
 "metadata": {
  "kernelspec": {
   "display_name": "Python 3.10.5 64-bit",
   "language": "python",
   "name": "python3"
  },
  "language_info": {
   "codemirror_mode": {
    "name": "ipython",
    "version": 3
   },
   "file_extension": ".py",
   "mimetype": "text/x-python",
   "name": "python",
   "nbconvert_exporter": "python",
   "pygments_lexer": "ipython3",
   "version": "3.10.5"
  },
  "orig_nbformat": 4,
  "vscode": {
   "interpreter": {
    "hash": "369f2c481f4da34e4445cda3fffd2e751bd1c4d706f27375911949ba6bb62e1c"
   }
  }
 },
 "nbformat": 4,
 "nbformat_minor": 2
}
