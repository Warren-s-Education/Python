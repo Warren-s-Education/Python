{
 "cells": [
  {
   "cell_type": "markdown",
   "metadata": {},
   "source": [
    "# Section 5: Data Structures & Algorithms in Python"
   ]
  },
  {
   "cell_type": "markdown",
   "metadata": {},
   "source": [
    "## Dynamic Arrays and Amortization"
   ]
  },
  {
   "cell_type": "markdown",
   "metadata": {},
   "source": [
    "The list data structure probably maintains state information with:\n",
    "\n",
    "        _n: The number of actual elements currently stored in the list.\n",
    "        \n",
    "        _capacity: The maximum number of elements that could be stored in\n",
    "        the currently allocated array.\n",
    "\n",
    "        _A: The reference to the currently allocated array (initially None)"
   ]
  },
  {
   "cell_type": "markdown",
   "metadata": {},
   "source": [
    "Empirical evidence that `lists` are dynamic:"
   ]
  },
  {
   "cell_type": "code",
   "execution_count": 15,
   "metadata": {},
   "outputs": [
    {
     "data": {
      "text/html": [
       "<div>\n",
       "<style scoped>\n",
       "    .dataframe tbody tr th:only-of-type {\n",
       "        vertical-align: middle;\n",
       "    }\n",
       "\n",
       "    .dataframe tbody tr th {\n",
       "        vertical-align: top;\n",
       "    }\n",
       "\n",
       "    .dataframe thead th {\n",
       "        text-align: right;\n",
       "    }\n",
       "</style>\n",
       "<table border=\"1\" class=\"dataframe\">\n",
       "  <thead>\n",
       "    <tr style=\"text-align: right;\">\n",
       "      <th></th>\n",
       "      <th>size</th>\n",
       "    </tr>\n",
       "    <tr>\n",
       "      <th>_n</th>\n",
       "      <th></th>\n",
       "    </tr>\n",
       "  </thead>\n",
       "  <tbody>\n",
       "    <tr>\n",
       "      <th>0</th>\n",
       "      <td>56</td>\n",
       "    </tr>\n",
       "    <tr>\n",
       "      <th>1</th>\n",
       "      <td>64</td>\n",
       "    </tr>\n",
       "    <tr>\n",
       "      <th>2</th>\n",
       "      <td>120</td>\n",
       "    </tr>\n",
       "    <tr>\n",
       "      <th>3</th>\n",
       "      <td>120</td>\n",
       "    </tr>\n",
       "    <tr>\n",
       "      <th>4</th>\n",
       "      <td>120</td>\n",
       "    </tr>\n",
       "  </tbody>\n",
       "</table>\n",
       "</div>"
      ],
      "text/plain": [
       "    size\n",
       "_n      \n",
       "0     56\n",
       "1     64\n",
       "2    120\n",
       "3    120\n",
       "4    120"
      ]
     },
     "metadata": {},
     "output_type": "display_data"
    }
   ],
   "source": [
    "import sys\n",
    "from pandas import DataFrame\n",
    "\n",
    "information = DataFrame(columns=['_n', 'size'])\n",
    "\n",
    "data = []\n",
    "length = []\n",
    "size = []\n",
    "\n",
    "for k in range(20):\n",
    "    length += [len(data)]\n",
    "    size += [sys.getsizeof(data)]\n",
    "    data += [None]\n",
    "\n",
    "rows = [{\"_n\": length, \"size\": size} for length, size in zip(length, size)]\n",
    "information = DataFrame(rows)\n",
    "information.set_index(\"_n\", inplace=True)\n",
    "\n",
    "display(information.head())"
   ]
  },
  {
   "cell_type": "markdown",
   "metadata": {},
   "source": [
    "### Concept a Dynamic Array\n",
    "\n",
    "The `list` data structure must be able to grow.\n",
    "\n",
    "1. Allocate a new array B with larger capacity.\n",
    "\n",
    "2. Set $B[i] = A[i]$, for $i=0,...,n-1$, where n denotes current number of items.\n",
    "\n",
    "3. Set $A = B$; now $B$ is the array that supports the list.\n",
    "\n",
    "4. Insert the new element in the new array $B$"
   ]
  },
  {
   "cell_type": "markdown",
   "metadata": {},
   "source": [
    "### How large to make the new array $B$?\n",
    "\n",
    "Twice the size of $A$."
   ]
  },
  {
   "cell_type": "markdown",
   "metadata": {},
   "source": [
    "### Implementing a Dynamic Array"
   ]
  },
  {
   "cell_type": "code",
   "execution_count": 16,
   "metadata": {},
   "outputs": [],
   "source": [
    "import ctypes                                   # Provides low-level arrays.\n",
    "\n",
    "class DynamicArray:\n",
    "    \"\"\"A dynamic array class akin to a simplified Python list.\"\"\"\n",
    "\n",
    "    def __init__(self):\n",
    "        \"\"\"Create an empty array.\"\"\"\n",
    "\n",
    "        self._n = 0                             # Count of actual elements.\n",
    "        self._capacity = 1                      # Default array capacity.\n",
    "        self._A = (self\n",
    "            ._make_array(self._capacity))        # Low-level array.\n",
    "\n",
    "    def __len__(self):\n",
    "        \"\"\"Return number of elements stored in the array.\"\"\"\n",
    "        return self._n\n",
    "\n",
    "    def __getitem__(self, k):\n",
    "        if not 0 <= k < self._n:\n",
    "            raise IndexError('invalid index')\n",
    "        return self._A[k]\n",
    "\n",
    "    def append(self, obj):\n",
    "        \"\"\"Add an object to end of array.\"\"\"\n",
    "        if self._n == self._capacity:          # Not enough room.\n",
    "            self._resize(2 * self._capacity)   # So double capacity.\n",
    "        self._A[self._n] = obj\n",
    "        self._n += 1\n",
    "\n",
    "    def _resize(self, c):\n",
    "        \"\"\"Resize internal array to capacity c.\"\"\"\n",
    "        B = self._make_array(c)                # New (bigger) array.\n",
    "        for k in range(self._n):\n",
    "            B[k] = self._A[k]\n",
    "        self._A = B                            # Use the bigger array.\n",
    "        self._capacity = c\n",
    "\n",
    "    def _make_array(self, c):\n",
    "        \"\"\"Return new array with capacity c.\"\"\"\n",
    "        return (c * ctypes.py_object)()"
   ]
  },
  {
   "cell_type": "markdown",
   "metadata": {},
   "source": [
    "### Practice implementing a dynamic array"
   ]
  },
  {
   "cell_type": "code",
   "execution_count": null,
   "metadata": {},
   "outputs": [],
   "source": [
    "class DynamicArray:\n",
    "    \"\"\"A dynamic array akin to a Python list.append\n",
    "    \n",
    "    -----\n",
    "    Attributes\n",
    "\n",
    "    _n:\n",
    "        The number of stored elements.\n",
    "    _capacity:\n",
    "        The total capacity of the array.\n",
    "    _A:\n",
    "        The low-level array.\n",
    "\n",
    "    -----\n",
    "    Functions:\n",
    "\n",
    "    __init__():\n",
    "        Constructor.\n",
    "\n",
    "    __len__():\n",
    "        Return the number of elements stored in the array.\n",
    "\n",
    "    __getitem__(k):\n",
    "        Return the elment at index k.\n",
    "    \n",
    "    _resize(c):\n",
    "        Resize the internal array to capacity c.\n",
    "\n",
    "    _make_array(c):\n",
    "        Make an array of capacity c.\n",
    "\n",
    "    append(element):\n",
    "        Add an element to the end of the dynamic array.\n",
    "    \"\"\""
   ]
  },
  {
   "cell_type": "code",
   "execution_count": null,
   "metadata": {},
   "outputs": [],
   "source": [
    "\n",
    "\n",
    "list_ = [1,2,3]\n",
    "\n",
    "overloaded_addition_assignment = \"list_ += [4]\"\n",
    "append_list_method = \"list_.append(4)\"\n",
    "\n",
    "case_1 = f\"{ overloaded_addition_assignment = }\"\n",
    "case_2 = f\"{ append_list_method = }\"\n",
    "\n",
    "print(f\"{case_1:#^79}\")\n",
    "dis(overloaded_addition_assignment)\n",
    "\n",
    "print(f\"{case_2:#^79}\")\n",
    "dis(append_list_method)\n",
    "\n"
   ]
  },
  {
   "cell_type": "code",
   "execution_count": null,
   "metadata": {},
   "outputs": [],
   "source": [
    "# %timeit list_.append(4)\n",
    "\n",
    "list_ = [1,2,3]\n",
    "\n",
    "%timeit list_ += [4]"
   ]
  },
  {
   "cell_type": "markdown",
   "metadata": {},
   "source": []
  },
  {
   "cell_type": "code",
   "execution_count": null,
   "metadata": {},
   "outputs": [],
   "source": [
    "from array import array\n",
    "import numpy as np\n",
    "from sys import getsizeof"
   ]
  },
  {
   "cell_type": "code",
   "execution_count": null,
   "metadata": {},
   "outputs": [],
   "source": [
    "list_referential = list(np.arange(1000))\n",
    "list_compact = array('i', list(np.arange(1000)))\n",
    "list_numpy = np.array(list(np.arange(1000)), dtype=np.int8)\n",
    "\n",
    "print(getsizeof(list_referential))\n",
    "print(getsizeof(list_compact))\n",
    "print(getsizeof(list_numpy))"
   ]
  },
  {
   "cell_type": "code",
   "execution_count": null,
   "metadata": {},
   "outputs": [],
   "source": [
    "%%timeit\n",
    "\n",
    "for element in list_referential:\n",
    "    pass"
   ]
  },
  {
   "cell_type": "code",
   "execution_count": null,
   "metadata": {},
   "outputs": [],
   "source": [
    "%%timeit \n",
    "\n",
    "for element in list_compact:\n",
    "    pass"
   ]
  },
  {
   "cell_type": "code",
   "execution_count": null,
   "metadata": {},
   "outputs": [],
   "source": [
    "%%timeit\n",
    "\n",
    "for element in list_numpy:\n",
    "    pass"
   ]
  },
  {
   "cell_type": "code",
   "execution_count": null,
   "metadata": {},
   "outputs": [],
   "source": []
  },
  {
   "cell_type": "code",
   "execution_count": null,
   "metadata": {},
   "outputs": [],
   "source": []
  },
  {
   "cell_type": "code",
   "execution_count": null,
   "metadata": {},
   "outputs": [],
   "source": []
  },
  {
   "cell_type": "markdown",
   "metadata": {},
   "source": []
  },
  {
   "cell_type": "markdown",
   "metadata": {},
   "source": []
  },
  {
   "cell_type": "code",
   "execution_count": null,
   "metadata": {},
   "outputs": [],
   "source": []
  },
  {
   "cell_type": "code",
   "execution_count": null,
   "metadata": {},
   "outputs": [],
   "source": []
  },
  {
   "cell_type": "markdown",
   "metadata": {},
   "source": []
  },
  {
   "cell_type": "code",
   "execution_count": null,
   "metadata": {},
   "outputs": [],
   "source": [
    "#### Lists and Dictionaries\n",
    "``"
   ]
  }
 ],
 "metadata": {
  "kernelspec": {
   "display_name": "Python 3.10.5 ('lumen': venv)",
   "language": "python",
   "name": "python3"
  },
  "language_info": {
   "codemirror_mode": {
    "name": "ipython",
    "version": 3
   },
   "file_extension": ".py",
   "mimetype": "text/x-python",
   "name": "python",
   "nbconvert_exporter": "python",
   "pygments_lexer": "ipython3",
   "version": "3.10.5"
  },
  "orig_nbformat": 4,
  "vscode": {
   "interpreter": {
    "hash": "558d3ae53c2989f92537fb60ff69fae09d4b361a8a5f6719dc1bd2672a63ef26"
   }
  }
 },
 "nbformat": 4,
 "nbformat_minor": 2
}
