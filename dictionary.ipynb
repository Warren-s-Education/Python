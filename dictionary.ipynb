{
 "cells": [
  {
   "cell_type": "code",
   "execution_count": 7,
   "metadata": {},
   "outputs": [
    {
     "data": {
      "text/plain": [
       "{1: 'Jill', 2: 'Jack', 3: 'Jim', 4: 'Jane'}"
      ]
     },
     "metadata": {},
     "output_type": "display_data"
    },
    {
     "data": {
      "text/plain": [
       "{2: 'Jack', 4: 'Jane', 1: 'Jill', 3: 'Jim'}"
      ]
     },
     "metadata": {},
     "output_type": "display_data"
    }
   ],
   "source": [
    "people = {3: \"Jim\", 2: \"Jack\", 4: \"Jane\", 1: \"Jill\"}\n",
    "\n",
    " # sort by key\n",
    "display(dict(sorted(people.items(), key= lambda item: item[0])))\n",
    "\n",
    "\n",
    " # sort by value\n",
    "display(dict(sorted(people.items(), key= lambda item: item[1])))\n"
   ]
  },
  {
   "cell_type": "code",
   "execution_count": 8,
   "metadata": {},
   "outputs": [
    {
     "data": {
      "text/plain": [
       "['aa', 'ba', 'ca', 'ab', 'cb', 'ac']"
      ]
     },
     "execution_count": 8,
     "metadata": {},
     "output_type": "execute_result"
    }
   ],
   "source": [
    "words = [\"aa\", \"ab\", \"ac\", \"ba\", \"cb\", \"ca\"]\n",
    "sorted(words, key=lambda item: item[1])"
   ]
  },
  {
   "cell_type": "code",
   "execution_count": 10,
   "metadata": {},
   "outputs": [
    {
     "ename": "IndexError",
     "evalue": "string index out of range",
     "output_type": "error",
     "traceback": [
      "\u001b[1;31m---------------------------------------------------------------------------\u001b[0m",
      "\u001b[1;31mIndexError\u001b[0m                                Traceback (most recent call last)",
      "Cell \u001b[1;32mIn [10], line 4\u001b[0m\n\u001b[0;32m      1\u001b[0m \u001b[39mdef\u001b[39;00m \u001b[39mselect_second_character\u001b[39m(word):\n\u001b[0;32m      2\u001b[0m     \u001b[39mreturn\u001b[39;00m word[\u001b[39m2\u001b[39m]\n\u001b[1;32m----> 4\u001b[0m \u001b[39msorted\u001b[39;49m(words, key\u001b[39m=\u001b[39;49mselect_second_character)\n",
      "Cell \u001b[1;32mIn [10], line 2\u001b[0m, in \u001b[0;36mselect_second_character\u001b[1;34m(word)\u001b[0m\n\u001b[0;32m      1\u001b[0m \u001b[39mdef\u001b[39;00m \u001b[39mselect_second_character\u001b[39m(word):\n\u001b[1;32m----> 2\u001b[0m     \u001b[39mreturn\u001b[39;00m word[\u001b[39m2\u001b[39;49m]\n",
      "\u001b[1;31mIndexError\u001b[0m: string index out of range"
     ]
    }
   ],
   "source": [
    "def select_second_character(word):\n",
    "    return word[2]\n",
    "\n",
    "sorted(words, key=select_second_character)"
   ]
  },
  {
   "cell_type": "code",
   "execution_count": 16,
   "metadata": {},
   "outputs": [
    {
     "data": {
      "text/plain": [
       "[(1, 'Jill'), (2, 'Jack'), (3, 'Jim'), (4, 'Jane')]"
      ]
     },
     "execution_count": 16,
     "metadata": {},
     "output_type": "execute_result"
    }
   ],
   "source": [
    "sorted(people.items(), key=value_getter)"
   ]
  },
  {
   "cell_type": "code",
   "execution_count": 15,
   "metadata": {},
   "outputs": [],
   "source": [
    "def value_getter(item):\n",
    "    return item[0]"
   ]
  },
  {
   "cell_type": "code",
   "execution_count": 21,
   "metadata": {},
   "outputs": [
    {
     "data": {
      "text/plain": [
       "[(193, {'name': 'John', 'age': 30, 'skills': {'python': 8, 'js': 7}}),\n",
       " (483, {'name': 'Anna', 'age': 24, 'skills': {'js': 10}}),\n",
       " (765, {'name': 'Penelope', 'age': 76, 'skills': {'python': 8, 'go': 5}}),\n",
       " (746, {'name': 'Jane', 'age': 58, 'skills': {'js': 2, 'python': 5}}),\n",
       " (209, {'name': 'Bill', 'age': 15, 'skills': {'python': 6}}),\n",
       " (277, {'name': 'Beatriz', 'age': 26, 'skills': {'python': 2, 'js': 4}}),\n",
       " (109, {'name': 'Jill', 'age': 83, 'skills': {'java': 10}}),\n",
       " (984, {'name': 'Jack', 'age': 28, 'skills': {'c': 8, 'assembly': 7}}),\n",
       " (598, {'name': 'Sylvia', 'age': 62, 'skills': {'bash': 8, 'java': 7}})]"
      ]
     },
     "execution_count": 21,
     "metadata": {},
     "output_type": "execute_result"
    }
   ],
   "source": [
    "data = {\n",
    "    193: {\"name\": \"John\", \"age\": 30, \"skills\": {\"python\": 8, \"js\": 7}},\n",
    "    209: {\"name\": \"Bill\", \"age\": 15, \"skills\": {\"python\": 6}},\n",
    "    746: {\"name\": \"Jane\", \"age\": 58, \"skills\": {\"js\": 2, \"python\": 5}},\n",
    "    109: {\"name\": \"Jill\", \"age\": 83, \"skills\": {\"java\": 10}},\n",
    "    984: {\"name\": \"Jack\", \"age\": 28, \"skills\": {\"c\": 8, \"assembly\": 7}},\n",
    "    765: {\"name\": \"Penelope\", \"age\": 76, \"skills\": {\"python\": 8, \"go\": 5}},\n",
    "    598: {\"name\": \"Sylvia\", \"age\": 62, \"skills\": {\"bash\": 8, \"java\": 7}},\n",
    "    483: {\"name\": \"Anna\", \"age\": 24, \"skills\": {\"js\": 10}},\n",
    "    277: {\"name\": \"Beatriz\", \"age\": 26, \"skills\": {\"python\": 2, \"js\": 4}},\n",
    "}\n",
    "\n",
    "def get_relevant_skills(item):\n",
    "    skills = item[1]['skills']\n",
    "    return skills.get(\"python\", 0) + skills.get(\"js\", 0)\n",
    "\n",
    "sorted(data.items(), key=get_relevant_skills, reverse=True)"
   ]
  },
  {
   "cell_type": "code",
   "execution_count": 22,
   "metadata": {},
   "outputs": [
    {
     "data": {
      "text/plain": [
       "{'Jack': 2, 'Jane': 4, 'Jill': 1, 'Jim': 3}"
      ]
     },
     "execution_count": 22,
     "metadata": {},
     "output_type": "execute_result"
    }
   ],
   "source": [
    "{\n",
    "    value:key\n",
    "    for key, value in sorted(people.items(), key=lambda item: item[1])\n",
    "}"
   ]
  },
  {
   "cell_type": "code",
   "execution_count": 24,
   "metadata": {},
   "outputs": [
    {
     "data": {
      "text/plain": [
       "{'Jim': 3, 'Jack': 2, 'Jane': 4, 'Jill': 1}"
      ]
     },
     "execution_count": 24,
     "metadata": {},
     "output_type": "execute_result"
    }
   ],
   "source": [
    "people = {3: \"Jim\", 2: \"Jack\", 4: \"Jane\", 1: \"Jill\"}\n",
    "\n",
    "\n",
    "{\n",
    "    value:key \n",
    "    for key, value in people.items()\n",
    "}"
   ]
  },
  {
   "cell_type": "code",
   "execution_count": 25,
   "metadata": {},
   "outputs": [
    {
     "data": {
      "text/plain": [
       "{'Jim': 3, 'Jack': 2, 'Jane': 4, 'Jill': 1}"
      ]
     },
     "execution_count": 25,
     "metadata": {},
     "output_type": "execute_result"
    }
   ],
   "source": [
    "{\n",
    "    value:key\n",
    "    for key, value in people.items()\n",
    "}"
   ]
  },
  {
   "cell_type": "code",
   "execution_count": 31,
   "metadata": {},
   "outputs": [
    {
     "data": {
      "text/plain": [
       "[(2, 'Jack'), (4, 'Jane'), (1, 'Jill'), (3, 'Jim')]"
      ]
     },
     "execution_count": 31,
     "metadata": {},
     "output_type": "execute_result"
    }
   ],
   "source": [
    "item = (\"name\", \"Guido\")\n",
    "\n",
    "from operator import itemgetter\n",
    "\n",
    "fruit_inventory = [\n",
    "   (\"banana\", 5), (\"orange\", 15), (\"apple\", 3), (\"kiwi\", 0)\n",
    "]\n",
    "\n",
    "sorted(people.items(), key=itemgetter(1))"
   ]
  },
  {
   "cell_type": "code",
   "execution_count": 41,
   "metadata": {},
   "outputs": [
    {
     "name": "stdout",
     "output_type": "stream",
     "text": [
      "sorted_with_lambda_time = 4.75 seconds\n",
      "sorted_with_itemgetter_time = 3.91 seconds\n",
      "itemgetter is 1.22 times faster\n"
     ]
    }
   ],
   "source": [
    "from timeit import timeit\n",
    "\n",
    "dict_to_order = {\n",
    "    1: \"requests\",\n",
    "    2: \"pip\",\n",
    "    3: \"jinja\",\n",
    "    4: \"setuptools\",\n",
    "    5: \"pandas\",\n",
    "    6: \"numpy\",\n",
    "    7: \"black\",\n",
    "    8: \"pillow\",\n",
    "    9: \"pyparsing\",\n",
    "    10: \"boto3\",\n",
    "    11: \"botocore\",\n",
    "    12: \"urllib3\",\n",
    "    13: \"s3transfer\",\n",
    "    14: \"six\",\n",
    "    15: \"python-dateutil\",\n",
    "    16: \"pyyaml\",\n",
    "    17: \"idna\",\n",
    "    18: \"certifi\",\n",
    "    19: \"typing-extensions\",\n",
    "    20: \"charset-normalizer\",\n",
    "    21: \"awscli\",\n",
    "    22: \"wheel\",\n",
    "    23: \"rsa\",\n",
    "}\n",
    "\n",
    "sorted_with_lambda = \"sorted(dict_to_order.items(), key=lambda item: item[1])\"\n",
    "sorted_with_itemgetter = \"sorted(dict_to_order.items(), key=itemgetter(1))\"\n",
    "\n",
    "sorted_with_lambda_time = timeit(\n",
    "    stmt=sorted_with_lambda, \n",
    "    globals=globals()\n",
    ")\n",
    "sorted_with_itemgetter_time = timeit(\n",
    "    stmt=sorted_with_itemgetter,\n",
    "    setup=\"from operator import itemgetter\",\n",
    "    globals=globals(),\n",
    ")\n",
    "\n",
    "print(\n",
    "    f\"\"\"\\\n",
    "{sorted_with_lambda_time = :.2f} seconds\n",
    "{sorted_with_itemgetter_time = :.2f} seconds\n",
    "itemgetter is {(\n",
    "    sorted_with_lambda_time / sorted_with_itemgetter_time\n",
    "):.2f} times faster\"\"\"\n",
    ")"
   ]
  },
  {
   "cell_type": "code",
   "execution_count": 94,
   "metadata": {},
   "outputs": [
    {
     "name": "stdout",
     "output_type": "stream",
     "text": [
      "sort_with_lambda_time = 4.71\n",
      "sort_with_itemgetter_time = 2.86\n",
      "itemgetter is 1.65 times faster.\n",
      "\n"
     ]
    }
   ],
   "source": [
    "from timeit import timeit\n",
    "\n",
    "dict_to_order = {\n",
    "    1: \"requests\",\n",
    "    2: \"pip\",\n",
    "    3: \"jinja\",\n",
    "    4: \"setuptools\",\n",
    "    5: \"pandas\",\n",
    "    6: \"numpy\",\n",
    "    7: \"black\",\n",
    "    8: \"pillow\",\n",
    "    9: \"pyparsing\",\n",
    "    10: \"boto3\",\n",
    "    11: \"botocore\",\n",
    "    12: \"urllib3\",\n",
    "    13: \"s3transfer\",\n",
    "    14: \"six\",\n",
    "    15: \"python-dateutil\",\n",
    "    16: \"pyyaml\",\n",
    "    17: \"idna\",\n",
    "    18: \"certifi\",\n",
    "    19: \"typing-extensions\",\n",
    "    20: \"charset-normalizer\",\n",
    "    21: \"awscli\",\n",
    "    22: \"wheel\",\n",
    "    23: \"rsa\",\n",
    "}\n",
    "\n",
    "# case 1 statement\n",
    "sort_with_lambda = 'sorted(dict_to_order.items(), key=lambda item: item[1])'\n",
    "\n",
    "# case 2 statement\n",
    "sort_with_itemgetter = 'sorted(dict_to_order.items(), key=itemgetter(1))'\n",
    "\n",
    "# result of timing case 1\n",
    "sort_with_lambda_time = timeit(\n",
    "    stmt=sort_with_lambda,\n",
    "    globals=globals()\n",
    ")\n",
    "\n",
    "# result of timing case 2\n",
    "sort_with_itemgetter_time = timeit(\n",
    "    stmt=sort_with_itemgetter,\n",
    "    globals=globals(),\n",
    "    setup='from operator import itemgetter'\n",
    ")\n",
    "\n",
    "# conclusion\n",
    "ratio_lambda_time_to_itemgetter_time = sort_with_lambda_time/sort_with_itemgetter_time\n",
    "\n",
    "# printing results\n",
    "print(\n",
    "    f\"\"\"\\\n",
    "{sort_with_lambda_time = :.2f}\n",
    "{sort_with_itemgetter_time = :.2f}\n",
    "itemgetter is {ratio_lambda_time_to_itemgetter_time:.2f} times faster.\n",
    "\"\"\"\n",
    ")"
   ]
  },
  {
   "cell_type": "code",
   "execution_count": 95,
   "metadata": {},
   "outputs": [
    {
     "name": "stdout",
     "output_type": "stream",
     "text": [
      "(3, {'priority': 2, 'name': 'Jim'})\n",
      "(2, {'priority': 4, 'name': 'Jack'})\n",
      "(4, {'priority': 1, 'name': 'Jane'})\n",
      "(1, {'priority': 2, 'name': 'Jill'})\n"
     ]
    },
    {
     "data": {
      "text/plain": [
       "{4: {'priority': 1, 'name': 'Jane'},\n",
       " 3: {'priority': 2, 'name': 'Jim'},\n",
       " 1: {'priority': 2, 'name': 'Jill'},\n",
       " 2: {'priority': 4, 'name': 'Jack'}}"
      ]
     },
     "execution_count": 95,
     "metadata": {},
     "output_type": "execute_result"
    }
   ],
   "source": [
    "from typing import Dict \n",
    "\n",
    "people = {\n",
    "    3: {\"priority\": 2, \"name\": \"Jim\"},\n",
    "    2: {\"priority\": 4, \"name\": \"Jack\"},\n",
    "    4: {\"priority\": 1, \"name\": \"Jane\"},\n",
    "    1: {\"priority\": 2, \"name\": \"Jill\"}\n",
    "}\n",
    "\n",
    "for item in people.items():\n",
    "    print(item)\n",
    "\n",
    "def get_priority(item: Dict) -> int:\n",
    "    return itemgetter(1)(item)[\"priority\"]\n",
    "\n",
    " \n",
    "prioritised_people = sorted(\n",
    "    people.items(), \n",
    "    key=lambda item: (\n",
    "        item[1]['priority']\n",
    "    )\n",
    ")\n",
    "\n",
    "prioritised_people_dict = {}\n",
    "for key, value in prioritised_people:\n",
    "    prioritised_people_dict[key] = value\n",
    "\n",
    "{\n",
    "    key:value\n",
    "    for key, value in sorted(people.items(), key=get_priority)\n",
    "}"
   ]
  },
  {
   "cell_type": "code",
   "execution_count": 101,
   "metadata": {},
   "outputs": [
    {
     "name": "stdout",
     "output_type": "stream",
     "text": [
      "lambda_time = 1.17\n",
      "itemgetter_time = 1.10\n",
      "\n"
     ]
    }
   ],
   "source": [
    "def get_priority(item: Dict) -> int:\n",
    "    return item[1][\"priority\"]\n",
    "\n",
    "\n",
    "def get_priority_manual(item:Dict) -> int:\n",
    "    return item[1]['priority']\n",
    "\n",
    "sorted_lambda = \"sorted(people.items(), key=get_priority_manual)\"\n",
    "\n",
    "sorted_itemgetter = \"sorted(people.items(),key=get_priority)\"\n",
    "\n",
    "\n",
    "lambda_time = timeit(\n",
    "    stmt=sorted_lambda,\n",
    "    globals=globals()\n",
    ")\n",
    "\n",
    "itemgetter_time = timeit(\n",
    "    stmt=sorted_itemgetter,\n",
    "    setup='from operator import itemgetter',\n",
    "    globals=globals()\n",
    ")\n",
    "\n",
    "\n",
    "print(f\"\"\"\\\n",
    "{lambda_time = :.2f}\n",
    "{itemgetter_time = :.2f}\n",
    "\"\"\")"
   ]
  },
  {
   "cell_type": "code",
   "execution_count": 82,
   "metadata": {},
   "outputs": [
    {
     "data": {
      "text/plain": [
       "[(4, {'priority': 1, 'name': 'Jane'}),\n",
       " (3, {'priority': 2, 'name': 'Jim'}),\n",
       " (1, {'priority': 2, 'name': 'Jill'}),\n",
       " (2, {'priority': 4, 'name': 'Jack'})]"
      ]
     },
     "execution_count": 82,
     "metadata": {},
     "output_type": "execute_result"
    }
   ],
   "source": [
    "sorted(people.items(), key=get_priority)"
   ]
  },
  {
   "cell_type": "code",
   "execution_count": 111,
   "metadata": {},
   "outputs": [],
   "source": [
    "dictionary_of_dictionaries = {\n",
    "    1: {\"first_name\": \"Dorthea\", \"last_name\": \"Emmanuele\", \"age\": 29},\n",
    "    2: {\"first_name\": \"Evelina\", \"last_name\": \"Ferras\", \"age\": 91},\n",
    "    3: {\"first_name\": \"Frederica\", \"last_name\": \"Livesay\", \"age\": 99},\n",
    "    4: {\"first_name\": \"Murray\", \"last_name\": \"Linning\", \"age\": 36},\n",
    "    5: {\"first_name\": \"Annette\", \"last_name\": \"Garioch\", \"age\": 93},\n",
    "    6: {\"first_name\": \"Rozamond\", \"last_name\": \"Todd\", \"age\": 36},\n",
    "    7: {\"first_name\": \"Tiffi\", \"last_name\": \"Varian\", \"age\": 28},\n",
    "    8: {\"first_name\": \"Noland\", \"last_name\": \"Cowterd\", \"age\": 51},\n",
    "    9: {\"first_name\": \"Dyana\", \"last_name\": \"Fallows\", \"age\": 100},\n",
    "    10: {\"first_name\": \"Diahann\", \"last_name\": \"Cutchey\", \"age\": 44},\n",
    "    11: {\"first_name\": \"Georgianne\", \"last_name\": \"Steinor\", \"age\": 32},\n",
    "    12: {\"first_name\": \"Sabina\", \"last_name\": \"Lourens\", \"age\": 31},\n",
    "    13: {\"first_name\": \"Lynde\", \"last_name\": \"Colbeck\", \"age\": 35},\n",
    "    14: {\"first_name\": \"Abdul\", \"last_name\": \"Crisall\", \"age\": 84},\n",
    "    15: {\"first_name\": \"Quintus\", \"last_name\": \"Brando\", \"age\": 95},\n",
    "    16: {\"first_name\": \"Rowena\", \"last_name\": \"Geraud\", \"age\": 21},\n",
    "    17: {\"first_name\": \"Maurice\", \"last_name\": \"MacAindreis\", \"age\": 83},\n",
    "    18: {\"first_name\": \"Pall\", \"last_name\": \"O'Cullinane\", \"age\": 79},\n",
    "    19: {\"first_name\": \"Kermie\", \"last_name\": \"Willshere\", \"age\": 20},\n",
    "    20: {\"first_name\": \"Holli\", \"last_name\": \"Tattoo\", \"age\": 88}\n",
    "}\n",
    "\n",
    "\n",
    "dict_of_dicts_statement = \"sorted(dictionary_of_dictionaries.items(), key=lambda item: item[1]['age'])\""
   ]
  },
  {
   "cell_type": "code",
   "execution_count": 112,
   "metadata": {},
   "outputs": [],
   "source": [
    "list_of_dictionaries = [\n",
    "    {\"id\": 1, \"first_name\": \"Dorthea\", \"last_name\": \"Emmanuele\", \"age\": 29},\n",
    "    {\"id\": 2, \"first_name\": \"Evelina\", \"last_name\": \"Ferras\", \"age\": 91},\n",
    "    {\"id\": 3, \"first_name\": \"Frederica\", \"last_name\": \"Livesay\", \"age\": 99},\n",
    "    {\"id\": 4, \"first_name\": \"Murray\", \"last_name\": \"Linning\", \"age\": 36},\n",
    "    {\"id\": 5, \"first_name\": \"Annette\", \"last_name\": \"Garioch\", \"age\": 93},\n",
    "    {\"id\": 6, \"first_name\": \"Rozamond\", \"last_name\": \"Todd\", \"age\": 36},\n",
    "    {\"id\": 7, \"first_name\": \"Tiffi\", \"last_name\": \"Varian\", \"age\": 28},\n",
    "    {\"id\": 8, \"first_name\": \"Noland\", \"last_name\": \"Cowterd\", \"age\": 51},\n",
    "    {\"id\": 9, \"first_name\": \"Dyana\", \"last_name\": \"Fallows\", \"age\": 100},\n",
    "    {\"id\": 10, \"first_name\": \"Diahann\", \"last_name\": \"Cutchey\", \"age\": 44},\n",
    "    {\"id\": 11, \"first_name\": \"Georgianne\", \"last_name\": \"Steinor\", \"age\": 32},\n",
    "    {\"id\": 12, \"first_name\": \"Sabina\", \"last_name\": \"Lourens\", \"age\": 31},\n",
    "    {\"id\": 13, \"first_name\": \"Lynde\", \"last_name\": \"Colbeck\", \"age\": 35},\n",
    "    {\"id\": 14, \"first_name\": \"Abdul\", \"last_name\": \"Crisall\", \"age\": 84},\n",
    "    {\"id\": 15, \"first_name\": \"Quintus\", \"last_name\": \"Brando\", \"age\": 95},\n",
    "    {\"id\": 16, \"first_name\": \"Rowena\", \"last_name\": \"Geraud\", \"age\": 21},\n",
    "    {\"id\": 17, \"first_name\": \"Maurice\", \"last_name\": \"MacAindreis\", \"age\": 83},\n",
    "    {\"id\": 18, \"first_name\": \"Pall\", \"last_name\": \"O'Cullinane\", \"age\": 79},\n",
    "    {\"id\": 19, \"first_name\": \"Kermie\", \"last_name\": \"Willshere\", \"age\": 20},\n",
    "    {\"id\": 20, \"first_name\": \"Holli\", \"last_name\": \"Tattoo\", \"age\": 88}\n",
    "]\n",
    "\n",
    "list_of_dict_statement = \"sorted(list_of_dictionaries,key=lambda item: item['age'])\""
   ]
  },
  {
   "cell_type": "code",
   "execution_count": 114,
   "metadata": {},
   "outputs": [
    {
     "name": "stdout",
     "output_type": "stream",
     "text": [
      "dict_of_dicts_time = 4.55\n",
      "list_of_dict_time = 3.64\n",
      "list is 1.25\n"
     ]
    }
   ],
   "source": [
    "dict_of_dicts_time = timeit(\n",
    "    stmt=dict_of_dicts_statement,\n",
    "    globals=globals()\n",
    ")\n",
    "\n",
    "list_of_dict_time = timeit(\n",
    "    stmt=list_of_dict_statement,\n",
    "    globals=globals()\n",
    ")\n",
    "\n",
    "print(f\"\"\"\\\n",
    "{dict_of_dicts_time = :.2f}\n",
    "{list_of_dict_time = :.2f}\n",
    "list is {(dict_of_dicts_time/list_of_dict_time):.2f}\"\"\")"
   ]
  }
 ],
 "metadata": {
  "kernelspec": {
   "display_name": "Python 3.10.5 ('lumen': venv)",
   "language": "python",
   "name": "python3"
  },
  "language_info": {
   "codemirror_mode": {
    "name": "ipython",
    "version": 3
   },
   "file_extension": ".py",
   "mimetype": "text/x-python",
   "name": "python",
   "nbconvert_exporter": "python",
   "pygments_lexer": "ipython3",
   "version": "3.10.5"
  },
  "orig_nbformat": 4,
  "vscode": {
   "interpreter": {
    "hash": "558d3ae53c2989f92537fb60ff69fae09d4b361a8a5f6719dc1bd2672a63ef26"
   }
  }
 },
 "nbformat": 4,
 "nbformat_minor": 2
}
