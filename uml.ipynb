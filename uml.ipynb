{
 "cells": [
  {
   "attachments": {},
   "cell_type": "markdown",
   "metadata": {},
   "source": [
    "``` mermaid\n",
    "classDiagram\n",
    "class Animal*\n",
    "Animal : string gender\n",
    "```"
   ]
  },
  {
   "attachments": {},
   "cell_type": "markdown",
   "metadata": {},
   "source": [
    "``` mermaid\n",
    "classDiagram\n",
    "class Animal~Living~ {\n",
    "    string:gender\n",
    "    is()\n",
    "    +Mammal()*\n",
    "}\n",
    "class Bird~Animal~ {\n",
    "    color: str\n",
    "    fly()\n",
    "}\n",
    "\n",
    "Animal --|> Bird\n",
    "\n",
    "Animal: test\n",
    "Animal: mate()$ List~string~\n",
    "```"
   ]
  },
  {
   "attachments": {},
   "cell_type": "markdown",
   "metadata": {},
   "source": [
    "**is a**\n",
    "``` mermaid\n",
    "classDiagram\n",
    "class Car\n",
    "class Vehicle\n",
    "Car --|> Vehicle\n",
    "```"
   ]
  },
  {
   "attachments": {},
   "cell_type": "markdown",
   "metadata": {},
   "source": [
    "**B has a A** and their lifetimes **might be different**\n",
    "``` mermaid\n",
    "classDiagram\n",
    "class Student\n",
    "class College\n",
    "\n",
    "Student --o College\n",
    "```"
   ]
  },
  {
   "attachments": {},
   "cell_type": "markdown",
   "metadata": {},
   "source": [
    "**B has a A** and their lifetimes are the **same**\n",
    "\n",
    "``` mermaid\n",
    "classDiagram\n",
    "class Room\n",
    "class House\n",
    "House *-- Room\n",
    "\n",
    "```"
   ]
  },
  {
   "attachments": {},
   "cell_type": "markdown",
   "metadata": {},
   "source": [
    "``` mermaid\n",
    "classDiagram\n",
    "class Shape\n",
    "class Moveable\n",
    "class Resizeable\n",
    "Shape ..|> Moveable\n",
    "Shape ..|> Resizeable"
   ]
  },
  {
   "attachments": {},
   "cell_type": "markdown",
   "metadata": {},
   "source": [
    "``` mermaid\n",
    "classDiagram\n",
    "class Phone {\n",
    "    _counter\n",
    "    Phone(number:str)\n",
    "    call(number:str): str\n",
    "}\n",
    "\n",
    "class FixedPhone {\n",
    "    _last_SN\n",
    "    FixedPhone(number:str)\n",
    "    SN\n",
    "}\n",
    "\n",
    "class MobilePhone {\n",
    "    _last_SN\n",
    "    MobilePhone(number:str)\n",
    "    SN\n",
    "}\n",
    "\n",
    "FixedPhone --|> Phone\n",
    "MobilePhone --|> Phone\n",
    "\n",
    "```"
   ]
  },
  {
   "cell_type": "code",
   "execution_count": null,
   "metadata": {},
   "outputs": [],
   "source": [
    "class Phone:\n",
    "    counter: int = 1\n",
    "\n",
    "    def __init__(self, number:str):\n",
    "        Phone.counter += 1\n",
    "        self.number = number\n",
    "\n",
    "    def call(self, number:str):\n",
    "\n",
    "\n",
    "class FixedPhone(Phone):\n",
    "    last_SN = 0\n",
    "    def __init__(self, number:str):\n",
    "        super().__init__(number)\n",
    "        FixedPhone.last_SN += 1\n",
    "        self.FN = f'FN-{FixedPhone.last_SN}'\n",
    "\n",
    "class MobilePhone(Phone):\n",
    "    last_SN = 0\n",
    "\n",
    "    def __init__(self, number:str):\n",
    "        super().__init__(number)\n",
    "        MobilePhone.last_SN += 1\n",
    "        self.FN = f'MN-{FixedPhone.last_SN}'\n"
   ]
  },
  {
   "attachments": {},
   "cell_type": "markdown",
   "metadata": {},
   "source": [
    "``` mermaid\n",
    "classDiagram\n",
    "class Package {\n",
    "    weight_capacity = 300\n",
    "    item_capacity\n",
    "    weight:float\n",
    "    item_count:int\n",
    "    add_item(item)\n",
    "    pack(item_type, item_capacity)\n",
    "}\n",
    "class Apple {\n",
    "    weight: 0.2 - 0.5\n",
    "}\n",
    "\n",
    "Apple -- Package\n",
    "```"
   ]
  },
  {
   "cell_type": "code",
   "execution_count": 10,
   "metadata": {},
   "outputs": [],
   "source": [
    "from random import uniform\n",
    "\n",
    "class Apple:\n",
    "\n",
    "    def __init__(self):\n",
    "        self.weight = uniform(0.2, 0.5)\n",
    "    \n",
    "class Package:\n",
    "\n",
    "    def __init__(self, item_capacity: int, weight: float = 0):\n",
    "        self.weight_capacty = 300\n",
    "        self.weight = weight\n",
    "        self.item_count = 0\n",
    "        self.item_capacity = item_capacity\n",
    "\n",
    "    def add_item(self, item):\n",
    "        self.weight += item.weight\n",
    "        self.item_count += 1\n",
    "\n",
    "    def is_under_item_capacity(self):\n",
    "        return self.item_count <= self.item_capacity\n",
    "\n",
    "    def can_add_weight(self, weight):\n",
    "        return self.weight + weight > self.weight_capacty\n",
    "\n",
    "    def pack(self, item_type):\n",
    "        while True:\n",
    "            item = item_type()\n",
    "            if (\n",
    "                self.can_add_weight(item.weight) \n",
    "            or  self.is_under_item_capacity()\n",
    "            ):\n",
    "                break\n",
    "            self.add_item(item)"
   ]
  },
  {
   "cell_type": "code",
   "execution_count": 9,
   "metadata": {},
   "outputs": [
    {
     "ename": "TypeError",
     "evalue": "Package.__init__() missing 1 required positional argument: 'item_capacity'",
     "output_type": "error",
     "traceback": [
      "\u001b[1;31m---------------------------------------------------------------------------\u001b[0m",
      "\u001b[1;31mTypeError\u001b[0m                                 Traceback (most recent call last)",
      "Cell \u001b[1;32mIn [9], line 1\u001b[0m\n\u001b[1;32m----> 1\u001b[0m package \u001b[39m=\u001b[39m Package()\n\u001b[0;32m      2\u001b[0m package\u001b[39m.\u001b[39mweight_capacty \u001b[39m=\u001b[39m \u001b[39m40\u001b[39m\n\u001b[0;32m      3\u001b[0m package\u001b[39m.\u001b[39mpack(Apple)\n",
      "\u001b[1;31mTypeError\u001b[0m: Package.__init__() missing 1 required positional argument: 'item_capacity'"
     ]
    }
   ],
   "source": [
    "package = Package()\n",
    "package.weight_capacty = 40\n",
    "package.pack(Apple)\n",
    "package.item_count, package.weight, package.weight_capacty"
   ]
  },
  {
   "cell_type": "code",
   "execution_count": 12,
   "metadata": {},
   "outputs": [
    {
     "ename": "KeyboardInterrupt",
     "evalue": "",
     "output_type": "error",
     "traceback": [
      "\u001b[1;31m---------------------------------------------------------------------------\u001b[0m",
      "\u001b[1;31mKeyboardInterrupt\u001b[0m                         Traceback (most recent call last)",
      "Cell \u001b[1;32mIn [12], line 11\u001b[0m\n\u001b[0;32m      9\u001b[0m \u001b[39mwhile\u001b[39;00m items_packed \u001b[39m<\u001b[39m ITEM_QUANTITY_REQUIRED:\n\u001b[0;32m     10\u001b[0m     package \u001b[39m=\u001b[39m Package(items_remaining)\n\u001b[1;32m---> 11\u001b[0m     package\u001b[39m.\u001b[39mpack(Apple)\n\u001b[0;32m     12\u001b[0m     items_packed \u001b[39m+\u001b[39m\u001b[39m=\u001b[39m package\u001b[39m.\u001b[39mitem_count\n\u001b[0;32m     13\u001b[0m     items_remaining \u001b[39m=\u001b[39m items_remaining \u001b[39m-\u001b[39m package\u001b[39m.\u001b[39mitem_count\n",
      "Cell \u001b[1;32mIn [10], line 28\u001b[0m, in \u001b[0;36mPackage.pack\u001b[1;34m(self, item_type)\u001b[0m\n\u001b[0;32m     26\u001b[0m \u001b[39mdef\u001b[39;00m \u001b[39mpack\u001b[39m(\u001b[39mself\u001b[39m, item_type):\n\u001b[0;32m     27\u001b[0m     \u001b[39mwhile\u001b[39;00m \u001b[39mTrue\u001b[39;00m:\n\u001b[1;32m---> 28\u001b[0m         item \u001b[39m=\u001b[39m item_type()\n\u001b[0;32m     29\u001b[0m         \u001b[39mif\u001b[39;00m (\n\u001b[0;32m     30\u001b[0m             \u001b[39mself\u001b[39m\u001b[39m.\u001b[39mcan_add_weight(item\u001b[39m.\u001b[39mweight) \n\u001b[0;32m     31\u001b[0m         \u001b[39mor\u001b[39;00m  \u001b[39mself\u001b[39m\u001b[39m.\u001b[39mis_under_item_capacity()\n\u001b[0;32m     32\u001b[0m         ):\n\u001b[0;32m     33\u001b[0m             \u001b[39mbreak\u001b[39;00m\n",
      "\u001b[1;31mKeyboardInterrupt\u001b[0m: "
     ]
    }
   ],
   "source": [
    "from typing import List\n",
    "\n",
    "ITEM_QUANTITY_REQUIRED = 1000\n",
    "items_packed = 0\n",
    "items_remaining = ITEM_QUANTITY_REQUIRED - items_packed\n",
    "\n",
    "packages: List[Package] = []\n",
    "\n",
    "while items_packed < ITEM_QUANTITY_REQUIRED:\n",
    "    package = Package(items_remaining)\n",
    "    package.pack(Apple)\n",
    "    items_packed += package.item_count\n",
    "    items_remaining = items_remaining - package.item_count\n",
    "    packages.append(package)\n"
   ]
  },
  {
   "attachments": {},
   "cell_type": "markdown",
   "metadata": {},
   "source": []
  },
  {
   "attachments": {},
   "cell_type": "markdown",
   "metadata": {},
   "source": [
    "``` mermaid\n",
    "flowchart TB\n",
    "start(((start)))\n",
    "constant[ITEM_QUANTITY_REQUIRED]\n",
    "packed[items_packed = 0]\n",
    "remaining[items_remaining = ITEM_QUANTITY_REQUIRED]\n",
    "packages[packages = \"[]\"]\n",
    "stop(((stop)))\n",
    "```"
   ]
  }
 ],
 "metadata": {
  "kernelspec": {
   "display_name": "Python 3",
   "language": "python",
   "name": "python3"
  },
  "language_info": {
   "codemirror_mode": {
    "name": "ipython",
    "version": 3
   },
   "file_extension": ".py",
   "mimetype": "text/x-python",
   "name": "python",
   "nbconvert_exporter": "python",
   "pygments_lexer": "ipython3",
   "version": "3.10.5 (tags/v3.10.5:f377153, Jun  6 2022, 16:14:13) [MSC v.1929 64 bit (AMD64)]"
  },
  "orig_nbformat": 4,
  "vscode": {
   "interpreter": {
    "hash": "369f2c481f4da34e4445cda3fffd2e751bd1c4d706f27375911949ba6bb62e1c"
   }
  }
 },
 "nbformat": 4,
 "nbformat_minor": 2
}
