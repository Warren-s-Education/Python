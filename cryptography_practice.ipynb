{
 "cells": [
  {
   "cell_type": "code",
   "execution_count": 3,
   "metadata": {},
   "outputs": [],
   "source": [
    "class CaesarCipher:\n",
    "    \"\"\"Class for doing encryption and decryption using a Caesar cipher.\"\"\"\n",
    "\n",
    "\n",
    "    def __init__(self, shift):\n",
    "        \"\"\"Construct a Caesar cipher using the given integer rotation.\"\"\"\n",
    "\n",
    "        self._encoder = [chr((c + shift) % 26 + ord('A')) for c in range(26)]\n",
    "        self._decoder = [chr((c - shift) % 26 + ord('A')) for c in range(26)]\n",
    "\n",
    "    def encrypt(self, message):\n",
    "        return self._transform(message, self._encoder)\n",
    "\n",
    "    def decrypt(self, secret):\n",
    "        return self._transform(secret, self._decoder)\n",
    "\n",
    "    def _transform(self, text, mapping):\n",
    "        mutable_text = list(text)\n",
    "        for i in range(len(mutable_text)):\n",
    "            if mutable_text[i].isupper():\n",
    "                position_mapping = ord(mutable_text[i]) - ord('A')\n",
    "                mutable_text[i] = mapping[position_mapping]\n",
    "        return \"\".join(mutable_text)\n",
    "\n",
    "    \n"
   ]
  },
  {
   "cell_type": "code",
   "execution_count": 6,
   "metadata": {},
   "outputs": [
    {
     "name": "stdout",
     "output_type": "stream",
     "text": [
      "cipher._decoder = ['X', 'Y', 'Z', 'A', 'B', 'C', 'D', 'E', 'F', 'G', 'H', 'I', 'J', 'K', 'L', 'M', 'N', 'O', 'P', 'Q', 'R', 'S', 'T', 'U', 'V', 'W']\n",
      "cipher._encoder = ['D', 'E', 'F', 'G', 'H', 'I', 'J', 'K', 'L', 'M', 'N', 'O', 'P', 'Q', 'R', 'S', 'T', 'U', 'V', 'W', 'X', 'Y', 'Z', 'A', 'B', 'C']\n"
     ]
    },
    {
     "data": {
      "text/plain": [
       "'DDEFG'"
      ]
     },
     "execution_count": 6,
     "metadata": {},
     "output_type": "execute_result"
    }
   ],
   "source": [
    "cipher = CaesarCipher(3)\n",
    "print(f\"{cipher._decoder = }\\n{cipher._encoder = }\")\n",
    "\n",
    "cipher.encrypt(\"AABCD\")"
   ]
  },
  {
   "cell_type": "code",
   "execution_count": 7,
   "metadata": {},
   "outputs": [
    {
     "data": {
      "text/plain": [
       "'AABCD'"
      ]
     },
     "execution_count": 7,
     "metadata": {},
     "output_type": "execute_result"
    }
   ],
   "source": [
    "cipher.decrypt('DDEFG')"
   ]
  }
 ],
 "metadata": {
  "kernelspec": {
   "display_name": "Python 3.10.5 ('lumen': venv)",
   "language": "python",
   "name": "python3"
  },
  "language_info": {
   "codemirror_mode": {
    "name": "ipython",
    "version": 3
   },
   "file_extension": ".py",
   "mimetype": "text/x-python",
   "name": "python",
   "nbconvert_exporter": "python",
   "pygments_lexer": "ipython3",
   "version": "3.10.5"
  },
  "orig_nbformat": 4,
  "vscode": {
   "interpreter": {
    "hash": "558d3ae53c2989f92537fb60ff69fae09d4b361a8a5f6719dc1bd2672a63ef26"
   }
  }
 },
 "nbformat": 4,
 "nbformat_minor": 2
}
