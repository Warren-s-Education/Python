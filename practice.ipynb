{
 "cells": [
  {
   "cell_type": "markdown",
   "metadata": {},
   "source": [
    "## DynamicArray class"
   ]
  },
  {
   "cell_type": "code",
   "execution_count": 1,
   "metadata": {},
   "outputs": [],
   "source": [
    "import ctypes\n",
    "\n",
    "class DynamicArray:\n",
    "    \"\"\"\n",
    "    \n",
    "    \"\"\"\n",
    "    def __init__(self):\n",
    "        self._n = 0 \n",
    "        self._capacity = 1\n",
    "        self._A = self._make_array(1)\n",
    "\n",
    "    def __len__(self):\n",
    "        return self._n\n",
    "\n",
    "    def _make_array(self, capacity):\n",
    "        return (capacity * ctypes.py_object)()\n",
    "\n",
    "    def __getitem__(self, index):\n",
    "        if not (0 <= index < self._n):\n",
    "            raise IndexError(\"Cannot insert at index\", index)\n",
    "        return self._A[index]\n",
    "\n",
    "    def _resize(self,new_size):\n",
    "        B = self._make_array(new_size)\n",
    "        for i in range(len(self)):\n",
    "            B[i] = self._A[i]\n",
    "        self._A = B\n",
    "        \n",
    "    def append(self, element):\n",
    "        if (self._capacity == self._n):\n",
    "            self._resize(self._capacity * 2)\n",
    "        self._A[self._n] = element\n",
    "        self._n += 1\n",
    "\n",
    "    def insert(self, index, element):\n",
    "        if self._n == self._capacity:\n",
    "            self._resize(2 * self._capacity)\n",
    "        for i in range(self._n, index, -1):\n",
    "            self._A[i] = self._A[i-1]\n",
    "        self._A[index] = element\n",
    "        self._n += 1\n",
    "\n",
    "    def remove(self, element):\n",
    "        for index in range(0, self._n):\n",
    "            if self._A[index] == element:\n",
    "                for j in range(self._n - 1):\n",
    "                   self._A[j] = self._A[j+1] \n",
    "                self._A[self._n - 1] = None\n",
    "                self._n -= 1\n",
    "                return\n",
    "        else:\n",
    "            raise ValueError(\"Element not in DynamicArray.\")\n",
    "\n",
    "    def contains(self, substring):\n",
    "        \n"
   ]
  },
  {
   "cell_type": "markdown",
   "metadata": {},
   "source": [
    "## Questions:\n",
    "\n",
    "1. Why use extend? Give three reasons.\n",
    "\n",
    "2. Considerations when creating lists.\n",
    "\n",
    "3. What are some string methods that create new strings?\n",
    "\n",
    "4. What are the non-mutating methods of list?\n",
    "\n",
    "5. What is an efficient way to create a string?\n",
    "How can this be done with a generator comprehension?"
   ]
  },
  {
   "cell_type": "markdown",
   "metadata": {},
   "source": [
    "## Answers\n",
    "\n",
    "1. \n",
    "        extend is written in a compiled language\n",
    "        singular function call\n",
    "        can resize the array once instead of multiple times\n",
    "\n",
    "2. \n",
    "\n",
    "        all list creation is linear to the length but there are practical efficiencies: \n",
    "\n",
    "        list comprehension is more optimised\n",
    "        [0] * n is optimised\n",
    "\n",
    "3. \n",
    "\n",
    "        capitalise\n",
    "        to_lower\n",
    "        startswith\n",
    "        endswith\n",
    "        expandtabs\n",
    "        center\n",
    "        find\n",
    "        index\n",
    "        isalpha\n",
    "\n",
    "4. \n",
    "\n",
    "**return attribute or derived attribute operations**\n",
    "        data.index(value)\n",
    "        data.count()\n",
    "        len(data)\n",
    "        data1 == data2\n",
    "\n",
    "**iteration operations**\n",
    "        value in data\n",
    "\n",
    "**creation operations**\n",
    "\n",
    "\n",
    "5. \n",
    "\n",
    "temp = []\n",
    "for character in document:\n",
    "    if character.isalpha():\n",
    "       temp.append(character)\n",
    "string = \"\".join(temp)"
   ]
  },
  {
   "cell_type": "code",
   "execution_count": 50,
   "metadata": {},
   "outputs": [
    {
     "data": {
      "text/plain": [
       "3"
      ]
     },
     "execution_count": 50,
     "metadata": {},
     "output_type": "execute_result"
    }
   ],
   "source": [
    "[2,4,5,5].bindex(5, [2,4,5].index(5)+1)"
   ]
  },
  {
   "cell_type": "markdown",
   "metadata": {},
   "source": [
    "| Operation | Running Time| Reason |\n",
    "| --- | --- | --- | \n",
    "|len(data)|O(1)||\n",
    "|data[j] | O(1)||\n",
    "|data.count(value)|O(n)||\n",
    "|data.index(value)|O(k+1)||\n",
    "|value in data|O(k+1)||\n",
    "|data1 == data2|O(k+1)||\n",
    "|data[j:k]|O(k-j+1)||\n",
    "|data1 + data2|O(n_1 + n_2)||\n",
    "|c*data|O(cn)||"
   ]
  },
  {
   "cell_type": "markdown",
   "metadata": {},
   "source": [
    "**Mutating behaviours**\n",
    "| Operation | Running Time| Reason |\n",
    "| --- | --- | --- | \n",
    "|data[j] = value|$O(1)$||\n",
    "|data.append(value) |$O(1)$*||\n",
    "|data.insert(k, value)|$O(n-k+1)$*||\n",
    "|data.pop()|$O(1)$*||\n",
    "|del data[k]|$O(n-k)$*||\n",
    "|data.pop(k)|$O(n-k)$*||\n",
    "|data.remove(value)|$O(n)$*||\n",
    "|data1.extend(data2)|$O(n_2)$*||\n",
    "|data.reverse()|$O(n)$||\n",
    "|data.sort()|$O(n \\log n)$||\n",
    "\n",
    "*: amortized"
   ]
  }
 ],
 "metadata": {
  "kernelspec": {
   "display_name": "Python 3.10.5 64-bit",
   "language": "python",
   "name": "python3"
  },
  "language_info": {
   "codemirror_mode": {
    "name": "ipython",
    "version": 3
   },
   "file_extension": ".py",
   "mimetype": "text/x-python",
   "name": "python",
   "nbconvert_exporter": "python",
   "pygments_lexer": "ipython3",
   "version": "3.10.5"
  },
  "orig_nbformat": 4,
  "vscode": {
   "interpreter": {
    "hash": "369f2c481f4da34e4445cda3fffd2e751bd1c4d706f27375911949ba6bb62e1c"
   }
  }
 },
 "nbformat": 4,
 "nbformat_minor": 2
}
