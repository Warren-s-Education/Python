{
 "cells": [
  {
   "cell_type": "code",
   "execution_count": 1,
   "metadata": {},
   "outputs": [],
   "source": [
    "class Engine:\n",
    "    def __init__(self, horsepower):\n",
    "        self.horsepower = horsepower    \n",
    "    \n",
    "    def start(self):\n",
    "        print(f\"Starting {self.horsepower}hp engine.\")\n",
    "\n",
    "\n",
    "class Car:\n",
    "\n",
    "    def __init__(self, engine:Engine):\n",
    "        self.engine: Engine = engine"
   ]
  },
  {
   "cell_type": "code",
   "execution_count": 2,
   "metadata": {},
   "outputs": [
    {
     "name": "stdout",
     "output_type": "stream",
     "text": [
      "Starting 30hp engine.\n"
     ]
    }
   ],
   "source": [
    "engine = Engine(30)\n",
    "car = Car(engine)\n",
    "car.engine.start()"
   ]
  },
  {
   "cell_type": "code",
   "execution_count": 25,
   "metadata": {},
   "outputs": [],
   "source": [
    "class BaseComputer:\n",
    "    def __init__(self, serial_number):\n",
    "        self.serial_number = serial_number\n",
    "\n",
    "class PersonalComputer(BaseComputer):\n",
    "    def __init__(self, serial_number, connection):\n",
    "        super().__init__(serial_number)\n",
    "        self.connection: Connection = connection\n",
    "        print(\"The computer costs $1000.\")\n",
    "\n",
    "class Connection:\n",
    "    def __init__(self, speed):\n",
    "        self.speed = speed\n",
    "\n",
    "    def download(self):\n",
    "        print(f\"Downloading at {self.speed}.\")\n",
    "\n",
    "class DialUp(Connection):\n",
    "    def __init__(self):\n",
    "        super().__init__('9600b/s')\n",
    "\n",
    "    def download(self):\n",
    "        print(f\"{'Dialling the access number . . .':<40}\", end='')\n",
    "        super().download()\n",
    "\n",
    "class ADSL(Connection):\n",
    "    def __init__(self):\n",
    "        super().__init__('2Mbit/s')\n",
    "    \n",
    "    def download(self):\n",
    "        print(f\"{'Waking up modem . . .':<40}\", end='')\n",
    "        super().download()\n",
    "\n",
    "class Ethernet(Connection):\n",
    "    def __init__(self):\n",
    "        super().__init__('10Mbit/s')\n",
    "    \n",
    "    def download(self):\n",
    "        print(f\"{'Constantly connected . . . ':<40}\", end='')\n",
    "        return super().download()"
   ]
  },
  {
   "cell_type": "code",
   "execution_count": 24,
   "metadata": {},
   "outputs": [
    {
     "name": "stdout",
     "output_type": "stream",
     "text": [
      "The computer costs $1000.\n",
      "Dialling the access number . . .        Downloading at 9600b/s.\n",
      "\n",
      "Waking up modem . . .                   Downloading at 2Mbit/s.\n",
      "\n",
      "Constantly connected . . .              Downloading at 10Mbit/s.\n"
     ]
    }
   ],
   "source": [
    "computer = PersonalComputer('Win95', DialUp())\n",
    "computer.connection.download()\n",
    "print()\n",
    "\n",
    "computer.connection = ADSL()\n",
    "computer.connection.download()\n",
    "print()\n",
    "\n",
    "computer.connection = Ethernet()\n",
    "computer.connection.download()\n"
   ]
  },
  {
   "cell_type": "code",
   "execution_count": 39,
   "metadata": {},
   "outputs": [],
   "source": [
    "from abc import ABC, abstractmethod\n",
    "\n",
    "class Engine(ABC):\n",
    "\n",
    "    def __init__(self, fuel_type:str) -> None:\n",
    "        self.fuel_type:str = fuel_type\n",
    "\n",
    "    def start(self):\n",
    "        print(\"Starting car...\")\n",
    "\n",
    "    def stop(self):\n",
    "        print(\"Stopping car...\")\n",
    "\n",
    "    def get_state(self):\n",
    "        print(\"Getting status...\")\n",
    "\n",
    "class ElectricEngine(Engine):\n",
    "\n",
    "    def __init__(self) -> None:\n",
    "        super().__init__('electricity')\n",
    "\n",
    "class PetrolEngine(Engine):\n",
    "\n",
    "    def __init__(self) -> None:\n",
    "        super().__init__('petrol')"
   ]
  },
  {
   "cell_type": "code",
   "execution_count": 38,
   "metadata": {},
   "outputs": [],
   "source": [
    "class Tyres(ABC):\n",
    "    \n",
    "    def __init__(self, size:int) -> None:\n",
    "        self.size: int = size\n",
    "\n",
    "    def get_pressure(self):\n",
    "        print(\"Reading pressure...\")\n",
    "\n",
    "    def pump(self):\n",
    "        print(\"Pumping tyres...\")\n",
    "\n",
    "class CityTyres(Tyres):\n",
    "\n",
    "    def __init__(self) -> None:\n",
    "        super().__init__(14)\n",
    "\n",
    "class OffRoad(Tyres):\n",
    "\n",
    "    def __init__(self) -> None:\n",
    "        super().__init__(16)"
   ]
  },
  {
   "cell_type": "code",
   "execution_count": 49,
   "metadata": {},
   "outputs": [],
   "source": [
    "class Vehicle:\n",
    "\n",
    "    def __init__(self, VIN: str, engine:Engine, tyres:Tyres):\n",
    "        self._VIN:str = VIN\n",
    "        self.engine = engine\n",
    "        self.tyres = tyres\n",
    "\n",
    "    @property\n",
    "    def VIN(self):\n",
    "        return self._VIN"
   ]
  },
  {
   "cell_type": "code",
   "execution_count": 54,
   "metadata": {},
   "outputs": [
    {
     "name": "stdout",
     "output_type": "stream",
     "text": [
      "Getting status...\n",
      "Starting car...\n",
      "Stopping car...\n"
     ]
    }
   ],
   "source": [
    "city_car = Vehicle('223151', ElectricEngine(), CityTyres())\n",
    "city_car.engine.get_state()\n",
    "city_car.engine.start()\n",
    "city_car.engine.stop()"
   ]
  },
  {
   "cell_type": "code",
   "execution_count": 57,
   "metadata": {},
   "outputs": [
    {
     "name": "stdout",
     "output_type": "stream",
     "text": [
      "Reading pressure...\n",
      "Pumping tyres...\n",
      "petrol\n",
      "Getting status...\n",
      "Starting car...\n",
      "Stopping car...\n"
     ]
    }
   ],
   "source": [
    "country_car = Vehicle('lkj;lkj', PetrolEngine(), OffRoad())\n",
    "country_car.tyres.get_pressure()\n",
    "country_car.tyres.pump()\n",
    "print(country_car.engine.fuel_type)\n",
    "country_car.engine.get_state()\n",
    "country_car.engine.start()\n",
    "country_car.engine.stop()"
   ]
  }
 ],
 "metadata": {
  "kernelspec": {
   "display_name": "Python 3",
   "language": "python",
   "name": "python3"
  },
  "language_info": {
   "codemirror_mode": {
    "name": "ipython",
    "version": 3
   },
   "file_extension": ".py",
   "mimetype": "text/x-python",
   "name": "python",
   "nbconvert_exporter": "python",
   "pygments_lexer": "ipython3",
   "version": "3.10.5"
  },
  "orig_nbformat": 4,
  "vscode": {
   "interpreter": {
    "hash": "369f2c481f4da34e4445cda3fffd2e751bd1c4d706f27375911949ba6bb62e1c"
   }
  }
 },
 "nbformat": 4,
 "nbformat_minor": 2
}
