{
 "cells": [
  {
   "cell_type": "markdown",
   "metadata": {},
   "source": [
    "## Game Entry"
   ]
  },
  {
   "cell_type": "code",
   "execution_count": 1,
   "metadata": {},
   "outputs": [],
   "source": [
    "class GameEntry:\n",
    "    \"\"\"Represents one entry of a lsit of high scores.\"\"\"\n",
    "\n",
    "    def __init__(self, name, score):\n",
    "        self._name = name\n",
    "        self._score = score\n",
    "\n",
    "    def get_name(self):\n",
    "        return self._name\n",
    "\n",
    "    def get_score(self):\n",
    "        return self._score\n",
    "    \n",
    "    def __str__(self):\n",
    "        return f\"{self.get_name()}, {self.get_score()}\""
   ]
  },
  {
   "cell_type": "markdown",
   "metadata": {},
   "source": [
    "## Scoreboard"
   ]
  },
  {
   "cell_type": "code",
   "execution_count": null,
   "metadata": {},
   "outputs": [],
   "source": [
    "class Scoreboard:\n",
    "    \"\"\"Fixed-length sequence of high scores in nondecreasing order. \n",
    "    \n",
    "    All entries are initially None.\n",
    "    \"\"\"\n",
    "    def __init__(self, capacity=10):\n",
    "        self._board = [None] * capacity\n",
    "        self._n = 0\n",
    "\n",
    "    def __getitem__(self, index):\n",
    "        \"\"\"Return entry at given index of the scoreboard.\"\"\"\n",
    "        if not (0 <= index < self._n):\n",
    "            raise IndexError()\n",
    "        return self._board[index]\n",
    "\n",
    "    def __str__(self):\n",
    "        \"\"\"Return string representation of the high score list.\"\"\"\n",
    "        return '\\n'.join(str(self._board[j] for j in range(self._n)))\n",
    "\n",
    "    def add(self, entry):\n",
    "        \"\"\"Consider adding entry to high scores.\"\"\"\n",
    "        score = entry.get_score()\n",
    "\n",
    "        # Does new entry qualify as a high score?\n",
    "        # The answer is Yes if board not full or score is higher than last\n",
    "        # entry.\n",
    "\n",
    "        score_qualifies = (self._n < len(self._board) \n",
    "                or score > self._board[-1].get_score())\n",
    "\n",
    "        if score_qualifies:\n",
    "            if self._n < len(self._board):  # No score drops from the list.\n",
    "                self._n += 1                # So overall number increases.\n",
    "\n",
    "            # shift lower scores rightward to make room for new entry.\n",
    "            j = self._n - 1\n",
    "            while j > 0 and score > self._board[j].get_score():\n",
    "                self._board[j] = self._board[j-1]\n",
    "                j -= 1\n",
    "            self._board[j] = entry\n",
    "    \n"
   ]
  },
  {
   "cell_type": "markdown",
   "metadata": {},
   "source": [
    "## Sorting a Sequence"
   ]
  }
 ],
 "metadata": {
  "kernelspec": {
   "display_name": "Python 3.10.5 ('lumen': venv)",
   "language": "python",
   "name": "python3"
  },
  "language_info": {
   "codemirror_mode": {
    "name": "ipython",
    "version": 3
   },
   "file_extension": ".py",
   "mimetype": "text/x-python",
   "name": "python",
   "nbconvert_exporter": "python",
   "pygments_lexer": "ipython3",
   "version": "3.10.5"
  },
  "orig_nbformat": 4,
  "vscode": {
   "interpreter": {
    "hash": "558d3ae53c2989f92537fb60ff69fae09d4b361a8a5f6719dc1bd2672a63ef26"
   }
  }
 },
 "nbformat": 4,
 "nbformat_minor": 2
}
