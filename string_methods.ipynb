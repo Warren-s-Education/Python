{
 "cells": [
  {
   "cell_type": "code",
   "execution_count": 4,
   "metadata": {},
   "outputs": [
    {
     "data": {
      "text/plain": [
       "['jkl;', 'jlj\\\\lkj;lkj;']"
      ]
     },
     "execution_count": 4,
     "metadata": {},
     "output_type": "execute_result"
    }
   ],
   "source": [
    "\"jkl;\\\\jlj\\\\lkj;lkj;\".split('\\\\', maxsplit=1)"
   ]
  },
  {
   "cell_type": "code",
   "execution_count": 1,
   "metadata": {},
   "outputs": [],
   "source": [
    "import os\n"
   ]
  },
  {
   "cell_type": "code",
   "execution_count": 2,
   "metadata": {},
   "outputs": [
    {
     "data": {
      "text/plain": [
       "'None'"
      ]
     },
     "execution_count": 2,
     "metadata": {},
     "output_type": "execute_result"
    }
   ],
   "source": [
    "str(None)"
   ]
  },
  {
   "cell_type": "code",
   "execution_count": 7,
   "metadata": {},
   "outputs": [
    {
     "data": {
      "text/plain": [
       "WindowsPath('c:/Users/Miranda and Warren/Documents/Programming/Practice/Python')"
      ]
     },
     "execution_count": 7,
     "metadata": {},
     "output_type": "execute_result"
    }
   ],
   "source": [
    "from pathlib import Path\n",
    "\n",
    "Path.cwd()"
   ]
  },
  {
   "cell_type": "code",
   "execution_count": 9,
   "metadata": {},
   "outputs": [
    {
     "data": {
      "text/plain": [
       "WindowsPath('c:/Users/Miranda and Warren/Documents/Programming/Practice/Python')"
      ]
     },
     "execution_count": 9,
     "metadata": {},
     "output_type": "execute_result"
    }
   ],
   "source": [
    "Path(\"c:/Users/Miranda and Warren/Documents/Programming/Practice/Python\")"
   ]
  },
  {
   "cell_type": "code",
   "execution_count": 12,
   "metadata": {},
   "outputs": [
    {
     "data": {
      "text/plain": [
       "WindowsPath('C:/Users/Miranda and Warren/python/scripts')"
      ]
     },
     "execution_count": 12,
     "metadata": {},
     "output_type": "execute_result"
    }
   ],
   "source": [
    "Path.home() / 'python' / 'scripts'"
   ]
  },
  {
   "cell_type": "code",
   "execution_count": 16,
   "metadata": {},
   "outputs": [
    {
     "data": {
      "text/plain": [
       "WindowsPath('C:/Users/Miranda and Warren/python/scripts/test.py')"
      ]
     },
     "execution_count": 16,
     "metadata": {},
     "output_type": "execute_result"
    }
   ],
   "source": [
    "Path.home().joinpath('python', 'scripts', 'test.py')"
   ]
  },
  {
   "cell_type": "code",
   "execution_count": 21,
   "metadata": {},
   "outputs": [
    {
     "name": "stdout",
     "output_type": "stream",
     "text": [
      "#hello\n",
      "#header2\n",
      "## subheading1\n",
      "## subheading2\n",
      "# heading 3\n"
     ]
    }
   ],
   "source": [
    "path = Path.cwd() / 'test.md'\n",
    "with path.open(mode='r') as markdown_file:\n",
    "    headers = [\n",
    "        line.strip() \n",
    "        for line in markdown_file\n",
    "        if line.startswith(\"#\")\n",
    "    ]\n",
    "print('\\n'.join(headers))"
   ]
  },
  {
   "cell_type": "code",
   "execution_count": 26,
   "metadata": {},
   "outputs": [
    {
     "data": {
      "text/plain": [
       "b'#hello\\r\\n\\r\\nkalj;dfl;kajdf\\r\\n\\r\\n#header2\\r\\n\\r\\nadjfkal;djf;alkj\\r\\n\\r\\n## subheading1\\r\\n\\r\\n## subheading2\\r\\n\\r\\nakljd;lafkj\\r\\n\\r\\n# heading 3\\r\\n'"
      ]
     },
     "execution_count": 26,
     "metadata": {},
     "output_type": "execute_result"
    }
   ],
   "source": [
    "(Path.cwd() / 'test.md').read_bytes()"
   ]
  },
  {
   "cell_type": "code",
   "execution_count": 27,
   "metadata": {},
   "outputs": [
    {
     "data": {
      "text/plain": [
       "11"
      ]
     },
     "execution_count": 27,
     "metadata": {},
     "output_type": "execute_result"
    }
   ],
   "source": [
    "(Path.cwd() / 'write_to_me.txt').write_text('hello world')"
   ]
  },
  {
   "cell_type": "code",
   "execution_count": 29,
   "metadata": {},
   "outputs": [
    {
     "data": {
      "text/plain": [
       "11"
      ]
     },
     "execution_count": 29,
     "metadata": {},
     "output_type": "execute_result"
    }
   ],
   "source": [
    "(Path.cwd() / 'write_bytes_to_me.txt').write_bytes(b'hello world')"
   ]
  },
  {
   "cell_type": "code",
   "execution_count": 31,
   "metadata": {},
   "outputs": [
    {
     "data": {
      "text/plain": [
       "'hello world'"
      ]
     },
     "execution_count": 31,
     "metadata": {},
     "output_type": "execute_result"
    }
   ],
   "source": [
    "path = Path.cwd() / 'write_bytes_to_me.txt'\n",
    "path.read_text()"
   ]
  },
  {
   "cell_type": "code",
   "execution_count": 36,
   "metadata": {},
   "outputs": [
    {
     "data": {
      "text/plain": [
       "True"
      ]
     },
     "execution_count": 36,
     "metadata": {},
     "output_type": "execute_result"
    }
   ],
   "source": [
    "path = Path('test.md')\n",
    "path.resolve().parent == Path.cwd()"
   ]
  },
  {
   "cell_type": "code",
   "execution_count": 39,
   "metadata": {},
   "outputs": [
    {
     "data": {
      "text/plain": [
       "WindowsPath('C:/Users/Miranda and Warren/Documents/Programming/Practice/Python/test.md')"
      ]
     },
     "execution_count": 39,
     "metadata": {},
     "output_type": "execute_result"
    }
   ],
   "source": [
    "path.resolve()"
   ]
  },
  {
   "cell_type": "code",
   "execution_count": 38,
   "metadata": {},
   "outputs": [
    {
     "data": {
      "text/plain": [
       "WindowsPath('c:/Users/Miranda and Warren/Documents/Programming/Practice/Python')"
      ]
     },
     "execution_count": 38,
     "metadata": {},
     "output_type": "execute_result"
    }
   ],
   "source": [
    "path.cwd()"
   ]
  },
  {
   "cell_type": "code",
   "execution_count": 41,
   "metadata": {},
   "outputs": [
    {
     "data": {
      "text/plain": [
       "WindowsPath('test.md')"
      ]
     },
     "execution_count": 41,
     "metadata": {},
     "output_type": "execute_result"
    }
   ],
   "source": [
    "path"
   ]
  },
  {
   "cell_type": "code",
   "execution_count": 61,
   "metadata": {},
   "outputs": [
    {
     "data": {
      "text/plain": [
       "WindowsPath('C:/Users/Miranda and Warren/Documents/Programming/Practice/Python/test.md')"
      ]
     },
     "execution_count": 61,
     "metadata": {},
     "output_type": "execute_result"
    }
   ],
   "source": [
    "path = (Path.cwd() / 'test.md').resolve()\n",
    "path"
   ]
  },
  {
   "cell_type": "code",
   "execution_count": 62,
   "metadata": {},
   "outputs": [
    {
     "data": {
      "text/plain": [
       "WindowsPath('C:/Users/Miranda and Warren/Documents/Programming/Practice/Python/test3.md')"
      ]
     },
     "execution_count": 62,
     "metadata": {},
     "output_type": "execute_result"
    }
   ],
   "source": [
    "path.with_name('test3.md')\n",
    "path.replace(path.with_name('test3.md'))"
   ]
  },
  {
   "cell_type": "code",
   "execution_count": 69,
   "metadata": {},
   "outputs": [
    {
     "data": {
      "text/plain": [
       "Counter({'': 2, '.bat': 2, '.ps1': 1, '.exe': 21, '.py': 2})"
      ]
     },
     "execution_count": 69,
     "metadata": {},
     "output_type": "execute_result"
    }
   ],
   "source": [
    "import collections\n",
    "collections.Counter(\n",
    "    p.suffix \n",
    "    for p in (Path.cwd() / 'adventofcode' / 'Scripts').iterdir()\n",
    ")\n",
    "\n"
   ]
  },
  {
   "cell_type": "code",
   "execution_count": 99,
   "metadata": {},
   "outputs": [
    {
     "data": {
      "text/plain": [
       "Counter({'.py': 3312,\n",
       "         '.pth': 2,\n",
       "         '.dist-info': 2,\n",
       "         '.pyc': 3312,\n",
       "         '.pem': 2,\n",
       "         '.pdb': 6,\n",
       "         '.pyd': 84,\n",
       "         '.pxd': 18,\n",
       "         '.pyx': 7,\n",
       "         '.png': 5,\n",
       "         '.pyi': 1966,\n",
       "         '.pkl': 1,\n",
       "         '.po': 1,\n",
       "         '.pys': 5,\n",
       "         '.pxi': 1,\n",
       "         '.ps1': 1})"
      ]
     },
     "execution_count": 99,
     "metadata": {},
     "output_type": "execute_result"
    }
   ],
   "source": [
    "path = Path.cwd() / 'adventofcode'\n",
    "\n",
    "collections.Counter(\n",
    "    p.suffix \n",
    "    for p in path.rglob('*.p*') \n",
    ")"
   ]
  },
  {
   "cell_type": "code",
   "execution_count": 105,
   "metadata": {},
   "outputs": [
    {
     "data": {
      "text/plain": [
       "WindowsPath('adventofcode')"
      ]
     },
     "execution_count": 105,
     "metadata": {},
     "output_type": "execute_result"
    }
   ],
   "source": [
    "path.relative_to(path.parent)"
   ]
  },
  {
   "cell_type": "code",
   "execution_count": 133,
   "metadata": {},
   "outputs": [
    {
     "name": "stdout",
     "output_type": "stream",
     "text": [
      "+ c:\\Users\\Miranda and Warren\\Documents\\Programming\\Practice\\Python\\directory\n",
      "   + tree \u001b[100;100H last modified: 2022-12-20\n",
      "      + c \u001b[100;100H last modified: 2022-12-20\n",
      "         + other_courses \u001b[100;100H last modified: 2022-12-20\n",
      "            + python \u001b[100;100H last modified: 2022-12-20\n",
      "      + cpp \u001b[100;100H last modified: 2022-12-20\n",
      "         + other_courses \u001b[100;100H last modified: 2022-12-20\n",
      "            + c \u001b[100;100H last modified: 2022-12-20\n",
      "            + python \u001b[100;100H last modified: 2022-12-20\n",
      "      + python \u001b[100;100H last modified: 2022-12-20\n",
      "         + other_courses \u001b[100;100H last modified: 2022-12-20\n",
      "            + c \u001b[100;100H last modified: 2022-12-20\n",
      "            + cpp \u001b[100;100H last modified: 2022-12-20\n",
      "               + hello \u001b[100;100H last modified: 2022-12-20\n",
      "               + tester \u001b[100;100H last modified: 2022-12-20\n"
     ]
    }
   ],
   "source": [
    "import datetime as dt\n",
    "from colorama import Cursor\n",
    "root = Path.cwd() / 'directory'\n",
    "print(f\"+ {root}\")\n",
    "for path in sorted(root.rglob(\"*\")):\n",
    "    depth = len(path.relative_to(root).parts)\n",
    "    spacer = '   ' * depth\n",
    "    modification_timestamp = path.stat().st_mtime\n",
    "    modification_date = dt.date.fromtimestamp(modification_timestamp)\n",
    "    print(f\"{spacer}+ {path.name} {Cursor.POS(100, 100)} last modified: {modification_date}\")"
   ]
  }
 ],
 "metadata": {
  "kernelspec": {
   "display_name": "Python 3.10.5 ('adventofcode': venv)",
   "language": "python",
   "name": "python3"
  },
  "language_info": {
   "codemirror_mode": {
    "name": "ipython",
    "version": 3
   },
   "file_extension": ".py",
   "mimetype": "text/x-python",
   "name": "python",
   "nbconvert_exporter": "python",
   "pygments_lexer": "ipython3",
   "version": "3.10.5"
  },
  "orig_nbformat": 4,
  "vscode": {
   "interpreter": {
    "hash": "bf04910a61f2f22dc55a5ca4c6bd9e7919f144d04055e27b2bef99a8a933be23"
   }
  }
 },
 "nbformat": 4,
 "nbformat_minor": 2
}
