{
 "cells": [
  {
   "cell_type": "code",
   "execution_count": 1,
   "metadata": {},
   "outputs": [],
   "source": [
    "from aoc_state_machine import StateMachine"
   ]
  },
  {
   "cell_type": "code",
   "execution_count": null,
   "metadata": {},
   "outputs": [],
   "source": [
    "state_machine = StateMachine(\n",
    "    memory={\"g\":0},\n",
    "    program={\"set g 45\", \"inc g\"}\n",
    ")"
   ]
  },
  {
   "cell_type": "code",
   "execution_count": 11,
   "metadata": {},
   "outputs": [],
   "source": [
    "from dataclasses import dataclass\n",
    "\n",
    "@dataclass\n",
    "class StateMachine:\n",
    "    memory:  dict[str, int]\n",
    "    program: list[str]\n",
    "\n",
    "    def run(self):\n",
    "        \"\"\"Run the program.\"\"\"\n",
    "        current_line = 0\n",
    "\n",
    "        if current_line < len(self.program):\n",
    "            instruction = self.program[current_line]\n",
    "\n",
    "            # Set a register to a value.\n",
    "            if instruction.startswith('set'):\n",
    "                register, value = instruction[4], int(instruction[6:])\n",
    "                self.memory[register] = value\n",
    "\n",
    "            # Increment the value in a register by 1.\n",
    "            elif instruction.startswith('inc'):\n",
    "                register = instruction[4]\n",
    "                self.memory[register] += 1\n",
    "\n",
    "            # Move the line pointer.\n",
    "            current_line += 1"
   ]
  },
  {
   "cell_type": "code",
   "execution_count": 3,
   "metadata": {},
   "outputs": [
    {
     "name": "stdout",
     "output_type": "stream",
     "text": [
      "\u001b[2;1H*\n",
      "\u001b[2;2H*\n",
      "\u001b[2;3H*\n",
      "\u001b[2;4H*\n",
      "\u001b[2;5H*\n",
      "\u001b[3;1H*\n",
      "\u001b[3;2H \n",
      "\u001b[3;3H \n",
      "\u001b[3;4H \n",
      "\u001b[3;5H*\n",
      "\u001b[4;1H*\n",
      "\u001b[4;2H*\n",
      "\u001b[4;3H*\n",
      "\u001b[4;4H \n",
      "\u001b[4;5H*\n",
      "\u001b[5;1H*\n",
      "\u001b[5;2H \n",
      "\u001b[5;3H \n",
      "\u001b[5;4Ho\n",
      "\u001b[5;5H*\n",
      "\u001b[6;1H*\n",
      "\u001b[6;2H*\n",
      "\u001b[6;3H*\n",
      "\u001b[6;4H*\n",
      "\u001b[6;5H*\n"
     ]
    }
   ],
   "source": [
    "import numpy as np\n",
    "from colorama import Cursor\n",
    "\n",
    "grid = np.array(\n",
    "    [\n",
    "        [1, 1, 1, 1, 1],\n",
    "        [1, 0, 0, 0, 1],\n",
    "        [1, 1, 1, 0, 1],\n",
    "        [1, 0, 0, 2, 1],\n",
    "        [1, 1, 1, 1, 1],\n",
    "    ]\n",
    ")\n",
    "\n",
    "num_rows, num_cols = grid.shape\n",
    "for row in range(num_rows):\n",
    "    for col in range(num_cols):\n",
    "        symbol = \" *o\"[grid[row, col]]\n",
    "        print(f\"{Cursor.POS(col + 1, row + 2)}{symbol}\")"
   ]
  }
 ],
 "metadata": {
  "kernelspec": {
   "display_name": "Python 3.10.5 ('adventofcode': venv)",
   "language": "python",
   "name": "python3"
  },
  "language_info": {
   "codemirror_mode": {
    "name": "ipython",
    "version": 3
   },
   "file_extension": ".py",
   "mimetype": "text/x-python",
   "name": "python",
   "nbconvert_exporter": "python",
   "pygments_lexer": "ipython3",
   "version": "3.10.5"
  },
  "orig_nbformat": 4,
  "vscode": {
   "interpreter": {
    "hash": "bf04910a61f2f22dc55a5ca4c6bd9e7919f144d04055e27b2bef99a8a933be23"
   }
  }
 },
 "nbformat": 4,
 "nbformat_minor": 2
}
