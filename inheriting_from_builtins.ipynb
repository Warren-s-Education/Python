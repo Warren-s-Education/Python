{
 "cells": [
  {
   "cell_type": "code",
   "execution_count": 56,
   "metadata": {},
   "outputs": [],
   "source": [
    "class IntegerList(list):\n",
    "\n",
    "    @staticmethod\n",
    "    def check_value_type(value):\n",
    "        if type(value) is not int:\n",
    "            raise ValueError(\"Not an integer type.\")\n",
    "\n",
    "    def __setitem__(self, index, value):\n",
    "        IntegerList.check_value_type(value)\n",
    "        super().__setitem__(index, value)\n",
    "\n",
    "    def append(self, value):\n",
    "        IntegerList.check_value_type(value)\n",
    "        super().append(value)\n",
    "\n",
    "    def extend(self, iterable):\n",
    "        for element in iterable:\n",
    "            IntegerList.check_value_type(element)\n",
    "        super().extend(iterable)\n",
    "\n",
    "    def insert(self, index, value):\n",
    "        IntegerList.check_value_type(value)\n",
    "        list.insert(self, index, value)\n",
    "\n",
    "    def __add__(self, iterable):\n",
    "        for element in iterable:\n",
    "            IntegerList.check_value_type(element)\n",
    "        return IntegerList(list.__add__(self, iterable))"
   ]
  },
  {
   "cell_type": "code",
   "execution_count": 58,
   "metadata": {},
   "outputs": [
    {
     "data": {
      "text/plain": [
       "[1, 1]"
      ]
     },
     "execution_count": 58,
     "metadata": {},
     "output_type": "execute_result"
    }
   ],
   "source": [
    "demo = IntegerList()\n",
    "demo.append(1)\n",
    "demo + demo"
   ]
  },
  {
   "cell_type": "code",
   "execution_count": 60,
   "metadata": {},
   "outputs": [
    {
     "data": {
      "text/plain": [
       "NotImplementedType"
      ]
     },
     "execution_count": 60,
     "metadata": {},
     "output_type": "execute_result"
    }
   ],
   "source": [
    "type(NotImplemented)"
   ]
  },
  {
   "cell_type": "code",
   "execution_count": 47,
   "metadata": {},
   "outputs": [
    {
     "data": {
      "text/plain": [
       "[1]"
      ]
     },
     "execution_count": 47,
     "metadata": {},
     "output_type": "execute_result"
    }
   ],
   "source": [
    "list_ = []\n",
    "list_ + [1]"
   ]
  },
  {
   "cell_type": "code",
   "execution_count": 27,
   "metadata": {},
   "outputs": [
    {
     "name": "stdout",
     "output_type": "stream",
     "text": [
      "[7, 7]\n"
     ]
    }
   ],
   "source": [
    "demo.append(7)\n",
    "print(demo)"
   ]
  },
  {
   "cell_type": "code",
   "execution_count": 28,
   "metadata": {},
   "outputs": [
    {
     "data": {
      "text/plain": [
       "[9, 7]"
      ]
     },
     "execution_count": 28,
     "metadata": {},
     "output_type": "execute_result"
    }
   ],
   "source": [
    "demo[0] = 9\n",
    "demo"
   ]
  },
  {
   "cell_type": "code",
   "execution_count": 32,
   "metadata": {},
   "outputs": [
    {
     "ename": "NameError",
     "evalue": "name 'self' is not defined",
     "output_type": "error",
     "traceback": [
      "\u001b[1;31m---------------------------------------------------------------------------\u001b[0m",
      "\u001b[1;31mNameError\u001b[0m                                 Traceback (most recent call last)",
      "Cell \u001b[1;32mIn [32], line 1\u001b[0m\n\u001b[1;32m----> 1\u001b[0m \u001b[39mclassmethod\u001b[39m(\u001b[39mlist\u001b[39m\u001b[39m.\u001b[39mextend(\u001b[39mself\u001b[39m,\u001b[39m1\u001b[39m))\n",
      "\u001b[1;31mNameError\u001b[0m: name 'self' is not defined"
     ]
    }
   ],
   "source": [
    "classmethod(list.extend(self,1))"
   ]
  },
  {
   "cell_type": "code",
   "execution_count": 80,
   "metadata": {},
   "outputs": [],
   "source": [
    "from datetime import datetime\n",
    "from typing import Any,Hashable\n",
    "\n",
    "class MonitoredDict(dict):\n",
    "\n",
    "    def __init__(self, *args, **kwargs):\n",
    "        super().__init__(*args, **kwargs)\n",
    "        self.log = list()\n",
    "        self.log_timestamp(\"MonitoredDict created.\")\n",
    "\n",
    "    def log_timestamp(self, message):\n",
    "        date_with_time = datetime.now()\n",
    "        date_string = date_with_time.strftime(\n",
    "            \"%Y-%m-%d %H:%M:%S\"\n",
    "        )\n",
    "        self.log.append(f\"{message} {date_string}\")\n",
    "\n",
    "    def __getitem__(self, key: Hashable) -> Any:\n",
    "        value = super().__getitem__(key)\n",
    "        self.log_timestamp(f\"Retrieved {value} using the key '{key}' at\")\n",
    "        return value"
   ]
  },
  {
   "cell_type": "code",
   "execution_count": 79,
   "metadata": {},
   "outputs": [
    {
     "data": {
      "text/plain": [
       "['MonitoredDict created. 2023-01-06 14:01:46',\n",
       " \"Retrieved 2 using the key 'key' at  2023-01-06 14:01:46\"]"
      ]
     },
     "execution_count": 79,
     "metadata": {},
     "output_type": "execute_result"
    }
   ],
   "source": [
    "dictionary = MonitoredDict([('key',2)])\n",
    "dictionary['key']\n",
    "dictionary.log"
   ]
  },
  {
   "cell_type": "code",
   "execution_count": 91,
   "metadata": {},
   "outputs": [],
   "source": [
    "def experimenting_with_args(*args):\n",
    "    print(args)\n",
    "    print(len(args))\n",
    "    print(*args)"
   ]
  },
  {
   "cell_type": "code",
   "execution_count": 93,
   "metadata": {},
   "outputs": [
    {
     "name": "stdout",
     "output_type": "stream",
     "text": [
      "([[2, 3], [45, 5]], 3)\n",
      "2\n",
      "[[2, 3], [45, 5]] 3\n"
     ]
    }
   ],
   "source": [
    "experimenting_with_args([[2,3],[45,5]],3)"
   ]
  },
  {
   "cell_type": "code",
   "execution_count": 89,
   "metadata": {},
   "outputs": [
    {
     "ename": "SyntaxError",
     "evalue": "invalid syntax (177445077.py, line 1)",
     "output_type": "error",
     "traceback": [
      "\u001b[1;36m  Cell \u001b[1;32mIn [89], line 1\u001b[1;36m\u001b[0m\n\u001b[1;33m    **(3,4)\u001b[0m\n\u001b[1;37m    ^\u001b[0m\n\u001b[1;31mSyntaxError\u001b[0m\u001b[1;31m:\u001b[0m invalid syntax\n"
     ]
    }
   ],
   "source": []
  },
  {
   "cell_type": "code",
   "execution_count": 37,
   "metadata": {},
   "outputs": [],
   "source": [
    "from datetime import datetime\n",
    "\n",
    "class MonitoredDict(dict):\n",
    "\n",
    "\n",
    "\n",
    "    def __init__(self, *args, **kwargs) -> None:\n",
    "        super().__init__()\n",
    "        self.log = list()\n",
    "        self.log_timestamp(\"Created new instance of MonitoredDict\")\n",
    "\n",
    "    def __getitem__(self, key):\n",
    "        value = super().__getitem__(key)\n",
    "        self.log_timestamp(f\"'{value}' retrieved at key '{key}'\")\n",
    "        return value\n",
    "\n",
    "    def __setitem__(self, key, value):\n",
    "        super().__setitem__(key, value)\n",
    "        self.log_timestamp(f\"'{value}' assigned to key '{key}'\")\n",
    "\n",
    "\n",
    "    def log_timestamp(self, message):\n",
    "        current_time = datetime.now()\n",
    "        time_string = current_time.strftime(\"%y-%m-%d (%H:%M:%S.%f)\")\n",
    "        self.log.append(f\"{time_string} {message}\")\n",
    "\n",
    "    def print_log(self):\n",
    "        print('\\n'.join(self.log))\n"
   ]
  },
  {
   "cell_type": "code",
   "execution_count": 38,
   "metadata": {},
   "outputs": [
    {
     "name": "stdout",
     "output_type": "stream",
     "text": [
      "(23-01-06 23:25:03.631052) Created new instance of MonitoredDict\n",
      "(23-01-06 23:25:03.631052) '3' assigned to key 'hi'\n",
      "(23-01-06 23:25:03.631052) '3' retrieved at key 'hi'\n"
     ]
    }
   ],
   "source": [
    "dictionary = MonitoredDict()\n",
    "dictionary['hi'] = 3\n",
    "dictionary['hi']\n",
    "dictionary.print_log()"
   ]
  },
  {
   "cell_type": "code",
   "execution_count": 12,
   "metadata": {},
   "outputs": [
    {
     "name": "stdout",
     "output_type": "stream",
     "text": [
      "{10: 15, 20: 5}\n",
      "Element kk[10]: 15\n",
      "Whole dictionary: {10: 15, 20: 5}\n",
      "Our log book:\n",
      "\n",
      "2023-01-06 (22:55:52.577677) MonitoredDict created\n",
      "2023-01-06 (22:55:52.577677) value for key [10] set\n",
      "2023-01-06 (22:55:52.577677) value for key [20] set\n",
      "2023-01-06 (22:55:52.578674) value for key [10] retrieved\n"
     ]
    }
   ],
   "source": [
    "from datetime import datetime\n",
    "\n",
    "\n",
    "class MonitoredDict(dict):\n",
    "    def __init__(self, *args, **kwargs):\n",
    "        super().__init__(*args, **kwargs)\n",
    "        self.log = list()\n",
    "        self.log_timestamp('MonitoredDict created')\n",
    "\n",
    "    def __getitem__(self, key):\n",
    "        val = super().__getitem__(key)\n",
    "        self.log_timestamp('value for key [{}] retrieved'.format(key))\n",
    "        return val\n",
    "\n",
    "    def __setitem__(self, key, val):\n",
    "        super().__setitem__(key, val)\n",
    "        self.log_timestamp('value for key [{}] set'.format(key))\n",
    "\n",
    "    def log_timestamp(self, message):\n",
    "        timestampStr = datetime.now().strftime(\"%Y-%m-%d (%H:%M:%S.%f)\")\n",
    "        self.log.append('{} {}'.format(timestampStr, message))\n",
    "\n",
    "\n",
    "kk = MonitoredDict()\n",
    "kk[10] = 15\n",
    "kk[20] = 5\n",
    "print(kk)\n",
    "\n",
    "print('Element kk[10]:', kk[10])\n",
    "print('Whole dictionary:', kk)\n",
    "print('Our log book:\\n')\n",
    "print('\\n'.join(kk.log))\n"
   ]
  }
 ],
 "metadata": {
  "kernelspec": {
   "display_name": "Python 3",
   "language": "python",
   "name": "python3"
  },
  "language_info": {
   "codemirror_mode": {
    "name": "ipython",
    "version": 3
   },
   "file_extension": ".py",
   "mimetype": "text/x-python",
   "name": "python",
   "nbconvert_exporter": "python",
   "pygments_lexer": "ipython3",
   "version": "3.10.5"
  },
  "orig_nbformat": 4,
  "vscode": {
   "interpreter": {
    "hash": "369f2c481f4da34e4445cda3fffd2e751bd1c4d706f27375911949ba6bb62e1c"
   }
  }
 },
 "nbformat": 4,
 "nbformat_minor": 2
}
