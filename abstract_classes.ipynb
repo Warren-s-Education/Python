{
 "cells": [
  {
   "attachments": {},
   "cell_type": "markdown",
   "metadata": {},
   "source": [
    "## Non-abstract"
   ]
  },
  {
   "cell_type": "code",
   "execution_count": 1,
   "metadata": {},
   "outputs": [
    {
     "name": "stdout",
     "output_type": "stream",
     "text": [
      "Nothing is blue unless you need it.\n"
     ]
    }
   ],
   "source": [
    "class BluePrint:\n",
    "\n",
    "    def hello(self):\n",
    "        print(\"Nothing is blue unless you need it.\")\n",
    "\n",
    "bp = BluePrint()\n",
    "bp.hello()"
   ]
  },
  {
   "attachments": {},
   "cell_type": "markdown",
   "metadata": {},
   "source": [
    "## Abstract"
   ]
  },
  {
   "cell_type": "code",
   "execution_count": 26,
   "metadata": {},
   "outputs": [],
   "source": [
    "import abc\n",
    "\n",
    "class BluePrint(abc.ABC):\n",
    "    @abc.abstractmethod\n",
    "    def hello(self):\n",
    "        pass\n",
    "\n",
    "class GreenField(BluePrint):\n",
    "    # def hello(self):\n",
    "    #     print(\"Welcome to Green Fields.\")\n",
    "    pass\n",
    "\n",
    "\n",
    "gf = GreenField()\n",
    "gf.hello()\n",
    "bp = BluePrint()"
   ]
  },
  {
   "cell_type": "code",
   "execution_count": 378,
   "metadata": {},
   "outputs": [],
   "source": [
    "from abc import ABC, abstractmethod\n",
    "from collections import namedtuple\n",
    "from collections import Counter\n",
    "from datetime import datetime\n",
    "from typing import List\n",
    "\n",
    "class ScannerInfo:\n",
    "\n",
    "    def __init__(self, max_resolution:str, serial:str):\n",
    "        self.max_resolution = max_resolution\n",
    "        self.serial_number = serial\n",
    "\n",
    "    def __str__(self):\n",
    "        return f\"\"\"\\\n",
    "            Scanner Information\n",
    "            {\"-\"*40}\n",
    "            {f\"Max Resolution:\":<20} {self.max_resolution}\n",
    "            {f\"Serial Number:\":<20} {self.serial_number}\"\"\"\n",
    "\n",
    "class PrinterInfo:\n",
    "\n",
    "    def __init__(self, max_resolution:str, serial:str):\n",
    "        self.max_resolution = max_resolution\n",
    "        self.serial_number = serial\n",
    "\n",
    "    def __str__(self):\n",
    "        return f\"\"\"\\\n",
    "            Printer Information\n",
    "            {\"-\"*40}\n",
    "            {f\"Max Resolution:\":<20} {self.max_resolution}\n",
    "            {f\"Serial Number:\":<20} {self.serial_number}\"\"\"\n",
    "\n",
    "class Scanner(ABC):\n",
    "\n",
    "    @abstractmethod\n",
    "    def __init__(self, scanner_info: ScannerInfo):\n",
    "        pass\n",
    "\n",
    "    @abstractmethod\n",
    "    def scan_document(self, document) -> str:\n",
    "        pass\n",
    "\n",
    "    def get_scanner_status(self) -> ScannerInfo:\n",
    "        pass\n",
    "\n",
    "\n",
    "class PrintJob:\n",
    "\n",
    "    def __init__(self, document):\n",
    "        self.document = document\n",
    "        self.time = datetime.today()\n",
    "\n",
    "\n",
    "class Printer(ABC):\n",
    "\n",
    "    @abstractmethod\n",
    "    def __init__(self, scanner_info: PrinterInfo):\n",
    "        pass\n",
    "\n",
    "    @abstractmethod\n",
    "    def scan_document(self, document) -> str:\n",
    "        pass\n",
    "\n",
    "    def get_printer_status(self) -> PrinterInfo:\n",
    "        pass\n",
    "\n",
    "class MFD1(Scanner, Printer):\n",
    "    \"\"\"The cheapest multifunction device with the fewest features.\"\"\"    \n",
    "\n",
    "    count = 0\n",
    "    \n",
    "    @classmethod\n",
    "    def _get_next_serial_number(cls):\n",
    "        serial = f\"{cls.__name__}-{cls.count}\"\n",
    "        return serial\n",
    "\n",
    "    @classmethod\n",
    "    def _increment_serial(cls):\n",
    "        cls.count += 1\n",
    "\n",
    "    def __init__(self):\n",
    "        \n",
    "        class_ = self.__class__\n",
    "        \n",
    "        self.scanner_info = ScannerInfo(\n",
    "            max_resolution='400', \n",
    "            serial=f\"SCAN-{class_._get_next_serial_number()}\"\n",
    "        )\n",
    "        self.printer_info = PrinterInfo(\n",
    "            max_resolution='400', \n",
    "            serial=f\"PRIN-{class_._get_next_serial_number()}\"\n",
    "        )\n",
    "        \n",
    "        class_._increment_serial()\n",
    "\n",
    "\n",
    "    def scan_document(self, document: str) -> None:\n",
    "        print('Document successfully scanned.')\n",
    "\n",
    "    def print_document(self, document: str) -> None:\n",
    "        print(\"Document successfully printed.\")\n",
    "\n",
    "    def get_scanner_status(self):\n",
    "        return self.scanner_info\n",
    "\n",
    "    def get_printer_status(self):\n",
    "        return self.printer_info\n",
    "   \n",
    "\n",
    "class MFD2(Scanner, Printer):\n",
    "    \"\"\"The mid-range multifunction device with some but not all features.\"\"\"    \n",
    " \n",
    "    count = 0\n",
    "    \n",
    "    @classmethod\n",
    "    def _get_next_serial_number(cls) -> str:\n",
    "        serial = f\"{cls.__name__}-{cls.count}\"\n",
    "        return serial\n",
    "\n",
    "    @classmethod\n",
    "    def _increment_serial(cls):\n",
    "        cls.count += 1\n",
    "\n",
    "    def __init__(self):\n",
    "        class_ = self.__class__\n",
    "\n",
    "        self.print_history: List[PrintJob] = []\n",
    "        \n",
    "        self.scanner_info = ScannerInfo(\n",
    "            max_resolution='600', \n",
    "            serial=f\"SCAN-{class_._get_next_serial_number()}\"\n",
    "        )\n",
    "        self.printer_info = PrinterInfo(\n",
    "            max_resolution='600', \n",
    "            serial=f\"PRIN-{class_._get_next_serial_number()}\"\n",
    "        )\n",
    "        class_._increment_serial()\n",
    "\n",
    "\n",
    "    def scan_document(self, document: str) -> None:\n",
    "        print('Document successfully scanned.')\n",
    "\n",
    "    def print_document(self, document: str) -> None:\n",
    "        print_job = PrintJob(document)\n",
    "        self.print_history.append(print_job)\n",
    "        print(\"Document successfully printed.\")\n",
    "\n",
    "    def get_scanner_status(self):\n",
    "        return self.scanner_info\n",
    "\n",
    "    def get_printer_status(self):\n",
    "        return self.printer_info\n",
    "\n",
    "    def printing_operation_history(self):\n",
    "        print(f\"Print History for {self.printer_info.serial_number}\")\n",
    "        print(f\"{'-'*(16+12+15+6)}\")\n",
    "        print(f\"{'Document Preview':^16} | {'Characters':^12} | {'Time':^15}\")\n",
    "        for job in self.print_history:\n",
    "            print(f\"{job.document[:16]:>16} | {len(job.document):^12} | {str(job.time)[:19]:^15}\")\n",
    "\n",
    "\n",
    "class MFD3(Scanner, Printer):\n",
    "    \"\"\"The upper range multifunction device with all the features.\"\"\"    \n",
    "   \n",
    "    count = 0\n",
    "    \n",
    "    @classmethod\n",
    "    def _get_next_serial_number(cls):\n",
    "        serial = f\"{cls.__name__}-{cls.count}\"\n",
    "        return serial\n",
    "\n",
    "    @classmethod\n",
    "    def _increment_serial(cls):\n",
    "        cls.count += 1\n",
    "\n",
    "    def __init__(self):\n",
    "        \n",
    "        class_ = self.__class__\n",
    "\n",
    "        self.print_history: List[PrintJob] = []\n",
    "        \n",
    "        self.scanner_info = ScannerInfo(\n",
    "            max_resolution='900', \n",
    "            serial=f\"SCAN-{class_._get_next_serial_number()}\"\n",
    "        )\n",
    "        self.printer_info = PrinterInfo(\n",
    "            max_resolution='900', \n",
    "            serial=f\"PRIN-{class_._get_next_serial_number()}\"\n",
    "        )\n",
    "        \n",
    "        class_._increment_serial()\n",
    "\n",
    "\n",
    "    def scan_document(self, document: str) -> None:\n",
    "        print('Document successfully scanned.')\n",
    "\n",
    "    def print_document(self, document: str) -> None:\n",
    "        print_job = PrintJob(document)\n",
    "        self.print_history.append(print_job)\n",
    "        print(\"Document successfully printed.\")\n",
    "\n",
    "    def fax_document(self, document: str) -> None:\n",
    "        print(\"Document successfully faxed.\")\n",
    "\n",
    "    def get_scanner_status(self):\n",
    "        return self.scanner_info\n",
    "\n",
    "    def get_printer_status(self):\n",
    "        return self.printer_info\n",
    "\n",
    "    def printing_operation_history(self):\n",
    "        print(f\"Print History for {self.printer_info.serial_number}\")\n",
    "        print(f\"{'-'*(16+12+15+6)}\")\n",
    "        print(f\"{'Document Preview':^16} | {'Characters':^12} | {'Time':^15}\")\n",
    "        for job in self.print_history:\n",
    "            print(f\"{job.document[:16]:>16} | {len(job.document):^12} | {str(job.time)[:19]:^15}\")"
   ]
  },
  {
   "cell_type": "code",
   "execution_count": 381,
   "metadata": {},
   "outputs": [
    {
     "name": "stdout",
     "output_type": "stream",
     "text": [
      "Document successfully printed.\n",
      "Document successfully printed.\n",
      "\n",
      "Print History for PRIN-MFD3-2\n",
      "-------------------------------------------------\n",
      "Document Preview |  Characters  |      Time      \n",
      "            test |      4       | 2023-01-04 23:22:13\n",
      "This is a test p |      58      | 2023-01-04 23:22:13\n"
     ]
    }
   ],
   "source": [
    "device = MFD3()\n",
    "device.print_document(\"test\")\n",
    "device.print_document(\"This is a test print.akdljfa;ldkfja;lsdkfja;lsdkfja;sldkfj\")\n",
    "\n",
    "print()\n",
    "# repr(device.print_history[0].time)\n",
    "device.printing_operation_history()"
   ]
  },
  {
   "cell_type": "code",
   "execution_count": 364,
   "metadata": {},
   "outputs": [
    {
     "data": {
      "text/plain": [
       "19"
      ]
     },
     "execution_count": 364,
     "metadata": {},
     "output_type": "execute_result"
    }
   ],
   "source": [
    "\n",
    "len(\"2023-01-04 23:17:51\")"
   ]
  },
  {
   "cell_type": "code",
   "execution_count": 223,
   "metadata": {},
   "outputs": [
    {
     "name": "stdout",
     "output_type": "stream",
     "text": [
      "@classmethod\n",
      "def _get_next_serial_number(cls) -> int:\n",
      "    serial = f\"{cls.__name__}-{cls.count}\"\n",
      "    return serial\n",
      "\n",
      "    method: _get_next_serial_number\n",
      "    parameters: cls\n",
      "    return type: int\n",
      "    body: \n",
      "    serial = f\"{cls.__name__}-{cls.count}\"\n",
      "    return serial\n",
      "    \n",
      "def _next_serial_number(cls) -> int:\n",
      "    serial = f\"{cls.__name__}-{cls.count}\"\n",
      "    return serial\n"
     ]
    },
    {
     "ename": "TypeError",
     "evalue": "'NoneType' object is not subscriptable",
     "output_type": "error",
     "traceback": [
      "\u001b[1;31m---------------------------------------------------------------------------\u001b[0m",
      "\u001b[1;31mTypeError\u001b[0m                                 Traceback (most recent call last)",
      "Cell \u001b[1;32mIn [223], line 19\u001b[0m\n\u001b[0;32m     16\u001b[0m \u001b[39mprint\u001b[39m(method)\n\u001b[0;32m     17\u001b[0m result \u001b[39m=\u001b[39m parse\u001b[39m.\u001b[39mparse(\u001b[39m\"\u001b[39m\u001b[39m{decorator}\u001b[39;00m\u001b[39mdef \u001b[39m\u001b[39m{method}\u001b[39;00m\u001b[39m(\u001b[39m\u001b[39m{parameters}\u001b[39;00m\u001b[39m) -> \u001b[39m\u001b[39m{return}\u001b[39;00m\u001b[39m:\u001b[39m\u001b[39m{body}\u001b[39;00m\u001b[39m\"\u001b[39m, method)\n\u001b[0;32m     18\u001b[0m \u001b[39mprint\u001b[39m(\u001b[39mf\u001b[39m\u001b[39m\"\"\"\u001b[39m\n\u001b[1;32m---> 19\u001b[0m \u001b[39mmethod: \u001b[39m\u001b[39m{\u001b[39;00mresult[\u001b[39m'\u001b[39m\u001b[39mmethod\u001b[39m\u001b[39m'\u001b[39m]\u001b[39m}\u001b[39;00m\n\u001b[0;32m     20\u001b[0m \u001b[39mparameters: \u001b[39m\u001b[39m{\u001b[39;00mresult[\u001b[39m'\u001b[39m\u001b[39mparameters\u001b[39m\u001b[39m'\u001b[39m]\u001b[39m}\u001b[39;00m\n\u001b[0;32m     21\u001b[0m \u001b[39mreturn type: \u001b[39m\u001b[39m{\u001b[39;00mresult[\u001b[39m'\u001b[39m\u001b[39mreturn\u001b[39m\u001b[39m'\u001b[39m]\u001b[39m}\u001b[39;00m\n\u001b[0;32m     22\u001b[0m \u001b[39mbody: \u001b[39m\u001b[39m{\u001b[39;00mresult[\u001b[39m'\u001b[39m\u001b[39mbody\u001b[39m\u001b[39m'\u001b[39m]\u001b[39m}\u001b[39;00m\n\u001b[0;32m     23\u001b[0m \u001b[39m\u001b[39m\u001b[39m\"\"\"\u001b[39m)\n",
      "\u001b[1;31mTypeError\u001b[0m: 'NoneType' object is not subscriptable"
     ]
    }
   ],
   "source": [
    "import parse\n",
    "\n",
    "definitions = \"\"\"\\\n",
    "@classmethod\n",
    "def _get_next_serial_number(cls) -> int:\n",
    "    serial = f\"{cls.__name__}-{cls.count}\"\n",
    "    return serial\n",
    "\n",
    "def _next_serial_number(cls) -> int:\n",
    "    serial = f\"{cls.__name__}-{cls.count}\"\n",
    "    return serial\"\"\"\n",
    "\n",
    "\n",
    "methods = [method for method in definitions.split(\"\\n\\n\")]\n",
    "for method in methods:\n",
    "    print(method)\n",
    "    result = parse.parse(\"{decorator}def {method}({parameters}) -> {return}:{body}\", method)\n",
    "    print(f\"\"\"\n",
    "    method: {result['method']}\n",
    "    parameters: {result['parameters']}\n",
    "    return type: {result['return']}\n",
    "    body: {result['body']}\n",
    "    \"\"\")\n"
   ]
  },
  {
   "cell_type": "code",
   "execution_count": 317,
   "metadata": {},
   "outputs": [
    {
     "name": "stdout",
     "output_type": "stream",
     "text": [
      "            Printer Information\n",
      "            ----------------------------------------\n",
      "            Max Resolution:      400\n",
      "            Serial Number:       PRIN-MFD1-1\n",
      "\n",
      "            Scanner Information\n",
      "            ----------------------------------------\n",
      "            Max Resolution:      400\n",
      "            Serial Number:       SCAN-MFD1-1\n",
      "\n",
      "Document successfully printed.\n",
      "Document successfully scanned.\n"
     ]
    }
   ],
   "source": [
    "device2 = MFD1()\n",
    "device1 = MFD1()\n",
    "print(device1.get_printer_status())\n",
    "print()\n",
    "print(device1.get_scanner_status())\n",
    "print()\n",
    "device1.print_document(\"test\")\n",
    "device1.scan_document(\"test\")"
   ]
  },
  {
   "cell_type": "code",
   "execution_count": 320,
   "metadata": {},
   "outputs": [
    {
     "name": "stdout",
     "output_type": "stream",
     "text": [
      "Document successfully printed.\n",
      "Document successfully scanned.\n",
      "            Printer Information\n",
      "            ----------------------------------------\n",
      "            Max Resolution:      600\n",
      "            Serial Number:       PRIN-MFD2-3\n",
      "            Scanner Information\n",
      "            ----------------------------------------\n",
      "            Max Resolution:      600\n",
      "            Serial Number:       SCAN-MFD2-3\n",
      "test  | 2023-01-04 19:02:24.110865\n",
      "test  | 2023-01-04 19:02:31.842366\n",
      "test_3  | 2023-01-04 19:02:41.015862\n",
      "test_3  | 2023-01-04 19:03:00.234245\n",
      "test_3  | 2023-01-04 19:03:06.787492\n",
      "test_3  | 2023-01-04 22:54:54.169755\n",
      "test_3  | 2023-01-04 22:55:17.907765\n",
      "2023-01-04 19:02:41.015862\n"
     ]
    }
   ],
   "source": [
    "device_mid1.print_document(\"test_3\")\n",
    "device_mid1.scan_document(\"test_3\")\n",
    "print(device_mid1.get_printer_status())\n",
    "print(device_mid1.get_scanner_status())\n",
    "\n",
    "for job in device_mid1.print_history:\n",
    "    print(f\"{job.document}  | {job.time}\")\n",
    "\n",
    "print(device_mid1.print_history[2].time)"
   ]
  },
  {
   "cell_type": "code",
   "execution_count": 319,
   "metadata": {},
   "outputs": [
    {
     "name": "stdout",
     "output_type": "stream",
     "text": [
      "Document successfully printed.\n",
      "Document successfully faxed.\n",
      "Document successfully scanned.\n",
      "\n",
      "            Printer Information\n",
      "            ----------------------------------------\n",
      "            Max Resolution:      900\n",
      "            Serial Number:       PRIN-MFD3-0\n",
      "\n",
      "            Scanner Information\n",
      "            ----------------------------------------\n",
      "            Max Resolution:      900\n",
      "            Serial Number:       SCAN-MFD3-0\n"
     ]
    }
   ],
   "source": [
    "device_upper1 = MFD3()\n",
    "device_upper1.print_document(\"test\")\n",
    "device_upper1.fax_document('test')\n",
    "device_upper1.scan_document(\"test\")\n",
    "print()\n",
    "print(device_upper1.get_printer_status())\n",
    "print()\n",
    "print(device_upper1.get_scanner_status())\n"
   ]
  },
  {
   "cell_type": "code",
   "execution_count": null,
   "metadata": {},
   "outputs": [
    {
     "name": "stdout",
     "output_type": "stream",
     "text": [
      "@classmethod\n",
      "def _get_next_serial_number(cls) -> int:\n",
      "    serial = f\"{cls.__name__}-{cls.count}\"\n",
      "    return serial\n",
      "\n",
      "        method: _get_next_serial_number\n",
      "        parameters: cls\n",
      "        return type: int\n",
      "        body: \n",
      "\n",
      "        \n",
      "def _next_serial_number(cls) -> int:\n",
      "    serial = f\"{cls.__name__}-{cls.count}\"\n",
      "    return serial\n"
     ]
    }
   ],
   "source": [
    "import parse\n",
    "\n",
    "definitions = \"\"\"\\\n",
    "@classmethod\n",
    "def _get_next_serial_number(cls) -> int:\n",
    "    serial = f\"{cls.__name__}-{cls.count}\"\n",
    "    return serial\n",
    "\n",
    "def _next_serial_number(cls) -> int:\n",
    "    serial = f\"{cls.__name__}-{cls.count}\"\n",
    "    return serial\"\"\"\n",
    "\n",
    "\n",
    "methods = [method for method in definitions.split(\"\\n\\n\")]\n",
    "for method in methods:\n",
    "    print(method)\n",
    "    result = parse.search(\"{decorator}def {method}({parameters}) -> {return}:{body}\", method)\n",
    "    if result:\n",
    "        print(f\"\"\"\n",
    "        method: {result['method']}\n",
    "        parameters: {result['parameters']}\n",
    "        return type: {result['return']}\n",
    "        body: {result['body']}\n",
    "        \"\"\")\n"
   ]
  },
  {
   "cell_type": "code",
   "execution_count": null,
   "metadata": {},
   "outputs": [
    {
     "name": "stdout",
     "output_type": "stream",
     "text": [
      "_get_next_serial_number(cls) int\n",
      "_next_serial_number(cls) int\n"
     ]
    }
   ],
   "source": [
    "import re\n",
    "\n",
    "definitions = \"\"\"\\\n",
    "@classmethod\n",
    "def _get_next_serial_number(cls) -> int:\n",
    "    serial = f\"{cls.__name__}-{cls.count}\"\n",
    "    return serial\n",
    "\n",
    "def _next_serial_number(cls) -> int:\n",
    "    serial = f\"{cls.__name__}-{cls.count}\"\n",
    "    return serial\"\"\"\n",
    "\n",
    "\n"
   ]
  },
  {
   "cell_type": "code",
   "execution_count": null,
   "metadata": {},
   "outputs": [],
   "source": [
    "scanner = \"\"\"\\\n",
    "    def __init__(self, max_resolution:str, serial:str):\n",
    "        self.max_resolution = max_resolution\n",
    "        self.serial_number = serial\n",
    "\n",
    "    def __str__(self):\"\"\"\n",
    "\n",
    "def extract_methods(definitions):\n",
    "\n",
    "    pattern = r\"(def [^:]+)\"\n",
    "    matches = re.finditer(pattern, definitions, flags=re.DOTALL)\n",
    "    for method_signature in matches:\n",
    "        pattern = r\"def ([^(]+).([^)]+)\\) -> (.*)\"\n",
    "        match = re.search(pattern, method_signature[1]) \n",
    "        method, parameter, return_type = match.group(1), match.group(2), match.group(3)\n",
    "        print(f\"{method}({parameter}) {return_type}\")\n",
    "\n",
    "def extract_methods(definitions):\n",
    "    pattern = r\"(def [^:]+):.*?(?=\\n\\n|$)\"\n",
    "    matches = re.finditer(pattern, definitions, flags=re.DOTALL)\n",
    "    for match in matches:\n",
    "        definition = match.group()\n",
    "        pattern = r\"def ([^(]+).*?\\((.*?)\\).*? -> (.*?)$\"\n",
    "        match = re.search(pattern, definition, flags=re.DOTALL)\n",
    "        if match:\n",
    "            method, parameters, return_type = match.groups()\n",
    "            print(f\"{method}({parameters}) -> {return_type}\")\n"
   ]
  },
  {
   "cell_type": "code",
   "execution_count": null,
   "metadata": {},
   "outputs": [],
   "source": [
    "extract_methods(scanner)"
   ]
  }
 ],
 "metadata": {
  "kernelspec": {
   "display_name": "Python 3",
   "language": "python",
   "name": "python3"
  },
  "language_info": {
   "codemirror_mode": {
    "name": "ipython",
    "version": 3
   },
   "file_extension": ".py",
   "mimetype": "text/x-python",
   "name": "python",
   "nbconvert_exporter": "python",
   "pygments_lexer": "ipython3",
   "version": "3.10.5"
  },
  "orig_nbformat": 4,
  "vscode": {
   "interpreter": {
    "hash": "369f2c481f4da34e4445cda3fffd2e751bd1c4d706f27375911949ba6bb62e1c"
   }
  }
 },
 "nbformat": 4,
 "nbformat_minor": 2
}
