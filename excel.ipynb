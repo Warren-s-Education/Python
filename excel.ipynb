{
 "cells": [
  {
   "cell_type": "code",
   "execution_count": null,
   "metadata": {},
   "outputs": [],
   "source": [
    "import openpyxl\n",
    "import os\n",
    "import pathlib\n",
    "\n",
    "wb = openpyxl.load_workbook(\"example.xlsx\")\n",
    "type(wb)"
   ]
  },
  {
   "cell_type": "code",
   "execution_count": null,
   "metadata": {},
   "outputs": [],
   "source": [
    "sheet3 = wb['Sheet3']"
   ]
  },
  {
   "cell_type": "code",
   "execution_count": null,
   "metadata": {},
   "outputs": [],
   "source": [
    "anotherSheet = wb.active\n",
    "anotherSheet.title"
   ]
  },
  {
   "cell_type": "code",
   "execution_count": null,
   "metadata": {},
   "outputs": [],
   "source": [
    "workbook = openpyxl.load_workbook('example.xlsx')\n",
    "sheet1 = workbook['Sheet1']\n",
    "a = sheet1['A1'].value\n",
    "cell = sheet1['B1']\n",
    "print(f\"Row {cell.row}, Column {cell.column} is {cell.value}\")\n",
    "print(f\"Cell {cell.coordinate} is {cell.value}.\")\n"
   ]
  },
  {
   "cell_type": "code",
   "execution_count": null,
   "metadata": {},
   "outputs": [],
   "source": [
    "sheet1.cell(1,2)"
   ]
  },
  {
   "cell_type": "code",
   "execution_count": null,
   "metadata": {},
   "outputs": [],
   "source": [
    "for i in range(1,8,2):\n",
    "    print(f\"{i} {sheet1.cell(row=i, column=2).value}\")"
   ]
  },
  {
   "cell_type": "code",
   "execution_count": null,
   "metadata": {},
   "outputs": [],
   "source": [
    "# Go down column B and print the value in every cell with an odd row number.\n",
    "\n",
    "workbook = openpyxl.load_workbook('example.xlsx')\n",
    "sheet = workbook.active\n",
    "maximum_row = sheet.max_row\n",
    "for i in range(1,maximum_row + 1,2):\n",
    "    print(f\"{i} {sheet.cell(row=i, column=2).value}\")"
   ]
  },
  {
   "cell_type": "code",
   "execution_count": null,
   "metadata": {},
   "outputs": [],
   "source": [
    "from openpyxl.utils import get_column_letter, column_index_from_string"
   ]
  },
  {
   "cell_type": "code",
   "execution_count": null,
   "metadata": {},
   "outputs": [],
   "source": [
    "get_column_letter(sheet.max_column)"
   ]
  },
  {
   "cell_type": "code",
   "execution_count": null,
   "metadata": {},
   "outputs": [],
   "source": [
    "wb = openpyxl.load_workbook('example.xlsx')\n",
    "sheet = wb.active\n",
    "for row_of_cell_objects in sheet['A1': 'C3']:\n",
    "    for cell_object in row_of_cell_objects:\n",
    "        print(cell_object.coordinate, cell_object.value)\n",
    "    print(\"--- END ROW ---\")"
   ]
  },
  {
   "cell_type": "code",
   "execution_count": null,
   "metadata": {},
   "outputs": [],
   "source": [
    "for cell_object in tuple(sheet.columns)[1]:\n",
    "    print(cell.value)"
   ]
  },
  {
   "cell_type": "code",
   "execution_count": null,
   "metadata": {},
   "outputs": [],
   "source": [
    "for cell_object in sheet.columns:\n",
    "    print(cell_object[1].value)"
   ]
  },
  {
   "cell_type": "code",
   "execution_count": null,
   "metadata": {},
   "outputs": [],
   "source": [
    "tuple(sheet.columns)"
   ]
  },
  {
   "cell_type": "code",
   "execution_count": null,
   "metadata": {},
   "outputs": [],
   "source": [
    "for cell_object in tuple(sheet.columns)[1]:\n",
    "    print(cell_object.value)"
   ]
  },
  {
   "cell_type": "code",
   "execution_count": null,
   "metadata": {},
   "outputs": [],
   "source": [
    "from collections import defaultdict\n",
    "\n",
    "workbook = openpyxl.load_workbook('censuspopdata.xlsx')\n",
    "sheet = workbook.active\n",
    "maximum_row = sheet.max_row\n",
    "\n"
   ]
  },
  {
   "cell_type": "code",
   "execution_count": null,
   "metadata": {},
   "outputs": [],
   "source": [
    "STATE_COLUMN = 'B'\n",
    "COUNTY_COLUMN = 'C'\n",
    "POPULATION_COLUMN = 'D'\n",
    "\n",
    "county_populations = defaultdict(int)\n",
    "state_populations = defaultdict(int)\n",
    "states = set()\n",
    "counties = set()\n",
    "\n",
    "for i in range(2,maximum_row + 1):\n",
    "    state = sheet[STATE_COLUMN + str(i)].value\n",
    "    county = sheet[COUNTY_COLUMN + str(i)].value\n",
    "    population = sheet[POPULATION_COLUMN + str(i)].value\n",
    "\n",
    "\n",
    "    state_populations[state] += population\n",
    "    states.add(state)\n",
    "\n",
    "    county_populations[county] += population\n",
    "    counties.add(county)\n",
    "\n",
    "print(f\"{counties = }\")\n",
    "print(f\"{county_populations = }\")\n",
    "\n",
    "print(f\"{states = }\")\n",
    "print(f\"{state_populations = }\") \n",
    "\n",
    "\n"
   ]
  },
  {
   "cell_type": "code",
   "execution_count": null,
   "metadata": {},
   "outputs": [],
   "source": [
    "wb = openpyxl.load_workbook('censuspopdata.xlsx')\n",
    "sheet = wb.active\n",
    "maximum_row = sheet.max_row"
   ]
  },
  {
   "cell_type": "code",
   "execution_count": null,
   "metadata": {},
   "outputs": [],
   "source": [
    "import pprint"
   ]
  },
  {
   "cell_type": "code",
   "execution_count": null,
   "metadata": {},
   "outputs": [],
   "source": [
    "STATE_COLUMN = 'B'\n",
    "COUNTY_COLUMN = 'C'\n",
    "POPULATION_COLUMN = 'D'\n",
    "\n",
    "county_data = dict()\n",
    "\n",
    "for row in range(2, maximum_row + 1):\n",
    "    state = sheet[STATE_COLUMN + str(row)].value\n",
    "    county = sheet[COUNTY_COLUMN + str(row)].value\n",
    "    population = sheet[POPULATION_COLUMN + str(row)].value\n",
    "\n",
    "    county_data.setdefault(state, {})\n",
    "    county_data[state].setdefault(county, {'tracts':0, 'population':0})\n",
    "\n",
    "    county_data[state][county]['population'] += population\n",
    "    county_data[state][county]['tracts'] += 1\n",
    "\n",
    "result_file = pathlib.Path('census1010.py')\n",
    "result_file.write_text(f\"all_data = {pprint.pformat(county_data)}\")"
   ]
  },
  {
   "cell_type": "code",
   "execution_count": null,
   "metadata": {},
   "outputs": [],
   "source": [
    "county_data = defaultdict(str)\n",
    "county_data.default_factory = lambda: {'county': {'population': 0, 'tract':0}}\n",
    "\n",
    "county_data['Baldwin']"
   ]
  },
  {
   "cell_type": "code",
   "execution_count": null,
   "metadata": {},
   "outputs": [],
   "source": [
    "test_dict = {}\n",
    "test_dict['VIC']['Ferntree Gully']['tract'] = 1\n",
    "test_dict['VIC']['Ferntree Gully']['population'] = 20\n",
    "test_dict\n"
   ]
  },
  {
   "cell_type": "code",
   "execution_count": null,
   "metadata": {},
   "outputs": [],
   "source": [
    "import census1010"
   ]
  },
  {
   "cell_type": "code",
   "execution_count": null,
   "metadata": {},
   "outputs": [],
   "source": [
    "census1010.all_data"
   ]
  },
  {
   "cell_type": "code",
   "execution_count": null,
   "metadata": {},
   "outputs": [],
   "source": [
    "import openpyxl as xl\n",
    "wb = openpyxl.Workbook()\n",
    "sheet = wb.active\n",
    "sheet.title = 'Spam Bacon Eggs Sheet'\n",
    "wb.sheetnames"
   ]
  },
  {
   "cell_type": "code",
   "execution_count": null,
   "metadata": {},
   "outputs": [],
   "source": [
    "wb = xl.load_workbook('example.xlsx')\n",
    "print(wb.sheetnames)\n",
    "sheet = wb.active\n",
    "sheet.title = 'Spam spam spam'\n",
    "print(wb.sheetnames)\n",
    "wb.save('example_copy.xlsx')"
   ]
  },
  {
   "cell_type": "code",
   "execution_count": null,
   "metadata": {},
   "outputs": [],
   "source": [
    "wb = xl.Workbook()\n",
    "wb.sheetnames\n",
    "wb.create_sheet()\n",
    "wb.create_sheet(index=0, title='First Sheet')\n",
    "wb.create_sheet(index=2, title='Middle Sheet')\n",
    "wb.sheetnames\n",
    "del wb['Middle Sheet']\n",
    "wb.sheetnames"
   ]
  },
  {
   "cell_type": "code",
   "execution_count": null,
   "metadata": {},
   "outputs": [],
   "source": [
    "wb = xl.Workbook()\n",
    "sheet = wb.active\n",
    "sheet['A1'] = 'Hello World!'\n",
    "sheet['A1'].value\n",
    "wb.save('hello_world.xlsx')\n"
   ]
  },
  {
   "cell_type": "code",
   "execution_count": null,
   "metadata": {},
   "outputs": [],
   "source": [
    "wb = xl.load_workbook('produceSales.xlsx')\n",
    "sheet = wb.active\n",
    "\n",
    "CELERY_PRICE = 1.19\n",
    "GARLIC_PRICE = 3.07\n",
    "LEMON_PRICE = 1.27\n",
    "\n",
    "PRICE_UPDATES = {\n",
    "    'celery':CELERY_PRICE,\n",
    "    'garlic': GARLIC_PRICE,\n",
    "    'lemon': LEMON_PRICE\n",
    "}\n",
    "\n",
    "MAXIMUM_ROWS = sheet.max_row"
   ]
  },
  {
   "cell_type": "code",
   "execution_count": null,
   "metadata": {},
   "outputs": [],
   "source": [
    "PRODUCT_COLUMN = 1\n",
    "PRICE_COLUMN = 2\n",
    "\n",
    "for row_number in range(2, MAXIMUM_ROWS):\n",
    "    product_cell = sheet.cell(row=row_number, column=1)\n",
    "    product = product_cell.value.lower()\n",
    "\n",
    "    if product in PRICE_UPDATES.keys():\n",
    "        price_cell = sheet.cell(row=row_number, column=PRICE_COLUMN)\n",
    "        price_cell.value = PRICE_UPDATES[product]\n",
    "\n",
    "wb.save('produceSales_updated.xlsx')"
   ]
  },
  {
   "cell_type": "code",
   "execution_count": null,
   "metadata": {},
   "outputs": [],
   "source": [
    "from win32com import client"
   ]
  },
  {
   "cell_type": "code",
   "execution_count": null,
   "metadata": {},
   "outputs": [],
   "source": [
    "excel = client.Dispatch(\"Excel.Application\", userName=os.getlogin())"
   ]
  },
  {
   "cell_type": "code",
   "execution_count": null,
   "metadata": {},
   "outputs": [],
   "source": [
    "workbook = xl.Workbook()\n",
    "sheet = workbook.active\n",
    "\n",
    "sheet['A1'] = 'hello'\n",
    "sheet['B1'] = 'world!'\n",
    "\n",
    "workbook.save('realpython.xlsx')"
   ]
  },
  {
   "cell_type": "code",
   "execution_count": null,
   "metadata": {},
   "outputs": [],
   "source": [
    "workbook = xl.load_workbook('invoice26.xlsx')\n",
    "sheet = workbook.active\n",
    "\n",
    "tuple(sheet.rows"
   ]
  }
 ],
 "metadata": {
  "kernelspec": {
   "display_name": "Python 3",
   "language": "python",
   "name": "python3"
  },
  "language_info": {
   "codemirror_mode": {
    "name": "ipython",
    "version": 3
   },
   "file_extension": ".py",
   "mimetype": "text/x-python",
   "name": "python",
   "nbconvert_exporter": "python",
   "pygments_lexer": "ipython3",
   "version": "3.10.5"
  },
  "orig_nbformat": 4,
  "vscode": {
   "interpreter": {
    "hash": "369f2c481f4da34e4445cda3fffd2e751bd1c4d706f27375911949ba6bb62e1c"
   }
  }
 },
 "nbformat": 4,
 "nbformat_minor": 2
}
