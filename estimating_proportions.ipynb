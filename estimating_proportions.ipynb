{
 "cells": [
  {
   "cell_type": "markdown",
   "metadata": {},
   "source": [
    "### Estimating a population proportion (1 of 3)"
   ]
  },
  {
   "cell_type": "markdown",
   "metadata": {},
   "source": [
    "#### Example - Community College Students and Gender"
   ]
  },
  {
   "cell_type": "code",
   "execution_count": 2,
   "metadata": {},
   "outputs": [],
   "source": [
    "p = .57\n",
    "\n",
    "n = 135\n",
    "p_hat = 72/135\n",
    "\n"
   ]
  },
  {
   "cell_type": "code",
   "execution_count": 4,
   "metadata": {},
   "outputs": [
    {
     "data": {
      "text/plain": [
       "76.94999999999999"
      ]
     },
     "execution_count": 4,
     "metadata": {},
     "output_type": "execute_result"
    }
   ],
   "source": [
    "n*p "
   ]
  },
  {
   "cell_type": "code",
   "execution_count": 5,
   "metadata": {},
   "outputs": [
    {
     "data": {
      "text/plain": [
       "58.050000000000004"
      ]
     },
     "execution_count": 5,
     "metadata": {},
     "output_type": "execute_result"
    }
   ],
   "source": [
    "n*(1-p)"
   ]
  },
  {
   "cell_type": "code",
   "execution_count": 12,
   "metadata": {},
   "outputs": [],
   "source": [
    "std_error = ( (p*(1-p) ) /n)**.5\n",
    "margin_error = 2 * std_error"
   ]
  },
  {
   "cell_type": "code",
   "execution_count": 13,
   "metadata": {},
   "outputs": [
    {
     "data": {
      "text/plain": [
       "(0.4481146603665344, 0.6185520063001322)"
      ]
     },
     "execution_count": 13,
     "metadata": {},
     "output_type": "execute_result"
    }
   ],
   "source": [
    "p_hat - margin_error, p_hat + margin_error"
   ]
  },
  {
   "cell_type": "markdown",
   "metadata": {},
   "source": [
    "Try It: proportion who attend basketball game"
   ]
  },
  {
   "cell_type": "code",
   "execution_count": 18,
   "metadata": {},
   "outputs": [
    {
     "name": "stdout",
     "output_type": "stream",
     "text": [
      "0.15172413793103448\n",
      "123\n"
     ]
    },
    {
     "data": {
      "text/plain": [
       "(0.09213845950822278, 0.21130981635384619)"
      ]
     },
     "execution_count": 18,
     "metadata": {},
     "output_type": "execute_result"
    }
   ],
   "source": [
    "n = 145\n",
    "p_hat = 22/145\n",
    "print(p_hat)\n",
    "print(145-22)\n",
    "std_error = ( ( p_hat * (1 - p_hat) ) /n )**.5\n",
    "margin_error = 2 * std_error\n",
    "\n",
    "\n",
    "p_hat - margin_error, p_hat + margin_error"
   ]
  },
  {
   "cell_type": "code",
   "execution_count": 22,
   "metadata": {},
   "outputs": [
    {
     "name": "stdout",
     "output_type": "stream",
     "text": [
      "0.030693649149871816\n"
     ]
    },
    {
     "data": {
      "text/plain": [
       "(0.5693063508501282, 0.6306936491498718)"
      ]
     },
     "execution_count": 22,
     "metadata": {},
     "output_type": "execute_result"
    }
   ],
   "source": [
    "n = 1_019\n",
    "p_hat = .6\n",
    "\n",
    "std_error = ( (p_hat*(1-p_hat) )/n)**.5\n",
    "margin_error = std_error * 2\n",
    "print(margin_error)\n",
    "\n",
    "p_hat - margin_error, p_hat + margin_error"
   ]
  },
  {
   "cell_type": "markdown",
   "metadata": {},
   "source": [
    "### Estimating a population proportion (2 of 3)"
   ]
  }
 ],
 "metadata": {
  "kernelspec": {
   "display_name": "Python 3.10.5 ('numpy_practice': venv)",
   "language": "python",
   "name": "python3"
  },
  "language_info": {
   "codemirror_mode": {
    "name": "ipython",
    "version": 3
   },
   "file_extension": ".py",
   "mimetype": "text/x-python",
   "name": "python",
   "nbconvert_exporter": "python",
   "pygments_lexer": "ipython3",
   "version": "3.10.5"
  },
  "orig_nbformat": 4,
  "vscode": {
   "interpreter": {
    "hash": "506e1314e50230895a36f7e997360677417938187e89a86875e6b8661373709a"
   }
  }
 },
 "nbformat": 4,
 "nbformat_minor": 2
}
