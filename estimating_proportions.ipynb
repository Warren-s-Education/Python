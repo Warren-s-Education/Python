{
 "cells": [
  {
   "cell_type": "markdown",
   "metadata": {},
   "source": [
    "### Estimating a population proportion (1 of 3)"
   ]
  },
  {
   "cell_type": "markdown",
   "metadata": {},
   "source": [
    "#### Example - Community College Students and Gender"
   ]
  },
  {
   "cell_type": "code",
   "execution_count": 2,
   "metadata": {},
   "outputs": [],
   "source": [
    "p = .57\n",
    "\n",
    "n = 135\n",
    "p_hat = 72/135\n",
    "\n"
   ]
  },
  {
   "cell_type": "code",
   "execution_count": 4,
   "metadata": {},
   "outputs": [
    {
     "data": {
      "text/plain": [
       "76.94999999999999"
      ]
     },
     "execution_count": 4,
     "metadata": {},
     "output_type": "execute_result"
    }
   ],
   "source": [
    "n*p "
   ]
  },
  {
   "cell_type": "code",
   "execution_count": 5,
   "metadata": {},
   "outputs": [
    {
     "data": {
      "text/plain": [
       "58.050000000000004"
      ]
     },
     "execution_count": 5,
     "metadata": {},
     "output_type": "execute_result"
    }
   ],
   "source": [
    "n*(1-p)"
   ]
  },
  {
   "cell_type": "code",
   "execution_count": 12,
   "metadata": {},
   "outputs": [],
   "source": [
    "std_error = ( (p*(1-p) ) /n)**.5\n",
    "margin_error = 2 * std_error"
   ]
  },
  {
   "cell_type": "code",
   "execution_count": 13,
   "metadata": {},
   "outputs": [
    {
     "data": {
      "text/plain": [
       "(0.4481146603665344, 0.6185520063001322)"
      ]
     },
     "execution_count": 13,
     "metadata": {},
     "output_type": "execute_result"
    }
   ],
   "source": [
    "p_hat - margin_error, p_hat + margin_error"
   ]
  },
  {
   "cell_type": "markdown",
   "metadata": {},
   "source": [
    "Try It: proportion who attend basketball game"
   ]
  },
  {
   "cell_type": "code",
   "execution_count": 18,
   "metadata": {},
   "outputs": [
    {
     "name": "stdout",
     "output_type": "stream",
     "text": [
      "0.15172413793103448\n",
      "123\n"
     ]
    },
    {
     "data": {
      "text/plain": [
       "(0.09213845950822278, 0.21130981635384619)"
      ]
     },
     "execution_count": 18,
     "metadata": {},
     "output_type": "execute_result"
    }
   ],
   "source": [
    "n = 145\n",
    "p_hat = 22/145\n",
    "print(p_hat)\n",
    "print(145-22)\n",
    "std_error = ( ( p_hat * (1 - p_hat) ) /n )**.5\n",
    "margin_error = 2 * std_error\n",
    "\n",
    "\n",
    "p_hat - margin_error, p_hat + margin_error"
   ]
  },
  {
   "cell_type": "code",
   "execution_count": 22,
   "metadata": {},
   "outputs": [
    {
     "name": "stdout",
     "output_type": "stream",
     "text": [
      "0.030693649149871816\n"
     ]
    },
    {
     "data": {
      "text/plain": [
       "(0.5693063508501282, 0.6306936491498718)"
      ]
     },
     "execution_count": 22,
     "metadata": {},
     "output_type": "execute_result"
    }
   ],
   "source": [
    "n = 1_019\n",
    "p_hat = .6\n",
    "\n",
    "std_error = ( (p_hat*(1-p_hat) )/n)**.5\n",
    "margin_error = std_error * 2\n",
    "print(margin_error)\n",
    "\n",
    "p_hat - margin_error, p_hat + margin_error"
   ]
  },
  {
   "cell_type": "markdown",
   "metadata": {},
   "source": [
    "### Estimating a population proportion (2 of 3)"
   ]
  },
  {
   "cell_type": "code",
   "execution_count": 2,
   "metadata": {},
   "outputs": [],
   "source": [
    "import statsmodels.stats.proportion as stm \n",
    "import scipy.stats as st"
   ]
  },
  {
   "cell_type": "markdown",
   "metadata": {},
   "source": [
    "Example: 90% confidence interval for proportion of TTC students who are female"
   ]
  },
  {
   "cell_type": "code",
   "execution_count": 5,
   "metadata": {},
   "outputs": [
    {
     "data": {
      "text/plain": [
       "1.6448536269514722"
      ]
     },
     "execution_count": 5,
     "metadata": {},
     "output_type": "execute_result"
    }
   ],
   "source": [
    "st.norm.ppf(.95)"
   ]
  },
  {
   "cell_type": "code",
   "execution_count": 8,
   "metadata": {},
   "outputs": [
    {
     "data": {
      "text/plain": [
       "(0.4627075745170669, 0.6039590921495998)"
      ]
     },
     "execution_count": 8,
     "metadata": {},
     "output_type": "execute_result"
    }
   ],
   "source": [
    "n = 135\n",
    "p_hat = 72/135\n",
    "\n",
    "std_error = (p_hat * (1 - p_hat)/n  ) ** .5\n",
    "margin_error = st.norm.ppf(.95) * std_error\n",
    "\n",
    "p_hat - margin_error, p_hat + margin_error"
   ]
  },
  {
   "cell_type": "code",
   "execution_count": 11,
   "metadata": {},
   "outputs": [
    {
     "data": {
      "text/plain": [
       "(0.44745850817072924, 0.6192081584959375)"
      ]
     },
     "execution_count": 11,
     "metadata": {},
     "output_type": "execute_result"
    }
   ],
   "source": [
    "n = 135\n",
    "p_hat = 72/135\n",
    "\n",
    "std_error = (p_hat * (1 - p_hat)/n  ) ** .5\n",
    "margin_error = 2 * std_error\n",
    "\n",
    "p_hat - margin_error, p_hat + margin_error"
   ]
  },
  {
   "cell_type": "markdown",
   "metadata": {},
   "source": [
    "### Confidence Interval Formula\n",
    "\n",
    "$ \\huge{\\hat{p} \\pm Z_c \\sqrt{\\frac{\\hat{p}(1-\\hat{p})}{n}}  } $"
   ]
  },
  {
   "cell_type": "markdown",
   "metadata": {},
   "source": [
    "Try It: Just the Facts"
   ]
  },
  {
   "cell_type": "code",
   "execution_count": 13,
   "metadata": {},
   "outputs": [
    {
     "data": {
      "text/plain": [
       "(0.5501563206870412, 0.6298436793129587)"
      ]
     },
     "execution_count": 13,
     "metadata": {},
     "output_type": "execute_result"
    }
   ],
   "source": [
    "n = 1011\n",
    "cl = .99\n",
    "p_hat = .59\n",
    "\n",
    "z_c = st.norm.ppf(.995)\n",
    "\n",
    "std_error = ( p_hat * (1 - p_hat) / n ) ** .5\n",
    "margin_error = z_c * std_error\n",
    "\n",
    "p_hat - margin_error, p_hat + margin_error"
   ]
  }
 ],
 "metadata": {
  "kernelspec": {
   "display_name": "Python 3.10.5 ('lumen': venv)",
   "language": "python",
   "name": "python3"
  },
  "language_info": {
   "codemirror_mode": {
    "name": "ipython",
    "version": 3
   },
   "file_extension": ".py",
   "mimetype": "text/x-python",
   "name": "python",
   "nbconvert_exporter": "python",
   "pygments_lexer": "ipython3",
   "version": "3.10.5"
  },
  "orig_nbformat": 4,
  "vscode": {
   "interpreter": {
    "hash": "558d3ae53c2989f92537fb60ff69fae09d4b361a8a5f6719dc1bd2672a63ef26"
   }
  }
 },
 "nbformat": 4,
 "nbformat_minor": 2
}
