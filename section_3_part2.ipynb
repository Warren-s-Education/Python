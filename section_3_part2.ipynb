{
 "cells": [
  {
   "cell_type": "code",
   "execution_count": 254,
   "metadata": {},
   "outputs": [],
   "source": [
    "import pandas as pd\n",
    "import numpy as np\n"
   ]
  },
  {
   "cell_type": "code",
   "execution_count": 15,
   "metadata": {},
   "outputs": [],
   "source": [
    "alcohol = pd.read_csv('drinks.csv', usecols=['country', 'wine_servings'], index_col='country').squeeze('columns')"
   ]
  },
  {
   "cell_type": "code",
   "execution_count": null,
   "metadata": {},
   "outputs": [],
   "source": []
  },
  {
   "cell_type": "code",
   "execution_count": 14,
   "metadata": {},
   "outputs": [
    {
     "data": {
      "text/plain": [
       "country\n",
       "Afghanistan      NaN\n",
       "Albania         54.0\n",
       "Algeria         14.0\n",
       "Andorra        312.0\n",
       "Angola          45.0\n",
       "Name: wine_servings, dtype: float64"
      ]
     },
     "execution_count": 14,
     "metadata": {},
     "output_type": "execute_result"
    }
   ],
   "source": [
    "alcohol.head()"
   ]
  },
  {
   "cell_type": "code",
   "execution_count": 9,
   "metadata": {},
   "outputs": [],
   "source": [
    "alcohol = alcohol.sort_values(ascending = False)"
   ]
  },
  {
   "cell_type": "code",
   "execution_count": 21,
   "metadata": {},
   "outputs": [
    {
     "data": {
      "text/plain": [
       "71"
      ]
     },
     "execution_count": 21,
     "metadata": {},
     "output_type": "execute_result"
    }
   ],
   "source": [
    "alcohol.nunique()\n"
   ]
  },
  {
   "cell_type": "code",
   "execution_count": 32,
   "metadata": {},
   "outputs": [
    {
     "name": "stderr",
     "output_type": "stream",
     "text": [
      "C:\\Users\\Miranda and Warren\\AppData\\Local\\Temp\\ipykernel_216\\3195558258.py:1: FutureWarning: is_monotonic is deprecated and will be removed in a future version. Use is_monotonic_increasing instead.\n",
      "  alcohol.is_monotonic\n"
     ]
    },
    {
     "data": {
      "text/plain": [
       "False"
      ]
     },
     "execution_count": 32,
     "metadata": {},
     "output_type": "execute_result"
    }
   ],
   "source": [
    "alcohol.is_monotonic"
   ]
  },
  {
   "cell_type": "code",
   "execution_count": 39,
   "metadata": {},
   "outputs": [
    {
     "data": {
      "text/plain": [
       "31"
      ]
     },
     "execution_count": 39,
     "metadata": {},
     "output_type": "execute_result"
    }
   ],
   "source": [
    "alcohol[alcohol.isnull()].size"
   ]
  },
  {
   "cell_type": "code",
   "execution_count": 58,
   "metadata": {},
   "outputs": [],
   "source": [
    "drinks = alcohol"
   ]
  },
  {
   "cell_type": "code",
   "execution_count": 59,
   "metadata": {},
   "outputs": [
    {
     "data": {
      "text/plain": [
       "country\n",
       "Afghanistan      NaN\n",
       "Albania         54.0\n",
       "Algeria         14.0\n",
       "Andorra        312.0\n",
       "Angola          45.0\n",
       "               ...  \n",
       "Venezuela        3.0\n",
       "Vietnam          1.0\n",
       "Yemen            NaN\n",
       "Zambia           4.0\n",
       "Zimbabwe         4.0\n",
       "Name: wine_servings, Length: 193, dtype: float64"
      ]
     },
     "execution_count": 59,
     "metadata": {},
     "output_type": "execute_result"
    }
   ],
   "source": [
    "drinks"
   ]
  },
  {
   "cell_type": "code",
   "execution_count": 81,
   "metadata": {},
   "outputs": [
    {
     "name": "stdout",
     "output_type": "stream",
     "text": [
      "nan,nan,nan,nan,nan,nan,nan,nan,nan,nan,nan,nan,nan,nan,nan,nan,nan,nan,nan,nan,nan,nan,nan,nan,nan,nan,nan,nan,nan,nan,nan,"
     ]
    }
   ],
   "source": [
    "alcohol[alcohol.isnull()].index\n",
    "for country in alcohol[alcohol.isnull()].index:\n",
    "    print(alcohol.loc[country], end=',')"
   ]
  },
  {
   "cell_type": "code",
   "execution_count": 73,
   "metadata": {},
   "outputs": [
    {
     "data": {
      "text/plain": [
       "Albania          6\n",
       "Algeria         10\n",
       "Afghanistan    100\n",
       "Yemen          101\n",
       "dtype: int64"
      ]
     },
     "execution_count": 73,
     "metadata": {},
     "output_type": "execute_result"
    }
   ],
   "source": [
    "more_drinks = pd.Series({'Albania': 6, 'Algeria': 10, 'Afghanistan': 100, 'Yemen':101})\n",
    "more_drinks"
   ]
  },
  {
   "cell_type": "code",
   "execution_count": 85,
   "metadata": {},
   "outputs": [
    {
     "data": {
      "text/plain": [
       "country\n",
       "Afghanistan      NaN\n",
       "Albania         54.0\n",
       "Algeria         14.0\n",
       "Andorra        312.0\n",
       "Angola          45.0\n",
       "               ...  \n",
       "Venezuela        3.0\n",
       "Vietnam          1.0\n",
       "Yemen            NaN\n",
       "Zambia           4.0\n",
       "Zimbabwe         4.0\n",
       "Name: wine_servings, Length: 193, dtype: float64"
      ]
     },
     "execution_count": 85,
     "metadata": {},
     "output_type": "execute_result"
    }
   ],
   "source": [
    "drinks"
   ]
  },
  {
   "cell_type": "code",
   "execution_count": 95,
   "metadata": {},
   "outputs": [
    {
     "data": {
      "text/plain": [
       "Afghanistan    NaN\n",
       "Albania        9.0\n",
       "Algeria        1.4\n",
       "Andorra        NaN\n",
       "Angola         NaN\n",
       "              ... \n",
       "Venezuela      NaN\n",
       "Vietnam        NaN\n",
       "Yemen          NaN\n",
       "Zambia         NaN\n",
       "Zimbabwe       NaN\n",
       "Length: 193, dtype: float64"
      ]
     },
     "execution_count": 95,
     "metadata": {},
     "output_type": "execute_result"
    }
   ],
   "source": [
    "drinks.divide(more_drinks)"
   ]
  },
  {
   "cell_type": "markdown",
   "metadata": {},
   "source": [
    "### Calculating Variance and Standard Deviation"
   ]
  },
  {
   "cell_type": "code",
   "execution_count": 104,
   "metadata": {},
   "outputs": [
    {
     "data": {
      "text/plain": [
       "0.0"
      ]
     },
     "execution_count": 104,
     "metadata": {},
     "output_type": "execute_result"
    }
   ],
   "source": [
    "sample = pd.Series([1,3,5,6])\n",
    "sample.mean()\n",
    "\n",
    "x_minus_mean = sample.subtract([sample.mean() for _ in range(sample.size)])\n",
    "x_minus_mean.multiply(x_minus_mean)"
   ]
  },
  {
   "cell_type": "code",
   "execution_count": 118,
   "metadata": {},
   "outputs": [
    {
     "data": {
      "text/plain": [
       "1923517901.9202006"
      ]
     },
     "execution_count": 118,
     "metadata": {},
     "output_type": "execute_result"
    }
   ],
   "source": [
    "import math\n",
    "(alcohol.fillna(100000).subtract(alcohol.mean())**2).sum()/(alcohol.count()-1)"
   ]
  },
  {
   "cell_type": "markdown",
   "metadata": {},
   "source": [
    "### Cumulative Operations"
   ]
  },
  {
   "cell_type": "code",
   "execution_count": 130,
   "metadata": {},
   "outputs": [
    {
     "name": "stdout",
     "output_type": "stream",
     "text": [
      "8221.0\n"
     ]
    },
    {
     "data": {
      "text/plain": [
       "country\n",
       "Afghanistan       NaN\n",
       "Albania          54.0\n",
       "Algeria          68.0\n",
       "Andorra         380.0\n",
       "Angola          425.0\n",
       "                ...  \n",
       "Venezuela      8212.0\n",
       "Vietnam        8213.0\n",
       "Yemen             NaN\n",
       "Zambia         8217.0\n",
       "Zimbabwe       8221.0\n",
       "Name: wine_servings, Length: 193, dtype: float64"
      ]
     },
     "execution_count": 130,
     "metadata": {},
     "output_type": "execute_result"
    }
   ],
   "source": [
    "print(alcohol.sum())\n",
    "alcohol.cumsum()"
   ]
  },
  {
   "cell_type": "code",
   "execution_count": 136,
   "metadata": {},
   "outputs": [
    {
     "data": {
      "text/plain": [
       "3.427611505218281e+183"
      ]
     },
     "execution_count": 136,
     "metadata": {},
     "output_type": "execute_result"
    }
   ],
   "source": [
    "alcohol.prod()"
   ]
  },
  {
   "cell_type": "code",
   "execution_count": 140,
   "metadata": {},
   "outputs": [
    {
     "data": {
      "text/plain": [
       "3.427611505218281e+183"
      ]
     },
     "execution_count": 140,
     "metadata": {},
     "output_type": "execute_result"
    }
   ],
   "source": [
    "alcohol.cumprod().iloc[-1]"
   ]
  },
  {
   "cell_type": "code",
   "execution_count": 144,
   "metadata": {},
   "outputs": [
    {
     "data": {
      "text/plain": [
       "True"
      ]
     },
     "execution_count": 144,
     "metadata": {},
     "output_type": "execute_result"
    }
   ],
   "source": [
    "alcohol.cummax()[-1] == alcohol.max()"
   ]
  },
  {
   "cell_type": "code",
   "execution_count": 146,
   "metadata": {},
   "outputs": [
    {
     "data": {
      "text/plain": [
       "339.0"
      ]
     },
     "execution_count": 146,
     "metadata": {},
     "output_type": "execute_result"
    }
   ],
   "source": [
    "alcohol.max()"
   ]
  },
  {
   "cell_type": "markdown",
   "metadata": {},
   "source": [
    "## Pairwise Difference"
   ]
  },
  {
   "cell_type": "code",
   "execution_count": 165,
   "metadata": {},
   "outputs": [
    {
     "data": {
      "text/plain": [
       "country\n",
       "Afghanistan      NaN\n",
       "Albania         54.0\n",
       "Algeria         14.0\n",
       "Andorra        312.0\n",
       "Angola          45.0\n",
       "               ...  \n",
       "Venezuela        3.0\n",
       "Vietnam          1.0\n",
       "Yemen            NaN\n",
       "Zambia           4.0\n",
       "Zimbabwe         4.0\n",
       "Name: wine_servings, Length: 193, dtype: float64"
      ]
     },
     "execution_count": 165,
     "metadata": {},
     "output_type": "execute_result"
    }
   ],
   "source": [
    "alcohol['Afghanistan'] = pd.NA\n",
    "alcohol"
   ]
  },
  {
   "cell_type": "code",
   "execution_count": 153,
   "metadata": {},
   "outputs": [
    {
     "data": {
      "text/plain": [
       "country\n",
       "Afghanistan      NaN\n",
       "Albania         53.0\n",
       "Algeria        -40.0\n",
       "Andorra        298.0\n",
       "Angola        -267.0\n",
       "               ...  \n",
       "Venezuela       -8.0\n",
       "Vietnam         -2.0\n",
       "Yemen            NaN\n",
       "Zambia           NaN\n",
       "Zimbabwe         0.0\n",
       "Name: wine_servings, Length: 193, dtype: float64"
      ]
     },
     "execution_count": 153,
     "metadata": {},
     "output_type": "execute_result"
    }
   ],
   "source": [
    "alcohol.diff()"
   ]
  },
  {
   "cell_type": "code",
   "execution_count": 155,
   "metadata": {},
   "outputs": [
    {
     "data": {
      "text/plain": [
       "country\n",
       "Afghanistan      NaN\n",
       "Albania          NaN\n",
       "Algeria         13.0\n",
       "Andorra        258.0\n",
       "Angola          31.0\n",
       "               ...  \n",
       "Venezuela       -5.0\n",
       "Vietnam        -10.0\n",
       "Yemen            NaN\n",
       "Zambia           3.0\n",
       "Zimbabwe         NaN\n",
       "Name: wine_servings, Length: 193, dtype: float64"
      ]
     },
     "execution_count": 155,
     "metadata": {},
     "output_type": "execute_result"
    }
   ],
   "source": [
    "alcohol.diff(periods = 2)"
   ]
  },
  {
   "cell_type": "markdown",
   "metadata": {},
   "source": [
    "## Series Iteration"
   ]
  },
  {
   "cell_type": "code",
   "execution_count": 174,
   "metadata": {},
   "outputs": [
    {
     "name": "stdout",
     "output_type": "stream",
     "text": [
      "('Afghanistan', nan)\n",
      "('Albania', 54.0)\n",
      "('Algeria', 14.0)\n",
      "('Andorra', 312.0)\n",
      "('Angola', 45.0)\n",
      "('Antigua & Barbuda', 45.0)\n",
      "('Argentina', 221.0)\n",
      "('Armenia', 11.0)\n",
      "('Australia', 212.0)\n",
      "('Austria', 191.0)\n"
     ]
    },
    {
     "data": {
      "text/plain": [
       "[('Afghanistan', nan),\n",
       " ('Algeria', 14.0),\n",
       " ('Andorra', 312.0),\n",
       " ('Angola', 45.0),\n",
       " ('Antigua & Barbuda', 45.0),\n",
       " ('Argentina', 221.0),\n",
       " ('Armenia', 11.0),\n",
       " ('Australia', 212.0),\n",
       " ('Austria', 191.0),\n",
       " ('Azerbaijan', 5.0),\n",
       " ('Bahamas', 51.0),\n",
       " ('Bahrain', 7.0),\n",
       " ('Bangladesh', nan),\n",
       " ('Barbados', 36.0),\n",
       " ('Belarus', 42.0),\n",
       " ('Belgium', 212.0),\n",
       " ('Belize', 8.0),\n",
       " ('Benin', 13.0),\n",
       " ('Bhutan', nan),\n",
       " ('Bolivia', 8.0),\n",
       " ('Bosnia-Herzegovina', 8.0),\n",
       " ('Botswana', 35.0),\n",
       " ('Brazil', 16.0),\n",
       " ('Brunei', 1.0),\n",
       " ('Bulgaria', 94.0),\n",
       " ('Burkina Faso', 7.0),\n",
       " ('Burundi', nan),\n",
       " (\"Cote d'Ivoire\", 7.0),\n",
       " ('Cabo Verde', 16.0),\n",
       " ('Cambodia', 1.0),\n",
       " ('Cameroon', 4.0),\n",
       " ('Canada', 1.0),\n",
       " ('Central African Republic', 1.0),\n",
       " ('Chad', 1.0),\n",
       " ('Chile', 172.0),\n",
       " ('China', 8.0),\n",
       " ('Colombia', 3.0),\n",
       " ('Comoros', 1.0),\n",
       " ('Congo', 9.0),\n",
       " ('Cook Islands', 74.0),\n",
       " ('Costa Rica', 11.0),\n",
       " ('Croatia', 254.0),\n",
       " ('Cuba', 5.0),\n",
       " ('Cyprus', 113.0),\n",
       " ('Czech Republic', 134.0),\n",
       " ('North Korea', nan),\n",
       " ('DR Congo', 1.0),\n",
       " ('Denmark', 278.0),\n",
       " ('Djibouti', 3.0),\n",
       " ('Dominica', 26.0),\n",
       " ('Dominican Republic', 9.0),\n",
       " ('Ecuador', 3.0),\n",
       " ('Egypt', 1.0),\n",
       " ('El Salvador', 2.0),\n",
       " ('Equatorial Guinea', 233.0),\n",
       " ('Eritrea', nan),\n",
       " ('Estonia', 59.0),\n",
       " ('Ethiopia', nan),\n",
       " ('Fiji', 1.0),\n",
       " ('Finland', 97.0),\n",
       " ('France', 37.0),\n",
       " ('Gabon', 59.0),\n",
       " ('Gambia', 1.0),\n",
       " ('Georgia', 149.0),\n",
       " ('Germany', 175.0),\n",
       " ('Ghana', 1.0),\n",
       " ('Greece', 218.0),\n",
       " ('Grenada', 28.0),\n",
       " ('Guatemala', 2.0),\n",
       " ('Guinea', 2.0),\n",
       " ('Guinea-Bissau', 21.0),\n",
       " ('Guyana', 1.0),\n",
       " ('Haiti', 1.0),\n",
       " ('Honduras', 2.0),\n",
       " ('Hungary', 185.0),\n",
       " ('Iceland', 78.0),\n",
       " ('India', nan),\n",
       " ('Indonesia', nan),\n",
       " ('Iran', nan),\n",
       " ('Iraq', nan),\n",
       " ('Ireland', 165.0),\n",
       " ('Israel', 9.0),\n",
       " ('Italy', 237.0),\n",
       " ('Jamaica', 9.0),\n",
       " ('Japan', 16.0),\n",
       " ('Jordan', 1.0),\n",
       " ('Kazakhstan', 12.0),\n",
       " ('Kenya', 2.0),\n",
       " ('Kiribati', 1.0),\n",
       " ('Kuwait', nan),\n",
       " ('Kyrgyzstan', 6.0),\n",
       " ('Laos', 123.0),\n",
       " ('Latvia', 62.0),\n",
       " ('Lebanon', 31.0),\n",
       " ('Lesotho', nan),\n",
       " ('Liberia', 2.0),\n",
       " ('Libya', nan),\n",
       " ('Lithuania', 56.0),\n",
       " ('Luxembourg', 271.0),\n",
       " ('Madagascar', 4.0),\n",
       " ('Malawi', 1.0),\n",
       " ('Malaysia', nan),\n",
       " ('Maldives', nan),\n",
       " ('Mali', 1.0),\n",
       " ('Malta', 12.0),\n",
       " ('Marshall Islands', nan),\n",
       " ('Mauritania', nan),\n",
       " ('Mauritius', 18.0),\n",
       " ('Mexico', 5.0),\n",
       " ('Micronesia', 18.0),\n",
       " ('Monaco', nan),\n",
       " ('Mongolia', 8.0),\n",
       " ('Montenegro', 128.0),\n",
       " ('Morocco', 1.0),\n",
       " ('Mozambique', 5.0),\n",
       " ('Myanmar', nan),\n",
       " ('Namibia', 1.0),\n",
       " ('Nauru', 8.0),\n",
       " ('Nepal', nan),\n",
       " ('Netherlands', 19.0),\n",
       " ('New Zealand', 175.0),\n",
       " ('Nicaragua', 1.0),\n",
       " ('Niger', 1.0),\n",
       " ('Nigeria', 2.0),\n",
       " ('Niue', 7.0),\n",
       " ('Norway', 129.0),\n",
       " ('Oman', 1.0),\n",
       " ('Pakistan', nan),\n",
       " ('Palau', 23.0),\n",
       " ('Panama', 18.0),\n",
       " ('Papua New Guinea', 1.0),\n",
       " ('Paraguay', 74.0),\n",
       " ('Peru', 21.0),\n",
       " ('Philippines', 1.0),\n",
       " ('Poland', 56.0),\n",
       " ('Portugal', 339.0),\n",
       " ('Qatar', 7.0),\n",
       " ('South Korea', 9.0),\n",
       " ('Moldova', 18.0),\n",
       " ('Romania', 167.0),\n",
       " ('Russian Federation', 73.0),\n",
       " ('Rwanda', nan),\n",
       " ('St. Kitts & Nevis', 32.0),\n",
       " ('St. Lucia', 71.0),\n",
       " ('St. Vincent & the Grenadines', 11.0),\n",
       " ('Samoa', 24.0),\n",
       " ('San Marino', nan),\n",
       " ('Sao Tome & Principe', 14.0),\n",
       " ('Saudi Arabia', nan),\n",
       " ('Senegal', 7.0),\n",
       " ('Serbia', 127.0),\n",
       " ('Seychelles', 51.0),\n",
       " ('Sierra Leone', 2.0),\n",
       " ('Singapore', 11.0),\n",
       " ('Slovakia', 116.0),\n",
       " ('Slovenia', 276.0),\n",
       " ('Solomon Islands', 1.0),\n",
       " ('Somalia', nan),\n",
       " ('South Africa', 81.0),\n",
       " ('Spain', 112.0),\n",
       " ('Sri Lanka', nan),\n",
       " ('Sudan', nan),\n",
       " ('Suriname', 7.0),\n",
       " ('Swaziland', 2.0),\n",
       " ('Sweden', 186.0),\n",
       " ('Switzerland', 28.0),\n",
       " ('Syria', 16.0),\n",
       " ('Tajikistan', nan),\n",
       " ('Thailand', 1.0),\n",
       " ('Macedonia', 86.0),\n",
       " ('Timor-Leste', 4.0),\n",
       " ('Togo', 19.0),\n",
       " ('Tonga', 5.0),\n",
       " ('Trinidad & Tobago', 7.0),\n",
       " ('Tunisia', 2.0),\n",
       " ('Turkey', 7.0),\n",
       " ('Turkmenistan', 32.0),\n",
       " ('Tuvalu', 9.0),\n",
       " ('Uganda', nan),\n",
       " ('Ukraine', 45.0),\n",
       " ('United Arab Emirates', 5.0),\n",
       " ('United Kingdom', 195.0),\n",
       " ('Tanzania', 1.0),\n",
       " ('USA', 84.0),\n",
       " ('Uruguay', 22.0),\n",
       " ('Uzbekistan', 8.0),\n",
       " ('Vanuatu', 11.0),\n",
       " ('Venezuela', 3.0),\n",
       " ('Vietnam', 1.0),\n",
       " ('Yemen', nan),\n",
       " ('Zambia', 4.0),\n",
       " ('Zimbabwe', 4.0)]"
      ]
     },
     "execution_count": 174,
     "metadata": {},
     "output_type": "execute_result"
    }
   ],
   "source": [
    "mini_alcohol = alcohol.head(10)\n",
    "\n",
    "for i in mini_alcohol.items():\n",
    "    print(i)\n",
    "\n",
    "\n",
    "[i for i in alcohol.items() if i[0] not in ['Albania']]"
   ]
  },
  {
   "cell_type": "markdown",
   "metadata": {},
   "source": [
    "## Filtering: filter(), where(), and mask()"
   ]
  },
  {
   "cell_type": "code",
   "execution_count": 190,
   "metadata": {},
   "outputs": [
    {
     "data": {
      "text/plain": [
       "country\n",
       "Vanuatu      11.0\n",
       "Venezuela     3.0\n",
       "Vietnam       1.0\n",
       "Name: wine_servings, dtype: float64"
      ]
     },
     "execution_count": 190,
     "metadata": {},
     "output_type": "execute_result"
    }
   ],
   "source": [
    "alcohol.filter(regex='^V')"
   ]
  },
  {
   "cell_type": "code",
   "execution_count": 194,
   "metadata": {},
   "outputs": [
    {
     "data": {
      "text/plain": [
       "country\n",
       "Netherlands                     19.0\n",
       "St. Vincent & the Grenadines    11.0\n",
       "Seychelles                      51.0\n",
       "Name: wine_servings, dtype: float64"
      ]
     },
     "execution_count": 194,
     "metadata": {},
     "output_type": "execute_result"
    }
   ],
   "source": [
    "alcohol.filter(like='he')"
   ]
  },
  {
   "cell_type": "code",
   "execution_count": 200,
   "metadata": {},
   "outputs": [
    {
     "data": {
      "text/plain": [
       "country\n",
       "Andorra              312.0\n",
       "Argentina            221.0\n",
       "Australia            212.0\n",
       "Belgium              212.0\n",
       "Croatia              254.0\n",
       "Denmark              278.0\n",
       "Equatorial Guinea    233.0\n",
       "Greece               218.0\n",
       "Italy                237.0\n",
       "Luxembourg           271.0\n",
       "Portugal             339.0\n",
       "Slovenia             276.0\n",
       "Name: wine_servings, dtype: float64"
      ]
     },
     "execution_count": 200,
     "metadata": {},
     "output_type": "execute_result"
    }
   ],
   "source": [
    "alcohol.loc[alcohol > 200]"
   ]
  },
  {
   "cell_type": "code",
   "execution_count": 226,
   "metadata": {},
   "outputs": [
    {
     "data": {
      "text/plain": [
       "country\n",
       "Andorra              312.0\n",
       "Argentina            221.0\n",
       "Australia            212.0\n",
       "Belgium              212.0\n",
       "Croatia              254.0\n",
       "Denmark              278.0\n",
       "Equatorial Guinea    233.0\n",
       "Greece               218.0\n",
       "Italy                237.0\n",
       "Luxembourg           271.0\n",
       "Portugal             339.0\n",
       "Slovenia             276.0\n",
       "Name: wine_servings, dtype: float64"
      ]
     },
     "execution_count": 226,
     "metadata": {},
     "output_type": "execute_result"
    }
   ],
   "source": [
    "def greater_than(x):\n",
    "    return (x > 200)\n",
    "\n",
    "alcohol.loc[greater_than]"
   ]
  },
  {
   "cell_type": "code",
   "execution_count": 227,
   "metadata": {},
   "outputs": [
    {
     "data": {
      "text/plain": [
       "country\n",
       "Andorra              312.0\n",
       "Argentina            221.0\n",
       "Australia            212.0\n",
       "Belgium              212.0\n",
       "Croatia              254.0\n",
       "Denmark              278.0\n",
       "Equatorial Guinea    233.0\n",
       "Greece               218.0\n",
       "Italy                237.0\n",
       "Luxembourg           271.0\n",
       "Portugal             339.0\n",
       "Slovenia             276.0\n",
       "Name: wine_servings, dtype: float64"
      ]
     },
     "execution_count": 227,
     "metadata": {},
     "output_type": "execute_result"
    }
   ],
   "source": [
    "alcohol.where(greater_than).dropna()"
   ]
  },
  {
   "cell_type": "code",
   "execution_count": 229,
   "metadata": {},
   "outputs": [
    {
     "data": {
      "text/plain": [
       "country\n",
       "Albania              54.0\n",
       "Algeria              14.0\n",
       "Angola               45.0\n",
       "Antigua & Barbuda    45.0\n",
       "Armenia              11.0\n",
       "                     ... \n",
       "Vanuatu              11.0\n",
       "Venezuela             3.0\n",
       "Vietnam               1.0\n",
       "Zambia                4.0\n",
       "Zimbabwe              4.0\n",
       "Name: wine_servings, Length: 150, dtype: float64"
      ]
     },
     "execution_count": 229,
     "metadata": {},
     "output_type": "execute_result"
    }
   ],
   "source": [
    "alcohol.mask(greater_than).dropna()"
   ]
  },
  {
   "cell_type": "markdown",
   "metadata": {},
   "source": [
    "## Transforming with update(), apply() and map()\n",
    "\n",
    "There are spot transforms and global transforms."
   ]
  },
  {
   "cell_type": "code",
   "execution_count": 242,
   "metadata": {},
   "outputs": [
    {
     "data": {
      "text/plain": [
       "country\n",
       "Afghanistan      NaN\n",
       "Albania         54.0\n",
       "Algeria         14.0\n",
       "Andorra        312.0\n",
       "Angola          45.0\n",
       "Name: wine_servings, dtype: float64"
      ]
     },
     "execution_count": 242,
     "metadata": {},
     "output_type": "execute_result"
    }
   ],
   "source": [
    "alcohol.head()"
   ]
  },
  {
   "cell_type": "code",
   "execution_count": 244,
   "metadata": {},
   "outputs": [],
   "source": [
    "alcohol.loc['Albania'] = 190"
   ]
  },
  {
   "cell_type": "code",
   "execution_count": 245,
   "metadata": {},
   "outputs": [
    {
     "data": {
      "text/plain": [
       "country\n",
       "Afghanistan      NaN\n",
       "Albania        190.0\n",
       "Algeria         14.0\n",
       "Andorra        312.0\n",
       "Angola          45.0\n",
       "Name: wine_servings, dtype: float64"
      ]
     },
     "execution_count": 245,
     "metadata": {},
     "output_type": "execute_result"
    }
   ],
   "source": [
    "alcohol.head()"
   ]
  },
  {
   "cell_type": "code",
   "execution_count": 246,
   "metadata": {},
   "outputs": [],
   "source": [
    "alcohol.update(pd.Series(data = [200, 20], index = ['Albania', 'Algeria']))"
   ]
  },
  {
   "cell_type": "code",
   "execution_count": 248,
   "metadata": {},
   "outputs": [
    {
     "data": {
      "text/plain": [
       "country\n",
       "Afghanistan      NaN\n",
       "Albania        200.0\n",
       "Algeria         20.0\n",
       "Andorra        312.0\n",
       "Angola          45.0\n",
       "Name: wine_servings, dtype: float64"
      ]
     },
     "execution_count": 248,
     "metadata": {},
     "output_type": "execute_result"
    }
   ],
   "source": [
    "alcohol.head()"
   ]
  },
  {
   "cell_type": "code",
   "execution_count": 249,
   "metadata": {},
   "outputs": [],
   "source": [
    "### The apply() method"
   ]
  },
  {
   "cell_type": "code",
   "execution_count": 252,
   "metadata": {},
   "outputs": [
    {
     "data": {
      "text/plain": [
       "country\n",
       "Afghanistan        NaN\n",
       "Albania        40000.0\n",
       "Algeria          400.0\n",
       "Andorra        97344.0\n",
       "Angola          2025.0\n",
       "                ...   \n",
       "Venezuela          9.0\n",
       "Vietnam            1.0\n",
       "Yemen              NaN\n",
       "Zambia            16.0\n",
       "Zimbabwe          16.0\n",
       "Name: wine_servings, Length: 193, dtype: float64"
      ]
     },
     "execution_count": 252,
     "metadata": {},
     "output_type": "execute_result"
    }
   ],
   "source": [
    "alcohol.apply(lambda x: x**2)"
   ]
  },
  {
   "cell_type": "code",
   "execution_count": 256,
   "metadata": {},
   "outputs": [
    {
     "data": {
      "text/plain": [
       "country\n",
       "Afghanistan        NaN\n",
       "Albania        40000.0\n",
       "Algeria          400.0\n",
       "Andorra        97344.0\n",
       "Angola          2025.0\n",
       "                ...   \n",
       "Venezuela          9.0\n",
       "Vietnam            1.0\n",
       "Yemen              NaN\n",
       "Zambia            16.0\n",
       "Zimbabwe          16.0\n",
       "Name: wine_servings, Length: 193, dtype: float64"
      ]
     },
     "execution_count": 256,
     "metadata": {},
     "output_type": "execute_result"
    }
   ],
   "source": [
    "alcohol.apply(np.square)"
   ]
  },
  {
   "cell_type": "code",
   "execution_count": 258,
   "metadata": {},
   "outputs": [
    {
     "data": {
      "text/plain": [
       "country\n",
       "Afghanistan        NaN\n",
       "Albania        40000.0\n",
       "Algeria          400.0\n",
       "Andorra        97344.0\n",
       "Angola          2025.0\n",
       "                ...   \n",
       "Venezuela          9.0\n",
       "Vietnam            1.0\n",
       "Yemen              NaN\n",
       "Zambia            16.0\n",
       "Zimbabwe          16.0\n",
       "Name: wine_servings, Length: 193, dtype: float64"
      ]
     },
     "execution_count": 258,
     "metadata": {},
     "output_type": "execute_result"
    }
   ],
   "source": [
    "def multiply_by_self(x):\n",
    "    return x*x\n",
    "\n",
    "alcohol.apply(multiply_by_self)"
   ]
  },
  {
   "cell_type": "code",
   "execution_count": 259,
   "metadata": {},
   "outputs": [],
   "source": [
    "def multiply_by_self_with_min(x, min_servings):\n",
    "    if x < min_servings:\n",
    "        return x**2\n",
    "\n",
    "    return x"
   ]
  },
  {
   "cell_type": "code",
   "execution_count": 265,
   "metadata": {},
   "outputs": [
    {
     "data": {
      "text/plain": [
       "country\n",
       "Afghanistan       NaN\n",
       "Albania         200.0\n",
       "Algeria         400.0\n",
       "Andorra         312.0\n",
       "Angola         2025.0\n",
       "                ...  \n",
       "Venezuela         9.0\n",
       "Vietnam           1.0\n",
       "Yemen             NaN\n",
       "Zambia           16.0\n",
       "Zimbabwe         16.0\n",
       "Name: wine_servings, Length: 193, dtype: float64"
      ]
     },
     "execution_count": 265,
     "metadata": {},
     "output_type": "execute_result"
    }
   ],
   "source": [
    "alcohol.apply(multiply_by_self_with_min, args = [200])"
   ]
  },
  {
   "cell_type": "code",
   "execution_count": 267,
   "metadata": {},
   "outputs": [
    {
     "data": {
      "text/plain": [
       "country\n",
       "Afghanistan       NaN\n",
       "Albania         200.0\n",
       "Algeria         400.0\n",
       "Andorra         312.0\n",
       "Angola         2025.0\n",
       "                ...  \n",
       "Venezuela         9.0\n",
       "Vietnam           1.0\n",
       "Yemen             NaN\n",
       "Zambia           16.0\n",
       "Zimbabwe         16.0\n",
       "Name: wine_servings, Length: 193, dtype: float64"
      ]
     },
     "execution_count": 267,
     "metadata": {},
     "output_type": "execute_result"
    }
   ],
   "source": [
    "alcohol.apply(multiply_by_self_with_min, min_servings = 200)"
   ]
  },
  {
   "cell_type": "code",
   "execution_count": 269,
   "metadata": {},
   "outputs": [],
   "source": [
    "## the map() method"
   ]
  },
  {
   "cell_type": "code",
   "execution_count": 270,
   "metadata": {},
   "outputs": [
    {
     "data": {
      "text/plain": [
       "country\n",
       "Afghanistan        NaN\n",
       "Albania        40000.0\n",
       "Algeria          400.0\n",
       "Andorra        97344.0\n",
       "Angola          2025.0\n",
       "                ...   \n",
       "Venezuela          9.0\n",
       "Vietnam            1.0\n",
       "Yemen              NaN\n",
       "Zambia            16.0\n",
       "Zimbabwe          16.0\n",
       "Name: wine_servings, Length: 193, dtype: float64"
      ]
     },
     "execution_count": 270,
     "metadata": {},
     "output_type": "execute_result"
    }
   ],
   "source": [
    "alcohol.map(lambda x:x **2)"
   ]
  },
  {
   "cell_type": "markdown",
   "metadata": {},
   "source": [
    "### Skills Challenge\n"
   ]
  },
  {
   "cell_type": "code",
   "execution_count": 293,
   "metadata": {},
   "outputs": [],
   "source": [
    "beers = (pd.read_csv('drinks.csv', \n",
    "    usecols= [\n",
    "        'country', \n",
    "        'beer_servings'\n",
    "    ], \n",
    "    index_col = 'country')\n",
    "    .squeeze('columns')\n",
    ")\n",
    "\n",
    "beers.name = 'beers'"
   ]
  },
  {
   "cell_type": "code",
   "execution_count": 294,
   "metadata": {},
   "outputs": [
    {
     "data": {
      "text/plain": [
       "country\n",
       "Afghanistan      NaN\n",
       "Albania         89.0\n",
       "Algeria         25.0\n",
       "Andorra        245.0\n",
       "Angola         217.0\n",
       "               ...  \n",
       "Venezuela      333.0\n",
       "Vietnam        111.0\n",
       "Yemen            6.0\n",
       "Zambia          32.0\n",
       "Zimbabwe        64.0\n",
       "Name: beers, Length: 193, dtype: float64"
      ]
     },
     "execution_count": 294,
     "metadata": {},
     "output_type": "execute_result"
    }
   ],
   "source": [
    "beers"
   ]
  },
  {
   "cell_type": "code",
   "execution_count": 320,
   "metadata": {},
   "outputs": [
    {
     "data": {
      "text/plain": [
       "15"
      ]
     },
     "execution_count": 320,
     "metadata": {},
     "output_type": "execute_result"
    }
   ],
   "source": [
    "beers.describe()\n",
    "beers[beers.isnull()].size"
   ]
  },
  {
   "cell_type": "code",
   "execution_count": 327,
   "metadata": {},
   "outputs": [
    {
     "data": {
      "text/plain": [
       "lower          89\n",
       "higher         66\n",
       "conflicting    23\n",
       "Name: beers, dtype: int64"
      ]
     },
     "execution_count": 327,
     "metadata": {},
     "output_type": "execute_result"
    }
   ],
   "source": [
    "def both_lower(x):\n",
    "    return x < beers.mean() \n",
    "\n",
    "(beers\n",
    "    .dropna()\n",
    "    .apply(lambda x: 'lower' if x<beers.mean() and x<beers.median()\n",
    "     else 'higher' if x>beers.mean() and x>beers.median() else 'conflicting')\n",
    "     .value_counts()\n",
    ")"
   ]
  },
  {
   "cell_type": "code",
   "execution_count": 306,
   "metadata": {},
   "outputs": [
    {
     "data": {
      "text/plain": [
       "country\n",
       "Afghanistan                 NaN\n",
       "Albania              -13.870787\n",
       "Algeria              -77.870787\n",
       "Andorra              142.129213\n",
       "Angola               114.129213\n",
       "Antigua & Barbuda    -90.870787\n",
       "Argentina             90.129213\n",
       "Armenia              -81.870787\n",
       "Australia            158.129213\n",
       "Austria              176.129213\n",
       "Name: beers, dtype: float64"
      ]
     },
     "execution_count": 306,
     "metadata": {},
     "output_type": "execute_result"
    }
   ],
   "source": [
    "beers[:10] - beers.mean()"
   ]
  },
  {
   "cell_type": "code",
   "execution_count": 285,
   "metadata": {},
   "outputs": [
    {
     "data": {
      "text/plain": [
       "country\n",
       "Afghanistan            NaN\n",
       "Albania               29.0\n",
       "Algeria              -35.0\n",
       "Andorra              185.0\n",
       "Angola               157.0\n",
       "Antigua & Barbuda    -48.0\n",
       "Argentina            133.0\n",
       "Armenia              -39.0\n",
       "Australia            201.0\n",
       "Austria              219.0\n",
       "Name: beer_servings, dtype: float64"
      ]
     },
     "execution_count": 285,
     "metadata": {},
     "output_type": "execute_result"
    }
   ],
   "source": [
    "beers.iloc[:10].subtract(beers.quantile(.5))"
   ]
  },
  {
   "cell_type": "code",
   "execution_count": 350,
   "metadata": {},
   "outputs": [
    {
     "data": {
      "text/plain": [
       "376.0"
      ]
     },
     "execution_count": 350,
     "metadata": {},
     "output_type": "execute_result"
    }
   ],
   "source": [
    "from scipy.stats import zscore\n",
    "\n",
    "(beers\n",
    "    .subtract(beers.mean())\n",
    "    .divide(beers.std())\n",
    "    .abs()\n",
    "    .multiply(beers.std()) \n",
    "    .add(beers.mean())\n",
    "    .max()\n",
    ")"
   ]
  },
  {
   "cell_type": "code",
   "execution_count": 346,
   "metadata": {},
   "outputs": [
    {
     "data": {
      "text/plain": [
       "376.0"
      ]
     },
     "execution_count": 346,
     "metadata": {},
     "output_type": "execute_result"
    }
   ],
   "source": [
    "beers.idxmax()\n",
    "beers['Namibia']"
   ]
  },
  {
   "cell_type": "code",
   "execution_count": 341,
   "metadata": {},
   "outputs": [
    {
     "ename": "AttributeError",
     "evalue": "'numpy.float64' object has no attribute 'index'",
     "output_type": "error",
     "traceback": [
      "\u001b[1;31m---------------------------------------------------------------------------\u001b[0m",
      "\u001b[1;31mAttributeError\u001b[0m                            Traceback (most recent call last)",
      "Cell \u001b[1;32mIn [341], line 1\u001b[0m\n\u001b[1;32m----> 1\u001b[0m beers[beers\u001b[39m.\u001b[39;49midxmax()]\u001b[39m.\u001b[39;49mindex\n",
      "\u001b[1;31mAttributeError\u001b[0m: 'numpy.float64' object has no attribute 'index'"
     ]
    }
   ],
   "source": [
    "beers[beers.idxmax()].index"
   ]
  },
  {
   "cell_type": "code",
   "execution_count": null,
   "metadata": {},
   "outputs": [],
   "source": []
  },
  {
   "cell_type": "code",
   "execution_count": 303,
   "metadata": {},
   "outputs": [
    {
     "data": {
      "text/plain": [
       "<AxesSubplot: >"
      ]
     },
     "execution_count": 303,
     "metadata": {},
     "output_type": "execute_result"
    },
    {
     "data": {
      "image/png": "[encoded data removed]",
      "text/plain": [
       "<Figure size 640x480 with 1 Axes>"
      ]
     },
     "metadata": {},
     "output_type": "display_data"
    }
   ],
   "source": [
    "beers.hist(bins=np.arange(-10, 400, 1))"
   ]
  }
 ],
 "metadata": {
  "kernelspec": {
   "display_name": "Python 3.10.5 ('lumen': venv)",
   "language": "python",
   "name": "python3"
  },
  "language_info": {
   "codemirror_mode": {
    "name": "ipython",
    "version": 3
   },
   "file_extension": ".py",
   "mimetype": "text/x-python",
   "name": "python",
   "nbconvert_exporter": "python",
   "pygments_lexer": "ipython3",
   "version": "3.10.5"
  },
  "orig_nbformat": 4,
  "vscode": {
   "interpreter": {
    "hash": "558d3ae53c2989f92537fb60ff69fae09d4b361a8a5f6719dc1bd2672a63ef26"
   }
  }
 },
 "nbformat": 4,
 "nbformat_minor": 2
}
