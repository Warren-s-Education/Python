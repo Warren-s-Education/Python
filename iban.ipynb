{
 "cells": [
  {
   "cell_type": "code",
   "execution_count": 46,
   "metadata": {},
   "outputs": [],
   "source": [
    "def validate_iban(candidate_sequence):\n",
    "    \"\"\"Return True if candidate string is potentially a valid IBAN.\"\"\"\n",
    "    raw_IBAN_string = candidate_sequence.replace(' ', '')\n",
    "\n",
    "    if not raw_IBAN_string.isalnum():\n",
    "        raise ValueError(\"An IBAN must be only letters and numbers.\")\n",
    "    if len(raw_IBAN_string) < 15:\n",
    "        raise ValueError(\"An IBAN must be more 15 characters or more.\")\n",
    "    if len(raw_IBAN_string) > 30:\n",
    "        raise ValueError(\"An IBAN must be less than 30 characters.\")\n",
    "\n",
    "    # Parse raw string into country code, check digits and basic bank account number; then reorder raw string for further processing.\n",
    "    BBAN = raw_IBAN_string[4:]\n",
    "    country_code = raw_IBAN_string[:2]\n",
    "    check_digits = raw_IBAN_string[2:4]\n",
    "    reordered_IBAN_string = (BBAN + country_code + check_digits).upper()\n",
    "    \n",
    "    # Convert letters to digits according to the caeser cipher (A = 10, B = 11, \n",
    "    # C = 12, ... , Z = 26).\n",
    "    IBAN_digit_string = ''\n",
    "    for character in reordered_IBAN_string:\n",
    "        if character.isdigit():\n",
    "            IBAN_digit_string += character\n",
    "        else:\n",
    "            digit_pair = str(10 + ord(character) - ord('A'))\n",
    "            IBAN_digit_string += digit_pair\n",
    "\n",
    "    # Evaluate the resulting check integer for possible validity.\n",
    "    IBAN_check_integer = int(IBAN_digit_string)\n",
    "    # print(IBAN_check_integer)\n",
    "    if IBAN_check_integer % 97 == 1:\n",
    "        return True\n",
    "    else:\n",
    "        raise ValueError(\"An IBAN must be able to pass the check digit test.\")"
   ]
  },
  {
   "cell_type": "code",
   "execution_count": 47,
   "metadata": {},
   "outputs": [
    {
     "name": "stdout",
     "output_type": "stream",
     "text": [
      "Status of \"GB72 HBZU 7006 7212 1253 01\" validation: \n",
      "\tAn IBAN must be able to pass the check digit test.\n",
      "Status of \"FR76 30003 03620 00020216907 50\" validation: \n",
      "\tcorrect\n",
      "Status of \"DE02100100100152517108\" validation: \n",
      "\tcorrect\n"
     ]
    }
   ],
   "source": [
    "test_keys = ['GB72 HBZU 7006 7212 1253 01', 'FR76 30003 03620 00020216907 50', 'DE02100100100152517108' ]\n",
    "\n",
    "for key in test_keys:\n",
    "    try:\n",
    "        print('Status of \"{}\" validation: '.format(key))\n",
    "        validate_iban(key)\n",
    "    except ValueError as e:\n",
    "        print(\"\\t{}\".format(e))\n",
    "    else:\n",
    "        print(\"\\tcorrect\")"
   ]
  },
  {
   "cell_type": "code",
   "execution_count": 43,
   "metadata": {},
   "outputs": [
    {
     "name": "stdout",
     "output_type": "stream",
     "text": [
      "1711353070067212125301161172\n",
      "IBAN entered is invalid.\n"
     ]
    }
   ],
   "source": [
    "iban = \"GB72 HBZU 7006 7212 1253 01\"\n",
    "iban = iban.replace(' ','')\n",
    "if not iban.isalnum():\n",
    "    print(\"You have entered invalid characters.\")\n",
    "elif len(iban) < 15:\n",
    "    print(\"IBAN entered is too short.\")\n",
    "elif len(iban) > 31:\n",
    "    print(\"IBAN entered is too long.\")\n",
    "else:\n",
    "    iban = (iban[4:] + iban[0:4]).upper()\n",
    "    iban2 = ''\n",
    "    for ch in iban:\n",
    "        if ch.isdigit():\n",
    "            iban2 += ch\n",
    "        else:\n",
    "            iban2 += str(10 + ord(ch) - ord('A'))\n",
    "    ibann = int(iban2)\n",
    "    print(ibann)\n",
    "    if ibann % 97 == 1:\n",
    "        print(\"IBAN entered is valid.\")\n",
    "    else:\n",
    "        print(\"IBAN entered is invalid.\")"
   ]
  },
  {
   "cell_type": "code",
   "execution_count": 36,
   "metadata": {},
   "outputs": [
    {
     "name": "stdout",
     "output_type": "stream",
     "text": [
      "An IBAN must be able to pass the check digit test.\n"
     ]
    }
   ],
   "source": [
    "try:\n",
    "    print(validate_iban(\"GB72 HBZU 7006 7212 1253 00\"))\n",
    "except ValueError as e:\n",
    "    print(e)"
   ]
  }
 ],
 "metadata": {
  "kernelspec": {
   "display_name": "Python 3",
   "language": "python",
   "name": "python3"
  },
  "language_info": {
   "codemirror_mode": {
    "name": "ipython",
    "version": 3
   },
   "file_extension": ".py",
   "mimetype": "text/x-python",
   "name": "python",
   "nbconvert_exporter": "python",
   "pygments_lexer": "ipython3",
   "version": "3.10.5"
  },
  "orig_nbformat": 4,
  "vscode": {
   "interpreter": {
    "hash": "369f2c481f4da34e4445cda3fffd2e751bd1c4d706f27375911949ba6bb62e1c"
   }
  }
 },
 "nbformat": 4,
 "nbformat_minor": 2
}
