{
 "cells": [
  {
   "cell_type": "markdown",
   "metadata": {},
   "source": [
    "### Spread\n",
    "\n",
    "$\\huge{\\sqrt{\\frac{p(1-p)}{n}}}$\n",
    "\n",
    "The standard deviation of the sample proportion."
   ]
  },
  {
   "cell_type": "markdown",
   "metadata": {},
   "source": [
    "### Shape\n",
    "\n",
    "A normal model is a good fit if the expected number of sucesses and failures is at least 10:\n",
    "\n",
    "$ \\huge{np \\ge 10 \\text{ and } n(1-p) \\ge 10}$  "
   ]
  },
  {
   "cell_type": "code",
   "execution_count": 7,
   "metadata": {},
   "outputs": [
    {
     "name": "stdout",
     "output_type": "stream",
     "text": [
      "###### n = 30 ######\n",
      "18.6 11.4\n"
     ]
    }
   ],
   "source": [
    "# 62% of all graduates from public universities have student loans.\n",
    "p = .62\n",
    "\n",
    "# n = 20\n",
    "n = 30\n",
    "s = f' n = {n} '\n",
    "expected_success, expected_failure = n*p, n*(1-p)\n",
    "print(f'{s:#^20}')\n",
    "print(expected_success, expected_failure)"
   ]
  },
  {
   "cell_type": "markdown",
   "metadata": {},
   "source": [
    "### Try It: Distribution of Sample Proportions (4 of 6)"
   ]
  },
  {
   "cell_type": "code",
   "execution_count": 23,
   "metadata": {},
   "outputs": [
    {
     "name": "stdout",
     "output_type": "stream",
     "text": [
      "###### n = 30 ###### \n",
      " 0.08861903482510591\n"
     ]
    },
    {
     "data": {
      "text/plain": [
       "(0.5313809651748941, 0.7086190348251059)"
      ]
     },
     "execution_count": 23,
     "metadata": {},
     "output_type": "execute_result"
    }
   ],
   "source": [
    "n = 50  \n",
    "s = f' n = {n} '\n",
    "p = .62\n",
    "std_error = (p*(1-p)/n)**.5\n",
    "\n",
    "print(f'{s:#^20}', '\\n', std_error)\n",
    "p - std_error, p + std_error"
   ]
  },
  {
   "cell_type": "markdown",
   "metadata": {},
   "source": [
    "### 5 students selecting 50 M&M's. p = .2 for orange M&M's."
   ]
  },
  {
   "cell_type": "code",
   "execution_count": 28,
   "metadata": {},
   "outputs": [],
   "source": [
    "def simulate_one_selection():\n",
    "    n = 50\n",
    "    p = .2\n",
    "    std_err = (p*(1-p)/n)**.5\n",
    "    return p - std_error, p + std_error"
   ]
  },
  {
   "cell_type": "code",
   "execution_count": 29,
   "metadata": {},
   "outputs": [
    {
     "data": {
      "text/plain": [
       "0.05656854249492381"
      ]
     },
     "execution_count": 29,
     "metadata": {},
     "output_type": "execute_result"
    }
   ],
   "source": [
    "n = 50\n",
    "p = .2\n",
    "std_err = (p*(1-p)/n)**.5\n",
    "std_err"
   ]
  },
  {
   "cell_type": "code",
   "execution_count": 30,
   "metadata": {},
   "outputs": [
    {
     "data": {
      "text/plain": [
       "[(0.1113809651748941, 0.2886190348251059),\n",
       " (0.1113809651748941, 0.2886190348251059),\n",
       " (0.1113809651748941, 0.2886190348251059),\n",
       " (0.1113809651748941, 0.2886190348251059),\n",
       " (0.1113809651748941, 0.2886190348251059)]"
      ]
     },
     "execution_count": 30,
     "metadata": {},
     "output_type": "execute_result"
    }
   ],
   "source": [
    "outcomes = []\n",
    "for _ in range(5):\n",
    "    outcomes.append(simulate_one_selection())\n",
    "outcomes"
   ]
  },
  {
   "cell_type": "markdown",
   "metadata": {},
   "source": [
    "### Distribution of Sample Proportions (5 of 6) "
   ]
  },
  {
   "cell_type": "markdown",
   "metadata": {},
   "source": [
    "$$ \\huge{ z = \\frac{\\text{statistic}-\\text{parameter}}{\\text{standard error}}} \n",
    "\\\\\n",
    " \\quad \\\\\n",
    " z = \\huge{\\frac{\\hat{p} - p}{\\sqrt{\\frac{p(1-p)}{n}}}}\n",
    " $$\n",
    "\n",
    " The number of standard errors a sample proportion is from the parameter."
   ]
  },
  {
   "cell_type": "code",
   "execution_count": 38,
   "metadata": {},
   "outputs": [
    {
     "data": {
      "text/plain": [
       "(0.030000000000000002, 1.666666666666666)"
      ]
     },
     "execution_count": 38,
     "metadata": {},
     "output_type": "execute_result"
    }
   ],
   "source": [
    "# Of 3.1 million 18 - 24 year-olds, 10% are enrolled in community college.\n",
    "\n",
    "p = .1\n",
    "\n",
    "# Randomly selecting 100 young adults in this age group, 15% of the sample are in community college.\n",
    "\n",
    "n = 100\n",
    "p_hat = .15\n",
    "\n",
    "std_err = ( p*(1-p)/n)**.5\n",
    "z_score = (p_hat-p)/std_err\n",
    "\n",
    "std_err, z_score"
   ]
  },
  {
   "cell_type": "markdown",
   "metadata": {},
   "source": [
    "$ \\large{P(\\hat{p} >= 0.15 | p = 0.10 \\approx 0.0475)} $"
   ]
  },
  {
   "cell_type": "markdown",
   "metadata": {},
   "source": [
    "### Try It: Distribution of Sample Proportions (5 of 6)"
   ]
  },
  {
   "cell_type": "code",
   "execution_count": 40,
   "metadata": {},
   "outputs": [
    {
     "name": "stdout",
     "output_type": "stream",
     "text": [
      "0.030000000000000002 -1.4433756729740657\n"
     ]
    }
   ],
   "source": [
    "p = .4\n",
    "\n",
    "# What is the probability that a sample of 200 had less than .35?\n",
    "\n",
    "p_hat = .35\n",
    "n = 200\n",
    "\n",
    "std_error = (p*(1-p)/n)**.5\n",
    "z = (p_hat - p)/std_error\n",
    "\n",
    "print(std_err, z)\n",
    "\n",
    "def check_normality(p, n):\n",
    "    condition_1 = (n*p) >= 10\n",
    "    condition_2 = n*(1-p) >= 10\n",
    "    \n",
    "    return condition_1 and condition_2"
   ]
  },
  {
   "cell_type": "code",
   "execution_count": 42,
   "metadata": {},
   "outputs": [
    {
     "data": {
      "text/plain": [
       "True"
      ]
     },
     "execution_count": 42,
     "metadata": {},
     "output_type": "execute_result"
    }
   ],
   "source": [
    "check_normality(p,n)"
   ]
  },
  {
   "cell_type": "markdown",
   "metadata": {},
   "source": [
    "### Distribution of Sample Proportions (6 of 6)"
   ]
  },
  {
   "cell_type": "markdown",
   "metadata": {},
   "source": [
    "#### Overweight Men example"
   ]
  },
  {
   "cell_type": "code",
   "execution_count": 48,
   "metadata": {},
   "outputs": [
    {
     "name": "stdout",
     "output_type": "stream",
     "text": [
      "0.0458257569495584 -1.0910894511799616\n"
     ]
    },
    {
     "data": {
      "text/plain": [
       "0.2758"
      ]
     },
     "execution_count": 48,
     "metadata": {},
     "output_type": "execute_result"
    }
   ],
   "source": [
    "p = .3 # overweight\n",
    "\n",
    "n = 100\n",
    "p_hat = .25 # or .35\n",
    "\n",
    "std_error = (p*(1-p)/n) **.5\n",
    "z = (p_hat - p)/std_error\n",
    "\n",
    "print(std_error, z)\n",
    "\n",
    "check_normality(p,n)\n",
    "\n",
    "# What is the probability that the sample proportion will differ by more than 10%?\n",
    "prob = 0.1379 * 2\n",
    "prob"
   ]
  }
 ],
 "metadata": {
  "kernelspec": {
   "display_name": "Python 3.10.5 ('numpy_practice': venv)",
   "language": "python",
   "name": "python3"
  },
  "language_info": {
   "codemirror_mode": {
    "name": "ipython",
    "version": 3
   },
   "file_extension": ".py",
   "mimetype": "text/x-python",
   "name": "python",
   "nbconvert_exporter": "python",
   "pygments_lexer": "ipython3",
   "version": "3.10.5"
  },
  "orig_nbformat": 4,
  "vscode": {
   "interpreter": {
    "hash": "506e1314e50230895a36f7e997360677417938187e89a86875e6b8661373709a"
   }
  }
 },
 "nbformat": 4,
 "nbformat_minor": 2
}
