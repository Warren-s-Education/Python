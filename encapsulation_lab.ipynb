{
 "cells": [
  {
   "cell_type": "code",
   "execution_count": 38,
   "metadata": {},
   "outputs": [],
   "source": [
    "class AccountException(Exception):\n",
    "    pass\n",
    "\n",
    "class BankAccount:\n",
    "    \"\"\"_summary_\n",
    "    \"\"\"\n",
    "\n",
    "    AUDIT_THRESHOLD = 100_000\n",
    "\n",
    "    def __init__(self, account_number:str):\n",
    "        self._balance = 0\n",
    "        self._account_number = account_number\n",
    "\n",
    "    @property\n",
    "    def account_number(self):\n",
    "        return self._account_number\n",
    "\n",
    "    @account_number.setter\n",
    "    def account_number(self, value):\n",
    "        raise AccountException(\"Cannot change account number.\")\n",
    "\n",
    "    @account_number.deleter\n",
    "    def account_number(self):\n",
    "        raise AccountException(\"cannot delete Account Number.\")\n",
    "\n",
    "    @property \n",
    "    def balance(self):\n",
    "        return self._balance\n",
    "\n",
    "\n",
    "    @balance.setter\n",
    "    def balance(self, amount):\n",
    "        if amount < 0:\n",
    "            raise AccountException(\"Cannot have a negative balance.\")\n",
    "        if amount > self.__class__.AUDIT_THRESHOLD:\n",
    "            print(\"This transaction creates an audit trail.\")\n",
    "        self._balance = amount\n",
    "\n",
    "    @balance.deleter\n",
    "    def balance(self):\n",
    "        if self._balance == 0:\n",
    "            del self._balance\n",
    "        else:\n",
    "            raise AccountException(\"Cannot delete a non-empty account.\")\n",
    "        "
   ]
  },
  {
   "cell_type": "code",
   "execution_count": 41,
   "metadata": {},
   "outputs": [
    {
     "name": "stdout",
     "output_type": "stream",
     "text": [
      "Cannot have a negative balance.\n",
      "Cannot change account number.\n",
      "This transaction creates an audit trail.\n",
      "Cannot delete a non-empty account.\n",
      "cannot delete Account Number.\n"
     ]
    }
   ],
   "source": [
    "account = BankAccount(account_number='w9482')\n",
    "try:\n",
    "    account.balance = -200\n",
    "except AccountException as e:\n",
    "    print(e)\n",
    "\n",
    "try:\n",
    "    account.account_number = \"new value\"\n",
    "except AccountException as e:\n",
    "    print(e)\n",
    "\n",
    "account.balance += 1_000_000\n",
    "\n",
    "try:\n",
    "    del account.balance\n",
    "except AccountException as e:\n",
    "    print(e)\n",
    "\n",
    "try:\n",
    "    del account.account_number\n",
    "except AccountException as e:\n",
    "    print(e)\n",
    "\n",
    "account.balance = 0\n",
    "del account.balance\n"
   ]
  },
  {
   "cell_type": "code",
   "execution_count": 30,
   "metadata": {},
   "outputs": [
    {
     "data": {
      "text/plain": [
       "3.0"
      ]
     },
     "execution_count": 30,
     "metadata": {},
     "output_type": "execute_result"
    }
   ],
   "source": [
    "90/30"
   ]
  },
  {
   "cell_type": "code",
   "execution_count": 31,
   "metadata": {},
   "outputs": [
    {
     "data": {
      "text/plain": [
       "2.75"
      ]
     },
     "execution_count": 31,
     "metadata": {},
     "output_type": "execute_result"
    }
   ],
   "source": [
    "110/40"
   ]
  }
 ],
 "metadata": {
  "kernelspec": {
   "display_name": "Python 3",
   "language": "python",
   "name": "python3"
  },
  "language_info": {
   "codemirror_mode": {
    "name": "ipython",
    "version": 3
   },
   "file_extension": ".py",
   "mimetype": "text/x-python",
   "name": "python",
   "nbconvert_exporter": "python",
   "pygments_lexer": "ipython3",
   "version": "3.10.5"
  },
  "orig_nbformat": 4,
  "vscode": {
   "interpreter": {
    "hash": "369f2c481f4da34e4445cda3fffd2e751bd1c4d706f27375911949ba6bb62e1c"
   }
  }
 },
 "nbformat": 4,
 "nbformat_minor": 2
}
