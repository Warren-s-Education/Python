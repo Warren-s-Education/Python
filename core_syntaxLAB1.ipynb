{
 "cells": [
  {
   "cell_type": "code",
   "execution_count": 503,
   "metadata": {},
   "outputs": [],
   "source": [
    "from typing import Union\n",
    "\n",
    "class TimeInterval:\n",
    "    def __init__(self, hours:int = 0, minutes:int = 0, seconds:int = 0):\n",
    "        self.seconds = seconds + (60 * minutes) + (60 * 60 * hours)\n",
    "\n",
    "    def __repr__(self) -> str:\n",
    "        seconds = self.seconds % 60\n",
    "        total_minutes = self.seconds // 60\n",
    "        minutes = total_minutes % 60\n",
    "        hours = total_minutes // 60\n",
    "        \n",
    "        return f\"{hours:0>2}:{minutes:0>2}:{seconds:0>2}\"\n",
    "\n",
    "    def __neg__(self) -> TimeInterval:\n",
    "        return TimeInterval(seconds = -self.seconds)\n",
    "\n",
    "\n",
    "    def __mul__(self, value:int):\n",
    "        if not isinstance(value, int):\n",
    "            raise TypeError(f'{type(value)} is not of type {type(int)}')\n",
    "        self.seconds *= value\n",
    "        return self\n",
    "\n",
    "    def __add__(self, other:TimeInterval) -> TimeInterval:\n",
    "        if isinstance(other, TimeInterval):\n",
    "            total_seconds = self.seconds + other.seconds\n",
    "            return TimeInterval(seconds=total_seconds)\n",
    "        elif isinstance(other, int):\n",
    "            total_seconds = self.seconds + other\n",
    "            return TimeInterval(seconds=total_seconds)\n",
    "        else:\n",
    "            raise TypeError(f\"{other.__class__.__name__} is neither a {TimeInterval.__name__} nor int object.\")\n",
    "        \n",
    "\n",
    "    def __sub__(self, other:Union[TimeInterval, int]) -> TimeInterval:\n",
    "        return self + (-other)\n"
   ]
  },
  {
   "cell_type": "code",
   "execution_count": 508,
   "metadata": {},
   "outputs": [],
   "source": [
    "class Printer:\n",
    "    def print(self):\n",
    "        print('print() method from Printer class')\n",
    "\n",
    "class Scanner:\n",
    "    def scan(self):\n",
    "        print('scan() method from Scanner class')\n",
    "\n",
    "class Fax:\n",
    "    def send(self):\n",
    "        print('send() method from Fax class')\n",
    "\n",
    "    def print(self):\n",
    "        print('print() method from Fax class')\n",
    "\n",
    "\n",
    "class MFD_SPF(Scanner, Printer, Fax):\n",
    "    pass\n",
    "\n",
    "class MFD_SFP(Scanner, Fax, Printer):\n",
    "    pass\n",
    "\n"
   ]
  },
  {
   "cell_type": "code",
   "execution_count": 509,
   "metadata": {},
   "outputs": [],
   "source": [
    "spf_device = MFD_SPF()\n",
    "sfp_device = MFD_SFP()"
   ]
  },
  {
   "cell_type": "code",
   "execution_count": 518,
   "metadata": {},
   "outputs": [
    {
     "ename": "SyntaxError",
     "evalue": "expected 'else' after 'if' expression (3591137887.py, line 2)",
     "output_type": "error",
     "traceback": [
      "\u001b[1;36m  Cell \u001b[1;32mIn [518], line 2\u001b[1;36m\u001b[0m\n\u001b[1;33m    inspect.getmembers(sfp_device, predicate=inspect.ismethod if method[0] != '__init__')\u001b[0m\n\u001b[1;37m                                             ^\u001b[0m\n\u001b[1;31mSyntaxError\u001b[0m\u001b[1;31m:\u001b[0m expected 'else' after 'if' expression\n"
     ]
    }
   ],
   "source": [
    "import inspect\n",
    "inspect.getmembers(sfp_device, predicate=inspect.ismethod if method[0] != '__init__')"
   ]
  },
  {
   "cell_type": "code",
   "execution_count": 543,
   "metadata": {},
   "outputs": [
    {
     "name": "stdout",
     "output_type": "stream",
     "text": [
      "print() method from Fax class\n",
      "scan() method from Scanner class\n",
      "send() method from Fax class\n"
     ]
    }
   ],
   "source": [
    "methods = [method[0] for method in inspect.getmembers(sfp_device, predicate=inspect.ismethod) if not method[0].startswith(\"__\")]\n",
    "methods\n",
    "\n",
    "for func in methods:\n",
    "    getattr(sfp_device,func)()"
   ]
  },
  {
   "cell_type": "code",
   "execution_count": 545,
   "metadata": {},
   "outputs": [
    {
     "name": "stdout",
     "output_type": "stream",
     "text": [
      "<bound method Printer.print of <__main__.MFD_SPF object at 0x0000013E745FA710>>\n",
      "<bound method Scanner.scan of <__main__.MFD_SPF object at 0x0000013E745FA710>>\n",
      "<bound method Fax.send of <__main__.MFD_SPF object at 0x0000013E745FA710>>\n"
     ]
    }
   ],
   "source": [
    "methods = [method[1] for method in inspect.getmembers(spf_device, predicate=inspect.ismethod) if not method[0].startswith(\"__\")]\n",
    "\n",
    "for func in methods:\n",
    "    print(func)"
   ]
  },
  {
   "cell_type": "code",
   "execution_count": 565,
   "metadata": {},
   "outputs": [
    {
     "name": "stdout",
     "output_type": "stream",
     "text": [
      "[3028.0, 1537.0, 1448.0, 526.0, 1125.0, 801.0]\n"
     ]
    },
    {
     "data": {
      "text/plain": [
       "8465.0"
      ]
     },
     "execution_count": 565,
     "metadata": {},
     "output_type": "execute_result"
    }
   ],
   "source": [
    "data = \"\"\"\t07/11/2022\t\n",
    "Deposit Car Next\n",
    "BASIC\n",
    "$3,028.07\tApply\n",
    "RULEBusiness\n",
    "Edit rule\n",
    "0\n",
    "|\n",
    "Business income\n",
    "07/10/2022\t\n",
    "Deposit Car Next\n",
    "BASIC\n",
    "$1,537.26\tApply\n",
    "RULEBusiness\n",
    "0\n",
    "|\n",
    "Business income\n",
    "08/09/2022\t\n",
    "Deposit Car Next\n",
    "BASIC\n",
    "$1,448.87\tApply\n",
    "RULEBusiness\n",
    "0\n",
    "|\n",
    "Business income\n",
    "09/08/2022\t\n",
    "Deposit Car Next\n",
    "BASIC\n",
    "$526.29\tApply\n",
    "RULEBusiness\n",
    "0\n",
    "|\n",
    "Business income\n",
    "07/07/2022\t\n",
    "Deposit Car Next\n",
    "BASIC\n",
    "$1,125.98\tApply\n",
    "RULEBusiness\n",
    "0\n",
    "|\n",
    "Business income\n",
    "08/06/2022\t\n",
    "Deposit Car Next\n",
    "BASIC\n",
    "$801.03\tApply\n",
    "RULEBusiness\n",
    "0\n",
    "|\n",
    "Business income\n",
    "\"\"\"\n",
    "\n",
    "\n",
    "results = parse.findall(\"${number}.\", data)\n",
    "numbers = [float(value['number'].replace(',','')) for value in results]\n",
    "print(numbers)\n",
    "sum(numbers)"
   ]
  },
  {
   "cell_type": "code",
   "execution_count": 569,
   "metadata": {},
   "outputs": [
    {
     "name": "stdout",
     "output_type": "stream",
     "text": [
      "        class Wax:\n",
      "            def melt(self):\n",
      "                print(\"Wax\n",
      "        class Cheese:\n",
      "            def melt(self):\n",
      "                print(\"Cheese\n",
      "        class Wood:\n",
      "            def melt(self):\n",
      "                print(\"Wood\n"
     ]
    }
   ],
   "source": [
    "for text in 'Wax', 'Cheese', 'Wood':\n",
    "    print(f\"\"\"\\\n",
    "        class {text}:\n",
    "            def melt(self):\n",
    "                print(\"{text}\"\"\")"
   ]
  },
  {
   "cell_type": "code",
   "execution_count": null,
   "metadata": {},
   "outputs": [],
   "source": [
    "21:57:48\n",
    "25:00:00\n",
    "<class 'int'>\n",
    "28867\n",
    "00:00:01\n",
    "-3\n",
    "23:44:12\n",
    "20:13:28\n",
    "43:57:40\n",
    "<Result () {'cost': 74.5, 'date': '12 Dec at 16:42'}>\n",
    "794.56\n",
    "<Result () {'cost': 50.0}>\n",
    "17.887500000000003\n",
    "445.5\n",
    "64\n",
    "35.334375\n",
    "2291.0\n",
    "366.56\n",
    "5.789062499999993\n",
    "Hi, David.\n",
    "\n",
    "For the 4582 km booking starting 2022-10-16 and ending 2022-12-19, our bill shows:\n",
    "    ----------------------------------------\n",
    "                 Time Charges (Gross): $1526\n",
    "             Distance Charges (Gross): $1512\n",
    "    \n",
    "There are the following deductions, some automatically deducted by the platform:\n",
    "********************************************************************************\n",
    "    Time-based\n",
    "    ----------------------------------------\n",
    "           Commission on Time Charges: $381\n",
    "\n",
    "    Distance-based\n",
    "    ----------------------------------------\n",
    "         Mobility Mutual contribution: $366\n",
    "                            Fuel Cost: $794\n",
    "             Approx servicing charges: $500\n",
    "********************************************************************************\n",
    "\n",
    "This gives our take-home for the 64 days as\n",
    "    ----------------------------------------\n",
    "                   Time Charges (NET): $1144\n",
    "        Surplus Distance Charges (NET): $1\n",
    "        \n",
    "which is $17.89/day for time charges at the discounted rate we organised.\n",
    "\n",
    "In addition to the time charges, we need to cover maintenance/fuel/insurance costs, which the platform otherwise handles. The result of all that number crunching is the following conclusions/comments/questions:\n",
    "\n",
    "    1. Over two months, you paid $381 to the platform's insurance-like fund. Can you \n",
    "       organise replacement insurance, or pay us to organise something? I can get quotes.\n",
    "\n",
    "    2. You also paid $0.25/km to cover fuel and maintenance costs. If you pay for fuel, I\n",
    "       believe $0.10/km covers our maintenance costs.\n",
    "\n",
    "    3. It would be nice to get more than the daily rate of $17.89 if we go \n",
    "       off-platform. $22, for example.\n",
    "\n",
    "    4. If driving 71.59km/day is typical for you, each day would work out \n",
    "       to:\n",
    "                  time charge: $22\n",
    "          running cost charge: $7.16\n",
    "                        total: $27.16\n",
    "    \n",
    "                Weekly         $204.12\n",
    "                30 days        $874.78\n",
    "\n",
    "        Plus fuel and insurance.\n",
    "\n",
    "    5. Paying up front, security deposit, proof of  of your license and a contract that states \n",
    "       each of our responsibilities would also be good.\n",
    "        \n",
    "\n",
    "126\n",
    "2316.24\n",
    "2048.3199999999997\n",
    "  Cell In [518], line 2\n",
    "    inspect.getmembers(sfp_device, predicate=inspect.ismethod if method[0] != '__init__')\n",
    "                                             ^\n",
    "SyntaxError: expected 'else' after 'if' expression\n",
    "print() method from Fax class\n",
    "scan() method from Scanner class\n",
    "send() method from Fax class\n",
    "<bound method Printer.print of <__main__.MFD_SPF object at 0x0000013E745FA710>>\n",
    "<bound method Scanner.scan of <__main__.MFD_SPF object at 0x0000013E745FA710>>\n",
    "<bound method Fax.send of <__main__.MFD_SPF object at 0x0000013E745FA710>>\n",
    "print() method from Fax class\n",
    "print() method from Fax class\n",
    "[3028.0, 1537.0, 1448.0, 526.0, 1125.0, 801.0]\n",
    "8465.0\n",
    "    "
   ]
  },
  {
   "cell_type": "code",
   "execution_count": 573,
   "metadata": {},
   "outputs": [
    {
     "name": "stdout",
     "output_type": "stream",
     "text": [
      "Wax can be used to form a tool.\n",
      "Cheese can be eaten.\n",
      "No melt() method.\n"
     ]
    }
   ],
   "source": [
    "class Wax:\n",
    "        def melt(self):\n",
    "            print(\"Wax can be used to form a tool.\")\n",
    "\n",
    "class Cheese:\n",
    "    def melt(self):\n",
    "        print(\"Cheese can be eaten.\")\n",
    "\n",
    "class Wood:\n",
    "    def fire(self):\n",
    "        print(\"A fire has been started.\")\n",
    "\n",
    "\n",
    "for element in Wax(), Cheese(), Wood():\n",
    "    try:\n",
    "        element.melt()\n",
    "    except AttributeError:\n",
    "        print(\"No melt() method.\")"
   ]
  },
  {
   "cell_type": "code",
   "execution_count": 531,
   "metadata": {},
   "outputs": [
    {
     "name": "stdout",
     "output_type": "stream",
     "text": [
      "print() method from Fax class\n",
      "print() method from Fax class\n"
     ]
    }
   ],
   "source": [
    "getattr(sfp_device, 'print')()\n",
    "\n",
    "exec(f\"sfp_device.{'print'}()\")"
   ]
  },
  {
   "cell_type": "code",
   "execution_count": 591,
   "metadata": {},
   "outputs": [
    {
     "name": "stdout",
     "output_type": "stream",
     "text": [
      "We are about to call print\n",
      "hello\n"
     ]
    }
   ],
   "source": [
    "from typing import Callable\n",
    "\n",
    "def simple_decorator(function) -> Callable:\n",
    "    print(\"We are about to call\", function.__name__)\n",
    "    return function \n",
    "\n",
    "\n",
    "def simple_hello():\n",
    "    print(\"Hello from simple function.\")\n",
    "\n",
    "\n",
    "simple_decorator(print)('hello')\n"
   ]
  },
  {
   "cell_type": "code",
   "execution_count": 593,
   "metadata": {},
   "outputs": [
    {
     "name": "stdout",
     "output_type": "stream",
     "text": [
      "hello\n"
     ]
    },
    {
     "ename": "AttributeError",
     "evalue": "'NoneType' object has no attribute '__name__'",
     "output_type": "error",
     "traceback": [
      "\u001b[1;31m---------------------------------------------------------------------------\u001b[0m",
      "\u001b[1;31mAttributeError\u001b[0m                            Traceback (most recent call last)",
      "Cell \u001b[1;32mIn [593], line 13\u001b[0m\n\u001b[0;32m      9\u001b[0m \u001b[39m@simple_decorator\u001b[39m\n\u001b[0;32m     10\u001b[0m \u001b[39mdef\u001b[39;00m \u001b[39msimple_hello\u001b[39m():\n\u001b[0;32m     11\u001b[0m     \u001b[39mprint\u001b[39m(\u001b[39m\"\u001b[39m\u001b[39mHello from simple function.\u001b[39m\u001b[39m\"\u001b[39m)\n\u001b[1;32m---> 13\u001b[0m simple_decorator(\u001b[39mprint\u001b[39m(\u001b[39m'\u001b[39m\u001b[39mhello\u001b[39m\u001b[39m'\u001b[39m))()\n",
      "Cell \u001b[1;32mIn [593], line 5\u001b[0m, in \u001b[0;36msimple_decorator.<locals>.wrapper\u001b[1;34m()\u001b[0m\n\u001b[0;32m      4\u001b[0m \u001b[39mdef\u001b[39;00m \u001b[39mwrapper\u001b[39m():\n\u001b[1;32m----> 5\u001b[0m     \u001b[39mprint\u001b[39m(\u001b[39m\"\u001b[39m\u001b[39mWe are about to call\u001b[39m\u001b[39m\"\u001b[39m, function\u001b[39m.\u001b[39;49m\u001b[39m__name__\u001b[39;49m)\n\u001b[0;32m      6\u001b[0m     \u001b[39mreturn\u001b[39;00m function()\n",
      "\u001b[1;31mAttributeError\u001b[0m: 'NoneType' object has no attribute '__name__'"
     ]
    }
   ],
   "source": [
    "from typing import Callable\n",
    "\n",
    "def simple_decorator(function: Callable) -> Callable:\n",
    "    def wrapper():\n",
    "        print(\"We are about to call\", function.__name__)\n",
    "        return function()\n",
    "    return wrapper\n",
    "\n",
    "@simple_decorator\n",
    "def simple_hello():\n",
    "    print(\"Hello from simple function.\")\n",
    "\n",
    "simple_decorator(print('hello'))\n"
   ]
  },
  {
   "cell_type": "code",
   "execution_count": 601,
   "metadata": {},
   "outputs": [
    {
     "name": "stdout",
     "output_type": "stream",
     "text": [
      "\"combiner\" was called with the following arguments\n",
      "\t('a', 'b')\n",
      "\t{'exec': 'yes'}\n",
      "\n",
      "\tHello from the decorated function; received arguments: ('a', 'b') {'exec': 'yes'}\n",
      "Decorator is still operating\n"
     ]
    }
   ],
   "source": [
    "def simple_decorator(own_function):\n",
    "\n",
    "    def internal_wrapper(*args2, **kwargs2):\n",
    "        print('\"{}\" was called with the following arguments'.format(own_function.__name__))\n",
    "        print('\\t{}\\n\\t{}\\n'.format(args2, kwargs2))\n",
    "        own_function(*args2, **kwargs2)\n",
    "        print('Decorator is still operating')\n",
    "\n",
    "    return internal_wrapper\n",
    "\n",
    "\n",
    "@simple_decorator\n",
    "def combiner(*args, **kwargs):\n",
    "    print(\"\\tHello from the decorated function; received arguments:\", args, kwargs)\n",
    "\n",
    "combiner('a', 'b', exec='yes')\n"
   ]
  },
  {
   "cell_type": "code",
   "execution_count": 602,
   "metadata": {},
   "outputs": [
    {
     "name": "stdout",
     "output_type": "stream",
     "text": [
      "<strong>*</strong> Wrapping items from pack_books with kraft\n",
      "We'll pack books: ('Alice in Wonderland', 'Winnie the Pooh')\n",
      "\n",
      "<strong>*</strong> Wrapping items from pack_toys with foil\n",
      "We'll pack toys: ('doll', 'car')\n",
      "\n",
      "<strong>*</strong> Wrapping items from pack_fruits with cardboard\n",
      "We'll pack fruits: ('plum', 'pear')\n",
      "\n"
     ]
    }
   ],
   "source": [
    "def warehouse_decorator(material):\n",
    "    def wrapper(our_function):\n",
    "        def internal_wrapper(*args):\n",
    "            print('<strong>*</strong> Wrapping items from {} with {}'.format(our_function.__name__, material))\n",
    "            our_function(*args)\n",
    "            print()\n",
    "        return internal_wrapper\n",
    "    return wrapper\n",
    "\n",
    "\n",
    "@warehouse_decorator('kraft')\n",
    "def pack_books(*args):\n",
    "    print(\"We'll pack books:\", args)\n",
    "\n",
    "\n",
    "@warehouse_decorator('foil')\n",
    "def pack_toys(*args):\n",
    "    print(\"We'll pack toys:\", args)\n",
    "\n",
    "\n",
    "@warehouse_decorator('cardboard')\n",
    "def pack_fruits(*args):\n",
    "    print(\"We'll pack fruits:\", args)\n",
    "\n",
    "\n",
    "pack_books('Alice in Wonderland', 'Winnie the Pooh')\n",
    "pack_toys('doll', 'car')\n",
    "pack_fruits('plum', 'pear')\n"
   ]
  },
  {
   "cell_type": "code",
   "execution_count": 611,
   "metadata": {},
   "outputs": [
    {
     "name": "stdout",
     "output_type": "stream",
     "text": [
      "<strong>*</strong> Wrapping items from print with test\n",
      "fruit\n",
      "\n"
     ]
    }
   ],
   "source": [
    "warehouse_decorator('test')(print)('fruit')"
   ]
  },
  {
   "cell_type": "code",
   "execution_count": 614,
   "metadata": {},
   "outputs": [
    {
     "name": "stdout",
     "output_type": "stream",
     "text": [
      "Wrapping items from pack_breakables with soft things.\n",
      "We will pack your breakables: ('glass', 'china')\n"
     ]
    }
   ],
   "source": [
    "def warehouse_decorator(material):\n",
    "    def wrapper(func):\n",
    "        def inner_function(*args, **kwargs):\n",
    "            print(f\"Wrapping items from {func.__name__} with {material}.\")\n",
    "            func(*args, **kwargs)\n",
    "        return inner_function\n",
    "    return wrapper\n",
    "\n",
    "@warehouse_decorator('soft things')\n",
    "def pack_breakables(*items):\n",
    "    print('We will pack your breakables:', items)\n",
    "\n",
    "\n",
    "pack_breakables('glass', 'china')"
   ]
  },
  {
   "cell_type": "code",
   "execution_count": null,
   "metadata": {},
   "outputs": [],
   "source": [
    "big_container(material)((warehouse_decorator(material)(pack_fruits)))"
   ]
  },
  {
   "cell_type": "code",
   "execution_count": 644,
   "metadata": {},
   "outputs": [],
   "source": [
    "def warehouse_decorator(func):\n",
    "    def warehouse_wrapper():\n",
    "        func()\n",
    "        print('warehouse')\n",
    "    return warehouse_wrapper\n",
    "\n",
    "def big_container(func):\n",
    "    def big_wrapper():\n",
    "        func()\n",
    "        print('big container')\n",
    "    return big_wrapper\n",
    "\n",
    "# @big_container('strong cardboard')\n",
    "# @warehouse_decorator('cardboard')\n",
    "def pack_fruits(*args):\n",
    "    print(\"We will pack the fruits:\", args)\n",
    "\n"
   ]
  },
  {
   "cell_type": "code",
   "execution_count": 620,
   "metadata": {},
   "outputs": [
    {
     "name": "stdout",
     "output_type": "stream",
     "text": [
      "We will pack the fruits: ('apple', 'pear')\n"
     ]
    }
   ],
   "source": [
    "pack_fruits('apple', 'pear')"
   ]
  },
  {
   "cell_type": "code",
   "execution_count": 652,
   "metadata": {},
   "outputs": [
    {
     "name": "stdout",
     "output_type": "stream",
     "text": [
      "We will pack the fruits: ()\n",
      "warehouse\n",
      "big container\n"
     ]
    }
   ],
   "source": [
    "big_container(warehouse_decorator(pack_fruits))()"
   ]
  },
  {
   "cell_type": "code",
   "execution_count": 694,
   "metadata": {},
   "outputs": [],
   "source": [
    "def outer(material):\n",
    "    def wrapper(func):\n",
    "        def handler(*args, **kwargs):\n",
    "            print(material)\n",
    "            func(*args, **kwargs)\n",
    "        return handler\n",
    "    return wrapper\n",
    "\n",
    "def inner(material):\n",
    "    def inner_wrapper(func):\n",
    "        def inner_handler(*args, **kwargs):\n",
    "            print(material)\n",
    "            func(*args, **kwargs)\n",
    "        return inner_handler\n",
    "    return inner_wrapper\n",
    "\n",
    "\n",
    "def pack_fruits(*args):\n",
    "    print(\"We will pack the fruits:\", args)"
   ]
  },
  {
   "cell_type": "code",
   "execution_count": 700,
   "metadata": {},
   "outputs": [
    {
     "name": "stdout",
     "output_type": "stream",
     "text": [
      "box\n",
      "foam\n",
      "We will pack the fruits: ('apple',)\n"
     ]
    }
   ],
   "source": [
    "outer('box')(inner('foam')(pack_fruits))('apple')"
   ]
  },
  {
   "cell_type": "code",
   "execution_count": 678,
   "metadata": {},
   "outputs": [
    {
     "name": "stdout",
     "output_type": "stream",
     "text": [
      "inner\n",
      "We will pack the fruits: ('apples',)\n"
     ]
    }
   ],
   "source": [
    "inner('card')(pack_fruits)('apples')"
   ]
  },
  {
   "cell_type": "code",
   "execution_count": 719,
   "metadata": {},
   "outputs": [],
   "source": [
    "from datetime import datetime\n",
    "\n",
    "def timestamp_decorator(func):\n",
    "    def wrapper(*args, **kwargs):\n",
    "        date = datetime.today()\n",
    "        print(f\"Executing {func.__name__}{args} at ...\")\n",
    "        print(date.strftime(\"%Y-%m-%d %H:%M:%S\"))\n",
    "        return func(*args, **kwargs)\n",
    "    return wrapper\n",
    "\n",
    "@timestamp_decorator\n",
    "def add(a,b):\n",
    "    print(a + b)\n",
    "\n",
    "@timestamp_decorator\n",
    "def multiply(a,b):\n",
    "    print(a * b)"
   ]
  },
  {
   "cell_type": "code",
   "execution_count": 733,
   "metadata": {},
   "outputs": [],
   "source": [
    "class SimpleDecorator:\n",
    "    def __init__(self, function):\n",
    "        self.function = function\n",
    "\n",
    "    def __call__(self, *args, **kwargs):\n",
    "        print(f\"{self.function.__name__} was called with {args} and {kwargs}\")\n",
    "        return self.function(*args, **kwargs)\n",
    "        print(\"Decorator is still operatoring\")\n",
    "\n",
    "@SimpleDecorator\n",
    "def combiner(*args, **kwargs):\n",
    "    return args, kwargs"
   ]
  },
  {
   "cell_type": "code",
   "execution_count": 740,
   "metadata": {},
   "outputs": [
    {
     "name": "stdout",
     "output_type": "stream",
     "text": [
      "combiner was called with () and {}\n"
     ]
    },
    {
     "data": {
      "text/plain": [
       "((), {})"
      ]
     },
     "execution_count": 740,
     "metadata": {},
     "output_type": "execute_result"
    }
   ],
   "source": [
    "SimpleDecorator.__call__(combiner)"
   ]
  },
  {
   "cell_type": "code",
   "execution_count": 741,
   "metadata": {},
   "outputs": [
    {
     "ename": "AttributeError",
     "evalue": "'str' object has no attribute '__name__'",
     "output_type": "error",
     "traceback": [
      "\u001b[1;31m---------------------------------------------------------------------------\u001b[0m",
      "\u001b[1;31mAttributeError\u001b[0m                            Traceback (most recent call last)",
      "Cell \u001b[1;32mIn [741], line 1\u001b[0m\n\u001b[1;32m----> 1\u001b[0m SimpleDecorator(\u001b[39m'\u001b[39m\u001b[39mwood\u001b[39m\u001b[39m'\u001b[39m)\u001b[39m.\u001b[39m\u001b[39m__call__\u001b[39m(combiner)\n",
      "Cell \u001b[1;32mIn [733], line 6\u001b[0m, in \u001b[0;36mSimpleDecorator.__call__\u001b[1;34m(self, *args, **kwargs)\u001b[0m\n\u001b[0;32m      5\u001b[0m \u001b[39mdef\u001b[39;00m \u001b[39m__call__\u001b[39m(\u001b[39mself\u001b[39m, \u001b[39m*\u001b[39margs, \u001b[39m*\u001b[39m\u001b[39m*\u001b[39mkwargs):\n\u001b[1;32m----> 6\u001b[0m     \u001b[39mprint\u001b[39m(\u001b[39mf\u001b[39m\u001b[39m\"\u001b[39m\u001b[39m{\u001b[39;00m\u001b[39mself\u001b[39m\u001b[39m.\u001b[39mfunction\u001b[39m.\u001b[39m\u001b[39m__name__\u001b[39m\u001b[39m}\u001b[39;00m\u001b[39m was called with \u001b[39m\u001b[39m{\u001b[39;00margs\u001b[39m}\u001b[39;00m\u001b[39m and \u001b[39m\u001b[39m{\u001b[39;00mkwargs\u001b[39m}\u001b[39;00m\u001b[39m\"\u001b[39m)\n\u001b[0;32m      7\u001b[0m     \u001b[39mreturn\u001b[39;00m \u001b[39mself\u001b[39m\u001b[39m.\u001b[39mfunction(\u001b[39m*\u001b[39margs, \u001b[39m*\u001b[39m\u001b[39m*\u001b[39mkwargs)\n\u001b[0;32m      8\u001b[0m     \u001b[39mprint\u001b[39m(\u001b[39m\"\u001b[39m\u001b[39mDecorator is still operatoring\u001b[39m\u001b[39m\"\u001b[39m)\n",
      "\u001b[1;31mAttributeError\u001b[0m: 'str' object has no attribute '__name__'"
     ]
    }
   ],
   "source": [
    "SimpleDecorator('wood').__call__(combiner)"
   ]
  },
  {
   "cell_type": "code",
   "execution_count": 747,
   "metadata": {},
   "outputs": [],
   "source": [
    "class SimpleDecorator:\n",
    "    def __init__(self, material):\n",
    "        self.material = material\n",
    "\n",
    "    def __call__(self, function):\n",
    "        def wrapper(*args, **kwargs):\n",
    "            print(\"SimpleDecorator\", self.material)\n",
    "            function(*args, **kwargs)\n",
    "        return wrapper\n",
    "\n",
    "@SimpleDecorator('variable')\n",
    "def test_function(*args, **kwargs):\n",
    "    print(args, kwargs)"
   ]
  },
  {
   "cell_type": "code",
   "execution_count": 749,
   "metadata": {},
   "outputs": [
    {
     "name": "stdout",
     "output_type": "stream",
     "text": [
      "SimpleDecorator variable\n",
      "hello\n"
     ]
    }
   ],
   "source": [
    "SimpleDecorator('variable')(print)('hello')"
   ]
  },
  {
   "cell_type": "code",
   "execution_count": 758,
   "metadata": {},
   "outputs": [
    {
     "name": "stdout",
     "output_type": "stream",
     "text": [
      "The VIN is ABC123\n",
      "We noticed that the mileage attribute was read\n",
      "The mileage is 0\n"
     ]
    }
   ],
   "source": [
    "def object_counter(class_):\n",
    "    class_.__getattr__original = class_.__getattribute__\n",
    "    def new_getattr(self, name):\n",
    "        if name == 'mileage':\n",
    "            print(\"We noticed that the mileage attribute was read\")\n",
    "        return class_.__getattr__original(self, name)\n",
    "\n",
    "    class_.__getattribute__ = new_getattr\n",
    "    return class_\n",
    "\n",
    "@object_counter\n",
    "class Car:\n",
    "    def __init__(self, VIN):\n",
    "        self.mileage = 0\n",
    "        self.VIN = VIN\n",
    "\n",
    "car = Car('ABC123')\n",
    "print('The VIN is', car.VIN)\n",
    "print('The mileage is', car.mileage)"
   ]
  },
  {
   "cell_type": "code",
   "execution_count": 787,
   "metadata": {},
   "outputs": [],
   "source": [
    "class LuxuryWatch:\n",
    "    \"\"\"A class for watches.\"\"\"\n",
    "    watches_created: int = 0\n",
    "\n",
    "    def __init__(self):\n",
    "        self.engraving = ''\n",
    "        LuxuryWatch.watches_created += 1\n",
    "    \n",
    "    @classmethod\n",
    "    def with_engraving(cls, text):\n",
    "        engraved_watch = cls()\n",
    "        try:\n",
    "            LuxuryWatch.validate(text)\n",
    "        except ValueError as e:\n",
    "            raise ValueError(e)\n",
    "        engraved_watch.engraving = text\n",
    "        return engraved_watch\n",
    "\n",
    "    @classmethod\n",
    "    def get_number_of_watches(cls):\n",
    "        return cls.watches_created\n",
    "    \n",
    "    @staticmethod\n",
    "    def validate(text) -> None:\n",
    "        if len(text) > 40:\n",
    "            raise ValueError(\"Text must be 40 characters or less.\")\n",
    "        if not str.isalnum(text):\n",
    "            raise ValueError(\"Text must consist of alphanumeric characters only.\")\n",
    "         "
   ]
  },
  {
   "cell_type": "code",
   "execution_count": 788,
   "metadata": {},
   "outputs": [
    {
     "data": {
      "text/plain": [
       "<__main__.LuxuryWatch at 0x13e74a65e10>"
      ]
     },
     "execution_count": 788,
     "metadata": {},
     "output_type": "execute_result"
    }
   ],
   "source": [
    "watch = LuxuryWatch()\n",
    "engraved_watch1 = LuxuryWatch.with_engraving('loveyou')\n",
    "# engraved_watch2 = LuxuryWatch.with_engraving('love @you')\n",
    "LuxuryWatch.get_number_of_watches()\n",
    "engraved_watch1"
   ]
  },
  {
   "cell_type": "code",
   "execution_count": 785,
   "metadata": {},
   "outputs": [
    {
     "data": {
      "text/plain": [
       "3"
      ]
     },
     "execution_count": 785,
     "metadata": {},
     "output_type": "execute_result"
    }
   ],
   "source": [
    "LuxuryWatch.get_number_of_watches()"
   ]
  },
  {
   "cell_type": "code",
   "execution_count": 769,
   "metadata": {},
   "outputs": [
    {
     "ename": "Exception",
     "evalue": "",
     "output_type": "error",
     "traceback": [
      "\u001b[1;31m---------------------------------------------------------------------------\u001b[0m",
      "\u001b[1;31mException\u001b[0m                                 Traceback (most recent call last)",
      "Cell \u001b[1;32mIn [769], line 1\u001b[0m\n\u001b[1;32m----> 1\u001b[0m \u001b[39mraise\u001b[39;00m \u001b[39mException\u001b[39;00m()\n",
      "\u001b[1;31mException\u001b[0m: "
     ]
    }
   ],
   "source": []
  },
  {
   "cell_type": "code",
   "execution_count": 763,
   "metadata": {},
   "outputs": [
    {
     "data": {
      "text/plain": [
       "120000"
      ]
     },
     "execution_count": 763,
     "metadata": {},
     "output_type": "execute_result"
    }
   ],
   "source": [
    "225\n",
    "168"
   ]
  },
  {
   "cell_type": "code",
   "execution_count": 155,
   "metadata": {},
   "outputs": [
    {
     "name": "stdout",
     "output_type": "stream",
     "text": [
      "25:00:00\n",
      "<class 'int'>\n"
     ]
    }
   ],
   "source": [
    "print(TimeInterval(5).__mul__(5))\n",
    "rint(repr(int))"
   ]
  },
  {
   "cell_type": "code",
   "execution_count": null,
   "metadata": {},
   "outputs": [],
   "source": []
  },
  {
   "cell_type": "code",
   "execution_count": 172,
   "metadata": {},
   "outputs": [
    {
     "data": {
      "text/plain": [
       "28867"
      ]
     },
     "execution_count": 172,
     "metadata": {},
     "output_type": "execute_result"
    }
   ],
   "source": [
    "(TimeInterval(3, seconds = 4, minutes = 61) + TimeInterval(4, seconds = 3)).seconds"
   ]
  },
  {
   "cell_type": "code",
   "execution_count": 179,
   "metadata": {},
   "outputs": [
    {
     "data": {
      "text/plain": [
       "00:00:01"
      ]
     },
     "execution_count": 179,
     "metadata": {},
     "output_type": "execute_result"
    }
   ],
   "source": [
    "TimeInterval(seconds=4) - TimeInterval(seconds=3)"
   ]
  },
  {
   "cell_type": "code",
   "execution_count": 175,
   "metadata": {},
   "outputs": [
    {
     "data": {
      "text/plain": [
       "-3"
      ]
     },
     "execution_count": 175,
     "metadata": {},
     "output_type": "execute_result"
    }
   ],
   "source": [
    "- TimeInterval(seconds=3).seconds"
   ]
  },
  {
   "cell_type": "code",
   "execution_count": 186,
   "metadata": {},
   "outputs": [],
   "source": [
    "fti = TimeInterval(21, 58, 50)\n",
    "sti = TimeInterval(1, 45, 22)\n",
    "\n",
    "\n"
   ]
  },
  {
   "cell_type": "code",
   "execution_count": 502,
   "metadata": {},
   "outputs": [
    {
     "data": {
      "text/plain": [
       "2048.3199999999997"
      ]
     },
     "execution_count": 502,
     "metadata": {},
     "output_type": "execute_result"
    }
   ],
   "source": [
    "26*4*70 * 8/100 * 1.80 + 300+500+200"
   ]
  },
  {
   "cell_type": "code",
   "execution_count": 187,
   "metadata": {},
   "outputs": [
    {
     "data": {
      "text/plain": [
       "23:44:12"
      ]
     },
     "execution_count": 187,
     "metadata": {},
     "output_type": "execute_result"
    }
   ],
   "source": [
    "fti + sti"
   ]
  },
  {
   "cell_type": "code",
   "execution_count": 188,
   "metadata": {},
   "outputs": [
    {
     "data": {
      "text/plain": [
       "20:13:28"
      ]
     },
     "execution_count": 188,
     "metadata": {},
     "output_type": "execute_result"
    }
   ],
   "source": [
    "fti - sti"
   ]
  },
  {
   "cell_type": "code",
   "execution_count": 189,
   "metadata": {},
   "outputs": [
    {
     "data": {
      "text/plain": [
       "43:57:40"
      ]
     },
     "execution_count": 189,
     "metadata": {},
     "output_type": "execute_result"
    }
   ],
   "source": [
    "fti * 2"
   ]
  },
  {
   "cell_type": "code",
   "execution_count": 190,
   "metadata": {},
   "outputs": [],
   "source": [
    "from datetime import date"
   ]
  },
  {
   "cell_type": "code",
   "execution_count": 342,
   "metadata": {},
   "outputs": [
    {
     "data": {
      "text/plain": [
       "64"
      ]
     },
     "execution_count": 342,
     "metadata": {},
     "output_type": "execute_result"
    }
   ],
   "source": [
    "start = date(year=2022, month=10, day=16)\n",
    "end = date(year=2022, month=12, day=19)\n",
    "days = (end - start).days\n",
    "days"
   ]
  },
  {
   "cell_type": "markdown",
   "metadata": {},
   "source": [
    "## The trip had a duration of 64 days."
   ]
  },
  {
   "cell_type": "code",
   "execution_count": 458,
   "metadata": {},
   "outputs": [],
   "source": [
    "TIME_CHARGE = 1526.40\n",
    "TIME_CHARGE_SHARE = TIME_CHARGE * .75\n",
    "FUEL_COST = 794.56\n",
    "TOTAL_KMS = 4582\n",
    "RUNNING_CHARGE = TOTAL_KMS * 0.25\n",
    "MOBILITY_FUND = TOTAL_KMS * 0.08\n",
    "service_cost_per_10_000 = 1000\n",
    "\n"
   ]
  },
  {
   "cell_type": "code",
   "execution_count": 360,
   "metadata": {},
   "outputs": [
    {
     "data": {
      "text/plain": [
       "366.56"
      ]
     },
     "execution_count": 360,
     "metadata": {},
     "output_type": "execute_result"
    }
   ],
   "source": [
    "MOBILITY_FUND"
   ]
  },
  {
   "cell_type": "code",
   "execution_count": 358,
   "metadata": {},
   "outputs": [
    {
     "data": {
      "text/plain": [
       "2291.0"
      ]
     },
     "execution_count": 358,
     "metadata": {},
     "output_type": "execute_result"
    }
   ],
   "source": [
    "RUNNING_CHARGE + RUNNING_CHARGE"
   ]
  },
  {
   "attachments": {},
   "cell_type": "markdown",
   "metadata": {},
   "source": [
    "## Profit after maintenance costs is $735\n",
    "\n",
    "        running charge\n",
    "        fuel cost\n",
    "        total kms"
   ]
  },
  {
   "cell_type": "code",
   "execution_count": 457,
   "metadata": {},
   "outputs": [
    {
     "data": {
      "text/plain": [
       "445.5"
      ]
     },
     "execution_count": 457,
     "metadata": {},
     "output_type": "execute_result"
    }
   ],
   "source": [
    "surplus_after_maintenance = (RUNNING_CHARGE - 794.56) * 2 - service_cost_per_10_000\n",
    "no_fuel_costs = RUNNING_CHARGE - service_cost_per_10_000\n",
    "no_fuel_costs"
   ]
  },
  {
   "attachments": {},
   "cell_type": "markdown",
   "metadata": {},
   "source": [
    "## Daily time rate is $23.85\n",
    "\n",
    "        time charge\n",
    "        days"
   ]
  },
  {
   "cell_type": "code",
   "execution_count": 363,
   "metadata": {},
   "outputs": [
    {
     "data": {
      "text/plain": [
       "17.887500000000003"
      ]
     },
     "execution_count": 363,
     "metadata": {},
     "output_type": "execute_result"
    }
   ],
   "source": [
    "days = (end - start).days\n",
    "daily_rate = TIME_CHARGE_SHARE/days\n",
    "daily_rate"
   ]
  },
  {
   "cell_type": "code",
   "execution_count": 497,
   "metadata": {},
   "outputs": [
    {
     "data": {
      "text/plain": [
       "5.789062499999993"
      ]
     },
     "execution_count": 497,
     "metadata": {},
     "output_type": "execute_result"
    }
   ],
   "source": [
    "((2316.24 - 450) - (TIME_CHARGE_SHARE + RUNNING_CHARGE - FUEL_COST))/64"
   ]
  },
  {
   "cell_type": "code",
   "execution_count": 491,
   "metadata": {},
   "outputs": [
    {
     "name": "stdout",
     "output_type": "stream",
     "text": [
      "Hi, David.\n",
      "\n",
      "For the 4582 km booking starting 2022-10-16 and ending 2022-12-19, our bill shows:\n",
      "    ----------------------------------------\n",
      "                 Time Charges (Gross): $1526\n",
      "             Distance Charges (Gross): $1512\n",
      "    \n",
      "There are the following deductions, some automatically deducted by the platform:\n",
      "********************************************************************************\n",
      "    Time-based\n",
      "    ----------------------------------------\n",
      "           Commission on Time Charges: $381\n",
      "\n",
      "    Distance-based\n",
      "    ----------------------------------------\n",
      "         Mobility Mutual contribution: $366\n",
      "                            Fuel Cost: $794\n",
      "             Approx servicing charges: $500\n",
      "********************************************************************************\n",
      "\n",
      "This gives our take-home for the 64 days as\n",
      "    ----------------------------------------\n",
      "                   Time Charges (NET): $1144\n",
      "        Surplus Distance Charges (NET): $1\n",
      "        \n",
      "which is $17.89/day for time charges at the discounted rate we organised.\n",
      "\n",
      "In addition to the time charges, we need to cover maintenance/fuel/insurance costs, which the platform otherwise handles. The result of all that number crunching is the following conclusions/comments/questions:\n",
      "\n",
      "    1. Over two months, you paid $381 to the platform's insurance-like fund. Can you \n",
      "       organise replacement insurance, or pay us to organise something? I can get quotes.\n",
      "\n",
      "    2. You also paid $0.25/km to cover fuel and maintenance costs. If you pay for fuel, I\n",
      "       believe $0.10/km covers our maintenance costs.\n",
      "\n",
      "    3. It would be nice to get more than the daily rate of $17.89 if we go \n",
      "       off-platform. $22, for example.\n",
      "\n",
      "    4. If driving 71.59km/day is typical for you, each day would work out \n",
      "       to:\n",
      "                  time charge: $22\n",
      "          running cost charge: $7.16\n",
      "                        total: $27.16\n",
      "    \n",
      "                Weekly         $204.12\n",
      "                30 days        $874.78\n",
      "\n",
      "        Plus fuel and insurance.\n",
      "\n",
      "    5. Paying up front, security deposit, proof of  of your license and a contract that states \n",
      "       each of our responsibilities would also be good.\n",
      "        \n",
      "\n"
     ]
    }
   ],
   "source": [
    "print(f\"\"\"\\\n",
    "Hi, David.\n",
    "\n",
    "For the {TOTAL_KMS} km booking starting {start} and ending {end}, our bill shows:\n",
    "    {\"-\" * 40}\n",
    "        {\"Time Charges (Gross):\":>30} ${int(TIME_CHARGE)}\n",
    "        {\"Distance Charges (Gross):\":>30} ${int(TOTAL_KMS * 0.33)}\n",
    "    \n",
    "There are the following deductions, some automatically deducted by the platform:\n",
    "{\"*\" * 80}\n",
    "    Time-based\n",
    "    {\"-\" * 40}\n",
    "        {\"Commission on Time Charges:\":>30} ${int(TIME_CHARGE - TIME_CHARGE_SHARE)}\n",
    "\n",
    "    Distance-based\n",
    "    {\"-\" * 40}\n",
    "        {\"Mobility Mutual contribution:\":>30} ${int(MOBILITY_FUND)}\n",
    "        {\"Fuel Cost:\":>30} ${int(FUEL_COST)}\n",
    "        {\"Approx servicing charges:\":>30} ${service_cost_per_10_000/2:.0f}\n",
    "{\"*\" * 80}\n",
    "\n",
    "This gives our take-home for the {days} days as\n",
    "    {'':-^40}\n",
    "        {\"Time Charges (NET):\":>30} ${int(TIME_CHARGE_SHARE)}\n",
    "        {\"Surplus Distance Charges (NET):\":>30} ${int(surplus_after_maintenance)}\n",
    "        \n",
    "which is ${daily_rate:.2f}/day for time charges at the discounted rate we organised.\n",
    "\n",
    "In addition to the time charges, we need to cover maintenance/fuel/insurance costs, which the platform otherwise handles. The result of all that number crunching is the following conclusions/comments/questions:\n",
    "\n",
    "    1. Over two months, you paid $381 to the platform's insurance-like fund. Can you \n",
    "       organise replacement insurance, or pay us to organise something? I can get quotes.\n",
    "\n",
    "    2. You also paid $0.25/km to cover fuel and maintenance costs. If you pay for fuel, I\n",
    "       believe ${service_cost_per_10_000/10000:.2f}/km covers our maintenance costs.\n",
    "\n",
    "    3. It would be nice to get more than the daily rate of ${daily_rate:.2f} if we go \n",
    "       off-platform. $22, for example.\n",
    "\n",
    "    4. If driving {TOTAL_KMS/days:.2f}km/day is typical for you, each day would work out \n",
    "       to:\n",
    "                  time charge: ${22}\n",
    "          running cost charge: ${TOTAL_KMS/days*0.1:.2f}\n",
    "                        total: ${20 + TOTAL_KMS/days*0.1:.2f}\n",
    "    \n",
    "                Weekly         ${7 * (22 + TOTAL_KMS/days*0.1):.2f}\n",
    "                30 days        ${30 * (22 + TOTAL_KMS/days*0.1):.2f}\n",
    "\n",
    "        Plus fuel and insurance.\n",
    "\n",
    "    5. Paying up front, security deposit, proof of  of your license and a contract that states \n",
    "       each of our responsibilities would also be good.\n",
    "        \n",
    "\"\"\")\n",
    "\n",
    "\n"
   ]
  },
  {
   "cell_type": "code",
   "execution_count": 485,
   "metadata": {},
   "outputs": [
    {
     "data": {
      "text/plain": [
       "2316.24"
      ]
     },
     "execution_count": 485,
     "metadata": {},
     "output_type": "execute_result"
    }
   ],
   "source": [
    "64*29.16 + 450 "
   ]
  },
  {
   "attachments": {},
   "cell_type": "markdown",
   "metadata": {},
   "source": [
    "## Total daily profit"
   ]
  },
  {
   "cell_type": "code",
   "execution_count": 346,
   "metadata": {},
   "outputs": [
    {
     "data": {
      "text/plain": [
       "35.334375"
      ]
     },
     "execution_count": 346,
     "metadata": {},
     "output_type": "execute_result"
    }
   ],
   "source": [
    "(surplus_after_maintenance + TIME_CHARGE)/days"
   ]
  },
  {
   "cell_type": "code",
   "execution_count": 309,
   "metadata": {},
   "outputs": [],
   "source": [
    "fuel_info = \"\"\"\n",
    "$74.5 fuel refund 12 Dec at 16:42 Completed\n",
    "$72.71 fuel refund 12 Dec at 16:41 Completed\n",
    "$72.71 fuel refund 12 Dec at 16:41 Completed\n",
    "$65.11 fuel refund 1 Dec at 14:41 Completed\n",
    "$72.48 fuel refund 23 Nov at 17:38 Completed\n",
    "$70.25 fuel refund 19 Nov at 15:59 Completed\n",
    "$87.85 fuel refund 14 Nov at 12:23 Completed\n",
    "$98.88 fuel refund 7 Nov at 17:42 Completed\n",
    "$80.02 fuel refund 2 Nov at 12:39 Completed\n",
    "$50.0 fuel refund 30 Oct at 21:04 Completed\n",
    "$50.05 fuel refund 30 Oct at 21:03 Completed\n",
    "\"\"\""
   ]
  },
  {
   "cell_type": "code",
   "execution_count": 334,
   "metadata": {},
   "outputs": [],
   "source": [
    "import parse\n",
    "result = parse.findall(\"${cost:f} fuel refund {date} Completed\\n\", fuel_info)"
   ]
  },
  {
   "cell_type": "code",
   "execution_count": 335,
   "metadata": {},
   "outputs": [
    {
     "data": {
      "text/plain": [
       "794.56"
      ]
     },
     "execution_count": 335,
     "metadata": {},
     "output_type": "execute_result"
    }
   ],
   "source": [
    "total = sum([item['cost'] for item in result])\n",
    "total"
   ]
  },
  {
   "cell_type": "code",
   "execution_count": 330,
   "metadata": {},
   "outputs": [
    {
     "data": {
      "text/plain": [
       "<Result () {'cost': 74.5, 'date': '12 Dec at 16:42'}>"
      ]
     },
     "execution_count": 330,
     "metadata": {},
     "output_type": "execute_result"
    }
   ],
   "source": [
    "result.__next__()\n"
   ]
  },
  {
   "cell_type": "code",
   "execution_count": 289,
   "metadata": {},
   "outputs": [
    {
     "data": {
      "text/plain": [
       "<Result () {'cost': 50.0}>"
      ]
     },
     "execution_count": 289,
     "metadata": {},
     "output_type": "execute_result"
    }
   ],
   "source": [
    "result.__next__()"
   ]
  },
  {
   "cell_type": "code",
   "execution_count": 445,
   "metadata": {},
   "outputs": [
    {
     "data": {
      "text/plain": [
       "126"
      ]
     },
     "execution_count": 445,
     "metadata": {},
     "output_type": "execute_result"
    }
   ],
   "source": [
    "18*7"
   ]
  }
 ],
 "metadata": {
  "kernelspec": {
   "display_name": "Python 3",
   "language": "python",
   "name": "python3"
  },
  "language_info": {
   "codemirror_mode": {
    "name": "ipython",
    "version": 3
   },
   "file_extension": ".py",
   "mimetype": "text/x-python",
   "name": "python",
   "nbconvert_exporter": "python",
   "pygments_lexer": "ipython3",
   "version": "3.10.5"
  },
  "orig_nbformat": 4,
  "vscode": {
   "interpreter": {
    "hash": "369f2c481f4da34e4445cda3fffd2e751bd1c4d706f27375911949ba6bb62e1c"
   }
  }
 },
 "nbformat": 4,
 "nbformat_minor": 2
}
