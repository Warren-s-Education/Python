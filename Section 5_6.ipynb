{
 "cells": [
  {
   "cell_type": "markdown",
   "metadata": {},
   "source": [
    "## 5.6 Multidimensional Data Sets"
   ]
  },
  {
   "cell_type": "markdown",
   "metadata": {},
   "source": [
    "#### Incorrect Initialisation: Creates a 1-D list"
   ]
  },
  {
   "cell_type": "code",
   "execution_count": 1,
   "metadata": {},
   "outputs": [
    {
     "data": {
      "text/plain": [
       "[0, 0, 0, 0, 0, 0]"
      ]
     },
     "execution_count": 1,
     "metadata": {},
     "output_type": "execute_result"
    }
   ],
   "source": [
    "# Mistaken way to create a two-dimensional list of integers\n",
    "c = 3\n",
    "r = 2\n",
    "data = ([0] * c) * r\n",
    "data"
   ]
  },
  {
   "cell_type": "markdown",
   "metadata": {},
   "source": [
    "#### Incorrect Initialisation: all r entires are references to the same instance of c 0s"
   ]
  },
  {
   "cell_type": "markdown",
   "metadata": {},
   "source": [
    "<img src=\"DataAlgorithms\\multidimensional_error.png\">"
   ]
  },
  {
   "cell_type": "code",
   "execution_count": 5,
   "metadata": {},
   "outputs": [
    {
     "data": {
      "text/plain": [
       "[[0, 1, 0, 0, 0, 0], [0, 1, 0, 0, 0, 0]]"
      ]
     },
     "execution_count": 5,
     "metadata": {},
     "output_type": "execute_result"
    }
   ],
   "source": [
    "# Mistake \n",
    "c = 6\n",
    "r = 2\n",
    "data = [[0] * c] * r\n",
    "data[0][1] = 1\n",
    "data\n",
    "\n",
    "# Observe that all r entries of data are references to the same instance of a list of c Os."
   ]
  },
  {
   "cell_type": "markdown",
   "metadata": {},
   "source": [
    "#### Correct Initialisation: something that evaluates the expression [[0] * c] each time"
   ]
  },
  {
   "cell_type": "code",
   "execution_count": 8,
   "metadata": {},
   "outputs": [
    {
     "data": {
      "text/plain": [
       "[[0, 0, 0, 0, 0, 0], [0, 0, 0, 0, 0, 0], [0, 0, 0, 0, 0, 0]]"
      ]
     },
     "execution_count": 8,
     "metadata": {},
     "output_type": "execute_result"
    }
   ],
   "source": [
    "r,c = 3, 6\n",
    "data = [[0] * c for j in range(r)]\n",
    "data"
   ]
  },
  {
   "cell_type": "markdown",
   "metadata": {},
   "source": [
    "## Two-Dimensional Arrays and Positional Games"
   ]
  },
  {
   "cell_type": "markdown",
   "metadata": {},
   "source": [
    "#### Tic-Tac-Toe\n",
    "<img src=\"DataAlgorithms\\tictactoe1.png\">\n",
    "Stored internally as\n",
    "\n",
    "        [ [ O , X , O ], [ , X , ], [ , O , X ] ]"
   ]
  },
  {
   "cell_type": "code",
   "execution_count": 11,
   "metadata": {},
   "outputs": [],
   "source": [
    "class TicTacToe:\n",
    "    \"\"\"Management of a Tic-Tac-Toe game (does not do strategy).\"\"\"\n",
    "\n",
    "    def __init__(self):\n",
    "        \"\"\"Start a new game.\"\"\"\n",
    "        self._board = [[' '] * 3 for j in range(3)]\n",
    "        self._player = 'X'\n",
    "\n",
    "    def mark(self, i, j):\n",
    "        \"\"\"Put an X or O mark at position (i,j) for next player's turn.\"\"\"\n",
    "        if not (0 <= i <= 2) and (0 <= j <= 2):\n",
    "            raise ValueError(\"Invalid board position\")\n",
    "        \n",
    "        if self._board[i][j] != ' ':\n",
    "            raise ValueError(\"Board position occupied.\")\n",
    "\n",
    "        if self.winner() is not None:\n",
    "            raise ValueError(\"Game is already complete.\")\n",
    "\n",
    "        self._board[i][j] = self._player\n",
    "        self._player = 'X' if self._player == 'O' else 'O'\n",
    "        \n",
    "    def _is_win(self, mark):\n",
    "        \"\"\"Check whether the board configuration is a win for the given player.\"\"\"\n",
    "        board = self._board\n",
    "        return (mark == board[0][0] == board[0][1] == board[0][2] # row 0\n",
    "            or mark == board[1][0] == board[1][1] == board[1][2]  # row 1\n",
    "            or mark == board[2][0] == board[2][1] == board[2][2]  # row 2 \n",
    "            or mark == board[0][0] == board[1][0] == board[2][0]  # column 0 \n",
    "            or mark == board[0][1] == board[1][1] == board[2][1]  # column 1 \n",
    "            or mark == board[0][2] == board[1][2] == board[2][2]  # column 2 \n",
    "            or mark == board[0][0] == board[1][1] == board[2][2]  # diagonal \n",
    "            or mark == board[0][2] == board[1][1] == board[2][0]) # rev diag\n",
    "\n",
    "    def winner(self):\n",
    "        \"\"\"Return mark of winning player, or None to indicate a tie.\"\"\"\n",
    "        for mark in 'XO':\n",
    "            if self._is_win(mark):\n",
    "                return mark\n",
    "        else:\n",
    "            return None\n",
    "\n",
    "    def __str__(self):\n",
    "        \"\"\"Return string representation of current game board.\"\"\"\n",
    "        rows = [\"|\".join(self._board[r]) for r in range(3)]\n",
    "        return '\\n-----\\n'.join(rows)"
   ]
  },
  {
   "cell_type": "code",
   "execution_count": 14,
   "metadata": {},
   "outputs": [
    {
     "name": "stdout",
     "output_type": "stream",
     "text": [
      " | | \n",
      "-----\n",
      " |X|O\n",
      "-----\n",
      " | | \n"
     ]
    }
   ],
   "source": [
    "game = TicTacToe()\n",
    "game.mark(1,1)\n",
    "game.mark(1,2)\n",
    "print(game)"
   ]
  }
 ],
 "metadata": {
  "kernelspec": {
   "display_name": "Python 3.10.5 ('lumen': venv)",
   "language": "python",
   "name": "python3"
  },
  "language_info": {
   "codemirror_mode": {
    "name": "ipython",
    "version": 3
   },
   "file_extension": ".py",
   "mimetype": "text/x-python",
   "name": "python",
   "nbconvert_exporter": "python",
   "pygments_lexer": "ipython3",
   "version": "3.10.5"
  },
  "orig_nbformat": 4,
  "vscode": {
   "interpreter": {
    "hash": "558d3ae53c2989f92537fb60ff69fae09d4b361a8a5f6719dc1bd2672a63ef26"
   }
  }
 },
 "nbformat": 4,
 "nbformat_minor": 2
}
