{
 "cells": [
  {
   "cell_type": "code",
   "execution_count": null,
   "metadata": {},
   "outputs": [],
   "source": [
    "import statsmodels.stats.proportion as stm \n",
    "import scipy.stats as st"
   ]
  },
  {
   "cell_type": "markdown",
   "metadata": {},
   "source": [
    "| |$H_0$ false | $H_0$ true|\n",
    "|---| --- |---|\n",
    "|Reject $H_0$| Correct rejection.  | Type I error = $\\alpha$|\n",
    "|Accept $H_0$| Type II error  | Correct acceptance|"
   ]
  },
  {
   "cell_type": "markdown",
   "metadata": {},
   "source": [
    "### Hypothesis Testing (1 of 5)"
   ]
  },
  {
   "cell_type": "markdown",
   "metadata": {},
   "source": [
    "There are two roles for inference so far:\n",
    "- estimate a population parameter with a confidence interval\n",
    "- test a claim about a population parameter with a hypothesis test"
   ]
  },
  {
   "cell_type": "markdown",
   "metadata": {},
   "source": [
    "#### Example - Research Question about testing claims"
   ]
  },
  {
   "cell_type": "markdown",
   "metadata": {},
   "source": [
    "- Is the average course load for community college students less than 12 semester hours?\n",
    "\n",
    "\n",
    "- Do the majority of community college students qualify for federal student loans?\n",
    "\n",
    "- In community colleges, do female students and male students have different mean GPAs?\n",
    "\n",
    "- Are college athletes more likely than nonathletes to receive academic advising? "
   ]
  },
  {
   "cell_type": "markdown",
   "metadata": {},
   "source": [
    "#### What is the null hypothesis?\n",
    "\n",
    "A claim about the value of a parameter.\n",
    "\n",
    "It gives the value of the parameter we will use to create a sampling distribution.\n",
    "\n",
    "It states what we assume to be true about the population."
   ]
  },
  {
   "cell_type": "markdown",
   "metadata": {},
   "source": [
    "#### What is the alternative hypothesis?\n",
    "\n",
    "A claim about the value of a parameter.\n",
    "\n",
    "The parameter is 'greater than', 'less than' or 'not equal to' the value we assume to be true for the null hypothesis."
   ]
  },
  {
   "cell_type": "markdown",
   "metadata": {},
   "source": [
    "#### Example - Stating Hypotheses\n",
    "\n",
    "Is the average course load for community college students less than 12 semester hours?\n",
    "\n",
    "$H_0: \\mu = 12 \\text{semester hours}$\n",
    "\n",
    "$H_a: \\mu < 12 \\text{semester hours}$ \n",
    "\n",
    "Do the majority of community college students qualify for federal student loans?\n",
    "\n",
    "$H_0: p = 0.5 $\n",
    "\n",
    "$H_a: p > 0.5 $\n",
    "\n",
    "*When the research question contains a claim that compares two populations, the null hypothesis states the parameters are equal. \"No difference\" in parameter values.*\n",
    "\n",
    "In community colleges, do female students and male students have different mean GPAs?\n",
    "\n",
    "$H_0: m_{gpa} = f_{gpa}$\n",
    "\n",
    "$H_a: m_{gpa} \\neq f_{gpa}$\n",
    "\n",
    "Are college athletes more likely than nonathletes to receive academic advising?\n",
    "\n",
    "$H_0: p_{athletes} = 0.5$\n",
    "\n",
    "$H_a: p_{athletes} > 0.5$"
   ]
  },
  {
   "cell_type": "markdown",
   "metadata": {},
   "source": [
    "#### Comments about Hypotheses\n",
    "\n",
    "- the hypotheses are competing claims about the parameter(s)\n",
    "- both hypotheses are statements about the same parameter(s)\n",
    "- null hypothesis contains an equal sign\n",
    "- alternative hypothesis is always an inequality statement\n"
   ]
  },
  {
   "cell_type": "markdown",
   "metadata": {},
   "source": [
    "According to the Centers for Disease Control and Prevention, the proportion of U.S. adults age 25 or older who smoke is .22. A researcher suspects that the rate is lower among U.S. adults 25 or older who have a bachelor's degree or higher education level.\n",
    "\n",
    "$H_0: r_{\\text{25 or older}} = 0.22 $\n",
    "\n",
    "$H_a: r_{\\text{25 or older}} < 0.22 $\n"
   ]
  },
  {
   "cell_type": "markdown",
   "metadata": {},
   "source": [
    "### Hypothesis Testing (2 of 5)"
   ]
  },
  {
   "cell_type": "markdown",
   "metadata": {},
   "source": [
    "### Example - Data Use on Smart Phones"
   ]
  },
  {
   "cell_type": "markdown",
   "metadata": {},
   "source": [
    "$H_0: \\mu = 62 \\text{MB}$\n",
    "\n",
    "$ H_a: \\mu > 62 \\text{MB}$"
   ]
  },
  {
   "cell_type": "code",
   "execution_count": null,
   "metadata": {},
   "outputs": [],
   "source": [
    "n = 50\n",
    "x_bar = 75\n",
    "std = 45"
   ]
  },
  {
   "cell_type": "markdown",
   "metadata": {},
   "source": [
    "What is $P(\\bar{x} | \\mu = 62 )$?"
   ]
  },
  {
   "cell_type": "markdown",
   "metadata": {},
   "source": [
    "What is $\\alpha$-level?\n",
    "\n",
    "The significance level. If the p-value is less than the significance level, the result of the test shows a significance difference"
   ]
  },
  {
   "cell_type": "markdown",
   "metadata": {},
   "source": [
    "## Hypothesis Testing (3 of 5)"
   ]
  },
  {
   "cell_type": "markdown",
   "metadata": {},
   "source": [
    "### Example - community college students and federal student loans"
   ]
  },
  {
   "cell_type": "markdown",
   "metadata": {},
   "source": [
    "Is the proportion of community colleges that do not participate in federal loan programs less than 25%, as reported? Let’s conduct a hypothesis test to find out.\n",
    "\n",
    "$H_0: p = 0.25$\n",
    "\n",
    "$H_a: p < 0.25$\n",
    "\n"
   ]
  },
  {
   "cell_type": "code",
   "execution_count": null,
   "metadata": {},
   "outputs": [],
   "source": [
    "n = 80\n",
    "p = 16/80"
   ]
  },
  {
   "cell_type": "markdown",
   "metadata": {},
   "source": [
    "But what is the p-value?\n",
    "\n",
    "i.e. $ P( \\hat{p} | p = 0.25)$"
   ]
  },
  {
   "cell_type": "markdown",
   "metadata": {},
   "source": [
    "### Hypothesis Testing (4 of 5)"
   ]
  },
  {
   "cell_type": "markdown",
   "metadata": {},
   "source": [
    "### Example - What is a P-value?"
   ]
  },
  {
   "cell_type": "markdown",
   "metadata": {},
   "source": [
    "$H_0: p = .4$\n",
    "\n",
    "$H_a: p < .4$"
   ]
  },
  {
   "cell_type": "code",
   "execution_count": 32,
   "metadata": {},
   "outputs": [
    {
     "data": {
      "text/plain": [
       "(-1.4824986333222037, 0.06910383348701273)"
      ]
     },
     "execution_count": 32,
     "metadata": {},
     "output_type": "execute_result"
    }
   ],
   "source": [
    "n = 200\n",
    "p_hat = .35\n",
    "p_value = 0.078\n",
    "\n",
    "stm.proportions_ztest(70, 200, .4, 'smaller')"
   ]
  },
  {
   "cell_type": "code",
   "execution_count": 33,
   "metadata": {},
   "outputs": [],
   "source": [
    "# # test for a proportion based on a normal (z) test\n",
    "# zstat, p_value = stm.proportions_ztest( # -> zstat, p-value\n",
    "#     # count of successes\n",
    "#     # count of observations\n",
    "#     # value of null hypothesis\n",
    "#     # alternative\n",
    "#         # two-sided\n",
    "#         # smaller\n",
    "#         # larger\n",
    "#     # variance ( False or (0,1) )\n",
    "# )"
   ]
  },
  {
   "cell_type": "markdown",
   "metadata": {},
   "source": [
    "### Hypothesis Testing (5 of 5)"
   ]
  },
  {
   "cell_type": "code",
   "execution_count": null,
   "metadata": {},
   "outputs": [],
   "source": []
  },
  {
   "cell_type": "markdown",
   "metadata": {},
   "source": [
    "## Hypothesis Test for a Population Proportion"
   ]
  },
  {
   "cell_type": "code",
   "execution_count": null,
   "metadata": {},
   "outputs": [],
   "source": []
  }
 ],
 "metadata": {
  "kernelspec": {
   "display_name": "Python 3.10.5 ('lumen': venv)",
   "language": "python",
   "name": "python3"
  },
  "language_info": {
   "codemirror_mode": {
    "name": "ipython",
    "version": 3
   },
   "file_extension": ".py",
   "mimetype": "text/x-python",
   "name": "python",
   "nbconvert_exporter": "python",
   "pygments_lexer": "ipython3",
   "version": "3.10.5"
  },
  "orig_nbformat": 4,
  "vscode": {
   "interpreter": {
    "hash": "558d3ae53c2989f92537fb60ff69fae09d4b361a8a5f6719dc1bd2672a63ef26"
   }
  }
 },
 "nbformat": 4,
 "nbformat_minor": 2
}
