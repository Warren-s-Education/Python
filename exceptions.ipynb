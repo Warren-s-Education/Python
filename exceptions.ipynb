{
 "cells": [
  {
   "cell_type": "code",
   "execution_count": null,
   "metadata": {},
   "outputs": [],
   "source": []
  },
  {
   "cell_type": "code",
   "execution_count": 19,
   "metadata": {},
   "outputs": [
    {
     "name": "stdout",
     "output_type": "stream",
     "text": [
      "ValueError\n",
      "0.5\n"
     ]
    }
   ],
   "source": [
    "while True:\n",
    "    try:\n",
    "        number = int(input(\"Enter a number: \"),base=2)\n",
    "        print(number/2)\n",
    "        break\n",
    "    except ValueError as e:\n",
    "        print(\"ValueError\")\n",
    "    except Exception as e:\n",
    "        print(e)"
   ]
  },
  {
   "cell_type": "code",
   "execution_count": 20,
   "metadata": {},
   "outputs": [
    {
     "name": "stdout",
     "output_type": "stream",
     "text": [
      "+-------+-------+-------+\n",
      "|       |       |       |\n",
      "|   1   |   2   |   3   |\n",
      "|       |       |       |\n",
      "+-------+-------+-------+\n",
      "|       |       |       |\n",
      "|   4   |   5   |   6   |\n",
      "|       |       |       |\n",
      "+-------+-------+-------+\n",
      "|       |       |       |\n",
      "|   7   |   8   |   9   |\n",
      "|       |       |       |\n",
      "+-------+-------+-------+\n"
     ]
    }
   ],
   "source": [
    "from tictactoe import BOARD\n",
    "\n",
    "print((\"+\" + \"-\"*7) *3, \"+\", sep='')\n",
    "for row in range(3):\n",
    "    print(\"|       \" * 3, \"|\", sep=\"\")\n",
    "    for column in range(3):\n",
    "        print(\"|   \", BOARD[row][column], \"   \", sep=\"\", end=\"\")\n",
    "    print(\"|\")\n",
    "    print(\"|       \" * 3, \"|\", sep=\"\")\n",
    "    print((\"+\" + \"-\"*7) *3, \"+\", sep='')"
   ]
  }
 ],
 "metadata": {
  "kernelspec": {
   "display_name": "Python 3.10.5 64-bit",
   "language": "python",
   "name": "python3"
  },
  "language_info": {
   "codemirror_mode": {
    "name": "ipython",
    "version": 3
   },
   "file_extension": ".py",
   "mimetype": "text/x-python",
   "name": "python",
   "nbconvert_exporter": "python",
   "pygments_lexer": "ipython3",
   "version": "3.10.5"
  },
  "orig_nbformat": 4,
  "vscode": {
   "interpreter": {
    "hash": "369f2c481f4da34e4445cda3fffd2e751bd1c4d706f27375911949ba6bb62e1c"
   }
  }
 },
 "nbformat": 4,
 "nbformat_minor": 2
}
