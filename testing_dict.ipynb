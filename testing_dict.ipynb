{
 "cells": [
  {
   "cell_type": "code",
   "execution_count": 71,
   "metadata": {},
   "outputs": [],
   "source": [
    "from typing import Iterable, Any\n",
    "\n",
    "class mydict(dict):\n",
    "    def update(self, *args, **kwargs):\n",
    "        print(args, kwargs)\n",
    "        if args or kwargs:\n",
    "            print('an argument was passed')\n",
    "            if len(args) == 1:\n",
    "                print(\"the argument has a length of 1\")\n",
    "                other = args[0]\n",
    "                if isinstance(other, dict):\n",
    "                    print('args[0] is a dictionary')\n",
    "                    for key, value in other.items():\n",
    "                        self[key] = value\n",
    "                elif (isinstance(other, Iterable) \n",
    "                 and all(len(tuple) == 2 for tuple in other)):\n",
    "                    print('Iterable contains elements only of length 2.')\n",
    "                    for key, value in other:\n",
    "                        self[key] = value\n",
    "                else:\n",
    "                    print(\"Cannot work.\")\n",
    "        else:\n",
    "            print(\"Not implemented\")\n",
    "        pass"
   ]
  },
  {
   "cell_type": "code",
   "execution_count": 72,
   "metadata": {},
   "outputs": [
    {
     "name": "stdout",
     "output_type": "stream",
     "text": [
      "((1, 2),) {}\n",
      "an argument was passed\n",
      "the argument has a length of 1\n"
     ]
    },
    {
     "ename": "TypeError",
     "evalue": "object of type 'int' has no len()",
     "output_type": "error",
     "traceback": [
      "\u001b[1;31m---------------------------------------------------------------------------\u001b[0m",
      "\u001b[1;31mTypeError\u001b[0m                                 Traceback (most recent call last)",
      "Cell \u001b[1;32mIn [72], line 3\u001b[0m\n\u001b[0;32m      1\u001b[0m my_dict \u001b[39m=\u001b[39m mydict()\n\u001b[0;32m      2\u001b[0m my_dict[\u001b[39m1\u001b[39m] \u001b[39m=\u001b[39m \u001b[39m'\u001b[39m\u001b[39mone\u001b[39m\u001b[39m'\u001b[39m\n\u001b[1;32m----> 3\u001b[0m my_dict\u001b[39m.\u001b[39mupdate((\u001b[39m1\u001b[39m,\u001b[39m2\u001b[39m))\n\u001b[0;32m      4\u001b[0m my_dict\n",
      "Cell \u001b[1;32mIn [71], line 16\u001b[0m, in \u001b[0;36mmydict.update\u001b[1;34m(self, *args, **kwargs)\u001b[0m\n\u001b[0;32m     13\u001b[0m     \u001b[39mfor\u001b[39;00m key, value \u001b[39min\u001b[39;00m other\u001b[39m.\u001b[39mitems():\n\u001b[0;32m     14\u001b[0m         \u001b[39mself\u001b[39m[key] \u001b[39m=\u001b[39m value\n\u001b[0;32m     15\u001b[0m \u001b[39melif\u001b[39;00m (\u001b[39misinstance\u001b[39m(other, Iterable) \n\u001b[1;32m---> 16\u001b[0m  \u001b[39mand\u001b[39;00m \u001b[39mall\u001b[39;49m(\u001b[39mlen\u001b[39;49m(\u001b[39mtuple\u001b[39;49m) \u001b[39m==\u001b[39;49m \u001b[39m2\u001b[39;49m \u001b[39mfor\u001b[39;49;00m \u001b[39mtuple\u001b[39;49m \u001b[39min\u001b[39;49;00m other)):\n\u001b[0;32m     17\u001b[0m     \u001b[39mprint\u001b[39m(\u001b[39m'\u001b[39m\u001b[39mIterable contains elements only of length 2.\u001b[39m\u001b[39m'\u001b[39m)\n\u001b[0;32m     18\u001b[0m     \u001b[39mfor\u001b[39;00m key, value \u001b[39min\u001b[39;00m other:\n",
      "Cell \u001b[1;32mIn [71], line 16\u001b[0m, in \u001b[0;36m<genexpr>\u001b[1;34m(.0)\u001b[0m\n\u001b[0;32m     13\u001b[0m     \u001b[39mfor\u001b[39;00m key, value \u001b[39min\u001b[39;00m other\u001b[39m.\u001b[39mitems():\n\u001b[0;32m     14\u001b[0m         \u001b[39mself\u001b[39m[key] \u001b[39m=\u001b[39m value\n\u001b[0;32m     15\u001b[0m \u001b[39melif\u001b[39;00m (\u001b[39misinstance\u001b[39m(other, Iterable) \n\u001b[1;32m---> 16\u001b[0m  \u001b[39mand\u001b[39;00m \u001b[39mall\u001b[39m(\u001b[39mlen\u001b[39;49m(\u001b[39mtuple\u001b[39;49m) \u001b[39m==\u001b[39m \u001b[39m2\u001b[39m \u001b[39mfor\u001b[39;00m \u001b[39mtuple\u001b[39m \u001b[39min\u001b[39;00m other)):\n\u001b[0;32m     17\u001b[0m     \u001b[39mprint\u001b[39m(\u001b[39m'\u001b[39m\u001b[39mIterable contains elements only of length 2.\u001b[39m\u001b[39m'\u001b[39m)\n\u001b[0;32m     18\u001b[0m     \u001b[39mfor\u001b[39;00m key, value \u001b[39min\u001b[39;00m other:\n",
      "\u001b[1;31mTypeError\u001b[0m: object of type 'int' has no len()"
     ]
    }
   ],
   "source": [
    "my_dict = mydict()\n",
    "my_dict[1] = 'one'\n",
    "my_dict.update((1,2))\n",
    "my_dict"
   ]
  },
  {
   "cell_type": "code",
   "execution_count": 31,
   "metadata": {},
   "outputs": [
    {
     "data": {
      "text/plain": [
       "{1: 'one', 'yes': 1, 'no': 0}"
      ]
     },
     "execution_count": 31,
     "metadata": {},
     "output_type": "execute_result"
    }
   ],
   "source": [
    "my_dict = dict()\n",
    "my_dict[1] = 'one'\n",
    "my_dict.update({'yes':1, 'no':0})\n",
    "my_dict"
   ]
  },
  {
   "cell_type": "code",
   "execution_count": 37,
   "metadata": {},
   "outputs": [
    {
     "ename": "TypeError",
     "evalue": "Subscripted generics cannot be used with class and instance checks",
     "output_type": "error",
     "traceback": [
      "\u001b[1;31m---------------------------------------------------------------------------\u001b[0m",
      "\u001b[1;31mTypeError\u001b[0m                                 Traceback (most recent call last)",
      "Cell \u001b[1;32mIn [37], line 2\u001b[0m\n\u001b[0;32m      1\u001b[0m \u001b[39mfrom\u001b[39;00m \u001b[39mtyping\u001b[39;00m \u001b[39mimport\u001b[39;00m Iterable, Tuple, Any\n\u001b[1;32m----> 2\u001b[0m \u001b[39misinstance\u001b[39m([(\u001b[39m1\u001b[39m,\u001b[39m2\u001b[39m),(\u001b[39m1\u001b[39m,\u001b[39m2\u001b[39m)], Iterable[Tuple[Any, Any]])\n",
      "File \u001b[1;32mc:\\Python310\\lib\\typing.py:994\u001b[0m, in \u001b[0;36m_BaseGenericAlias.__instancecheck__\u001b[1;34m(self, obj)\u001b[0m\n\u001b[0;32m    993\u001b[0m \u001b[39mdef\u001b[39;00m \u001b[39m__instancecheck__\u001b[39m(\u001b[39mself\u001b[39m, obj):\n\u001b[1;32m--> 994\u001b[0m     \u001b[39mreturn\u001b[39;00m \u001b[39mself\u001b[39;49m\u001b[39m.\u001b[39;49m\u001b[39m__subclasscheck__\u001b[39;49m(\u001b[39mtype\u001b[39;49m(obj))\n",
      "File \u001b[1;32mc:\\Python310\\lib\\typing.py:997\u001b[0m, in \u001b[0;36m_BaseGenericAlias.__subclasscheck__\u001b[1;34m(self, cls)\u001b[0m\n\u001b[0;32m    996\u001b[0m \u001b[39mdef\u001b[39;00m \u001b[39m__subclasscheck__\u001b[39m(\u001b[39mself\u001b[39m, \u001b[39mcls\u001b[39m):\n\u001b[1;32m--> 997\u001b[0m     \u001b[39mraise\u001b[39;00m \u001b[39mTypeError\u001b[39;00m(\u001b[39m\"\u001b[39m\u001b[39mSubscripted generics cannot be used with\u001b[39m\u001b[39m\"\u001b[39m\n\u001b[0;32m    998\u001b[0m                     \u001b[39m\"\u001b[39m\u001b[39m class and instance checks\u001b[39m\u001b[39m\"\u001b[39m)\n",
      "\u001b[1;31mTypeError\u001b[0m: Subscripted generics cannot be used with class and instance checks"
     ]
    }
   ],
   "source": [
    "from typing import Iterable, Tuple, Any\n",
    "isinstance([(1,2),(1,2)], Iterable[Tuple[Any, Any]])"
   ]
  },
  {
   "cell_type": "code",
   "execution_count": 46,
   "metadata": {},
   "outputs": [
    {
     "name": "stdout",
     "output_type": "stream",
     "text": [
      "True\n",
      "True\n",
      "True\n",
      "True\n",
      "True\n"
     ]
    }
   ],
   "source": [
    "\n",
    "from typing import Any, Iterable, Tuple, Union\n",
    "\n",
    "def is_iterable_of_tuples(variable: Any) -> bool:\n",
    "    return isinstance(variable, Union[Iterable, Tuple[Any, Any]])\n",
    "\n",
    "\n",
    "print(is_iterable_of_tuples([(1, 2), (3, 4)]))  # True\n",
    "print(is_iterable_of_tuples([(1, 2), (3, 4, 5)]))  # False\n",
    "print(is_iterable_of_tuples([1, 2]))  # False\n",
    "print(is_iterable_of_tuples(((1, 2), (3, 4))))  # True\n",
    "print(is_iterable_of_tuples(iter([(1, 2), (3, 4)])))  # True\n"
   ]
  }
 ],
 "metadata": {
  "kernelspec": {
   "display_name": "Python 3",
   "language": "python",
   "name": "python3"
  },
  "language_info": {
   "codemirror_mode": {
    "name": "ipython",
    "version": 3
   },
   "file_extension": ".py",
   "mimetype": "text/x-python",
   "name": "python",
   "nbconvert_exporter": "python",
   "pygments_lexer": "ipython3",
   "version": "3.10.5"
  },
  "orig_nbformat": 4,
  "vscode": {
   "interpreter": {
    "hash": "369f2c481f4da34e4445cda3fffd2e751bd1c4d706f27375911949ba6bb62e1c"
   }
  }
 },
 "nbformat": 4,
 "nbformat_minor": 2
}
