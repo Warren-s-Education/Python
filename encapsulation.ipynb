{
 "cells": [
  {
   "cell_type": "code",
   "execution_count": 1,
   "metadata": {},
   "outputs": [],
   "source": [
    "class TankError(Exception):\n",
    "    pass"
   ]
  },
  {
   "cell_type": "code",
   "execution_count": 2,
   "metadata": {},
   "outputs": [],
   "source": [
    "from typing import Optional \n",
    "\n",
    "class Tank:\n",
    "    \"\"\"Docstring\"\"\"\n",
    "\n",
    "    def __init__(self, capacity):\n",
    "        self.__level: Optional[int] = 0\n",
    "        self.capacity: int = capacity\n",
    "\n",
    "    @property\n",
    "    def level(self):\n",
    "        return self.__level\n",
    "\n",
    "    @level.setter\n",
    "    def level(self, amount:int):\n",
    "        if amount > 0:\n",
    "            if amount <= self.capacity:\n",
    "                self.__level = amount\n",
    "            else:\n",
    "                raise TankError(\"Too much liquid in tank.\")\n",
    "        elif amount < 0:\n",
    "            raise TankError(\"Not possible to set negative liquid level.\")\n",
    "\n",
    "    @level.deleter\n",
    "    def level(self):\n",
    "        if self.__level > 0:\n",
    "            print(\"It is good to remember to sanitise the remains from the tank! \")\n",
    "        self.__level = None\n",
    "\n",
    "\n"
   ]
  },
  {
   "cell_type": "code",
   "execution_count": 14,
   "metadata": {},
   "outputs": [
    {
     "ename": "TypeError",
     "evalue": "'>' not supported between instances of 'NoneType' and 'int'",
     "output_type": "error",
     "traceback": [
      "\u001b[1;31m---------------------------------------------------------------------------\u001b[0m",
      "\u001b[1;31mTypeError\u001b[0m                                 Traceback (most recent call last)",
      "Cell \u001b[1;32mIn [14], line 3\u001b[0m\n\u001b[0;32m      1\u001b[0m tank \u001b[39m=\u001b[39m Tank(\u001b[39m200\u001b[39m)\n\u001b[0;32m      2\u001b[0m \u001b[39mdel\u001b[39;00m tank\u001b[39m.\u001b[39mlevel\n\u001b[1;32m----> 3\u001b[0m \u001b[39mdel\u001b[39;00m tank\u001b[39m.\u001b[39mlevel\n",
      "Cell \u001b[1;32mIn [2], line 26\u001b[0m, in \u001b[0;36mTank.level\u001b[1;34m(self)\u001b[0m\n\u001b[0;32m     24\u001b[0m \u001b[39m@level\u001b[39m\u001b[39m.\u001b[39mdeleter\n\u001b[0;32m     25\u001b[0m \u001b[39mdef\u001b[39;00m \u001b[39mlevel\u001b[39m(\u001b[39mself\u001b[39m):\n\u001b[1;32m---> 26\u001b[0m     \u001b[39mif\u001b[39;00m \u001b[39mself\u001b[39;49m\u001b[39m.\u001b[39;49m__level \u001b[39m>\u001b[39;49m \u001b[39m0\u001b[39;49m:\n\u001b[0;32m     27\u001b[0m         \u001b[39mprint\u001b[39m(\u001b[39m\"\u001b[39m\u001b[39mIt is good to remember to sanitise the remains from the tank! \u001b[39m\u001b[39m\"\u001b[39m)\n\u001b[0;32m     28\u001b[0m     \u001b[39mself\u001b[39m\u001b[39m.\u001b[39m__level \u001b[39m=\u001b[39m \u001b[39mNone\u001b[39;00m\n",
      "\u001b[1;31mTypeError\u001b[0m: '>' not supported between instances of 'NoneType' and 'int'"
     ]
    }
   ],
   "source": [
    "tank = Tank(200)\n",
    "del tank.level\n",
    "del tank.level\n"
   ]
  }
 ],
 "metadata": {
  "kernelspec": {
   "display_name": "Python 3",
   "language": "python",
   "name": "python3"
  },
  "language_info": {
   "codemirror_mode": {
    "name": "ipython",
    "version": 3
   },
   "file_extension": ".py",
   "mimetype": "text/x-python",
   "name": "python",
   "nbconvert_exporter": "python",
   "pygments_lexer": "ipython3",
   "version": "3.10.5"
  },
  "orig_nbformat": 4,
  "vscode": {
   "interpreter": {
    "hash": "369f2c481f4da34e4445cda3fffd2e751bd1c4d706f27375911949ba6bb62e1c"
   }
  }
 },
 "nbformat": 4,
 "nbformat_minor": 2
}
