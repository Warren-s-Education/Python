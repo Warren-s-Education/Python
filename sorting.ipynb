{
 "cells": [
  {
   "cell_type": "markdown",
   "metadata": {},
   "source": [
    "## The Insertion-Sort Algorithm"
   ]
  },
  {
   "cell_type": "code",
   "execution_count": 17,
   "metadata": {},
   "outputs": [
    {
     "data": {
      "text/plain": [
       "['a', 'c', 'd', 'd', 'e', 'h', 'h', 'g']"
      ]
     },
     "execution_count": 17,
     "metadata": {},
     "output_type": "execute_result"
    }
   ],
   "source": [
    "def insertion_sort(list_):\n",
    "    for i in range(1,len(list_)):\n",
    "        item_to_insert = list_[i]\n",
    "        j = i\n",
    "        while j > 0 and list_[j-1] > item_to_insert:\n",
    "            list_[j] = list_[j-1]\n",
    "            j =- 1\n",
    "        list_[j] = item_to_insert\n",
    "\n",
    "test_list = ['a', 'c', 'd', 'a', 'e', 'h', 'g', 'f']\n",
    "\n",
    "insertion_sort(test_list)\n",
    "\n",
    "test_list"
   ]
  },
  {
   "cell_type": "code",
   "execution_count": 14,
   "metadata": {},
   "outputs": [
    {
     "data": {
      "text/plain": [
       "['a', 'b', 'c', 'd', 'e', 'f', 'g', 'h']"
      ]
     },
     "execution_count": 14,
     "metadata": {},
     "output_type": "execute_result"
    }
   ],
   "source": [
    "def insertion(A):\n",
    "    for k in range(1, len(A)):\n",
    "        cur = A[k]\n",
    "        j = k\n",
    "        while j > 0 and A[j-1] > cur:\n",
    "            A[j] = A[j-1]\n",
    "            j -= 1\n",
    "        A[j] = cur\n",
    "\n",
    "test_list = ['b', 'c', 'd', 'a', 'e', 'h', 'g', 'f']\n",
    "test_list\n",
    "insertion(test_list)\n",
    "test_list"
   ]
  },
  {
   "cell_type": "code",
   "execution_count": 18,
   "metadata": {},
   "outputs": [
    {
     "data": {
      "text/plain": [
       "-1"
      ]
     },
     "execution_count": 18,
     "metadata": {},
     "output_type": "execute_result"
    }
   ],
   "source": [
    "j = 2\n",
    "j =- 1\n",
    "j"
   ]
  },
  {
   "cell_type": "code",
   "execution_count": 23,
   "metadata": {},
   "outputs": [],
   "source": [
    "def insertion_sort2(A):\n",
    "    for i in range(1, len(A)):\n",
    "        element_to_place = A[i]\n",
    "        j = i\n",
    "        while j > 0 and element_to_place > A[j-1]:\n",
    "            A[j] = A[j-1]\n",
    "            j -= 1\n",
    "        A[j] = element_to_place"
   ]
  },
  {
   "cell_type": "code",
   "execution_count": 24,
   "metadata": {},
   "outputs": [
    {
     "data": {
      "text/plain": [
       "[1000, 99, 5, 2, 1]"
      ]
     },
     "execution_count": 24,
     "metadata": {},
     "output_type": "execute_result"
    }
   ],
   "source": [
    "input = [5,2,1,99, 1000]\n",
    "insertion_sort2(input)\n",
    "input"
   ]
  }
 ],
 "metadata": {
  "kernelspec": {
   "display_name": "Python 3.10.5 ('lumen': venv)",
   "language": "python",
   "name": "python3"
  },
  "language_info": {
   "codemirror_mode": {
    "name": "ipython",
    "version": 3
   },
   "file_extension": ".py",
   "mimetype": "text/x-python",
   "name": "python",
   "nbconvert_exporter": "python",
   "pygments_lexer": "ipython3",
   "version": "3.10.5"
  },
  "orig_nbformat": 4,
  "vscode": {
   "interpreter": {
    "hash": "558d3ae53c2989f92537fb60ff69fae09d4b361a8a5f6719dc1bd2672a63ef26"
   }
  }
 },
 "nbformat": 4,
 "nbformat_minor": 2
}
